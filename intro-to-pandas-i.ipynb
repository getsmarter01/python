{
 "cells": [
  {
   "cell_type": "markdown",
   "metadata": {
    "colab_type": "text",
    "id": "OYFu37iQUsnE"
   },
   "source": [
    "# ![](https://ga-dash.s3.amazonaws.com/production/assets/logo-9f88ae6c9c3871690e33280fcf557f33.png) Pandas for Exploratory Data Analysis I \n",
    "by [@josephofiowa](https://twitter.com/josephofiowa)\n",
    "\n",
    "Pandas is the most prominent Python library for exploratory data analysis (EDA). The functions Pandas supports are integral to understanding, formatting, and preparing our data. Formally, we use Pandas to investigate, wrangle, munge, and clean our data. Pandas is the Swiss Army Knife of data manipulation!\n",
    "\n",
    "\n",
    "We'll have two coding-heavy sessions on Pandas. In this one, we'll use Pandas to:\n",
    " - Read in a dataset\n",
    " - Investigate a dataset's integrity\n",
    " - Filter, sort, and manipulate a DataFrame's series"
   ]
  },
  {
   "cell_type": "markdown",
   "metadata": {
    "colab_type": "text",
    "id": "qwuCsKh2UsnG"
   },
   "source": [
    "## About the Dataset: Adventureworks Cycles\n",
    "\n",
    "<img align=\"right\" src=\"http://lh6.ggpht.com/_XjcDyZkJqHg/TPaaRcaysbI/AAAAAAAAAFo/b1U3q-qbTjY/AdventureWorks%20Logo%5B5%5D.png?imgmax=800\">\n",
    "\n",
    "For today's Pandas exercises, we will be using a dataset developed by Microsoft for training purposes in SQL server, known the [Adventureworks Cycles 2014OLTP Database](https://github.com/Microsoft/sql-server-samples/releases/tag/adventureworks). It is based on a fictitious company called Adventure Works Cycles (AWC), a multinational manufacturer and seller of bicycles and accessories. The company is based in Bothell, Washington, USA and has regional sales offices in several countries. We will be looking at a single table from this database, the Production.Product table, which outlines some of the products this company sells. \n",
    "\n",
    "A full data dictionary can be viewed [here](https://www.sqldatadictionary.com/AdventureWorks2014/).\n"
   ]
  },
  {
   "cell_type": "markdown",
   "metadata": {
    "colab_type": "text",
    "id": "UR9n5llcUsnG"
   },
   "source": [
    "Let's take a closer look at the Production.Product table [data dictionary](https://www.sqldatadictionary.com/AdventureWorks2014/Production.Product.html), which is a description of the fields (columns) in the table (the .csv file we will import below):\n",
    "- **ProductID** - Primary key for Product records.\n",
    "- **Name** - Name of the product.\n",
    "- **ProductNumber** - Unique product identification number.\n",
    "- **MakeFlag** - 0 = Product is purchased, 1 = Product is manufactured in-house.\n",
    "- **FinishedGoodsFlag** - 0 = Product is not a salable item. 1 = Product is salable.\n",
    "- **Color** - Product color.\n",
    "- **SafetyStockLevel** - Minimum inventory quantity.\n",
    "- **ReorderPoint** - Inventory level that triggers a purchase order or work order.\n",
    "- **StandardCost** - Standard cost of the product.\n",
    "- **ListPrice** - Selling price.\n",
    "- **Size** - Product size.\n",
    "- **SizeUnitMeasureCode** - Unit of measure for the Size column.\n",
    "- **WeightUnitMeasureCode** - Unit of measure for the Weight column.\n",
    "- **DaysToManufacture** - Number of days required to manufacture the product.\n",
    "- **ProductLine** - R = Road, M = Mountain, T = Touring, S = Standard\n",
    "- **Class** - H = High, M = Medium, L = Low\n",
    "- **Style** - W = Womens, M = Mens, U = Universal\n",
    "- **ProductSubcategoryID** - Product is a member of this product subcategory. Foreign key to ProductSubCategory.ProductSubCategoryID.\n",
    "- **ProductModelID** - Product is a member of this product model. Foreign key to ProductModel.ProductModelID.\n",
    "- **SellStartDate** - Date the product was available for sale.\n",
    "- **SellEndDate** - Date the product was no longer available for sale.\n",
    "- **DiscontinuedDate** - Date the product was discontinued.\n",
    "- **rowguid** - ROWGUIDCOL number uniquely identifying the record. Used to support a merge replication sample.\n",
    "- **ModifiedDate** - Date and time the record was last updated.\n"
   ]
  },
  {
   "cell_type": "markdown",
   "metadata": {
    "colab_type": "text",
    "id": "dkAL4i44UsnI"
   },
   "source": [
    "## Importing Pandas\n",
    "\n",
    "To [import a library](https://docs.python.org/3/reference/import.html), we write `import` and the library name. For Pandas, is it common to name the library `pd` so that when we reference a function from the Pandas library, we only write `pd` to reference the aliased [namespace](https://docs.python.org/3/tutorial/classes.html#python-scopes-and-namespaces) -- not `pandas`."
   ]
  },
  {
   "cell_type": "code",
   "execution_count": 2,
   "metadata": {
    "colab": {},
    "colab_type": "code",
    "id": "XRZtCBhOUsnJ"
   },
   "outputs": [],
   "source": [
    "import pandas as pd\n",
    "%matplotlib inline"
   ]
  },
  {
   "cell_type": "code",
   "execution_count": 2,
   "metadata": {
    "colab": {},
    "colab_type": "code",
    "id": "rEhyj-unUsnL"
   },
   "outputs": [],
   "source": [
    "# we can see the details about the imported package by referencing its private class propertys:"
   ]
  },
  {
   "cell_type": "markdown",
   "metadata": {
    "colab_type": "text",
    "id": "LGtKiEqIUsnN"
   },
   "source": [
    "## Reading in Data\n",
    "\n",
    "Pandas dramatically simplifies the process of reading in data. When we say \"reading in data,\" we mean loading a file into our machine's memory.\n",
    "\n",
    "When you have a CSV, for example, and then you double-click to open it in Microsoft Excel, the open file is \"read into memory.\" You can now manipulate the CSV.\n",
    "\n",
    "When we read data into memory in Python, we are creating an object. We will soon explore this object. _(And, as an aside, when we have a file that is greater than the size of our computer's memory, this is approaching \"Big Data.\")_"
   ]
  },
  {
   "cell_type": "markdown",
   "metadata": {
    "colab_type": "text",
    "id": "MwRY6eJIUsnO"
   },
   "source": [
    "Because we are working with a CSV, we will use the [read CSV](https://pandas.pydata.org/pandas-docs/stable/generated/pandas.read_csv.html) method.<br>A [delimiter](https://en.wikipedia.org/wiki/Delimiter-separated_values) is a character that separates fields (columns) in the imported file. Just because a file says `.csv` does not necessarily mean that a comma is used as the delimiter. In this case, we have a tab character as the delimiter for our columns, so we will be using `sep='\\t'` to tell pandas to 'cut' the columns every time it sees a [tab character in the file](http://vim.wikia.com/wiki/Showing_the_ASCII_value_of_the_current_character)."
   ]
  },
  {
   "cell_type": "code",
   "execution_count": 4,
   "metadata": {
    "colab": {},
    "colab_type": "code",
    "id": "ndGsaJDgUsnP"
   },
   "outputs": [],
   "source": [
    "# read the dataset as a DataFrame into a variable named 'prod'\n",
    "prod = pd.read_csv('Production.Product.csv', sep='\\t')\n"
   ]
  },
  {
   "cell_type": "code",
   "execution_count": 5,
   "metadata": {
    "colab": {},
    "colab_type": "code",
    "id": "YyRdtO6KUsnS"
   },
   "outputs": [
    {
     "data": {
      "text/html": [
       "<div>\n",
       "<style scoped>\n",
       "    .dataframe tbody tr th:only-of-type {\n",
       "        vertical-align: middle;\n",
       "    }\n",
       "\n",
       "    .dataframe tbody tr th {\n",
       "        vertical-align: top;\n",
       "    }\n",
       "\n",
       "    .dataframe thead th {\n",
       "        text-align: right;\n",
       "    }\n",
       "</style>\n",
       "<table border=\"1\" class=\"dataframe\">\n",
       "  <thead>\n",
       "    <tr style=\"text-align: right;\">\n",
       "      <th></th>\n",
       "      <th>ProductID</th>\n",
       "      <th>Name</th>\n",
       "      <th>ProductNumber</th>\n",
       "      <th>MakeFlag</th>\n",
       "      <th>FinishedGoodsFlag</th>\n",
       "      <th>Color</th>\n",
       "      <th>SafetyStockLevel</th>\n",
       "      <th>ReorderPoint</th>\n",
       "      <th>StandardCost</th>\n",
       "      <th>ListPrice</th>\n",
       "      <th>...</th>\n",
       "      <th>ProductLine</th>\n",
       "      <th>Class</th>\n",
       "      <th>Style</th>\n",
       "      <th>ProductSubcategoryID</th>\n",
       "      <th>ProductModelID</th>\n",
       "      <th>SellStartDate</th>\n",
       "      <th>SellEndDate</th>\n",
       "      <th>DiscontinuedDate</th>\n",
       "      <th>rowguid</th>\n",
       "      <th>ModifiedDate</th>\n",
       "    </tr>\n",
       "  </thead>\n",
       "  <tbody>\n",
       "    <tr>\n",
       "      <td>0</td>\n",
       "      <td>1</td>\n",
       "      <td>Adjustable Race</td>\n",
       "      <td>AR-5381</td>\n",
       "      <td>0</td>\n",
       "      <td>0</td>\n",
       "      <td>NaN</td>\n",
       "      <td>1000</td>\n",
       "      <td>750</td>\n",
       "      <td>0.0</td>\n",
       "      <td>0.0</td>\n",
       "      <td>...</td>\n",
       "      <td>NaN</td>\n",
       "      <td>NaN</td>\n",
       "      <td>NaN</td>\n",
       "      <td>NaN</td>\n",
       "      <td>NaN</td>\n",
       "      <td>2008-04-30 00:00:00</td>\n",
       "      <td>NaN</td>\n",
       "      <td>NaN</td>\n",
       "      <td>{694215B7-08F7-4C0D-ACB1-D734BA44C0C8}</td>\n",
       "      <td>2014-02-08 10:01:36.827000000</td>\n",
       "    </tr>\n",
       "    <tr>\n",
       "      <td>1</td>\n",
       "      <td>2</td>\n",
       "      <td>Bearing Ball</td>\n",
       "      <td>BA-8327</td>\n",
       "      <td>0</td>\n",
       "      <td>0</td>\n",
       "      <td>NaN</td>\n",
       "      <td>1000</td>\n",
       "      <td>750</td>\n",
       "      <td>0.0</td>\n",
       "      <td>0.0</td>\n",
       "      <td>...</td>\n",
       "      <td>NaN</td>\n",
       "      <td>NaN</td>\n",
       "      <td>NaN</td>\n",
       "      <td>NaN</td>\n",
       "      <td>NaN</td>\n",
       "      <td>2008-04-30 00:00:00</td>\n",
       "      <td>NaN</td>\n",
       "      <td>NaN</td>\n",
       "      <td>{58AE3C20-4F3A-4749-A7D4-D568806CC537}</td>\n",
       "      <td>2014-02-08 10:01:36.827000000</td>\n",
       "    </tr>\n",
       "    <tr>\n",
       "      <td>2</td>\n",
       "      <td>3</td>\n",
       "      <td>BB Ball Bearing</td>\n",
       "      <td>BE-2349</td>\n",
       "      <td>1</td>\n",
       "      <td>0</td>\n",
       "      <td>NaN</td>\n",
       "      <td>800</td>\n",
       "      <td>600</td>\n",
       "      <td>0.0</td>\n",
       "      <td>0.0</td>\n",
       "      <td>...</td>\n",
       "      <td>NaN</td>\n",
       "      <td>NaN</td>\n",
       "      <td>NaN</td>\n",
       "      <td>NaN</td>\n",
       "      <td>NaN</td>\n",
       "      <td>2008-04-30 00:00:00</td>\n",
       "      <td>NaN</td>\n",
       "      <td>NaN</td>\n",
       "      <td>{9C21AED2-5BFA-4F18-BCB8-F11638DC2E4E}</td>\n",
       "      <td>2014-02-08 10:01:36.827000000</td>\n",
       "    </tr>\n",
       "    <tr>\n",
       "      <td>3</td>\n",
       "      <td>4</td>\n",
       "      <td>Headset Ball Bearings</td>\n",
       "      <td>BE-2908</td>\n",
       "      <td>0</td>\n",
       "      <td>0</td>\n",
       "      <td>NaN</td>\n",
       "      <td>800</td>\n",
       "      <td>600</td>\n",
       "      <td>0.0</td>\n",
       "      <td>0.0</td>\n",
       "      <td>...</td>\n",
       "      <td>NaN</td>\n",
       "      <td>NaN</td>\n",
       "      <td>NaN</td>\n",
       "      <td>NaN</td>\n",
       "      <td>NaN</td>\n",
       "      <td>2008-04-30 00:00:00</td>\n",
       "      <td>NaN</td>\n",
       "      <td>NaN</td>\n",
       "      <td>{ECFED6CB-51FF-49B5-B06C-7D8AC834DB8B}</td>\n",
       "      <td>2014-02-08 10:01:36.827000000</td>\n",
       "    </tr>\n",
       "    <tr>\n",
       "      <td>4</td>\n",
       "      <td>316</td>\n",
       "      <td>Blade</td>\n",
       "      <td>BL-2036</td>\n",
       "      <td>1</td>\n",
       "      <td>0</td>\n",
       "      <td>NaN</td>\n",
       "      <td>800</td>\n",
       "      <td>600</td>\n",
       "      <td>0.0</td>\n",
       "      <td>0.0</td>\n",
       "      <td>...</td>\n",
       "      <td>NaN</td>\n",
       "      <td>NaN</td>\n",
       "      <td>NaN</td>\n",
       "      <td>NaN</td>\n",
       "      <td>NaN</td>\n",
       "      <td>2008-04-30 00:00:00</td>\n",
       "      <td>NaN</td>\n",
       "      <td>NaN</td>\n",
       "      <td>{E73E9750-603B-4131-89F5-3DD15ED5FF80}</td>\n",
       "      <td>2014-02-08 10:01:36.827000000</td>\n",
       "    </tr>\n",
       "  </tbody>\n",
       "</table>\n",
       "<p>5 rows × 25 columns</p>\n",
       "</div>"
      ],
      "text/plain": [
       "   ProductID                   Name ProductNumber  MakeFlag  \\\n",
       "0          1        Adjustable Race       AR-5381         0   \n",
       "1          2           Bearing Ball       BA-8327         0   \n",
       "2          3        BB Ball Bearing       BE-2349         1   \n",
       "3          4  Headset Ball Bearings       BE-2908         0   \n",
       "4        316                  Blade       BL-2036         1   \n",
       "\n",
       "   FinishedGoodsFlag Color  SafetyStockLevel  ReorderPoint  StandardCost  \\\n",
       "0                  0   NaN              1000           750           0.0   \n",
       "1                  0   NaN              1000           750           0.0   \n",
       "2                  0   NaN               800           600           0.0   \n",
       "3                  0   NaN               800           600           0.0   \n",
       "4                  0   NaN               800           600           0.0   \n",
       "\n",
       "   ListPrice  ... ProductLine Class Style  ProductSubcategoryID  \\\n",
       "0        0.0  ...         NaN   NaN   NaN                   NaN   \n",
       "1        0.0  ...         NaN   NaN   NaN                   NaN   \n",
       "2        0.0  ...         NaN   NaN   NaN                   NaN   \n",
       "3        0.0  ...         NaN   NaN   NaN                   NaN   \n",
       "4        0.0  ...         NaN   NaN   NaN                   NaN   \n",
       "\n",
       "   ProductModelID        SellStartDate SellEndDate DiscontinuedDate  \\\n",
       "0             NaN  2008-04-30 00:00:00         NaN              NaN   \n",
       "1             NaN  2008-04-30 00:00:00         NaN              NaN   \n",
       "2             NaN  2008-04-30 00:00:00         NaN              NaN   \n",
       "3             NaN  2008-04-30 00:00:00         NaN              NaN   \n",
       "4             NaN  2008-04-30 00:00:00         NaN              NaN   \n",
       "\n",
       "                                  rowguid                   ModifiedDate  \n",
       "0  {694215B7-08F7-4C0D-ACB1-D734BA44C0C8}  2014-02-08 10:01:36.827000000  \n",
       "1  {58AE3C20-4F3A-4749-A7D4-D568806CC537}  2014-02-08 10:01:36.827000000  \n",
       "2  {9C21AED2-5BFA-4F18-BCB8-F11638DC2E4E}  2014-02-08 10:01:36.827000000  \n",
       "3  {ECFED6CB-51FF-49B5-B06C-7D8AC834DB8B}  2014-02-08 10:01:36.827000000  \n",
       "4  {E73E9750-603B-4131-89F5-3DD15ED5FF80}  2014-02-08 10:01:36.827000000  \n",
       "\n",
       "[5 rows x 25 columns]"
      ]
     },
     "execution_count": 5,
     "metadata": {},
     "output_type": "execute_result"
    }
   ],
   "source": [
    "prod.head()"
   ]
  },
  {
   "cell_type": "code",
   "execution_count": 5,
   "metadata": {},
   "outputs": [
    {
     "data": {
      "text/html": [
       "<div>\n",
       "<style scoped>\n",
       "    .dataframe tbody tr th:only-of-type {\n",
       "        vertical-align: middle;\n",
       "    }\n",
       "\n",
       "    .dataframe tbody tr th {\n",
       "        vertical-align: top;\n",
       "    }\n",
       "\n",
       "    .dataframe thead th {\n",
       "        text-align: right;\n",
       "    }\n",
       "</style>\n",
       "<table border=\"1\" class=\"dataframe\">\n",
       "  <thead>\n",
       "    <tr style=\"text-align: right;\">\n",
       "      <th></th>\n",
       "      <th>ProductID</th>\n",
       "      <th>Name</th>\n",
       "      <th>ProductNumber</th>\n",
       "      <th>MakeFlag</th>\n",
       "      <th>FinishedGoodsFlag</th>\n",
       "      <th>Color</th>\n",
       "      <th>SafetyStockLevel</th>\n",
       "      <th>ReorderPoint</th>\n",
       "      <th>StandardCost</th>\n",
       "      <th>ListPrice</th>\n",
       "      <th>...</th>\n",
       "      <th>ProductLine</th>\n",
       "      <th>Class</th>\n",
       "      <th>Style</th>\n",
       "      <th>ProductSubcategoryID</th>\n",
       "      <th>ProductModelID</th>\n",
       "      <th>SellStartDate</th>\n",
       "      <th>SellEndDate</th>\n",
       "      <th>DiscontinuedDate</th>\n",
       "      <th>rowguid</th>\n",
       "      <th>ModifiedDate</th>\n",
       "    </tr>\n",
       "  </thead>\n",
       "  <tbody>\n",
       "    <tr>\n",
       "      <td>489</td>\n",
       "      <td>985</td>\n",
       "      <td>Mountain-500 Silver, 42</td>\n",
       "      <td>BK-M18S-42</td>\n",
       "      <td>1</td>\n",
       "      <td>1</td>\n",
       "      <td>Silver</td>\n",
       "      <td>100</td>\n",
       "      <td>75</td>\n",
       "      <td>308.2179</td>\n",
       "      <td>564.99</td>\n",
       "      <td>...</td>\n",
       "      <td>M</td>\n",
       "      <td>L</td>\n",
       "      <td>U</td>\n",
       "      <td>1.0</td>\n",
       "      <td>23.0</td>\n",
       "      <td>2013-05-30 00:00:00</td>\n",
       "      <td>NaN</td>\n",
       "      <td>NaN</td>\n",
       "      <td>{B8D1B5D9-8A39-4097-A04A-56E95559B534}</td>\n",
       "      <td>2014-02-08 10:01:36.827000000</td>\n",
       "    </tr>\n",
       "    <tr>\n",
       "      <td>490</td>\n",
       "      <td>986</td>\n",
       "      <td>Mountain-500 Silver, 44</td>\n",
       "      <td>BK-M18S-44</td>\n",
       "      <td>1</td>\n",
       "      <td>1</td>\n",
       "      <td>Silver</td>\n",
       "      <td>100</td>\n",
       "      <td>75</td>\n",
       "      <td>308.2179</td>\n",
       "      <td>564.99</td>\n",
       "      <td>...</td>\n",
       "      <td>M</td>\n",
       "      <td>L</td>\n",
       "      <td>U</td>\n",
       "      <td>1.0</td>\n",
       "      <td>23.0</td>\n",
       "      <td>2013-05-30 00:00:00</td>\n",
       "      <td>NaN</td>\n",
       "      <td>NaN</td>\n",
       "      <td>{E8CEC794-E8E2-4312-96A7-4832E573D3FC}</td>\n",
       "      <td>2014-02-08 10:01:36.827000000</td>\n",
       "    </tr>\n",
       "    <tr>\n",
       "      <td>491</td>\n",
       "      <td>987</td>\n",
       "      <td>Mountain-500 Silver, 48</td>\n",
       "      <td>BK-M18S-48</td>\n",
       "      <td>1</td>\n",
       "      <td>1</td>\n",
       "      <td>Silver</td>\n",
       "      <td>100</td>\n",
       "      <td>75</td>\n",
       "      <td>308.2179</td>\n",
       "      <td>564.99</td>\n",
       "      <td>...</td>\n",
       "      <td>M</td>\n",
       "      <td>L</td>\n",
       "      <td>U</td>\n",
       "      <td>1.0</td>\n",
       "      <td>23.0</td>\n",
       "      <td>2013-05-30 00:00:00</td>\n",
       "      <td>NaN</td>\n",
       "      <td>NaN</td>\n",
       "      <td>{77EF419F-481F-40B9-BDB9-7E6678E550E3}</td>\n",
       "      <td>2014-02-08 10:01:36.827000000</td>\n",
       "    </tr>\n",
       "    <tr>\n",
       "      <td>492</td>\n",
       "      <td>988</td>\n",
       "      <td>Mountain-500 Silver, 52</td>\n",
       "      <td>BK-M18S-52</td>\n",
       "      <td>1</td>\n",
       "      <td>1</td>\n",
       "      <td>Silver</td>\n",
       "      <td>100</td>\n",
       "      <td>75</td>\n",
       "      <td>308.2179</td>\n",
       "      <td>564.99</td>\n",
       "      <td>...</td>\n",
       "      <td>M</td>\n",
       "      <td>L</td>\n",
       "      <td>U</td>\n",
       "      <td>1.0</td>\n",
       "      <td>23.0</td>\n",
       "      <td>2013-05-30 00:00:00</td>\n",
       "      <td>NaN</td>\n",
       "      <td>NaN</td>\n",
       "      <td>{CAD60945-183E-4AB3-A70C-3F5BAC6BF134}</td>\n",
       "      <td>2014-02-08 10:01:36.827000000</td>\n",
       "    </tr>\n",
       "    <tr>\n",
       "      <td>493</td>\n",
       "      <td>989</td>\n",
       "      <td>Mountain-500 Black, 40</td>\n",
       "      <td>BK-M18B-40</td>\n",
       "      <td>1</td>\n",
       "      <td>1</td>\n",
       "      <td>Black</td>\n",
       "      <td>100</td>\n",
       "      <td>75</td>\n",
       "      <td>294.5797</td>\n",
       "      <td>539.99</td>\n",
       "      <td>...</td>\n",
       "      <td>M</td>\n",
       "      <td>L</td>\n",
       "      <td>U</td>\n",
       "      <td>1.0</td>\n",
       "      <td>23.0</td>\n",
       "      <td>2013-05-30 00:00:00</td>\n",
       "      <td>NaN</td>\n",
       "      <td>NaN</td>\n",
       "      <td>{28287157-3F06-487B-8531-BEE8A37329E4}</td>\n",
       "      <td>2014-02-08 10:01:36.827000000</td>\n",
       "    </tr>\n",
       "    <tr>\n",
       "      <td>494</td>\n",
       "      <td>990</td>\n",
       "      <td>Mountain-500 Black, 42</td>\n",
       "      <td>BK-M18B-42</td>\n",
       "      <td>1</td>\n",
       "      <td>1</td>\n",
       "      <td>Black</td>\n",
       "      <td>100</td>\n",
       "      <td>75</td>\n",
       "      <td>294.5797</td>\n",
       "      <td>539.99</td>\n",
       "      <td>...</td>\n",
       "      <td>M</td>\n",
       "      <td>L</td>\n",
       "      <td>U</td>\n",
       "      <td>1.0</td>\n",
       "      <td>23.0</td>\n",
       "      <td>2013-05-30 00:00:00</td>\n",
       "      <td>NaN</td>\n",
       "      <td>NaN</td>\n",
       "      <td>{F5752C9C-56BA-41A7-83FD-139DA28C15FA}</td>\n",
       "      <td>2014-02-08 10:01:36.827000000</td>\n",
       "    </tr>\n",
       "    <tr>\n",
       "      <td>495</td>\n",
       "      <td>991</td>\n",
       "      <td>Mountain-500 Black, 44</td>\n",
       "      <td>BK-M18B-44</td>\n",
       "      <td>1</td>\n",
       "      <td>1</td>\n",
       "      <td>Black</td>\n",
       "      <td>100</td>\n",
       "      <td>75</td>\n",
       "      <td>294.5797</td>\n",
       "      <td>539.99</td>\n",
       "      <td>...</td>\n",
       "      <td>M</td>\n",
       "      <td>L</td>\n",
       "      <td>U</td>\n",
       "      <td>1.0</td>\n",
       "      <td>23.0</td>\n",
       "      <td>2013-05-30 00:00:00</td>\n",
       "      <td>NaN</td>\n",
       "      <td>NaN</td>\n",
       "      <td>{C7852127-2FB8-4959-B5A3-DE5A8D6445E4}</td>\n",
       "      <td>2014-02-08 10:01:36.827000000</td>\n",
       "    </tr>\n",
       "    <tr>\n",
       "      <td>496</td>\n",
       "      <td>992</td>\n",
       "      <td>Mountain-500 Black, 48</td>\n",
       "      <td>BK-M18B-48</td>\n",
       "      <td>1</td>\n",
       "      <td>1</td>\n",
       "      <td>Black</td>\n",
       "      <td>100</td>\n",
       "      <td>75</td>\n",
       "      <td>294.5797</td>\n",
       "      <td>539.99</td>\n",
       "      <td>...</td>\n",
       "      <td>M</td>\n",
       "      <td>L</td>\n",
       "      <td>U</td>\n",
       "      <td>1.0</td>\n",
       "      <td>23.0</td>\n",
       "      <td>2013-05-30 00:00:00</td>\n",
       "      <td>NaN</td>\n",
       "      <td>NaN</td>\n",
       "      <td>{75752E26-A3B6-4264-9B06-F23A4FBDC5A7}</td>\n",
       "      <td>2014-02-08 10:01:36.827000000</td>\n",
       "    </tr>\n",
       "    <tr>\n",
       "      <td>497</td>\n",
       "      <td>993</td>\n",
       "      <td>Mountain-500 Black, 52</td>\n",
       "      <td>BK-M18B-52</td>\n",
       "      <td>1</td>\n",
       "      <td>1</td>\n",
       "      <td>Black</td>\n",
       "      <td>100</td>\n",
       "      <td>75</td>\n",
       "      <td>294.5797</td>\n",
       "      <td>539.99</td>\n",
       "      <td>...</td>\n",
       "      <td>M</td>\n",
       "      <td>L</td>\n",
       "      <td>U</td>\n",
       "      <td>1.0</td>\n",
       "      <td>23.0</td>\n",
       "      <td>2013-05-30 00:00:00</td>\n",
       "      <td>NaN</td>\n",
       "      <td>NaN</td>\n",
       "      <td>{69EE3B55-E142-4E4F-AED8-AF02978FBE87}</td>\n",
       "      <td>2014-02-08 10:01:36.827000000</td>\n",
       "    </tr>\n",
       "    <tr>\n",
       "      <td>498</td>\n",
       "      <td>994</td>\n",
       "      <td>LL Bottom Bracket</td>\n",
       "      <td>BB-7421</td>\n",
       "      <td>1</td>\n",
       "      <td>1</td>\n",
       "      <td>NaN</td>\n",
       "      <td>500</td>\n",
       "      <td>375</td>\n",
       "      <td>23.9716</td>\n",
       "      <td>53.99</td>\n",
       "      <td>...</td>\n",
       "      <td>NaN</td>\n",
       "      <td>L</td>\n",
       "      <td>NaN</td>\n",
       "      <td>5.0</td>\n",
       "      <td>95.0</td>\n",
       "      <td>2013-05-30 00:00:00</td>\n",
       "      <td>NaN</td>\n",
       "      <td>NaN</td>\n",
       "      <td>{FA3C65CD-0A22-47E3-BDF6-53F1DC138C43}</td>\n",
       "      <td>2014-02-08 10:01:36.827000000</td>\n",
       "    </tr>\n",
       "    <tr>\n",
       "      <td>499</td>\n",
       "      <td>995</td>\n",
       "      <td>ML Bottom Bracket</td>\n",
       "      <td>BB-8107</td>\n",
       "      <td>1</td>\n",
       "      <td>1</td>\n",
       "      <td>NaN</td>\n",
       "      <td>500</td>\n",
       "      <td>375</td>\n",
       "      <td>44.9506</td>\n",
       "      <td>101.24</td>\n",
       "      <td>...</td>\n",
       "      <td>NaN</td>\n",
       "      <td>M</td>\n",
       "      <td>NaN</td>\n",
       "      <td>5.0</td>\n",
       "      <td>96.0</td>\n",
       "      <td>2013-05-30 00:00:00</td>\n",
       "      <td>NaN</td>\n",
       "      <td>NaN</td>\n",
       "      <td>{71AB847F-D091-42D6-B735-7B0C2D82FC84}</td>\n",
       "      <td>2014-02-08 10:01:36.827000000</td>\n",
       "    </tr>\n",
       "    <tr>\n",
       "      <td>500</td>\n",
       "      <td>996</td>\n",
       "      <td>HL Bottom Bracket</td>\n",
       "      <td>BB-9108</td>\n",
       "      <td>1</td>\n",
       "      <td>1</td>\n",
       "      <td>NaN</td>\n",
       "      <td>500</td>\n",
       "      <td>375</td>\n",
       "      <td>53.9416</td>\n",
       "      <td>121.49</td>\n",
       "      <td>...</td>\n",
       "      <td>NaN</td>\n",
       "      <td>H</td>\n",
       "      <td>NaN</td>\n",
       "      <td>5.0</td>\n",
       "      <td>97.0</td>\n",
       "      <td>2013-05-30 00:00:00</td>\n",
       "      <td>NaN</td>\n",
       "      <td>NaN</td>\n",
       "      <td>{230C47C5-08B2-4CE3-B706-69C0BDD62965}</td>\n",
       "      <td>2014-02-08 10:01:36.827000000</td>\n",
       "    </tr>\n",
       "    <tr>\n",
       "      <td>501</td>\n",
       "      <td>997</td>\n",
       "      <td>Road-750 Black, 44</td>\n",
       "      <td>BK-R19B-44</td>\n",
       "      <td>1</td>\n",
       "      <td>1</td>\n",
       "      <td>Black</td>\n",
       "      <td>100</td>\n",
       "      <td>75</td>\n",
       "      <td>343.6496</td>\n",
       "      <td>539.99</td>\n",
       "      <td>...</td>\n",
       "      <td>R</td>\n",
       "      <td>L</td>\n",
       "      <td>U</td>\n",
       "      <td>2.0</td>\n",
       "      <td>31.0</td>\n",
       "      <td>2013-05-30 00:00:00</td>\n",
       "      <td>NaN</td>\n",
       "      <td>NaN</td>\n",
       "      <td>{44CE4802-409F-43AB-9B27-CA53421805BE}</td>\n",
       "      <td>2014-02-08 10:01:36.827000000</td>\n",
       "    </tr>\n",
       "    <tr>\n",
       "      <td>502</td>\n",
       "      <td>998</td>\n",
       "      <td>Road-750 Black, 48</td>\n",
       "      <td>BK-R19B-48</td>\n",
       "      <td>1</td>\n",
       "      <td>1</td>\n",
       "      <td>Black</td>\n",
       "      <td>100</td>\n",
       "      <td>75</td>\n",
       "      <td>343.6496</td>\n",
       "      <td>539.99</td>\n",
       "      <td>...</td>\n",
       "      <td>R</td>\n",
       "      <td>L</td>\n",
       "      <td>U</td>\n",
       "      <td>2.0</td>\n",
       "      <td>31.0</td>\n",
       "      <td>2013-05-30 00:00:00</td>\n",
       "      <td>NaN</td>\n",
       "      <td>NaN</td>\n",
       "      <td>{3DE9A212-1D49-40B6-B10A-F564D981DBDE}</td>\n",
       "      <td>2014-02-08 10:01:36.827000000</td>\n",
       "    </tr>\n",
       "    <tr>\n",
       "      <td>503</td>\n",
       "      <td>999</td>\n",
       "      <td>Road-750 Black, 52</td>\n",
       "      <td>BK-R19B-52</td>\n",
       "      <td>1</td>\n",
       "      <td>1</td>\n",
       "      <td>Black</td>\n",
       "      <td>100</td>\n",
       "      <td>75</td>\n",
       "      <td>343.6496</td>\n",
       "      <td>539.99</td>\n",
       "      <td>...</td>\n",
       "      <td>R</td>\n",
       "      <td>L</td>\n",
       "      <td>U</td>\n",
       "      <td>2.0</td>\n",
       "      <td>31.0</td>\n",
       "      <td>2013-05-30 00:00:00</td>\n",
       "      <td>NaN</td>\n",
       "      <td>NaN</td>\n",
       "      <td>{AE638923-2B67-4679-B90E-ABBAB17DCA31}</td>\n",
       "      <td>2014-02-08 10:01:36.827000000</td>\n",
       "    </tr>\n",
       "  </tbody>\n",
       "</table>\n",
       "<p>15 rows × 25 columns</p>\n",
       "</div>"
      ],
      "text/plain": [
       "     ProductID                     Name ProductNumber  MakeFlag  \\\n",
       "489        985  Mountain-500 Silver, 42    BK-M18S-42         1   \n",
       "490        986  Mountain-500 Silver, 44    BK-M18S-44         1   \n",
       "491        987  Mountain-500 Silver, 48    BK-M18S-48         1   \n",
       "492        988  Mountain-500 Silver, 52    BK-M18S-52         1   \n",
       "493        989   Mountain-500 Black, 40    BK-M18B-40         1   \n",
       "494        990   Mountain-500 Black, 42    BK-M18B-42         1   \n",
       "495        991   Mountain-500 Black, 44    BK-M18B-44         1   \n",
       "496        992   Mountain-500 Black, 48    BK-M18B-48         1   \n",
       "497        993   Mountain-500 Black, 52    BK-M18B-52         1   \n",
       "498        994        LL Bottom Bracket       BB-7421         1   \n",
       "499        995        ML Bottom Bracket       BB-8107         1   \n",
       "500        996        HL Bottom Bracket       BB-9108         1   \n",
       "501        997       Road-750 Black, 44    BK-R19B-44         1   \n",
       "502        998       Road-750 Black, 48    BK-R19B-48         1   \n",
       "503        999       Road-750 Black, 52    BK-R19B-52         1   \n",
       "\n",
       "     FinishedGoodsFlag   Color  SafetyStockLevel  ReorderPoint  StandardCost  \\\n",
       "489                  1  Silver               100            75      308.2179   \n",
       "490                  1  Silver               100            75      308.2179   \n",
       "491                  1  Silver               100            75      308.2179   \n",
       "492                  1  Silver               100            75      308.2179   \n",
       "493                  1   Black               100            75      294.5797   \n",
       "494                  1   Black               100            75      294.5797   \n",
       "495                  1   Black               100            75      294.5797   \n",
       "496                  1   Black               100            75      294.5797   \n",
       "497                  1   Black               100            75      294.5797   \n",
       "498                  1     NaN               500           375       23.9716   \n",
       "499                  1     NaN               500           375       44.9506   \n",
       "500                  1     NaN               500           375       53.9416   \n",
       "501                  1   Black               100            75      343.6496   \n",
       "502                  1   Black               100            75      343.6496   \n",
       "503                  1   Black               100            75      343.6496   \n",
       "\n",
       "     ListPrice  ... ProductLine Class Style  ProductSubcategoryID  \\\n",
       "489     564.99  ...          M     L     U                    1.0   \n",
       "490     564.99  ...          M     L     U                    1.0   \n",
       "491     564.99  ...          M     L     U                    1.0   \n",
       "492     564.99  ...          M     L     U                    1.0   \n",
       "493     539.99  ...          M     L     U                    1.0   \n",
       "494     539.99  ...          M     L     U                    1.0   \n",
       "495     539.99  ...          M     L     U                    1.0   \n",
       "496     539.99  ...          M     L     U                    1.0   \n",
       "497     539.99  ...          M     L     U                    1.0   \n",
       "498      53.99  ...         NaN    L    NaN                   5.0   \n",
       "499     101.24  ...         NaN    M    NaN                   5.0   \n",
       "500     121.49  ...         NaN    H    NaN                   5.0   \n",
       "501     539.99  ...          R     L     U                    2.0   \n",
       "502     539.99  ...          R     L     U                    2.0   \n",
       "503     539.99  ...          R     L     U                    2.0   \n",
       "\n",
       "     ProductModelID        SellStartDate SellEndDate DiscontinuedDate  \\\n",
       "489            23.0  2013-05-30 00:00:00         NaN              NaN   \n",
       "490            23.0  2013-05-30 00:00:00         NaN              NaN   \n",
       "491            23.0  2013-05-30 00:00:00         NaN              NaN   \n",
       "492            23.0  2013-05-30 00:00:00         NaN              NaN   \n",
       "493            23.0  2013-05-30 00:00:00         NaN              NaN   \n",
       "494            23.0  2013-05-30 00:00:00         NaN              NaN   \n",
       "495            23.0  2013-05-30 00:00:00         NaN              NaN   \n",
       "496            23.0  2013-05-30 00:00:00         NaN              NaN   \n",
       "497            23.0  2013-05-30 00:00:00         NaN              NaN   \n",
       "498            95.0  2013-05-30 00:00:00         NaN              NaN   \n",
       "499            96.0  2013-05-30 00:00:00         NaN              NaN   \n",
       "500            97.0  2013-05-30 00:00:00         NaN              NaN   \n",
       "501            31.0  2013-05-30 00:00:00         NaN              NaN   \n",
       "502            31.0  2013-05-30 00:00:00         NaN              NaN   \n",
       "503            31.0  2013-05-30 00:00:00         NaN              NaN   \n",
       "\n",
       "                                    rowguid                   ModifiedDate  \n",
       "489  {B8D1B5D9-8A39-4097-A04A-56E95559B534}  2014-02-08 10:01:36.827000000  \n",
       "490  {E8CEC794-E8E2-4312-96A7-4832E573D3FC}  2014-02-08 10:01:36.827000000  \n",
       "491  {77EF419F-481F-40B9-BDB9-7E6678E550E3}  2014-02-08 10:01:36.827000000  \n",
       "492  {CAD60945-183E-4AB3-A70C-3F5BAC6BF134}  2014-02-08 10:01:36.827000000  \n",
       "493  {28287157-3F06-487B-8531-BEE8A37329E4}  2014-02-08 10:01:36.827000000  \n",
       "494  {F5752C9C-56BA-41A7-83FD-139DA28C15FA}  2014-02-08 10:01:36.827000000  \n",
       "495  {C7852127-2FB8-4959-B5A3-DE5A8D6445E4}  2014-02-08 10:01:36.827000000  \n",
       "496  {75752E26-A3B6-4264-9B06-F23A4FBDC5A7}  2014-02-08 10:01:36.827000000  \n",
       "497  {69EE3B55-E142-4E4F-AED8-AF02978FBE87}  2014-02-08 10:01:36.827000000  \n",
       "498  {FA3C65CD-0A22-47E3-BDF6-53F1DC138C43}  2014-02-08 10:01:36.827000000  \n",
       "499  {71AB847F-D091-42D6-B735-7B0C2D82FC84}  2014-02-08 10:01:36.827000000  \n",
       "500  {230C47C5-08B2-4CE3-B706-69C0BDD62965}  2014-02-08 10:01:36.827000000  \n",
       "501  {44CE4802-409F-43AB-9B27-CA53421805BE}  2014-02-08 10:01:36.827000000  \n",
       "502  {3DE9A212-1D49-40B6-B10A-F564D981DBDE}  2014-02-08 10:01:36.827000000  \n",
       "503  {AE638923-2B67-4679-B90E-ABBAB17DCA31}  2014-02-08 10:01:36.827000000  \n",
       "\n",
       "[15 rows x 25 columns]"
      ]
     },
     "execution_count": 5,
     "metadata": {},
     "output_type": "execute_result"
    }
   ],
   "source": [
    "prod.tail(15)"
   ]
  },
  {
   "cell_type": "markdown",
   "metadata": {
    "colab_type": "text",
    "id": "I-HT8fEKUsnU"
   },
   "source": [
    "*Documentation Pause*\n",
    "\n",
    "How did we know how to use `pd.read_csv`? Let's take a look at the [documentation](https://pandas.pydata.org/pandas-docs/stable/generated/pandas.read_csv.html). Note the first argument required (`filepath`).\n",
    "> Take a moment to dissect other arguments and options when reading in data."
   ]
  },
  {
   "cell_type": "code",
   "execution_count": 7,
   "metadata": {},
   "outputs": [
    {
     "ename": "NameError",
     "evalue": "name 'pwd' is not defined",
     "output_type": "error",
     "traceback": [
      "\u001b[1;31m---------------------------------------------------------------------------\u001b[0m",
      "\u001b[1;31mNameError\u001b[0m                                 Traceback (most recent call last)",
      "\u001b[1;32m<ipython-input-7-4bbe82234a9f>\u001b[0m in \u001b[0;36m<module>\u001b[1;34m\u001b[0m\n\u001b[0;32m      1\u001b[0m \u001b[1;31m# to check where you are now (your location)\u001b[0m\u001b[1;33m\u001b[0m\u001b[1;33m\u001b[0m\u001b[1;33m\u001b[0m\u001b[0m\n\u001b[0;32m      2\u001b[0m \u001b[1;33m\u001b[0m\u001b[0m\n\u001b[1;32m----> 3\u001b[1;33m \u001b[0mpwd\u001b[0m\u001b[1;33m\u001b[0m\u001b[1;33m\u001b[0m\u001b[0m\n\u001b[0m",
      "\u001b[1;31mNameError\u001b[0m: name 'pwd' is not defined"
     ]
    }
   ],
   "source": [
    "# to check where you are now (your location)\n",
    "\n",
    "# pwd"
   ]
  },
  {
   "cell_type": "markdown",
   "metadata": {
    "colab_type": "text",
    "id": "_7b466R1UsnV"
   },
   "source": [
    "We have just created a data structure called a `DataFrame`. See?"
   ]
  },
  {
   "cell_type": "code",
   "execution_count": 10,
   "metadata": {
    "colab": {},
    "colab_type": "code",
    "id": "jOzfCj8BUsnW",
    "outputId": "233f051b-8469-4807-a57e-25c228264626"
   },
   "outputs": [
    {
     "data": {
      "text/plain": [
       "pandas.core.frame.DataFrame"
      ]
     },
     "execution_count": 10,
     "metadata": {},
     "output_type": "execute_result"
    }
   ],
   "source": [
    "# show type of prod -----. DataFrame : when you pull excel to Panda it's called DataFrame\n",
    "type(prod)"
   ]
  },
  {
   "cell_type": "markdown",
   "metadata": {
    "colab_type": "text",
    "id": "FkVvPfBRUsna"
   },
   "source": [
    "## Inspecting our DataFrame: The basics\n",
    "\n",
    "We'll now perform basic operations on the DataFrame, denoted with comments."
   ]
  },
  {
   "cell_type": "code",
   "execution_count": 11,
   "metadata": {
    "colab": {},
    "colab_type": "code",
    "id": "HE-IdbWjUsnb"
   },
   "outputs": [
    {
     "data": {
      "text/html": [
       "<div>\n",
       "<style scoped>\n",
       "    .dataframe tbody tr th:only-of-type {\n",
       "        vertical-align: middle;\n",
       "    }\n",
       "\n",
       "    .dataframe tbody tr th {\n",
       "        vertical-align: top;\n",
       "    }\n",
       "\n",
       "    .dataframe thead th {\n",
       "        text-align: right;\n",
       "    }\n",
       "</style>\n",
       "<table border=\"1\" class=\"dataframe\">\n",
       "  <thead>\n",
       "    <tr style=\"text-align: right;\">\n",
       "      <th></th>\n",
       "      <th>ProductID</th>\n",
       "      <th>Name</th>\n",
       "      <th>ProductNumber</th>\n",
       "      <th>MakeFlag</th>\n",
       "      <th>FinishedGoodsFlag</th>\n",
       "      <th>Color</th>\n",
       "      <th>SafetyStockLevel</th>\n",
       "      <th>ReorderPoint</th>\n",
       "      <th>StandardCost</th>\n",
       "      <th>ListPrice</th>\n",
       "      <th>...</th>\n",
       "      <th>ProductLine</th>\n",
       "      <th>Class</th>\n",
       "      <th>Style</th>\n",
       "      <th>ProductSubcategoryID</th>\n",
       "      <th>ProductModelID</th>\n",
       "      <th>SellStartDate</th>\n",
       "      <th>SellEndDate</th>\n",
       "      <th>DiscontinuedDate</th>\n",
       "      <th>rowguid</th>\n",
       "      <th>ModifiedDate</th>\n",
       "    </tr>\n",
       "  </thead>\n",
       "  <tbody>\n",
       "    <tr>\n",
       "      <td>501</td>\n",
       "      <td>997</td>\n",
       "      <td>Road-750 Black, 44</td>\n",
       "      <td>BK-R19B-44</td>\n",
       "      <td>1</td>\n",
       "      <td>1</td>\n",
       "      <td>Black</td>\n",
       "      <td>100</td>\n",
       "      <td>75</td>\n",
       "      <td>343.6496</td>\n",
       "      <td>539.99</td>\n",
       "      <td>...</td>\n",
       "      <td>R</td>\n",
       "      <td>L</td>\n",
       "      <td>U</td>\n",
       "      <td>2.0</td>\n",
       "      <td>31.0</td>\n",
       "      <td>2013-05-30 00:00:00</td>\n",
       "      <td>NaN</td>\n",
       "      <td>NaN</td>\n",
       "      <td>{44CE4802-409F-43AB-9B27-CA53421805BE}</td>\n",
       "      <td>2014-02-08 10:01:36.827000000</td>\n",
       "    </tr>\n",
       "    <tr>\n",
       "      <td>502</td>\n",
       "      <td>998</td>\n",
       "      <td>Road-750 Black, 48</td>\n",
       "      <td>BK-R19B-48</td>\n",
       "      <td>1</td>\n",
       "      <td>1</td>\n",
       "      <td>Black</td>\n",
       "      <td>100</td>\n",
       "      <td>75</td>\n",
       "      <td>343.6496</td>\n",
       "      <td>539.99</td>\n",
       "      <td>...</td>\n",
       "      <td>R</td>\n",
       "      <td>L</td>\n",
       "      <td>U</td>\n",
       "      <td>2.0</td>\n",
       "      <td>31.0</td>\n",
       "      <td>2013-05-30 00:00:00</td>\n",
       "      <td>NaN</td>\n",
       "      <td>NaN</td>\n",
       "      <td>{3DE9A212-1D49-40B6-B10A-F564D981DBDE}</td>\n",
       "      <td>2014-02-08 10:01:36.827000000</td>\n",
       "    </tr>\n",
       "    <tr>\n",
       "      <td>503</td>\n",
       "      <td>999</td>\n",
       "      <td>Road-750 Black, 52</td>\n",
       "      <td>BK-R19B-52</td>\n",
       "      <td>1</td>\n",
       "      <td>1</td>\n",
       "      <td>Black</td>\n",
       "      <td>100</td>\n",
       "      <td>75</td>\n",
       "      <td>343.6496</td>\n",
       "      <td>539.99</td>\n",
       "      <td>...</td>\n",
       "      <td>R</td>\n",
       "      <td>L</td>\n",
       "      <td>U</td>\n",
       "      <td>2.0</td>\n",
       "      <td>31.0</td>\n",
       "      <td>2013-05-30 00:00:00</td>\n",
       "      <td>NaN</td>\n",
       "      <td>NaN</td>\n",
       "      <td>{AE638923-2B67-4679-B90E-ABBAB17DCA31}</td>\n",
       "      <td>2014-02-08 10:01:36.827000000</td>\n",
       "    </tr>\n",
       "  </tbody>\n",
       "</table>\n",
       "<p>3 rows × 25 columns</p>\n",
       "</div>"
      ],
      "text/plain": [
       "     ProductID                Name ProductNumber  MakeFlag  FinishedGoodsFlag  \\\n",
       "501        997  Road-750 Black, 44    BK-R19B-44         1                  1   \n",
       "502        998  Road-750 Black, 48    BK-R19B-48         1                  1   \n",
       "503        999  Road-750 Black, 52    BK-R19B-52         1                  1   \n",
       "\n",
       "     Color  SafetyStockLevel  ReorderPoint  StandardCost  ListPrice  ...  \\\n",
       "501  Black               100            75      343.6496     539.99  ...   \n",
       "502  Black               100            75      343.6496     539.99  ...   \n",
       "503  Black               100            75      343.6496     539.99  ...   \n",
       "\n",
       "    ProductLine Class Style  ProductSubcategoryID  ProductModelID  \\\n",
       "501          R     L     U                    2.0            31.0   \n",
       "502          R     L     U                    2.0            31.0   \n",
       "503          R     L     U                    2.0            31.0   \n",
       "\n",
       "           SellStartDate SellEndDate DiscontinuedDate  \\\n",
       "501  2013-05-30 00:00:00         NaN              NaN   \n",
       "502  2013-05-30 00:00:00         NaN              NaN   \n",
       "503  2013-05-30 00:00:00         NaN              NaN   \n",
       "\n",
       "                                    rowguid                   ModifiedDate  \n",
       "501  {44CE4802-409F-43AB-9B27-CA53421805BE}  2014-02-08 10:01:36.827000000  \n",
       "502  {3DE9A212-1D49-40B6-B10A-F564D981DBDE}  2014-02-08 10:01:36.827000000  \n",
       "503  {AE638923-2B67-4679-B90E-ABBAB17DCA31}  2014-02-08 10:01:36.827000000  \n",
       "\n",
       "[3 rows x 25 columns]"
      ]
     },
     "execution_count": 11,
     "metadata": {},
     "output_type": "execute_result"
    }
   ],
   "source": [
    "# print the first and last 3 rows\n",
    "# prod.head(3)\n",
    "prod.tail(3)"
   ]
  },
  {
   "cell_type": "markdown",
   "metadata": {
    "colab_type": "text",
    "id": "2JEgK0Q2Usne"
   },
   "source": [
    "Notice that `.head()` is a method (denoted by parantheses), so it takes arguments."
   ]
  },
  {
   "cell_type": "markdown",
   "metadata": {
    "colab_type": "text",
    "id": "jI0EXgsaUsnf"
   },
   "source": [
    "**Class Question:** \n",
    "- What do you think changes if we pass a different number `head()` argument?\n",
    "- How would we print the last 5 rows?"
   ]
  },
  {
   "cell_type": "code",
   "execution_count": 12,
   "metadata": {
    "colab": {},
    "colab_type": "code",
    "id": "QnNAcK01Usnf"
   },
   "outputs": [
    {
     "data": {
      "text/plain": [
       "(504, 25)"
      ]
     },
     "execution_count": 12,
     "metadata": {},
     "output_type": "execute_result"
    }
   ],
   "source": [
    "# identify the shape (rows by columns)\n",
    "prod.shape\n",
    "\n",
    "# for extra # file_shape = prod.shape  #you cold save it as a variale for future use"
   ]
  },
  {
   "cell_type": "markdown",
   "metadata": {
    "colab_type": "text",
    "id": "4BGFiRvPUsni"
   },
   "source": [
    "Here we have 504 rows, and 25 columns. This is a tuple, so we can extract the parts using indexing:"
   ]
  },
  {
   "cell_type": "code",
   "execution_count": 13,
   "metadata": {
    "colab": {},
    "colab_type": "code",
    "id": "UA7xzMCsUsni"
   },
   "outputs": [
    {
     "data": {
      "text/plain": [
       "25"
      ]
     },
     "execution_count": 13,
     "metadata": {},
     "output_type": "execute_result"
    }
   ],
   "source": [
    "# print the number of rows as an int\n",
    "file_shape = prod.shape  #you cold save it as a variale for future use --- > I declear it above I could use it\n",
    "prod.shape[0] # will give you  the rows\n",
    "prod.shape[1] #will give you  the columns ... "
   ]
  },
  {
   "cell_type": "markdown",
   "metadata": {
    "colab_type": "text",
    "id": "gWYKpHtrUsnk"
   },
   "source": [
    "## Using the index\n",
    "An [index](https://pandas.pydata.org/pandas-docs/stable/generated/pandas.Index.html) is an immutable ndarray implementing an ordered, sliceable set. The basic object storing axis labels for all pandas objects. Think of it as a 'row address' for your data frame (table). It is best practice to explicitly set the index of your dataframe, as these are commonly used as [primary keys](https://en.wikipedia.org/wiki/Primary_key) which can be used to [join](https://www.w3schools.com/sql/sql_join.asp) your dataframe to other dataframes.\n",
    "\n",
    "The dataframe can store different types (int, string, datetime), and when importing data will automatically assign a number to each row, starting at zero and counting up. You can overwrite this, which is what we are going to do."
   ]
  },
  {
   "cell_type": "code",
   "execution_count": 14,
   "metadata": {
    "colab": {},
    "colab_type": "code",
    "id": "Ube4154DUsnl"
   },
   "outputs": [
    {
     "data": {
      "text/plain": [
       "RangeIndex(start=0, stop=504, step=1)"
      ]
     },
     "execution_count": 14,
     "metadata": {},
     "output_type": "execute_result"
    }
   ],
   "source": [
    "# displaying the index as it sits (auto-generated upon import)\n",
    "prod.index # give me the size of my data"
   ]
  },
  {
   "cell_type": "code",
   "execution_count": 15,
   "metadata": {
    "colab": {},
    "colab_type": "code",
    "id": "QS44tBEvUsno"
   },
   "outputs": [
    {
     "name": "stdout",
     "output_type": "stream",
     "text": [
      "None\n"
     ]
    }
   ],
   "source": [
    "# also note that our auto-generated index has no name\n",
    "print(prod.index.name)"
   ]
  },
  {
   "cell_type": "code",
   "execution_count": 16,
   "metadata": {
    "colab": {},
    "colab_type": "code",
    "id": "PGRe5ZToUsnt"
   },
   "outputs": [
    {
     "data": {
      "text/html": [
       "<div>\n",
       "<style scoped>\n",
       "    .dataframe tbody tr th:only-of-type {\n",
       "        vertical-align: middle;\n",
       "    }\n",
       "\n",
       "    .dataframe tbody tr th {\n",
       "        vertical-align: top;\n",
       "    }\n",
       "\n",
       "    .dataframe thead th {\n",
       "        text-align: right;\n",
       "    }\n",
       "</style>\n",
       "<table border=\"1\" class=\"dataframe\">\n",
       "  <thead>\n",
       "    <tr style=\"text-align: right;\">\n",
       "      <th></th>\n",
       "      <th>ProductID</th>\n",
       "      <th>Name</th>\n",
       "    </tr>\n",
       "  </thead>\n",
       "  <tbody>\n",
       "    <tr>\n",
       "      <td>0</td>\n",
       "      <td>1</td>\n",
       "      <td>Adjustable Race</td>\n",
       "    </tr>\n",
       "    <tr>\n",
       "      <td>1</td>\n",
       "      <td>2</td>\n",
       "      <td>Bearing Ball</td>\n",
       "    </tr>\n",
       "    <tr>\n",
       "      <td>2</td>\n",
       "      <td>3</td>\n",
       "      <td>BB Ball Bearing</td>\n",
       "    </tr>\n",
       "    <tr>\n",
       "      <td>3</td>\n",
       "      <td>4</td>\n",
       "      <td>Headset Ball Bearings</td>\n",
       "    </tr>\n",
       "    <tr>\n",
       "      <td>4</td>\n",
       "      <td>316</td>\n",
       "      <td>Blade</td>\n",
       "    </tr>\n",
       "  </tbody>\n",
       "</table>\n",
       "</div>"
      ],
      "text/plain": [
       "   ProductID                   Name\n",
       "0          1        Adjustable Race\n",
       "1          2           Bearing Ball\n",
       "2          3        BB Ball Bearing\n",
       "3          4  Headset Ball Bearings\n",
       "4        316                  Blade"
      ]
     },
     "execution_count": 16,
     "metadata": {},
     "output_type": "execute_result"
    }
   ],
   "source": [
    "# Here we are looking at three columns;\n",
    "# the one on the left is the index (automatically generated upon import by pandas)\n",
    "# 'ProductID' is our PK (primary key) from our imported table. 'Name' is a data column.\n",
    "# Notice that the generated index starts at zero and our PK starts at 1.\n",
    "prod[['ProductID',\"Name\"]].head()"
   ]
  },
  {
   "cell_type": "code",
   "execution_count": 17,
   "metadata": {
    "colab": {},
    "colab_type": "code",
    "id": "iYKuUYi4Usnw"
   },
   "outputs": [],
   "source": [
    "# Setting the index overwrites the automatically generated index\n",
    "# with our PK, which resided in the 'ProductID' column.\n",
    "prod.set_index('ProductID', inplace=True) # inplace : means to put it permnnt : will change it not teperorry... \n",
    "# mean I make the change to the data frame ... if (false : if you go to the next cell won't work)"
   ]
  },
  {
   "cell_type": "code",
   "execution_count": 62,
   "metadata": {
    "colab": {},
    "colab_type": "code",
    "id": "dDT7N0g1Usny"
   },
   "outputs": [
    {
     "data": {
      "text/plain": [
       "Int64Index([  1,   2,   3,   4, 316, 317, 318, 319, 320, 321,\n",
       "            ...\n",
       "            990, 991, 992, 993, 994, 995, 996, 997, 998, 999],\n",
       "           dtype='int64', name='ProductID', length=504)"
      ]
     },
     "execution_count": 62,
     "metadata": {},
     "output_type": "execute_result"
    }
   ],
   "source": [
    "# Note how our index property has changed as a result\n",
    "prod.index"
   ]
  },
  {
   "cell_type": "code",
   "execution_count": 65,
   "metadata": {
    "colab": {},
    "colab_type": "code",
    "id": "3USt3nDwUsn1"
   },
   "outputs": [
    {
     "data": {
      "text/plain": [
       "'ProductID'"
      ]
     },
     "execution_count": 65,
     "metadata": {},
     "output_type": "execute_result"
    }
   ],
   "source": [
    "# And our index has also inherited the name of our 'ProductID' column\n",
    "prod.index.name\n"
   ]
  },
  {
   "cell_type": "markdown",
   "metadata": {
    "colab_type": "text",
    "id": "jiOSQXbJUsn4"
   },
   "source": [
    "## Column headers and datatypes"
   ]
  },
  {
   "cell_type": "code",
   "execution_count": 18,
   "metadata": {
    "colab": {},
    "colab_type": "code",
    "id": "xeI4DgUiUsn7"
   },
   "outputs": [
    {
     "data": {
      "text/plain": [
       "Index(['Name', 'ProductNumber', 'MakeFlag', 'FinishedGoodsFlag', 'Color',\n",
       "       'SafetyStockLevel', 'ReorderPoint', 'StandardCost', 'ListPrice', 'Size',\n",
       "       'SizeUnitMeasureCode', 'WeightUnitMeasureCode', 'Weight',\n",
       "       'DaysToManufacture', 'ProductLine', 'Class', 'Style',\n",
       "       'ProductSubcategoryID', 'ProductModelID', 'SellStartDate',\n",
       "       'SellEndDate', 'DiscontinuedDate', 'rowguid', 'ModifiedDate'],\n",
       "      dtype='object')"
      ]
     },
     "execution_count": 18,
     "metadata": {},
     "output_type": "execute_result"
    }
   ],
   "source": [
    "# print the columns\n",
    "prod.columns\n"
   ]
  },
  {
   "cell_type": "code",
   "execution_count": 19,
   "metadata": {
    "colab": {},
    "colab_type": "code",
    "id": "qdHn2L2eUsn_"
   },
   "outputs": [
    {
     "data": {
      "text/plain": [
       "Name                      object\n",
       "ProductNumber             object\n",
       "MakeFlag                   int64\n",
       "FinishedGoodsFlag          int64\n",
       "Color                     object\n",
       "SafetyStockLevel           int64\n",
       "ReorderPoint               int64\n",
       "StandardCost             float64\n",
       "ListPrice                float64\n",
       "Size                      object\n",
       "SizeUnitMeasureCode       object\n",
       "WeightUnitMeasureCode     object\n",
       "Weight                   float64\n",
       "DaysToManufacture          int64\n",
       "ProductLine               object\n",
       "Class                     object\n",
       "Style                     object\n",
       "ProductSubcategoryID     float64\n",
       "ProductModelID           float64\n",
       "SellStartDate             object\n",
       "SellEndDate               object\n",
       "DiscontinuedDate         float64\n",
       "rowguid                   object\n",
       "ModifiedDate              object\n",
       "dtype: object"
      ]
     },
     "execution_count": 19,
     "metadata": {},
     "output_type": "execute_result"
    }
   ],
   "source": [
    "# examine the datatypes of the columns\n",
    "prod.dtypes\n",
    "# note that these were automatically inferred by pandas upon import!\n",
    "prod.dtypes"
   ]
  },
  {
   "cell_type": "markdown",
   "metadata": {
    "colab_type": "text",
    "id": "jsfD8kKvUsoE"
   },
   "source": [
    "**Class Question:** Why do datatypes matter? What operations could we perform on some datatypes that we could not on others? Note the importance of this in checking dataset integrity."
   ]
  },
  {
   "cell_type": "markdown",
   "metadata": {
    "colab_type": "text",
    "id": "FOv4eukYUsoE"
   },
   "source": [
    "## Selecting a Columns\n",
    "\n",
    "We can select columns in two ways. Either we treat the column as an attribute of the DataFrame or we index the DataFrame for a specific element (in this case, the element is a column name)."
   ]
  },
  {
   "cell_type": "code",
   "execution_count": 20,
   "metadata": {
    "colab": {},
    "colab_type": "code",
    "id": "xiy6V-M3UsoF"
   },
   "outputs": [
    {
     "data": {
      "text/html": [
       "<div>\n",
       "<style scoped>\n",
       "    .dataframe tbody tr th:only-of-type {\n",
       "        vertical-align: middle;\n",
       "    }\n",
       "\n",
       "    .dataframe tbody tr th {\n",
       "        vertical-align: top;\n",
       "    }\n",
       "\n",
       "    .dataframe thead th {\n",
       "        text-align: right;\n",
       "    }\n",
       "</style>\n",
       "<table border=\"1\" class=\"dataframe\">\n",
       "  <thead>\n",
       "    <tr style=\"text-align: right;\">\n",
       "      <th></th>\n",
       "      <th>Color</th>\n",
       "      <th>Name</th>\n",
       "      <th>ListPrice</th>\n",
       "    </tr>\n",
       "    <tr>\n",
       "      <th>ProductID</th>\n",
       "      <th></th>\n",
       "      <th></th>\n",
       "      <th></th>\n",
       "    </tr>\n",
       "  </thead>\n",
       "  <tbody>\n",
       "    <tr>\n",
       "      <td>1</td>\n",
       "      <td>NaN</td>\n",
       "      <td>Adjustable Race</td>\n",
       "      <td>0.00</td>\n",
       "    </tr>\n",
       "    <tr>\n",
       "      <td>2</td>\n",
       "      <td>NaN</td>\n",
       "      <td>Bearing Ball</td>\n",
       "      <td>0.00</td>\n",
       "    </tr>\n",
       "    <tr>\n",
       "      <td>3</td>\n",
       "      <td>NaN</td>\n",
       "      <td>BB Ball Bearing</td>\n",
       "      <td>0.00</td>\n",
       "    </tr>\n",
       "    <tr>\n",
       "      <td>4</td>\n",
       "      <td>NaN</td>\n",
       "      <td>Headset Ball Bearings</td>\n",
       "      <td>0.00</td>\n",
       "    </tr>\n",
       "    <tr>\n",
       "      <td>316</td>\n",
       "      <td>NaN</td>\n",
       "      <td>Blade</td>\n",
       "      <td>0.00</td>\n",
       "    </tr>\n",
       "    <tr>\n",
       "      <td>...</td>\n",
       "      <td>...</td>\n",
       "      <td>...</td>\n",
       "      <td>...</td>\n",
       "    </tr>\n",
       "    <tr>\n",
       "      <td>995</td>\n",
       "      <td>NaN</td>\n",
       "      <td>ML Bottom Bracket</td>\n",
       "      <td>101.24</td>\n",
       "    </tr>\n",
       "    <tr>\n",
       "      <td>996</td>\n",
       "      <td>NaN</td>\n",
       "      <td>HL Bottom Bracket</td>\n",
       "      <td>121.49</td>\n",
       "    </tr>\n",
       "    <tr>\n",
       "      <td>997</td>\n",
       "      <td>Black</td>\n",
       "      <td>Road-750 Black, 44</td>\n",
       "      <td>539.99</td>\n",
       "    </tr>\n",
       "    <tr>\n",
       "      <td>998</td>\n",
       "      <td>Black</td>\n",
       "      <td>Road-750 Black, 48</td>\n",
       "      <td>539.99</td>\n",
       "    </tr>\n",
       "    <tr>\n",
       "      <td>999</td>\n",
       "      <td>Black</td>\n",
       "      <td>Road-750 Black, 52</td>\n",
       "      <td>539.99</td>\n",
       "    </tr>\n",
       "  </tbody>\n",
       "</table>\n",
       "<p>504 rows × 3 columns</p>\n",
       "</div>"
      ],
      "text/plain": [
       "           Color                   Name  ListPrice\n",
       "ProductID                                         \n",
       "1            NaN        Adjustable Race       0.00\n",
       "2            NaN           Bearing Ball       0.00\n",
       "3            NaN        BB Ball Bearing       0.00\n",
       "4            NaN  Headset Ball Bearings       0.00\n",
       "316          NaN                  Blade       0.00\n",
       "...          ...                    ...        ...\n",
       "995          NaN      ML Bottom Bracket     101.24\n",
       "996          NaN      HL Bottom Bracket     121.49\n",
       "997        Black     Road-750 Black, 44     539.99\n",
       "998        Black     Road-750 Black, 48     539.99\n",
       "999        Black     Road-750 Black, 52     539.99\n",
       "\n",
       "[504 rows x 3 columns]"
      ]
     },
     "execution_count": 20,
     "metadata": {},
     "output_type": "execute_result"
    }
   ],
   "source": [
    "# show difference between single (Series) and double (DataFrame) bracket notation\n",
    "#prod.Color # it is like a single colume ......>> [[]] as it double we'll mean dataframe, if it [] we mean series\n",
    "# not a dataframe\n",
    "# prod[['Color']]   # it'll ... \n",
    "prod[['Color', 'Name', 'ListPrice']]\n",
    "# prod[['Name', 'ListPrice']]\n",
    "# prod.Color.unique() # for distict colors"
   ]
  },
  {
   "cell_type": "code",
   "execution_count": 21,
   "metadata": {
    "colab": {},
    "colab_type": "code",
    "id": "X2ykF4mEUsoH"
   },
   "outputs": [
    {
     "data": {
      "text/plain": [
       "ProductID\n",
       "1            Adjustable Race\n",
       "2               Bearing Ball\n",
       "3            BB Ball Bearing\n",
       "4      Headset Ball Bearings\n",
       "316                    Blade\n",
       "Name: Name, dtype: object"
      ]
     },
     "execution_count": 21,
     "metadata": {},
     "output_type": "execute_result"
    }
   ],
   "source": [
    "# select the Name column, Series object\n",
    "prod.Name.head() # as a series\n"
   ]
  },
  {
   "cell_type": "code",
   "execution_count": 92,
   "metadata": {
    "colab": {},
    "colab_type": "code",
    "id": "AVcvj8YqUsoI"
   },
   "outputs": [
    {
     "data": {
      "text/html": [
       "<div>\n",
       "<style scoped>\n",
       "    .dataframe tbody tr th:only-of-type {\n",
       "        vertical-align: middle;\n",
       "    }\n",
       "\n",
       "    .dataframe tbody tr th {\n",
       "        vertical-align: top;\n",
       "    }\n",
       "\n",
       "    .dataframe thead th {\n",
       "        text-align: right;\n",
       "    }\n",
       "</style>\n",
       "<table border=\"1\" class=\"dataframe\">\n",
       "  <thead>\n",
       "    <tr style=\"text-align: right;\">\n",
       "      <th></th>\n",
       "      <th>Name</th>\n",
       "    </tr>\n",
       "    <tr>\n",
       "      <th>ProductID</th>\n",
       "      <th></th>\n",
       "    </tr>\n",
       "  </thead>\n",
       "  <tbody>\n",
       "    <tr>\n",
       "      <td>1</td>\n",
       "      <td>Adjustable Race</td>\n",
       "    </tr>\n",
       "    <tr>\n",
       "      <td>2</td>\n",
       "      <td>Bearing Ball</td>\n",
       "    </tr>\n",
       "    <tr>\n",
       "      <td>3</td>\n",
       "      <td>BB Ball Bearing</td>\n",
       "    </tr>\n",
       "    <tr>\n",
       "      <td>4</td>\n",
       "      <td>Headset Ball Bearings</td>\n",
       "    </tr>\n",
       "    <tr>\n",
       "      <td>316</td>\n",
       "      <td>Blade</td>\n",
       "    </tr>\n",
       "  </tbody>\n",
       "</table>\n",
       "</div>"
      ],
      "text/plain": [
       "                            Name\n",
       "ProductID                       \n",
       "1                Adjustable Race\n",
       "2                   Bearing Ball\n",
       "3                BB Ball Bearing\n",
       "4          Headset Ball Bearings\n",
       "316                        Blade"
      ]
     },
     "execution_count": 92,
     "metadata": {},
     "output_type": "execute_result"
    }
   ],
   "source": [
    "# select the Name column, DataFrame object\n",
    "prod[['Name']].head() # as a dataframe"
   ]
  },
  {
   "cell_type": "code",
   "execution_count": 22,
   "metadata": {
    "colab": {},
    "colab_type": "code",
    "id": "N3WtT5vqUsoL"
   },
   "outputs": [
    {
     "data": {
      "text/html": [
       "<div>\n",
       "<style scoped>\n",
       "    .dataframe tbody tr th:only-of-type {\n",
       "        vertical-align: middle;\n",
       "    }\n",
       "\n",
       "    .dataframe tbody tr th {\n",
       "        vertical-align: top;\n",
       "    }\n",
       "\n",
       "    .dataframe thead th {\n",
       "        text-align: right;\n",
       "    }\n",
       "</style>\n",
       "<table border=\"1\" class=\"dataframe\">\n",
       "  <thead>\n",
       "    <tr style=\"text-align: right;\">\n",
       "      <th></th>\n",
       "      <th>Name</th>\n",
       "      <th>ListPrice</th>\n",
       "      <th>Color</th>\n",
       "    </tr>\n",
       "    <tr>\n",
       "      <th>ProductID</th>\n",
       "      <th></th>\n",
       "      <th></th>\n",
       "      <th></th>\n",
       "    </tr>\n",
       "  </thead>\n",
       "  <tbody>\n",
       "    <tr>\n",
       "      <td>1</td>\n",
       "      <td>Adjustable Race</td>\n",
       "      <td>0.0</td>\n",
       "      <td>NaN</td>\n",
       "    </tr>\n",
       "    <tr>\n",
       "      <td>2</td>\n",
       "      <td>Bearing Ball</td>\n",
       "      <td>0.0</td>\n",
       "      <td>NaN</td>\n",
       "    </tr>\n",
       "    <tr>\n",
       "      <td>3</td>\n",
       "      <td>BB Ball Bearing</td>\n",
       "      <td>0.0</td>\n",
       "      <td>NaN</td>\n",
       "    </tr>\n",
       "    <tr>\n",
       "      <td>4</td>\n",
       "      <td>Headset Ball Bearings</td>\n",
       "      <td>0.0</td>\n",
       "      <td>NaN</td>\n",
       "    </tr>\n",
       "    <tr>\n",
       "      <td>316</td>\n",
       "      <td>Blade</td>\n",
       "      <td>0.0</td>\n",
       "      <td>NaN</td>\n",
       "    </tr>\n",
       "  </tbody>\n",
       "</table>\n",
       "</div>"
      ],
      "text/plain": [
       "                            Name  ListPrice Color\n",
       "ProductID                                        \n",
       "1                Adjustable Race        0.0   NaN\n",
       "2                   Bearing Ball        0.0   NaN\n",
       "3                BB Ball Bearing        0.0   NaN\n",
       "4          Headset Ball Bearings        0.0   NaN\n",
       "316                        Blade        0.0   NaN"
      ]
     },
     "execution_count": 22,
     "metadata": {},
     "output_type": "execute_result"
    }
   ],
   "source": [
    "# selecting > 1 column (must use double brackets!)\n",
    "# prod[[\"Name\", \"ProducrName\", \"ListPrice\", \"Size\"]].head()\n",
    "prod[['Name', 'ListPrice', 'Color']].head()"
   ]
  },
  {
   "cell_type": "markdown",
   "metadata": {
    "colab_type": "text",
    "id": "nHNSb_QAUsoN"
   },
   "source": [
    "**Class Question:** What if we wanted to select a column that has a space in it? Which method from the above two would we use? Why?"
   ]
  },
  {
   "cell_type": "markdown",
   "metadata": {
    "colab_type": "text",
    "id": "yz8r0zESUsoO"
   },
   "source": [
    "## Renaming Columns\n",
    "\n",
    "Perhaps we want to rename our columns. There are a few options for doing this.\n",
    "\n",
    "Renaming **specific** columns by using a dictionary:"
   ]
  },
  {
   "cell_type": "code",
   "execution_count": 23,
   "metadata": {
    "colab": {},
    "colab_type": "code",
    "id": "I1AITUdcUsoP"
   },
   "outputs": [
    {
     "name": "stdout",
     "output_type": "stream",
     "text": [
      "My Columns Looks Like:\n",
      " Index(['Name', 'ProductNumber', 'MakeFlag', 'FinishedGoodsFlag', 'Color',\n",
      "       'SafetyStockLevel', 'ReorderPoint', 'StandardCost', 'ListPrice', 'Size',\n",
      "       'SizeUnitMeasureCode', 'WeightUnitMeasureCode', 'Weight',\n",
      "       'DaysToManufacture', 'ProductLine', 'Class', 'Style',\n",
      "       'ProductSubcategoryID', 'ProductModelID', 'SellStartDate',\n",
      "       'SellEndDate', 'DiscontinuedDate', 'rowguid', 'ModifiedDate'],\n",
      "      dtype='object')\n"
     ]
    }
   ],
   "source": [
    "# rename one or more columns with a dictionary. Note: inplace=False will return a new dataframe,\n",
    "# but leave the original dataframe untouched. Change this to True to modify the original dataframe.\n",
    "print(\"My Columns Looks Like:\\n\", prod.columns)"
   ]
  },
  {
   "cell_type": "code",
   "execution_count": 24,
   "metadata": {},
   "outputs": [
    {
     "name": "stdout",
     "output_type": "stream",
     "text": [
      "And the typs are:\n",
      " <class 'pandas.core.indexes.base.Index'>\n"
     ]
    }
   ],
   "source": [
    "print(\"And the typs are:\\n\", type(prod.columns))"
   ]
  },
  {
   "cell_type": "markdown",
   "metadata": {
    "colab_type": "text",
    "id": "T-FfGY_sUsoU"
   },
   "source": [
    "Renaming **ALL** columns with a new list of column names.\n",
    "\n",
    "Note that the `pd.DataFrame.columns` property can be cast to a `list` type. Originally, it's a `pd.core.indexes.base.Index` object:"
   ]
  },
  {
   "cell_type": "code",
   "execution_count": 25,
   "metadata": {},
   "outputs": [
    {
     "data": {
      "text/plain": [
       "Index(['Name', 'ProductNumber', 'MakeFlag', 'FinishedGoodsFlag', 'Color',\n",
       "       'SafetyStockLevel', 'ReorderPoint', 'StandardCost', 'ListPrice', 'Size',\n",
       "       'SizeUnitMeasureCode', 'WeightUnitMeasureCode', 'Weight',\n",
       "       'DaysToManufacture', 'ProductLine', 'Class', 'Style',\n",
       "       'ProductSubcategoryID', 'ProductModelID', 'SellStartDate',\n",
       "       'SellEndDate', 'DiscontinuedDate', 'rowguid', 'ModifiedDate'],\n",
       "      dtype='object')"
      ]
     },
     "execution_count": 25,
     "metadata": {},
     "output_type": "execute_result"
    }
   ],
   "source": [
    "prod.columns"
   ]
  },
  {
   "cell_type": "code",
   "execution_count": 26,
   "metadata": {},
   "outputs": [],
   "source": [
    "#to rename\n",
    "prod.rename(columns={'ProductName':'Name','Number':'ProductNumber'},inplace = True)\n",
    "# prod.head()"
   ]
  },
  {
   "cell_type": "code",
   "execution_count": 27,
   "metadata": {},
   "outputs": [
    {
     "data": {
      "text/html": [
       "<div>\n",
       "<style scoped>\n",
       "    .dataframe tbody tr th:only-of-type {\n",
       "        vertical-align: middle;\n",
       "    }\n",
       "\n",
       "    .dataframe tbody tr th {\n",
       "        vertical-align: top;\n",
       "    }\n",
       "\n",
       "    .dataframe thead th {\n",
       "        text-align: right;\n",
       "    }\n",
       "</style>\n",
       "<table border=\"1\" class=\"dataframe\">\n",
       "  <thead>\n",
       "    <tr style=\"text-align: right;\">\n",
       "      <th></th>\n",
       "      <th>Name</th>\n",
       "      <th>ProductNumber</th>\n",
       "      <th>MakeFlag</th>\n",
       "      <th>FinishedGoodsFlag</th>\n",
       "      <th>Color</th>\n",
       "      <th>SafetyStockLevel</th>\n",
       "      <th>ReorderPoint</th>\n",
       "      <th>StandardCost</th>\n",
       "      <th>ListPrice</th>\n",
       "      <th>Size</th>\n",
       "      <th>...</th>\n",
       "      <th>ProductLine</th>\n",
       "      <th>Class</th>\n",
       "      <th>Style</th>\n",
       "      <th>ProductSubcategoryID</th>\n",
       "      <th>ProductModelID</th>\n",
       "      <th>SellStartDate</th>\n",
       "      <th>SellEndDate</th>\n",
       "      <th>DiscontinuedDate</th>\n",
       "      <th>rowguid</th>\n",
       "      <th>ModifiedDate</th>\n",
       "    </tr>\n",
       "    <tr>\n",
       "      <th>ProductID</th>\n",
       "      <th></th>\n",
       "      <th></th>\n",
       "      <th></th>\n",
       "      <th></th>\n",
       "      <th></th>\n",
       "      <th></th>\n",
       "      <th></th>\n",
       "      <th></th>\n",
       "      <th></th>\n",
       "      <th></th>\n",
       "      <th></th>\n",
       "      <th></th>\n",
       "      <th></th>\n",
       "      <th></th>\n",
       "      <th></th>\n",
       "      <th></th>\n",
       "      <th></th>\n",
       "      <th></th>\n",
       "      <th></th>\n",
       "      <th></th>\n",
       "      <th></th>\n",
       "    </tr>\n",
       "  </thead>\n",
       "  <tbody>\n",
       "    <tr>\n",
       "      <td>1</td>\n",
       "      <td>Adjustable Race</td>\n",
       "      <td>AR-5381</td>\n",
       "      <td>0</td>\n",
       "      <td>0</td>\n",
       "      <td>NaN</td>\n",
       "      <td>1000</td>\n",
       "      <td>750</td>\n",
       "      <td>0.0</td>\n",
       "      <td>0.0</td>\n",
       "      <td>NaN</td>\n",
       "      <td>...</td>\n",
       "      <td>NaN</td>\n",
       "      <td>NaN</td>\n",
       "      <td>NaN</td>\n",
       "      <td>NaN</td>\n",
       "      <td>NaN</td>\n",
       "      <td>2008-04-30 00:00:00</td>\n",
       "      <td>NaN</td>\n",
       "      <td>NaN</td>\n",
       "      <td>{694215B7-08F7-4C0D-ACB1-D734BA44C0C8}</td>\n",
       "      <td>2014-02-08 10:01:36.827000000</td>\n",
       "    </tr>\n",
       "    <tr>\n",
       "      <td>2</td>\n",
       "      <td>Bearing Ball</td>\n",
       "      <td>BA-8327</td>\n",
       "      <td>0</td>\n",
       "      <td>0</td>\n",
       "      <td>NaN</td>\n",
       "      <td>1000</td>\n",
       "      <td>750</td>\n",
       "      <td>0.0</td>\n",
       "      <td>0.0</td>\n",
       "      <td>NaN</td>\n",
       "      <td>...</td>\n",
       "      <td>NaN</td>\n",
       "      <td>NaN</td>\n",
       "      <td>NaN</td>\n",
       "      <td>NaN</td>\n",
       "      <td>NaN</td>\n",
       "      <td>2008-04-30 00:00:00</td>\n",
       "      <td>NaN</td>\n",
       "      <td>NaN</td>\n",
       "      <td>{58AE3C20-4F3A-4749-A7D4-D568806CC537}</td>\n",
       "      <td>2014-02-08 10:01:36.827000000</td>\n",
       "    </tr>\n",
       "    <tr>\n",
       "      <td>3</td>\n",
       "      <td>BB Ball Bearing</td>\n",
       "      <td>BE-2349</td>\n",
       "      <td>1</td>\n",
       "      <td>0</td>\n",
       "      <td>NaN</td>\n",
       "      <td>800</td>\n",
       "      <td>600</td>\n",
       "      <td>0.0</td>\n",
       "      <td>0.0</td>\n",
       "      <td>NaN</td>\n",
       "      <td>...</td>\n",
       "      <td>NaN</td>\n",
       "      <td>NaN</td>\n",
       "      <td>NaN</td>\n",
       "      <td>NaN</td>\n",
       "      <td>NaN</td>\n",
       "      <td>2008-04-30 00:00:00</td>\n",
       "      <td>NaN</td>\n",
       "      <td>NaN</td>\n",
       "      <td>{9C21AED2-5BFA-4F18-BCB8-F11638DC2E4E}</td>\n",
       "      <td>2014-02-08 10:01:36.827000000</td>\n",
       "    </tr>\n",
       "    <tr>\n",
       "      <td>4</td>\n",
       "      <td>Headset Ball Bearings</td>\n",
       "      <td>BE-2908</td>\n",
       "      <td>0</td>\n",
       "      <td>0</td>\n",
       "      <td>NaN</td>\n",
       "      <td>800</td>\n",
       "      <td>600</td>\n",
       "      <td>0.0</td>\n",
       "      <td>0.0</td>\n",
       "      <td>NaN</td>\n",
       "      <td>...</td>\n",
       "      <td>NaN</td>\n",
       "      <td>NaN</td>\n",
       "      <td>NaN</td>\n",
       "      <td>NaN</td>\n",
       "      <td>NaN</td>\n",
       "      <td>2008-04-30 00:00:00</td>\n",
       "      <td>NaN</td>\n",
       "      <td>NaN</td>\n",
       "      <td>{ECFED6CB-51FF-49B5-B06C-7D8AC834DB8B}</td>\n",
       "      <td>2014-02-08 10:01:36.827000000</td>\n",
       "    </tr>\n",
       "    <tr>\n",
       "      <td>316</td>\n",
       "      <td>Blade</td>\n",
       "      <td>BL-2036</td>\n",
       "      <td>1</td>\n",
       "      <td>0</td>\n",
       "      <td>NaN</td>\n",
       "      <td>800</td>\n",
       "      <td>600</td>\n",
       "      <td>0.0</td>\n",
       "      <td>0.0</td>\n",
       "      <td>NaN</td>\n",
       "      <td>...</td>\n",
       "      <td>NaN</td>\n",
       "      <td>NaN</td>\n",
       "      <td>NaN</td>\n",
       "      <td>NaN</td>\n",
       "      <td>NaN</td>\n",
       "      <td>2008-04-30 00:00:00</td>\n",
       "      <td>NaN</td>\n",
       "      <td>NaN</td>\n",
       "      <td>{E73E9750-603B-4131-89F5-3DD15ED5FF80}</td>\n",
       "      <td>2014-02-08 10:01:36.827000000</td>\n",
       "    </tr>\n",
       "  </tbody>\n",
       "</table>\n",
       "<p>5 rows × 24 columns</p>\n",
       "</div>"
      ],
      "text/plain": [
       "                            Name ProductNumber  MakeFlag  FinishedGoodsFlag  \\\n",
       "ProductID                                                                     \n",
       "1                Adjustable Race       AR-5381         0                  0   \n",
       "2                   Bearing Ball       BA-8327         0                  0   \n",
       "3                BB Ball Bearing       BE-2349         1                  0   \n",
       "4          Headset Ball Bearings       BE-2908         0                  0   \n",
       "316                        Blade       BL-2036         1                  0   \n",
       "\n",
       "          Color  SafetyStockLevel  ReorderPoint  StandardCost  ListPrice Size  \\\n",
       "ProductID                                                                       \n",
       "1           NaN              1000           750           0.0        0.0  NaN   \n",
       "2           NaN              1000           750           0.0        0.0  NaN   \n",
       "3           NaN               800           600           0.0        0.0  NaN   \n",
       "4           NaN               800           600           0.0        0.0  NaN   \n",
       "316         NaN               800           600           0.0        0.0  NaN   \n",
       "\n",
       "           ... ProductLine Class  Style  ProductSubcategoryID ProductModelID  \\\n",
       "ProductID  ...                                                                 \n",
       "1          ...         NaN   NaN    NaN                   NaN            NaN   \n",
       "2          ...         NaN   NaN    NaN                   NaN            NaN   \n",
       "3          ...         NaN   NaN    NaN                   NaN            NaN   \n",
       "4          ...         NaN   NaN    NaN                   NaN            NaN   \n",
       "316        ...         NaN   NaN    NaN                   NaN            NaN   \n",
       "\n",
       "                 SellStartDate SellEndDate  DiscontinuedDate  \\\n",
       "ProductID                                                      \n",
       "1          2008-04-30 00:00:00         NaN               NaN   \n",
       "2          2008-04-30 00:00:00         NaN               NaN   \n",
       "3          2008-04-30 00:00:00         NaN               NaN   \n",
       "4          2008-04-30 00:00:00         NaN               NaN   \n",
       "316        2008-04-30 00:00:00         NaN               NaN   \n",
       "\n",
       "                                          rowguid  \\\n",
       "ProductID                                           \n",
       "1          {694215B7-08F7-4C0D-ACB1-D734BA44C0C8}   \n",
       "2          {58AE3C20-4F3A-4749-A7D4-D568806CC537}   \n",
       "3          {9C21AED2-5BFA-4F18-BCB8-F11638DC2E4E}   \n",
       "4          {ECFED6CB-51FF-49B5-B06C-7D8AC834DB8B}   \n",
       "316        {E73E9750-603B-4131-89F5-3DD15ED5FF80}   \n",
       "\n",
       "                            ModifiedDate  \n",
       "ProductID                                 \n",
       "1          2014-02-08 10:01:36.827000000  \n",
       "2          2014-02-08 10:01:36.827000000  \n",
       "3          2014-02-08 10:01:36.827000000  \n",
       "4          2014-02-08 10:01:36.827000000  \n",
       "316        2014-02-08 10:01:36.827000000  \n",
       "\n",
       "[5 rows x 24 columns]"
      ]
     },
     "execution_count": 27,
     "metadata": {},
     "output_type": "execute_result"
    }
   ],
   "source": [
    "prod.head()"
   ]
  },
  {
   "cell_type": "code",
   "execution_count": 0,
   "metadata": {
    "colab": {},
    "colab_type": "code",
    "id": "4SMFBfDRUsoV"
   },
   "outputs": [],
   "source": [
    "# show values and type of columns"
   ]
  },
  {
   "cell_type": "markdown",
   "metadata": {
    "colab_type": "text",
    "id": "bfLvOuw8UsoX"
   },
   "source": [
    "We can explicitly cast these to a list object as such, by using the built-in `list()` function:"
   ]
  },
  {
   "cell_type": "code",
   "execution_count": 0,
   "metadata": {
    "colab": {},
    "colab_type": "code",
    "id": "4VznCq9VUsob"
   },
   "outputs": [],
   "source": [
    "# cast above to list object"
   ]
  },
  {
   "cell_type": "markdown",
   "metadata": {
    "colab_type": "text",
    "id": "sKAdNhpMUsod"
   },
   "source": [
    "We can place these columns into a variable, `cols`:"
   ]
  },
  {
   "cell_type": "code",
   "execution_count": 0,
   "metadata": {
    "colab": {},
    "colab_type": "code",
    "id": "bQEKR_okUsog"
   },
   "outputs": [],
   "source": [
    "# declare a list of strings - these strings will become the new column names"
   ]
  },
  {
   "cell_type": "markdown",
   "metadata": {
    "colab_type": "text",
    "id": "anskoHanUsoj"
   },
   "source": [
    "We can use list indexing to mutate the columns we want:"
   ]
  },
  {
   "cell_type": "code",
   "execution_count": 0,
   "metadata": {
    "colab": {},
    "colab_type": "code",
    "id": "dO4h_V2wUsoj"
   },
   "outputs": [],
   "source": [
    "# mutate list"
   ]
  },
  {
   "cell_type": "markdown",
   "metadata": {
    "colab_type": "text",
    "id": "Iml_FvqtUsom"
   },
   "source": [
    "Finally, we can set the `pd.DataFrame.columns` property (this is a settable class property), to the new `cols` list, overwriting the existing columns header names:"
   ]
  },
  {
   "cell_type": "code",
   "execution_count": 0,
   "metadata": {
    "colab": {},
    "colab_type": "code",
    "id": "-vqKdlXvUson"
   },
   "outputs": [],
   "source": [
    "# Note that our first column name has changed from 'Name' to 'NewName'"
   ]
  },
  {
   "cell_type": "code",
   "execution_count": 0,
   "metadata": {
    "colab": {},
    "colab_type": "code",
    "id": "mHletj77Usoo"
   },
   "outputs": [],
   "source": [
    "# display mutated column header"
   ]
  },
  {
   "cell_type": "markdown",
   "metadata": {
    "colab_type": "text",
    "id": "7c-MGjRBUsot"
   },
   "source": [
    "## Common Column Operations\n",
    "\n",
    "While this is non-comprehensive, these are a few key column-specific data checks.\n"
   ]
  },
  {
   "cell_type": "markdown",
   "metadata": {
    "colab_type": "text",
    "id": "Yo0jqkwhUsou"
   },
   "source": [
    "**Descriptive statistics:**  the minimum, first quartile, median, third quartile, and maximum.\n",
    "\n",
    "(And more! The mean too.)"
   ]
  },
  {
   "cell_type": "markdown",
   "metadata": {
    "colab_type": "text",
    "id": "meklIPmBUsov"
   },
   "source": [
    "Five Number Summary (all assumes numeric data):\n",
    "- **Min:** The smallest value in the column\n",
    "- **Max:** The largest value in the column\n",
    "- **Quartile:** A quartile is one fourth of our data\n",
    "    - **First quartile:** This is the bottom most 25 percent\n",
    "    - **Median:** The middle value. (Line all values biggest to smallest - median is the middle!) Also the 50th percentile\n",
    "    - **Third quartile:** This the the top 75 percentile of our data\n"
   ]
  },
  {
   "cell_type": "markdown",
   "metadata": {
    "colab_type": "text",
    "id": "a9oGYDChUsov"
   },
   "source": [
    "![](https://www.mathsisfun.com/data/images/quartiles-a.svg)"
   ]
  },
  {
   "cell_type": "code",
   "execution_count": 134,
   "metadata": {
    "colab": {},
    "colab_type": "code",
    "id": "beTWWeaEUsow"
   },
   "outputs": [
    {
     "data": {
      "text/plain": [
       "count     504.000000\n",
       "mean      438.666250\n",
       "std       773.602843\n",
       "min         0.000000\n",
       "25%         0.000000\n",
       "50%        49.990000\n",
       "75%       564.990000\n",
       "max      3578.270000\n",
       "Name: ListPrice, dtype: float64"
      ]
     },
     "execution_count": 134,
     "metadata": {},
     "output_type": "execute_result"
    }
   ],
   "source": [
    "# note - describe *default* only checks numeric datatypes\n",
    "prod['ListPrice'].describe()"
   ]
  },
  {
   "cell_type": "code",
   "execution_count": 29,
   "metadata": {},
   "outputs": [
    {
     "data": {
      "text/html": [
       "<div>\n",
       "<style scoped>\n",
       "    .dataframe tbody tr th:only-of-type {\n",
       "        vertical-align: middle;\n",
       "    }\n",
       "\n",
       "    .dataframe tbody tr th {\n",
       "        vertical-align: top;\n",
       "    }\n",
       "\n",
       "    .dataframe thead th {\n",
       "        text-align: right;\n",
       "    }\n",
       "</style>\n",
       "<table border=\"1\" class=\"dataframe\">\n",
       "  <thead>\n",
       "    <tr style=\"text-align: right;\">\n",
       "      <th></th>\n",
       "      <th>ListPrice</th>\n",
       "      <th>StandardCost</th>\n",
       "      <th>SafetyStockLevel</th>\n",
       "    </tr>\n",
       "  </thead>\n",
       "  <tbody>\n",
       "    <tr>\n",
       "      <td>count</td>\n",
       "      <td>504.000000</td>\n",
       "      <td>504.000000</td>\n",
       "      <td>504.000000</td>\n",
       "    </tr>\n",
       "    <tr>\n",
       "      <td>mean</td>\n",
       "      <td>438.666250</td>\n",
       "      <td>258.602961</td>\n",
       "      <td>535.150794</td>\n",
       "    </tr>\n",
       "    <tr>\n",
       "      <td>std</td>\n",
       "      <td>773.602843</td>\n",
       "      <td>461.632808</td>\n",
       "      <td>374.112954</td>\n",
       "    </tr>\n",
       "    <tr>\n",
       "      <td>min</td>\n",
       "      <td>0.000000</td>\n",
       "      <td>0.000000</td>\n",
       "      <td>4.000000</td>\n",
       "    </tr>\n",
       "    <tr>\n",
       "      <td>25%</td>\n",
       "      <td>0.000000</td>\n",
       "      <td>0.000000</td>\n",
       "      <td>100.000000</td>\n",
       "    </tr>\n",
       "    <tr>\n",
       "      <td>50%</td>\n",
       "      <td>49.990000</td>\n",
       "      <td>23.372200</td>\n",
       "      <td>500.000000</td>\n",
       "    </tr>\n",
       "    <tr>\n",
       "      <td>75%</td>\n",
       "      <td>564.990000</td>\n",
       "      <td>317.075825</td>\n",
       "      <td>1000.000000</td>\n",
       "    </tr>\n",
       "    <tr>\n",
       "      <td>max</td>\n",
       "      <td>3578.270000</td>\n",
       "      <td>2171.294200</td>\n",
       "      <td>1000.000000</td>\n",
       "    </tr>\n",
       "  </tbody>\n",
       "</table>\n",
       "</div>"
      ],
      "text/plain": [
       "         ListPrice  StandardCost  SafetyStockLevel\n",
       "count   504.000000    504.000000        504.000000\n",
       "mean    438.666250    258.602961        535.150794\n",
       "std     773.602843    461.632808        374.112954\n",
       "min       0.000000      0.000000          4.000000\n",
       "25%       0.000000      0.000000        100.000000\n",
       "50%      49.990000     23.372200        500.000000\n",
       "75%     564.990000    317.075825       1000.000000\n",
       "max    3578.270000   2171.294200       1000.000000"
      ]
     },
     "execution_count": 29,
     "metadata": {},
     "output_type": "execute_result"
    }
   ],
   "source": [
    "prod[['ListPrice', 'StandardCost', 'SafetyStockLevel']].describe()"
   ]
  },
  {
   "cell_type": "code",
   "execution_count": 30,
   "metadata": {},
   "outputs": [
    {
     "data": {
      "text/plain": [
       "NaN             248\n",
       "Black            93\n",
       "Silver           43\n",
       "Red              38\n",
       "Yellow           36\n",
       "Blue             26\n",
       "Multi             8\n",
       "Silver/Black      7\n",
       "White             4\n",
       "Grey              1\n",
       "Name: Color, dtype: int64"
      ]
     },
     "execution_count": 30,
     "metadata": {},
     "output_type": "execute_result"
    }
   ],
   "source": [
    "prod['Color'].value_counts(dropna=False) #included NaN"
   ]
  },
  {
   "cell_type": "markdown",
   "metadata": {
    "colab_type": "text",
    "id": "vYeHvpuqUso4"
   },
   "source": [
    "**Value Counts:** `pd.Series.value_counts()` count the occurrence of each value within our series."
   ]
  },
  {
   "cell_type": "code",
   "execution_count": 31,
   "metadata": {
    "colab": {},
    "colab_type": "code",
    "id": "EkZzxL0nUso4"
   },
   "outputs": [
    {
     "data": {
      "text/plain": [
       "NaN             248\n",
       "Black            93\n",
       "Silver           43\n",
       "Red              38\n",
       "Yellow           36\n",
       "Blue             26\n",
       "Multi             8\n",
       "Silver/Black      7\n",
       "White             4\n",
       "Grey              1\n",
       "Name: Color, dtype: int64"
      ]
     },
     "execution_count": 31,
     "metadata": {},
     "output_type": "execute_result"
    }
   ],
   "source": [
    "# show the most popular product colors (aggregated by count, descending by default)\n",
    "prod['Color'].value_counts(dropna=False) #included NaN"
   ]
  },
  {
   "cell_type": "markdown",
   "metadata": {
    "colab_type": "text",
    "id": "-R0x3urfUso9"
   },
   "source": [
    "**Unique values:** Determine the number of distinct values within a given series."
   ]
  },
  {
   "cell_type": "code",
   "execution_count": 32,
   "metadata": {
    "colab": {},
    "colab_type": "code",
    "id": "Vt1XlfLZUspC"
   },
   "outputs": [
    {
     "data": {
      "text/plain": [
       "array([nan, 'Black', 'Silver', 'Red', 'White', 'Blue', 'Multi', 'Yellow',\n",
       "       'Grey', 'Silver/Black'], dtype=object)"
      ]
     },
     "execution_count": 32,
     "metadata": {},
     "output_type": "execute_result"
    }
   ],
   "source": [
    "# What are the unique colors for the products?\n",
    "prod[\"Color\"].unique()"
   ]
  },
  {
   "cell_type": "code",
   "execution_count": 127,
   "metadata": {},
   "outputs": [
    {
     "data": {
      "text/plain": [
       "[nan,\n",
       " 'Black',\n",
       " 'Silver',\n",
       " 'Red',\n",
       " 'White',\n",
       " 'Blue',\n",
       " 'Multi',\n",
       " 'Yellow',\n",
       " 'Grey',\n",
       " 'Silver/Black']"
      ]
     },
     "execution_count": 127,
     "metadata": {},
     "output_type": "execute_result"
    }
   ],
   "source": [
    "#To convert into a list structure\n",
    "color_list = list(prod[\"Color\"].unique())\n",
    "color_list"
   ]
  },
  {
   "cell_type": "code",
   "execution_count": 33,
   "metadata": {
    "colab": {},
    "colab_type": "code",
    "id": "ZY6CHFo0UspE"
   },
   "outputs": [
    {
     "data": {
      "text/plain": [
       "9"
      ]
     },
     "execution_count": 33,
     "metadata": {},
     "output_type": "execute_result"
    }
   ],
   "source": [
    "# HOW MANY distinct colors are there?\n",
    "prod[\"Color\"].nunique() #it skipping null "
   ]
  },
  {
   "cell_type": "code",
   "execution_count": 34,
   "metadata": {},
   "outputs": [
    {
     "data": {
      "text/plain": [
       "10"
      ]
     },
     "execution_count": 34,
     "metadata": {},
     "output_type": "execute_result"
    }
   ],
   "source": [
    "#this will include null\n",
    "prod[\"Color\"].nunique(dropna=False) "
   ]
  },
  {
   "cell_type": "markdown",
   "metadata": {
    "colab_type": "text",
    "id": "bCYws_ttUspG"
   },
   "source": [
    "## Filtering\n",
    "\n",
    "Filtering and sorting are key processes that allow us to drill into the 'nitty gritty' and cross sections of our dataset.\n",
    "\n",
    "To filter, we use a process called **Boolean Filtering**, wherein we define a Boolean condition, and use that Boolean condition to filer on our DataFrame."
   ]
  },
  {
   "cell_type": "markdown",
   "metadata": {
    "colab_type": "text",
    "id": "RWADKGcWUspH"
   },
   "source": [
    "Recall: our given dataset has a column `Color`. Let's see if we can find all products that are `Black`. Let's take a look at the first 10 rows of the dataframe to see how it looks as-is:"
   ]
  },
  {
   "cell_type": "code",
   "execution_count": 37,
   "metadata": {
    "colab": {},
    "colab_type": "code",
    "id": "LalEpXQ_UspI"
   },
   "outputs": [
    {
     "data": {
      "text/plain": [
       "ProductID\n",
       "1         NaN\n",
       "2         NaN\n",
       "3         NaN\n",
       "4         NaN\n",
       "316       NaN\n",
       "317     Black\n",
       "318     Black\n",
       "319     Black\n",
       "320    Silver\n",
       "321    Silver\n",
       "Name: Color, dtype: object"
      ]
     },
     "execution_count": 37,
     "metadata": {},
     "output_type": "execute_result"
    }
   ],
   "source": [
    "# show Color column as it sits\n",
    "prod['Color'].head(10)\n"
   ]
  },
  {
   "cell_type": "code",
   "execution_count": 44,
   "metadata": {},
   "outputs": [
    {
     "data": {
      "text/plain": [
       "ProductID\n",
       "1      False\n",
       "2      False\n",
       "3      False\n",
       "4      False\n",
       "316    False\n",
       "317     True\n",
       "318     True\n",
       "319     True\n",
       "320    False\n",
       "321    False\n",
       "Name: Color, dtype: bool"
      ]
     },
     "execution_count": 44,
     "metadata": {},
     "output_type": "execute_result"
    }
   ],
   "source": [
    "prod['Color'].head(10)== 'Black'"
   ]
  },
  {
   "cell_type": "markdown",
   "metadata": {
    "colab_type": "text",
    "id": "rYFP5cjOUspK"
   },
   "source": [
    "By applying a `boolean mask` to this dataframe, `== 'Black'`, we can get the following:"
   ]
  },
  {
   "cell_type": "code",
   "execution_count": 43,
   "metadata": {},
   "outputs": [
    {
     "data": {
      "text/html": [
       "<div>\n",
       "<style scoped>\n",
       "    .dataframe tbody tr th:only-of-type {\n",
       "        vertical-align: middle;\n",
       "    }\n",
       "\n",
       "    .dataframe tbody tr th {\n",
       "        vertical-align: top;\n",
       "    }\n",
       "\n",
       "    .dataframe thead th {\n",
       "        text-align: right;\n",
       "    }\n",
       "</style>\n",
       "<table border=\"1\" class=\"dataframe\">\n",
       "  <thead>\n",
       "    <tr style=\"text-align: right;\">\n",
       "      <th></th>\n",
       "      <th>Name</th>\n",
       "      <th>ProductNumber</th>\n",
       "      <th>MakeFlag</th>\n",
       "      <th>FinishedGoodsFlag</th>\n",
       "      <th>Color</th>\n",
       "      <th>SafetyStockLevel</th>\n",
       "      <th>ReorderPoint</th>\n",
       "      <th>StandardCost</th>\n",
       "      <th>ListPrice</th>\n",
       "      <th>Size</th>\n",
       "      <th>...</th>\n",
       "      <th>ProductLine</th>\n",
       "      <th>Class</th>\n",
       "      <th>Style</th>\n",
       "      <th>ProductSubcategoryID</th>\n",
       "      <th>ProductModelID</th>\n",
       "      <th>SellStartDate</th>\n",
       "      <th>SellEndDate</th>\n",
       "      <th>DiscontinuedDate</th>\n",
       "      <th>rowguid</th>\n",
       "      <th>ModifiedDate</th>\n",
       "    </tr>\n",
       "    <tr>\n",
       "      <th>ProductID</th>\n",
       "      <th></th>\n",
       "      <th></th>\n",
       "      <th></th>\n",
       "      <th></th>\n",
       "      <th></th>\n",
       "      <th></th>\n",
       "      <th></th>\n",
       "      <th></th>\n",
       "      <th></th>\n",
       "      <th></th>\n",
       "      <th></th>\n",
       "      <th></th>\n",
       "      <th></th>\n",
       "      <th></th>\n",
       "      <th></th>\n",
       "      <th></th>\n",
       "      <th></th>\n",
       "      <th></th>\n",
       "      <th></th>\n",
       "      <th></th>\n",
       "      <th></th>\n",
       "    </tr>\n",
       "  </thead>\n",
       "  <tbody>\n",
       "    <tr>\n",
       "      <td>317</td>\n",
       "      <td>LL Crankarm</td>\n",
       "      <td>CA-5965</td>\n",
       "      <td>0</td>\n",
       "      <td>0</td>\n",
       "      <td>Black</td>\n",
       "      <td>500</td>\n",
       "      <td>375</td>\n",
       "      <td>0.00</td>\n",
       "      <td>0.0</td>\n",
       "      <td>NaN</td>\n",
       "      <td>...</td>\n",
       "      <td>NaN</td>\n",
       "      <td>L</td>\n",
       "      <td>NaN</td>\n",
       "      <td>NaN</td>\n",
       "      <td>NaN</td>\n",
       "      <td>2008-04-30 00:00:00</td>\n",
       "      <td>NaN</td>\n",
       "      <td>NaN</td>\n",
       "      <td>{3C9D10B7-A6B2-4774-9963-C19DCEE72FEA}</td>\n",
       "      <td>2014-02-08 10:01:36.827000000</td>\n",
       "    </tr>\n",
       "    <tr>\n",
       "      <td>318</td>\n",
       "      <td>ML Crankarm</td>\n",
       "      <td>CA-6738</td>\n",
       "      <td>0</td>\n",
       "      <td>0</td>\n",
       "      <td>Black</td>\n",
       "      <td>500</td>\n",
       "      <td>375</td>\n",
       "      <td>0.00</td>\n",
       "      <td>0.0</td>\n",
       "      <td>NaN</td>\n",
       "      <td>...</td>\n",
       "      <td>NaN</td>\n",
       "      <td>M</td>\n",
       "      <td>NaN</td>\n",
       "      <td>NaN</td>\n",
       "      <td>NaN</td>\n",
       "      <td>2008-04-30 00:00:00</td>\n",
       "      <td>NaN</td>\n",
       "      <td>NaN</td>\n",
       "      <td>{EABB9A92-FA07-4EAB-8955-F0517B4A4CA7}</td>\n",
       "      <td>2014-02-08 10:01:36.827000000</td>\n",
       "    </tr>\n",
       "    <tr>\n",
       "      <td>319</td>\n",
       "      <td>HL Crankarm</td>\n",
       "      <td>CA-7457</td>\n",
       "      <td>0</td>\n",
       "      <td>0</td>\n",
       "      <td>Black</td>\n",
       "      <td>500</td>\n",
       "      <td>375</td>\n",
       "      <td>0.00</td>\n",
       "      <td>0.0</td>\n",
       "      <td>NaN</td>\n",
       "      <td>...</td>\n",
       "      <td>NaN</td>\n",
       "      <td>NaN</td>\n",
       "      <td>NaN</td>\n",
       "      <td>NaN</td>\n",
       "      <td>NaN</td>\n",
       "      <td>2008-04-30 00:00:00</td>\n",
       "      <td>NaN</td>\n",
       "      <td>NaN</td>\n",
       "      <td>{7D3FD384-4F29-484B-86FA-4206E276FE58}</td>\n",
       "      <td>2014-02-08 10:01:36.827000000</td>\n",
       "    </tr>\n",
       "    <tr>\n",
       "      <td>322</td>\n",
       "      <td>Chainring</td>\n",
       "      <td>CR-7833</td>\n",
       "      <td>0</td>\n",
       "      <td>0</td>\n",
       "      <td>Black</td>\n",
       "      <td>1000</td>\n",
       "      <td>750</td>\n",
       "      <td>0.00</td>\n",
       "      <td>0.0</td>\n",
       "      <td>NaN</td>\n",
       "      <td>...</td>\n",
       "      <td>NaN</td>\n",
       "      <td>NaN</td>\n",
       "      <td>NaN</td>\n",
       "      <td>NaN</td>\n",
       "      <td>NaN</td>\n",
       "      <td>2008-04-30 00:00:00</td>\n",
       "      <td>NaN</td>\n",
       "      <td>NaN</td>\n",
       "      <td>{F0AC2C4D-1A1F-4E3C-B4D9-68AEA0EC1CE4}</td>\n",
       "      <td>2014-02-08 10:01:36.827000000</td>\n",
       "    </tr>\n",
       "    <tr>\n",
       "      <td>680</td>\n",
       "      <td>HL Road Frame - Black, 58</td>\n",
       "      <td>FR-R92B-58</td>\n",
       "      <td>1</td>\n",
       "      <td>1</td>\n",
       "      <td>Black</td>\n",
       "      <td>500</td>\n",
       "      <td>375</td>\n",
       "      <td>1059.31</td>\n",
       "      <td>1431.5</td>\n",
       "      <td>58</td>\n",
       "      <td>...</td>\n",
       "      <td>R</td>\n",
       "      <td>H</td>\n",
       "      <td>U</td>\n",
       "      <td>14.0</td>\n",
       "      <td>6.0</td>\n",
       "      <td>2008-04-30 00:00:00</td>\n",
       "      <td>NaN</td>\n",
       "      <td>NaN</td>\n",
       "      <td>{43DD68D6-14A4-461F-9069-55309D90EA7E}</td>\n",
       "      <td>2014-02-08 10:01:36.827000000</td>\n",
       "    </tr>\n",
       "  </tbody>\n",
       "</table>\n",
       "<p>5 rows × 24 columns</p>\n",
       "</div>"
      ],
      "text/plain": [
       "                                Name ProductNumber  MakeFlag  \\\n",
       "ProductID                                                      \n",
       "317                      LL Crankarm       CA-5965         0   \n",
       "318                      ML Crankarm       CA-6738         0   \n",
       "319                      HL Crankarm       CA-7457         0   \n",
       "322                        Chainring       CR-7833         0   \n",
       "680        HL Road Frame - Black, 58    FR-R92B-58         1   \n",
       "\n",
       "           FinishedGoodsFlag  Color  SafetyStockLevel  ReorderPoint  \\\n",
       "ProductID                                                             \n",
       "317                        0  Black               500           375   \n",
       "318                        0  Black               500           375   \n",
       "319                        0  Black               500           375   \n",
       "322                        0  Black              1000           750   \n",
       "680                        1  Black               500           375   \n",
       "\n",
       "           StandardCost  ListPrice Size  ... ProductLine Class  Style  \\\n",
       "ProductID                                ...                            \n",
       "317                0.00        0.0  NaN  ...         NaN    L     NaN   \n",
       "318                0.00        0.0  NaN  ...         NaN    M     NaN   \n",
       "319                0.00        0.0  NaN  ...         NaN   NaN    NaN   \n",
       "322                0.00        0.0  NaN  ...         NaN   NaN    NaN   \n",
       "680             1059.31     1431.5   58  ...          R     H      U    \n",
       "\n",
       "           ProductSubcategoryID ProductModelID        SellStartDate  \\\n",
       "ProductID                                                             \n",
       "317                         NaN            NaN  2008-04-30 00:00:00   \n",
       "318                         NaN            NaN  2008-04-30 00:00:00   \n",
       "319                         NaN            NaN  2008-04-30 00:00:00   \n",
       "322                         NaN            NaN  2008-04-30 00:00:00   \n",
       "680                        14.0            6.0  2008-04-30 00:00:00   \n",
       "\n",
       "          SellEndDate  DiscontinuedDate  \\\n",
       "ProductID                                 \n",
       "317               NaN               NaN   \n",
       "318               NaN               NaN   \n",
       "319               NaN               NaN   \n",
       "322               NaN               NaN   \n",
       "680               NaN               NaN   \n",
       "\n",
       "                                          rowguid  \\\n",
       "ProductID                                           \n",
       "317        {3C9D10B7-A6B2-4774-9963-C19DCEE72FEA}   \n",
       "318        {EABB9A92-FA07-4EAB-8955-F0517B4A4CA7}   \n",
       "319        {7D3FD384-4F29-484B-86FA-4206E276FE58}   \n",
       "322        {F0AC2C4D-1A1F-4E3C-B4D9-68AEA0EC1CE4}   \n",
       "680        {43DD68D6-14A4-461F-9069-55309D90EA7E}   \n",
       "\n",
       "                            ModifiedDate  \n",
       "ProductID                                 \n",
       "317        2014-02-08 10:01:36.827000000  \n",
       "318        2014-02-08 10:01:36.827000000  \n",
       "319        2014-02-08 10:01:36.827000000  \n",
       "322        2014-02-08 10:01:36.827000000  \n",
       "680        2014-02-08 10:01:36.827000000  \n",
       "\n",
       "[5 rows x 24 columns]"
      ]
     },
     "execution_count": 43,
     "metadata": {},
     "output_type": "execute_result"
    }
   ],
   "source": [
    "#to show all black\n",
    "prod[prod['Color']== 'Black'].head()"
   ]
  },
  {
   "cell_type": "code",
   "execution_count": 0,
   "metadata": {
    "colab": {},
    "colab_type": "code",
    "id": "PWT4cXRAUspL"
   },
   "outputs": [],
   "source": [
    "# demonstrate boolean mask"
   ]
  },
  {
   "cell_type": "markdown",
   "metadata": {
    "colab_type": "text",
    "id": "PLy8b0MyUspQ"
   },
   "source": [
    "Now we can use that 'mask' from above, and apply it to our full dataframe. Every time we have a `True` in a row, we return the row. If we have a `False` in that row, we do not return it. The result is a dataframe that only has rows where `Color` is `Black`:"
   ]
  },
  {
   "cell_type": "code",
   "execution_count": 0,
   "metadata": {
    "colab": {},
    "colab_type": "code",
    "id": "6ox-0ULXUspR"
   },
   "outputs": [],
   "source": []
  },
  {
   "cell_type": "markdown",
   "metadata": {
    "colab_type": "text",
    "id": "UQoScZcSUspT"
   },
   "source": [
    "Let's calculate the **average ListPrice** for the **salable products**."
   ]
  },
  {
   "cell_type": "markdown",
   "metadata": {
    "colab_type": "text",
    "id": "wbkTwya0UspU"
   },
   "source": [
    "> Think: What are the component parts of this problem?"
   ]
  },
  {
   "cell_type": "code",
   "execution_count": 0,
   "metadata": {
    "colab": {},
    "colab_type": "code",
    "id": "K_jaFgb9UspU"
   },
   "outputs": [],
   "source": [
    "# First, we need to get salable items. Use your data dictionary from the beginning of this lesson.\n",
    "#columns could be FInishieGoodFlag and compare to "
   ]
  },
  {
   "cell_type": "code",
   "execution_count": 58,
   "metadata": {},
   "outputs": [
    {
     "data": {
      "text/html": [
       "<div>\n",
       "<style scoped>\n",
       "    .dataframe tbody tr th:only-of-type {\n",
       "        vertical-align: middle;\n",
       "    }\n",
       "\n",
       "    .dataframe tbody tr th {\n",
       "        vertical-align: top;\n",
       "    }\n",
       "\n",
       "    .dataframe thead th {\n",
       "        text-align: right;\n",
       "    }\n",
       "</style>\n",
       "<table border=\"1\" class=\"dataframe\">\n",
       "  <thead>\n",
       "    <tr style=\"text-align: right;\">\n",
       "      <th></th>\n",
       "      <th>Name</th>\n",
       "      <th>ProductNumber</th>\n",
       "      <th>MakeFlag</th>\n",
       "      <th>FinishedGoodsFlag</th>\n",
       "      <th>Color</th>\n",
       "      <th>SafetyStockLevel</th>\n",
       "      <th>ReorderPoint</th>\n",
       "      <th>StandardCost</th>\n",
       "      <th>ListPrice</th>\n",
       "      <th>Size</th>\n",
       "      <th>...</th>\n",
       "      <th>ProductLine</th>\n",
       "      <th>Class</th>\n",
       "      <th>Style</th>\n",
       "      <th>ProductSubcategoryID</th>\n",
       "      <th>ProductModelID</th>\n",
       "      <th>SellStartDate</th>\n",
       "      <th>SellEndDate</th>\n",
       "      <th>DiscontinuedDate</th>\n",
       "      <th>rowguid</th>\n",
       "      <th>ModifiedDate</th>\n",
       "    </tr>\n",
       "    <tr>\n",
       "      <th>ProductID</th>\n",
       "      <th></th>\n",
       "      <th></th>\n",
       "      <th></th>\n",
       "      <th></th>\n",
       "      <th></th>\n",
       "      <th></th>\n",
       "      <th></th>\n",
       "      <th></th>\n",
       "      <th></th>\n",
       "      <th></th>\n",
       "      <th></th>\n",
       "      <th></th>\n",
       "      <th></th>\n",
       "      <th></th>\n",
       "      <th></th>\n",
       "      <th></th>\n",
       "      <th></th>\n",
       "      <th></th>\n",
       "      <th></th>\n",
       "      <th></th>\n",
       "      <th></th>\n",
       "    </tr>\n",
       "  </thead>\n",
       "  <tbody>\n",
       "    <tr>\n",
       "      <td>680</td>\n",
       "      <td>HL Road Frame - Black, 58</td>\n",
       "      <td>FR-R92B-58</td>\n",
       "      <td>1</td>\n",
       "      <td>1</td>\n",
       "      <td>Black</td>\n",
       "      <td>500</td>\n",
       "      <td>375</td>\n",
       "      <td>1059.3100</td>\n",
       "      <td>1431.50</td>\n",
       "      <td>58</td>\n",
       "      <td>...</td>\n",
       "      <td>R</td>\n",
       "      <td>H</td>\n",
       "      <td>U</td>\n",
       "      <td>14.0</td>\n",
       "      <td>6.0</td>\n",
       "      <td>2008-04-30 00:00:00</td>\n",
       "      <td>NaN</td>\n",
       "      <td>NaN</td>\n",
       "      <td>{43DD68D6-14A4-461F-9069-55309D90EA7E}</td>\n",
       "      <td>2014-02-08 10:01:36.827000000</td>\n",
       "    </tr>\n",
       "    <tr>\n",
       "      <td>706</td>\n",
       "      <td>HL Road Frame - Red, 58</td>\n",
       "      <td>FR-R92R-58</td>\n",
       "      <td>1</td>\n",
       "      <td>1</td>\n",
       "      <td>Red</td>\n",
       "      <td>500</td>\n",
       "      <td>375</td>\n",
       "      <td>1059.3100</td>\n",
       "      <td>1431.50</td>\n",
       "      <td>58</td>\n",
       "      <td>...</td>\n",
       "      <td>R</td>\n",
       "      <td>H</td>\n",
       "      <td>U</td>\n",
       "      <td>14.0</td>\n",
       "      <td>6.0</td>\n",
       "      <td>2008-04-30 00:00:00</td>\n",
       "      <td>NaN</td>\n",
       "      <td>NaN</td>\n",
       "      <td>{9540FF17-2712-4C90-A3D1-8CE5568B2462}</td>\n",
       "      <td>2014-02-08 10:01:36.827000000</td>\n",
       "    </tr>\n",
       "    <tr>\n",
       "      <td>707</td>\n",
       "      <td>Sport-100 Helmet, Red</td>\n",
       "      <td>HL-U509-R</td>\n",
       "      <td>0</td>\n",
       "      <td>1</td>\n",
       "      <td>Red</td>\n",
       "      <td>4</td>\n",
       "      <td>3</td>\n",
       "      <td>13.0863</td>\n",
       "      <td>34.99</td>\n",
       "      <td>NaN</td>\n",
       "      <td>...</td>\n",
       "      <td>S</td>\n",
       "      <td>NaN</td>\n",
       "      <td>NaN</td>\n",
       "      <td>31.0</td>\n",
       "      <td>33.0</td>\n",
       "      <td>2011-05-31 00:00:00</td>\n",
       "      <td>NaN</td>\n",
       "      <td>NaN</td>\n",
       "      <td>{2E1EF41A-C08A-4FF6-8ADA-BDE58B64A712}</td>\n",
       "      <td>2014-02-08 10:01:36.827000000</td>\n",
       "    </tr>\n",
       "  </tbody>\n",
       "</table>\n",
       "<p>3 rows × 24 columns</p>\n",
       "</div>"
      ],
      "text/plain": [
       "                                Name ProductNumber  MakeFlag  \\\n",
       "ProductID                                                      \n",
       "680        HL Road Frame - Black, 58    FR-R92B-58         1   \n",
       "706          HL Road Frame - Red, 58    FR-R92R-58         1   \n",
       "707            Sport-100 Helmet, Red     HL-U509-R         0   \n",
       "\n",
       "           FinishedGoodsFlag  Color  SafetyStockLevel  ReorderPoint  \\\n",
       "ProductID                                                             \n",
       "680                        1  Black               500           375   \n",
       "706                        1    Red               500           375   \n",
       "707                        1    Red                 4             3   \n",
       "\n",
       "           StandardCost  ListPrice Size  ... ProductLine Class  Style  \\\n",
       "ProductID                                ...                            \n",
       "680           1059.3100    1431.50   58  ...          R     H      U    \n",
       "706           1059.3100    1431.50   58  ...          R     H      U    \n",
       "707             13.0863      34.99  NaN  ...          S    NaN    NaN   \n",
       "\n",
       "           ProductSubcategoryID ProductModelID        SellStartDate  \\\n",
       "ProductID                                                             \n",
       "680                        14.0            6.0  2008-04-30 00:00:00   \n",
       "706                        14.0            6.0  2008-04-30 00:00:00   \n",
       "707                        31.0           33.0  2011-05-31 00:00:00   \n",
       "\n",
       "          SellEndDate  DiscontinuedDate  \\\n",
       "ProductID                                 \n",
       "680               NaN               NaN   \n",
       "706               NaN               NaN   \n",
       "707               NaN               NaN   \n",
       "\n",
       "                                          rowguid  \\\n",
       "ProductID                                           \n",
       "680        {43DD68D6-14A4-461F-9069-55309D90EA7E}   \n",
       "706        {9540FF17-2712-4C90-A3D1-8CE5568B2462}   \n",
       "707        {2E1EF41A-C08A-4FF6-8ADA-BDE58B64A712}   \n",
       "\n",
       "                            ModifiedDate  \n",
       "ProductID                                 \n",
       "680        2014-02-08 10:01:36.827000000  \n",
       "706        2014-02-08 10:01:36.827000000  \n",
       "707        2014-02-08 10:01:36.827000000  \n",
       "\n",
       "[3 rows x 24 columns]"
      ]
     },
     "execution_count": 58,
     "metadata": {},
     "output_type": "execute_result"
    }
   ],
   "source": [
    "#to grap the colums and see 4 example the first :..------>>> if you want the whole dataframe just leave ,head()\n",
    "prod[prod['FinishedGoodsFlag']== 1].head(3)"
   ]
  },
  {
   "cell_type": "markdown",
   "metadata": {
    "colab_type": "text",
    "id": "AIc3zvbFUspW"
   },
   "source": [
    "Now, we need to find average list price of those above items. Let's just get the 'ListPrice' column for starters."
   ]
  },
  {
   "cell_type": "code",
   "execution_count": 59,
   "metadata": {},
   "outputs": [
    {
     "data": {
      "text/plain": [
       "ProductID\n",
       "680    1431.50\n",
       "706    1431.50\n",
       "707      34.99\n",
       "Name: ListPrice, dtype: float64"
      ]
     },
     "execution_count": 59,
     "metadata": {},
     "output_type": "execute_result"
    }
   ],
   "source": [
    "#to grap the colums and see 4 example the first \n",
    "prod[prod['FinishedGoodsFlag']== 1]['ListPrice'].head(3)"
   ]
  },
  {
   "cell_type": "code",
   "execution_count": 0,
   "metadata": {
    "colab": {},
    "colab_type": "code",
    "id": "qlXPKWMHUspW"
   },
   "outputs": [],
   "source": []
  },
  {
   "cell_type": "markdown",
   "metadata": {
    "colab_type": "text",
    "id": "jQZr-u7MUspZ"
   },
   "source": [
    "To get the average of that column, just take `.mean()`"
   ]
  },
  {
   "cell_type": "code",
   "execution_count": 60,
   "metadata": {
    "colab": {},
    "colab_type": "code",
    "id": "ZaTbJbMcUspZ"
   },
   "outputs": [
    {
     "data": {
      "text/plain": [
       "744.595220338982"
      ]
     },
     "execution_count": 60,
     "metadata": {},
     "output_type": "execute_result"
    }
   ],
   "source": [
    "prod[prod['FinishedGoodsFlag']== 1]['ListPrice'].mean()"
   ]
  },
  {
   "cell_type": "markdown",
   "metadata": {
    "colab_type": "text",
    "id": "vN0vE8PmUspd"
   },
   "source": [
    "We can take a shortcut and just use `.describe()` here:"
   ]
  },
  {
   "cell_type": "code",
   "execution_count": 61,
   "metadata": {
    "colab": {},
    "colab_type": "code",
    "id": "7rRvUMrrUspe"
   },
   "outputs": [
    {
     "data": {
      "text/plain": [
       "count     295.000000\n",
       "mean      744.595220\n",
       "std       892.563172\n",
       "min         2.290000\n",
       "25%        66.745000\n",
       "50%       337.220000\n",
       "75%      1100.240000\n",
       "max      3578.270000\n",
       "Name: ListPrice, dtype: float64"
      ]
     },
     "execution_count": 61,
     "metadata": {},
     "output_type": "execute_result"
    }
   ],
   "source": [
    "prod[prod['FinishedGoodsFlag']== 1]['ListPrice'].describe()"
   ]
  },
  {
   "cell_type": "markdown",
   "metadata": {
    "colab_type": "text",
    "id": "RRATTINoUspg"
   },
   "source": [
    "**Sneak peek**: Another handy trick is to use `.hist()` to get a distribution of a continuous variable - in this case, `ListPrice`. We'll cover this more in future lessons:"
   ]
  },
  {
   "cell_type": "code",
   "execution_count": 63,
   "metadata": {
    "colab": {},
    "colab_type": "code",
    "id": "cuAIGbFjUsph"
   },
   "outputs": [
    {
     "data": {
      "text/plain": [
       "<matplotlib.axes._subplots.AxesSubplot at 0x203055c4b48>"
      ]
     },
     "execution_count": 63,
     "metadata": {},
     "output_type": "execute_result"
    },
    {
     "data": {
      "image/png": "[encoded data removed]",
      "text/plain": [
       "<Figure size 432x288 with 1 Axes>"
      ]
     },
     "metadata": {
      "needs_background": "light"
     },
     "output_type": "display_data"
    }
   ],
   "source": [
    "prod[prod['FinishedGoodsFlag']== 1]['ListPrice'].hist(grid=True, bins = 10)"
   ]
  },
  {
   "cell_type": "code",
   "execution_count": 64,
   "metadata": {},
   "outputs": [
    {
     "data": {
      "text/plain": [
       "<matplotlib.axes._subplots.AxesSubplot at 0x203055c48c8>"
      ]
     },
     "execution_count": 64,
     "metadata": {},
     "output_type": "execute_result"
    },
    {
     "data": {
      "image/png": "[encoded data removed]",
      "text/plain": [
       "<Figure size 432x288 with 1 Axes>"
      ]
     },
     "metadata": {
      "needs_background": "light"
     },
     "output_type": "display_data"
    }
   ],
   "source": [
    "prod[prod['FinishedGoodsFlag']== 1]['ListPrice'].hist(grid=False, bins = 10)"
   ]
  },
  {
   "cell_type": "code",
   "execution_count": null,
   "metadata": {},
   "outputs": [],
   "source": [
    "#Just Info:\n",
    "# Filtering on Multiple Conditions\n",
    "# Here, we will filter on multiple conditions. Before, we filtered on rows where Color was Black. We also filtered where FinishedGoodsFlag was equal to 1. Let's see what happens when we filter on both simultaneously.\n",
    "# The format for multiple conditions is:\n",
    "# df[ (df['col1'] == value1) & (df['col2'] == value2) ]\n",
    "# Or, more simply:\n",
    "# df[ (CONDITION 1) & (CONDITION 2) ]\n",
    "# Which eventually may evaluate to something like:\n",
    "# df[ True & False ]\n",
    "# ...on a row-by-row basis. If the end result is False, the row is omitted.\n",
    "# Don't forget parentheses in your conditions! This is a common mistake."
   ]
  },
  {
   "cell_type": "markdown",
   "metadata": {
    "colab_type": "text",
    "id": "GXNoCE8CUspj"
   },
   "source": [
    "## Sorting\n",
    "\n",
    "We can sort one column of our DataFrame as well."
   ]
  },
  {
   "cell_type": "code",
   "execution_count": 67,
   "metadata": {
    "colab": {},
    "colab_type": "code",
    "id": "8S6lmPnOUspj"
   },
   "outputs": [
    {
     "data": {
      "text/html": [
       "<div>\n",
       "<style scoped>\n",
       "    .dataframe tbody tr th:only-of-type {\n",
       "        vertical-align: middle;\n",
       "    }\n",
       "\n",
       "    .dataframe tbody tr th {\n",
       "        vertical-align: top;\n",
       "    }\n",
       "\n",
       "    .dataframe thead th {\n",
       "        text-align: right;\n",
       "    }\n",
       "</style>\n",
       "<table border=\"1\" class=\"dataframe\">\n",
       "  <thead>\n",
       "    <tr style=\"text-align: right;\">\n",
       "      <th></th>\n",
       "      <th>Name</th>\n",
       "      <th>ProductNumber</th>\n",
       "      <th>MakeFlag</th>\n",
       "      <th>FinishedGoodsFlag</th>\n",
       "      <th>Color</th>\n",
       "      <th>SafetyStockLevel</th>\n",
       "      <th>ReorderPoint</th>\n",
       "      <th>StandardCost</th>\n",
       "      <th>ListPrice</th>\n",
       "      <th>Size</th>\n",
       "      <th>...</th>\n",
       "      <th>ProductLine</th>\n",
       "      <th>Class</th>\n",
       "      <th>Style</th>\n",
       "      <th>ProductSubcategoryID</th>\n",
       "      <th>ProductModelID</th>\n",
       "      <th>SellStartDate</th>\n",
       "      <th>SellEndDate</th>\n",
       "      <th>DiscontinuedDate</th>\n",
       "      <th>rowguid</th>\n",
       "      <th>ModifiedDate</th>\n",
       "    </tr>\n",
       "    <tr>\n",
       "      <th>ProductID</th>\n",
       "      <th></th>\n",
       "      <th></th>\n",
       "      <th></th>\n",
       "      <th></th>\n",
       "      <th></th>\n",
       "      <th></th>\n",
       "      <th></th>\n",
       "      <th></th>\n",
       "      <th></th>\n",
       "      <th></th>\n",
       "      <th></th>\n",
       "      <th></th>\n",
       "      <th></th>\n",
       "      <th></th>\n",
       "      <th></th>\n",
       "      <th></th>\n",
       "      <th></th>\n",
       "      <th></th>\n",
       "      <th></th>\n",
       "      <th></th>\n",
       "      <th></th>\n",
       "    </tr>\n",
       "  </thead>\n",
       "  <tbody>\n",
       "    <tr>\n",
       "      <td>680</td>\n",
       "      <td>HL Road Frame - Black, 58</td>\n",
       "      <td>FR-R92B-58</td>\n",
       "      <td>1</td>\n",
       "      <td>1</td>\n",
       "      <td>Black</td>\n",
       "      <td>500</td>\n",
       "      <td>375</td>\n",
       "      <td>1059.3100</td>\n",
       "      <td>1431.50</td>\n",
       "      <td>58</td>\n",
       "      <td>...</td>\n",
       "      <td>R</td>\n",
       "      <td>H</td>\n",
       "      <td>U</td>\n",
       "      <td>14.0</td>\n",
       "      <td>6.0</td>\n",
       "      <td>2008-04-30 00:00:00</td>\n",
       "      <td>NaN</td>\n",
       "      <td>NaN</td>\n",
       "      <td>{43DD68D6-14A4-461F-9069-55309D90EA7E}</td>\n",
       "      <td>2014-02-08 10:01:36.827000000</td>\n",
       "    </tr>\n",
       "    <tr>\n",
       "      <td>708</td>\n",
       "      <td>Sport-100 Helmet, Black</td>\n",
       "      <td>HL-U509</td>\n",
       "      <td>0</td>\n",
       "      <td>1</td>\n",
       "      <td>Black</td>\n",
       "      <td>4</td>\n",
       "      <td>3</td>\n",
       "      <td>13.0863</td>\n",
       "      <td>34.99</td>\n",
       "      <td>NaN</td>\n",
       "      <td>...</td>\n",
       "      <td>S</td>\n",
       "      <td>NaN</td>\n",
       "      <td>NaN</td>\n",
       "      <td>31.0</td>\n",
       "      <td>33.0</td>\n",
       "      <td>2011-05-31 00:00:00</td>\n",
       "      <td>NaN</td>\n",
       "      <td>NaN</td>\n",
       "      <td>{A25A44FB-C2DE-4268-958F-110B8D7621E2}</td>\n",
       "      <td>2014-02-08 10:01:36.827000000</td>\n",
       "    </tr>\n",
       "    <tr>\n",
       "      <td>722</td>\n",
       "      <td>LL Road Frame - Black, 58</td>\n",
       "      <td>FR-R38B-58</td>\n",
       "      <td>1</td>\n",
       "      <td>1</td>\n",
       "      <td>Black</td>\n",
       "      <td>500</td>\n",
       "      <td>375</td>\n",
       "      <td>204.6251</td>\n",
       "      <td>337.22</td>\n",
       "      <td>58</td>\n",
       "      <td>...</td>\n",
       "      <td>R</td>\n",
       "      <td>L</td>\n",
       "      <td>U</td>\n",
       "      <td>14.0</td>\n",
       "      <td>9.0</td>\n",
       "      <td>2011-05-31 00:00:00</td>\n",
       "      <td>NaN</td>\n",
       "      <td>NaN</td>\n",
       "      <td>{2140F256-F705-4D67-975D-32DE03265838}</td>\n",
       "      <td>2014-02-08 10:01:36.827000000</td>\n",
       "    </tr>\n",
       "    <tr>\n",
       "      <td>723</td>\n",
       "      <td>LL Road Frame - Black, 60</td>\n",
       "      <td>FR-R38B-60</td>\n",
       "      <td>1</td>\n",
       "      <td>1</td>\n",
       "      <td>Black</td>\n",
       "      <td>500</td>\n",
       "      <td>375</td>\n",
       "      <td>204.6251</td>\n",
       "      <td>337.22</td>\n",
       "      <td>60</td>\n",
       "      <td>...</td>\n",
       "      <td>R</td>\n",
       "      <td>L</td>\n",
       "      <td>U</td>\n",
       "      <td>14.0</td>\n",
       "      <td>9.0</td>\n",
       "      <td>2011-05-31 00:00:00</td>\n",
       "      <td>NaN</td>\n",
       "      <td>NaN</td>\n",
       "      <td>{AA95E2A5-E7C4-4B74-B1EA-B52EE3B51537}</td>\n",
       "      <td>2014-02-08 10:01:36.827000000</td>\n",
       "    </tr>\n",
       "    <tr>\n",
       "      <td>724</td>\n",
       "      <td>LL Road Frame - Black, 62</td>\n",
       "      <td>FR-R38B-62</td>\n",
       "      <td>1</td>\n",
       "      <td>1</td>\n",
       "      <td>Black</td>\n",
       "      <td>500</td>\n",
       "      <td>375</td>\n",
       "      <td>204.6251</td>\n",
       "      <td>337.22</td>\n",
       "      <td>62</td>\n",
       "      <td>...</td>\n",
       "      <td>R</td>\n",
       "      <td>L</td>\n",
       "      <td>U</td>\n",
       "      <td>14.0</td>\n",
       "      <td>9.0</td>\n",
       "      <td>2011-05-31 00:00:00</td>\n",
       "      <td>NaN</td>\n",
       "      <td>NaN</td>\n",
       "      <td>{5247BE33-50BF-4527-8A30-A39AAE500A8E}</td>\n",
       "      <td>2014-02-08 10:01:36.827000000</td>\n",
       "    </tr>\n",
       "  </tbody>\n",
       "</table>\n",
       "<p>5 rows × 24 columns</p>\n",
       "</div>"
      ],
      "text/plain": [
       "                                Name ProductNumber  MakeFlag  \\\n",
       "ProductID                                                      \n",
       "680        HL Road Frame - Black, 58    FR-R92B-58         1   \n",
       "708          Sport-100 Helmet, Black       HL-U509         0   \n",
       "722        LL Road Frame - Black, 58    FR-R38B-58         1   \n",
       "723        LL Road Frame - Black, 60    FR-R38B-60         1   \n",
       "724        LL Road Frame - Black, 62    FR-R38B-62         1   \n",
       "\n",
       "           FinishedGoodsFlag  Color  SafetyStockLevel  ReorderPoint  \\\n",
       "ProductID                                                             \n",
       "680                        1  Black               500           375   \n",
       "708                        1  Black                 4             3   \n",
       "722                        1  Black               500           375   \n",
       "723                        1  Black               500           375   \n",
       "724                        1  Black               500           375   \n",
       "\n",
       "           StandardCost  ListPrice Size  ... ProductLine Class  Style  \\\n",
       "ProductID                                ...                            \n",
       "680           1059.3100    1431.50   58  ...          R     H      U    \n",
       "708             13.0863      34.99  NaN  ...          S    NaN    NaN   \n",
       "722            204.6251     337.22   58  ...          R     L      U    \n",
       "723            204.6251     337.22   60  ...          R     L      U    \n",
       "724            204.6251     337.22   62  ...          R     L      U    \n",
       "\n",
       "           ProductSubcategoryID ProductModelID        SellStartDate  \\\n",
       "ProductID                                                             \n",
       "680                        14.0            6.0  2008-04-30 00:00:00   \n",
       "708                        31.0           33.0  2011-05-31 00:00:00   \n",
       "722                        14.0            9.0  2011-05-31 00:00:00   \n",
       "723                        14.0            9.0  2011-05-31 00:00:00   \n",
       "724                        14.0            9.0  2011-05-31 00:00:00   \n",
       "\n",
       "          SellEndDate  DiscontinuedDate  \\\n",
       "ProductID                                 \n",
       "680               NaN               NaN   \n",
       "708               NaN               NaN   \n",
       "722               NaN               NaN   \n",
       "723               NaN               NaN   \n",
       "724               NaN               NaN   \n",
       "\n",
       "                                          rowguid  \\\n",
       "ProductID                                           \n",
       "680        {43DD68D6-14A4-461F-9069-55309D90EA7E}   \n",
       "708        {A25A44FB-C2DE-4268-958F-110B8D7621E2}   \n",
       "722        {2140F256-F705-4D67-975D-32DE03265838}   \n",
       "723        {AA95E2A5-E7C4-4B74-B1EA-B52EE3B51537}   \n",
       "724        {5247BE33-50BF-4527-8A30-A39AAE500A8E}   \n",
       "\n",
       "                            ModifiedDate  \n",
       "ProductID                                 \n",
       "680        2014-02-08 10:01:36.827000000  \n",
       "708        2014-02-08 10:01:36.827000000  \n",
       "722        2014-02-08 10:01:36.827000000  \n",
       "723        2014-02-08 10:01:36.827000000  \n",
       "724        2014-02-08 10:01:36.827000000  \n",
       "\n",
       "[5 rows x 24 columns]"
      ]
     },
     "execution_count": 67,
     "metadata": {},
     "output_type": "execute_result"
    }
   ],
   "source": [
    "# let's sort by standard cost, descending\n",
    "prod[(prod['Color']== 'Black') & (prod['FinishedGoodsFlag']== 1)].head()"
   ]
  },
  {
   "cell_type": "code",
   "execution_count": 68,
   "metadata": {
    "colab": {},
    "colab_type": "code",
    "id": "jdzvbNVqUspo"
   },
   "outputs": [
    {
     "data": {
      "text/html": [
       "<div>\n",
       "<style scoped>\n",
       "    .dataframe tbody tr th:only-of-type {\n",
       "        vertical-align: middle;\n",
       "    }\n",
       "\n",
       "    .dataframe tbody tr th {\n",
       "        vertical-align: top;\n",
       "    }\n",
       "\n",
       "    .dataframe thead th {\n",
       "        text-align: right;\n",
       "    }\n",
       "</style>\n",
       "<table border=\"1\" class=\"dataframe\">\n",
       "  <thead>\n",
       "    <tr style=\"text-align: right;\">\n",
       "      <th></th>\n",
       "      <th>Name</th>\n",
       "      <th>ProductNumber</th>\n",
       "      <th>MakeFlag</th>\n",
       "      <th>FinishedGoodsFlag</th>\n",
       "      <th>Color</th>\n",
       "      <th>SafetyStockLevel</th>\n",
       "      <th>ReorderPoint</th>\n",
       "      <th>StandardCost</th>\n",
       "      <th>ListPrice</th>\n",
       "      <th>Size</th>\n",
       "      <th>...</th>\n",
       "      <th>ProductLine</th>\n",
       "      <th>Class</th>\n",
       "      <th>Style</th>\n",
       "      <th>ProductSubcategoryID</th>\n",
       "      <th>ProductModelID</th>\n",
       "      <th>SellStartDate</th>\n",
       "      <th>SellEndDate</th>\n",
       "      <th>DiscontinuedDate</th>\n",
       "      <th>rowguid</th>\n",
       "      <th>ModifiedDate</th>\n",
       "    </tr>\n",
       "    <tr>\n",
       "      <th>ProductID</th>\n",
       "      <th></th>\n",
       "      <th></th>\n",
       "      <th></th>\n",
       "      <th></th>\n",
       "      <th></th>\n",
       "      <th></th>\n",
       "      <th></th>\n",
       "      <th></th>\n",
       "      <th></th>\n",
       "      <th></th>\n",
       "      <th></th>\n",
       "      <th></th>\n",
       "      <th></th>\n",
       "      <th></th>\n",
       "      <th></th>\n",
       "      <th></th>\n",
       "      <th></th>\n",
       "      <th></th>\n",
       "      <th></th>\n",
       "      <th></th>\n",
       "      <th></th>\n",
       "    </tr>\n",
       "  </thead>\n",
       "  <tbody>\n",
       "    <tr>\n",
       "      <td>749</td>\n",
       "      <td>Road-150 Red, 62</td>\n",
       "      <td>BK-R93R-62</td>\n",
       "      <td>1</td>\n",
       "      <td>1</td>\n",
       "      <td>Red</td>\n",
       "      <td>100</td>\n",
       "      <td>75</td>\n",
       "      <td>2171.2942</td>\n",
       "      <td>3578.27</td>\n",
       "      <td>62</td>\n",
       "      <td>...</td>\n",
       "      <td>R</td>\n",
       "      <td>H</td>\n",
       "      <td>U</td>\n",
       "      <td>2.0</td>\n",
       "      <td>25.0</td>\n",
       "      <td>2011-05-31 00:00:00</td>\n",
       "      <td>2012-05-29 00:00:00</td>\n",
       "      <td>NaN</td>\n",
       "      <td>{BC621E1F-2553-4FDC-B22E-5E44A9003569}</td>\n",
       "      <td>2014-02-08 10:01:36.827000000</td>\n",
       "    </tr>\n",
       "    <tr>\n",
       "      <td>750</td>\n",
       "      <td>Road-150 Red, 44</td>\n",
       "      <td>BK-R93R-44</td>\n",
       "      <td>1</td>\n",
       "      <td>1</td>\n",
       "      <td>Red</td>\n",
       "      <td>100</td>\n",
       "      <td>75</td>\n",
       "      <td>2171.2942</td>\n",
       "      <td>3578.27</td>\n",
       "      <td>44</td>\n",
       "      <td>...</td>\n",
       "      <td>R</td>\n",
       "      <td>H</td>\n",
       "      <td>U</td>\n",
       "      <td>2.0</td>\n",
       "      <td>25.0</td>\n",
       "      <td>2011-05-31 00:00:00</td>\n",
       "      <td>2012-05-29 00:00:00</td>\n",
       "      <td>NaN</td>\n",
       "      <td>{C19E1136-5DA4-4B40-8758-54A85D7EA494}</td>\n",
       "      <td>2014-02-08 10:01:36.827000000</td>\n",
       "    </tr>\n",
       "    <tr>\n",
       "      <td>751</td>\n",
       "      <td>Road-150 Red, 48</td>\n",
       "      <td>BK-R93R-48</td>\n",
       "      <td>1</td>\n",
       "      <td>1</td>\n",
       "      <td>Red</td>\n",
       "      <td>100</td>\n",
       "      <td>75</td>\n",
       "      <td>2171.2942</td>\n",
       "      <td>3578.27</td>\n",
       "      <td>48</td>\n",
       "      <td>...</td>\n",
       "      <td>R</td>\n",
       "      <td>H</td>\n",
       "      <td>U</td>\n",
       "      <td>2.0</td>\n",
       "      <td>25.0</td>\n",
       "      <td>2011-05-31 00:00:00</td>\n",
       "      <td>2012-05-29 00:00:00</td>\n",
       "      <td>NaN</td>\n",
       "      <td>{D10B7CC1-455E-435B-A08F-EC5B1C5776E9}</td>\n",
       "      <td>2014-02-08 10:01:36.827000000</td>\n",
       "    </tr>\n",
       "    <tr>\n",
       "      <td>752</td>\n",
       "      <td>Road-150 Red, 52</td>\n",
       "      <td>BK-R93R-52</td>\n",
       "      <td>1</td>\n",
       "      <td>1</td>\n",
       "      <td>Red</td>\n",
       "      <td>100</td>\n",
       "      <td>75</td>\n",
       "      <td>2171.2942</td>\n",
       "      <td>3578.27</td>\n",
       "      <td>52</td>\n",
       "      <td>...</td>\n",
       "      <td>R</td>\n",
       "      <td>H</td>\n",
       "      <td>U</td>\n",
       "      <td>2.0</td>\n",
       "      <td>25.0</td>\n",
       "      <td>2011-05-31 00:00:00</td>\n",
       "      <td>2012-05-29 00:00:00</td>\n",
       "      <td>NaN</td>\n",
       "      <td>{5E085BA0-3CD5-487F-85BB-79ED1C701F23}</td>\n",
       "      <td>2014-02-08 10:01:36.827000000</td>\n",
       "    </tr>\n",
       "    <tr>\n",
       "      <td>753</td>\n",
       "      <td>Road-150 Red, 56</td>\n",
       "      <td>BK-R93R-56</td>\n",
       "      <td>1</td>\n",
       "      <td>1</td>\n",
       "      <td>Red</td>\n",
       "      <td>100</td>\n",
       "      <td>75</td>\n",
       "      <td>2171.2942</td>\n",
       "      <td>3578.27</td>\n",
       "      <td>56</td>\n",
       "      <td>...</td>\n",
       "      <td>R</td>\n",
       "      <td>H</td>\n",
       "      <td>U</td>\n",
       "      <td>2.0</td>\n",
       "      <td>25.0</td>\n",
       "      <td>2011-05-31 00:00:00</td>\n",
       "      <td>2012-05-29 00:00:00</td>\n",
       "      <td>NaN</td>\n",
       "      <td>{30819B88-F0D3-4E7A-8105-19F6FAC2CEFB}</td>\n",
       "      <td>2014-02-08 10:01:36.827000000</td>\n",
       "    </tr>\n",
       "  </tbody>\n",
       "</table>\n",
       "<p>5 rows × 24 columns</p>\n",
       "</div>"
      ],
      "text/plain": [
       "                       Name ProductNumber  MakeFlag  FinishedGoodsFlag Color  \\\n",
       "ProductID                                                                      \n",
       "749        Road-150 Red, 62    BK-R93R-62         1                  1   Red   \n",
       "750        Road-150 Red, 44    BK-R93R-44         1                  1   Red   \n",
       "751        Road-150 Red, 48    BK-R93R-48         1                  1   Red   \n",
       "752        Road-150 Red, 52    BK-R93R-52         1                  1   Red   \n",
       "753        Road-150 Red, 56    BK-R93R-56         1                  1   Red   \n",
       "\n",
       "           SafetyStockLevel  ReorderPoint  StandardCost  ListPrice Size  ...  \\\n",
       "ProductID                                                                ...   \n",
       "749                     100            75     2171.2942    3578.27   62  ...   \n",
       "750                     100            75     2171.2942    3578.27   44  ...   \n",
       "751                     100            75     2171.2942    3578.27   48  ...   \n",
       "752                     100            75     2171.2942    3578.27   52  ...   \n",
       "753                     100            75     2171.2942    3578.27   56  ...   \n",
       "\n",
       "          ProductLine Class  Style  ProductSubcategoryID ProductModelID  \\\n",
       "ProductID                                                                 \n",
       "749                R     H      U                    2.0           25.0   \n",
       "750                R     H      U                    2.0           25.0   \n",
       "751                R     H      U                    2.0           25.0   \n",
       "752                R     H      U                    2.0           25.0   \n",
       "753                R     H      U                    2.0           25.0   \n",
       "\n",
       "                 SellStartDate          SellEndDate  DiscontinuedDate  \\\n",
       "ProductID                                                               \n",
       "749        2011-05-31 00:00:00  2012-05-29 00:00:00               NaN   \n",
       "750        2011-05-31 00:00:00  2012-05-29 00:00:00               NaN   \n",
       "751        2011-05-31 00:00:00  2012-05-29 00:00:00               NaN   \n",
       "752        2011-05-31 00:00:00  2012-05-29 00:00:00               NaN   \n",
       "753        2011-05-31 00:00:00  2012-05-29 00:00:00               NaN   \n",
       "\n",
       "                                          rowguid  \\\n",
       "ProductID                                           \n",
       "749        {BC621E1F-2553-4FDC-B22E-5E44A9003569}   \n",
       "750        {C19E1136-5DA4-4B40-8758-54A85D7EA494}   \n",
       "751        {D10B7CC1-455E-435B-A08F-EC5B1C5776E9}   \n",
       "752        {5E085BA0-3CD5-487F-85BB-79ED1C701F23}   \n",
       "753        {30819B88-F0D3-4E7A-8105-19F6FAC2CEFB}   \n",
       "\n",
       "                            ModifiedDate  \n",
       "ProductID                                 \n",
       "749        2014-02-08 10:01:36.827000000  \n",
       "750        2014-02-08 10:01:36.827000000  \n",
       "751        2014-02-08 10:01:36.827000000  \n",
       "752        2014-02-08 10:01:36.827000000  \n",
       "753        2014-02-08 10:01:36.827000000  \n",
       "\n",
       "[5 rows x 24 columns]"
      ]
     },
     "execution_count": 68,
     "metadata": {},
     "output_type": "execute_result"
    }
   ],
   "source": [
    "# let's take a look at the type\n",
    "prod.sort_values(by='StandardCost', ascending=False).head()"
   ]
  },
  {
   "cell_type": "code",
   "execution_count": 69,
   "metadata": {},
   "outputs": [
    {
     "data": {
      "text/html": [
       "<div>\n",
       "<style scoped>\n",
       "    .dataframe tbody tr th:only-of-type {\n",
       "        vertical-align: middle;\n",
       "    }\n",
       "\n",
       "    .dataframe tbody tr th {\n",
       "        vertical-align: top;\n",
       "    }\n",
       "\n",
       "    .dataframe thead th {\n",
       "        text-align: right;\n",
       "    }\n",
       "</style>\n",
       "<table border=\"1\" class=\"dataframe\">\n",
       "  <thead>\n",
       "    <tr style=\"text-align: right;\">\n",
       "      <th></th>\n",
       "      <th>Name</th>\n",
       "      <th>ProductNumber</th>\n",
       "      <th>MakeFlag</th>\n",
       "      <th>FinishedGoodsFlag</th>\n",
       "      <th>Color</th>\n",
       "      <th>SafetyStockLevel</th>\n",
       "      <th>ReorderPoint</th>\n",
       "      <th>StandardCost</th>\n",
       "      <th>ListPrice</th>\n",
       "      <th>Size</th>\n",
       "      <th>...</th>\n",
       "      <th>ProductLine</th>\n",
       "      <th>Class</th>\n",
       "      <th>Style</th>\n",
       "      <th>ProductSubcategoryID</th>\n",
       "      <th>ProductModelID</th>\n",
       "      <th>SellStartDate</th>\n",
       "      <th>SellEndDate</th>\n",
       "      <th>DiscontinuedDate</th>\n",
       "      <th>rowguid</th>\n",
       "      <th>ModifiedDate</th>\n",
       "    </tr>\n",
       "    <tr>\n",
       "      <th>ProductID</th>\n",
       "      <th></th>\n",
       "      <th></th>\n",
       "      <th></th>\n",
       "      <th></th>\n",
       "      <th></th>\n",
       "      <th></th>\n",
       "      <th></th>\n",
       "      <th></th>\n",
       "      <th></th>\n",
       "      <th></th>\n",
       "      <th></th>\n",
       "      <th></th>\n",
       "      <th></th>\n",
       "      <th></th>\n",
       "      <th></th>\n",
       "      <th></th>\n",
       "      <th></th>\n",
       "      <th></th>\n",
       "      <th></th>\n",
       "      <th></th>\n",
       "      <th></th>\n",
       "    </tr>\n",
       "  </thead>\n",
       "  <tbody>\n",
       "    <tr>\n",
       "      <td>1</td>\n",
       "      <td>Adjustable Race</td>\n",
       "      <td>AR-5381</td>\n",
       "      <td>0</td>\n",
       "      <td>0</td>\n",
       "      <td>NaN</td>\n",
       "      <td>1000</td>\n",
       "      <td>750</td>\n",
       "      <td>0.0</td>\n",
       "      <td>0.0</td>\n",
       "      <td>NaN</td>\n",
       "      <td>...</td>\n",
       "      <td>NaN</td>\n",
       "      <td>NaN</td>\n",
       "      <td>NaN</td>\n",
       "      <td>NaN</td>\n",
       "      <td>NaN</td>\n",
       "      <td>2008-04-30 00:00:00</td>\n",
       "      <td>NaN</td>\n",
       "      <td>NaN</td>\n",
       "      <td>{694215B7-08F7-4C0D-ACB1-D734BA44C0C8}</td>\n",
       "      <td>2014-02-08 10:01:36.827000000</td>\n",
       "    </tr>\n",
       "    <tr>\n",
       "      <td>449</td>\n",
       "      <td>Lock Nut 1</td>\n",
       "      <td>LN-4400</td>\n",
       "      <td>0</td>\n",
       "      <td>0</td>\n",
       "      <td>NaN</td>\n",
       "      <td>1000</td>\n",
       "      <td>750</td>\n",
       "      <td>0.0</td>\n",
       "      <td>0.0</td>\n",
       "      <td>NaN</td>\n",
       "      <td>...</td>\n",
       "      <td>NaN</td>\n",
       "      <td>NaN</td>\n",
       "      <td>NaN</td>\n",
       "      <td>NaN</td>\n",
       "      <td>NaN</td>\n",
       "      <td>2008-04-30 00:00:00</td>\n",
       "      <td>NaN</td>\n",
       "      <td>NaN</td>\n",
       "      <td>{1DC29704-E0E0-4EF5-B581-4A524730C448}</td>\n",
       "      <td>2014-02-08 10:01:36.827000000</td>\n",
       "    </tr>\n",
       "    <tr>\n",
       "      <td>450</td>\n",
       "      <td>Lock Nut 10</td>\n",
       "      <td>LN-5161</td>\n",
       "      <td>0</td>\n",
       "      <td>0</td>\n",
       "      <td>NaN</td>\n",
       "      <td>1000</td>\n",
       "      <td>750</td>\n",
       "      <td>0.0</td>\n",
       "      <td>0.0</td>\n",
       "      <td>NaN</td>\n",
       "      <td>...</td>\n",
       "      <td>NaN</td>\n",
       "      <td>NaN</td>\n",
       "      <td>NaN</td>\n",
       "      <td>NaN</td>\n",
       "      <td>NaN</td>\n",
       "      <td>2008-04-30 00:00:00</td>\n",
       "      <td>NaN</td>\n",
       "      <td>NaN</td>\n",
       "      <td>{612C26C7-6018-4050-B628-8B2D2E6841FA}</td>\n",
       "      <td>2014-02-08 10:01:36.827000000</td>\n",
       "    </tr>\n",
       "    <tr>\n",
       "      <td>451</td>\n",
       "      <td>Lock Nut 11</td>\n",
       "      <td>LN-5162</td>\n",
       "      <td>0</td>\n",
       "      <td>0</td>\n",
       "      <td>NaN</td>\n",
       "      <td>1000</td>\n",
       "      <td>750</td>\n",
       "      <td>0.0</td>\n",
       "      <td>0.0</td>\n",
       "      <td>NaN</td>\n",
       "      <td>...</td>\n",
       "      <td>NaN</td>\n",
       "      <td>NaN</td>\n",
       "      <td>NaN</td>\n",
       "      <td>NaN</td>\n",
       "      <td>NaN</td>\n",
       "      <td>2008-04-30 00:00:00</td>\n",
       "      <td>NaN</td>\n",
       "      <td>NaN</td>\n",
       "      <td>{5BCC4558-6C16-48F1-92F0-FD2EEFB17306}</td>\n",
       "      <td>2014-02-08 10:01:36.827000000</td>\n",
       "    </tr>\n",
       "    <tr>\n",
       "      <td>452</td>\n",
       "      <td>Lock Nut 2</td>\n",
       "      <td>LN-5400</td>\n",
       "      <td>0</td>\n",
       "      <td>0</td>\n",
       "      <td>NaN</td>\n",
       "      <td>1000</td>\n",
       "      <td>750</td>\n",
       "      <td>0.0</td>\n",
       "      <td>0.0</td>\n",
       "      <td>NaN</td>\n",
       "      <td>...</td>\n",
       "      <td>NaN</td>\n",
       "      <td>NaN</td>\n",
       "      <td>NaN</td>\n",
       "      <td>NaN</td>\n",
       "      <td>NaN</td>\n",
       "      <td>2008-04-30 00:00:00</td>\n",
       "      <td>NaN</td>\n",
       "      <td>NaN</td>\n",
       "      <td>{53AD147D-C16D-4A8C-B086-625A31405574}</td>\n",
       "      <td>2014-02-08 10:01:36.827000000</td>\n",
       "    </tr>\n",
       "  </tbody>\n",
       "</table>\n",
       "<p>5 rows × 24 columns</p>\n",
       "</div>"
      ],
      "text/plain": [
       "                      Name ProductNumber  MakeFlag  FinishedGoodsFlag Color  \\\n",
       "ProductID                                                                     \n",
       "1          Adjustable Race       AR-5381         0                  0   NaN   \n",
       "449             Lock Nut 1       LN-4400         0                  0   NaN   \n",
       "450            Lock Nut 10       LN-5161         0                  0   NaN   \n",
       "451            Lock Nut 11       LN-5162         0                  0   NaN   \n",
       "452             Lock Nut 2       LN-5400         0                  0   NaN   \n",
       "\n",
       "           SafetyStockLevel  ReorderPoint  StandardCost  ListPrice Size  ...  \\\n",
       "ProductID                                                                ...   \n",
       "1                      1000           750           0.0        0.0  NaN  ...   \n",
       "449                    1000           750           0.0        0.0  NaN  ...   \n",
       "450                    1000           750           0.0        0.0  NaN  ...   \n",
       "451                    1000           750           0.0        0.0  NaN  ...   \n",
       "452                    1000           750           0.0        0.0  NaN  ...   \n",
       "\n",
       "          ProductLine Class  Style  ProductSubcategoryID ProductModelID  \\\n",
       "ProductID                                                                 \n",
       "1                 NaN   NaN    NaN                   NaN            NaN   \n",
       "449               NaN   NaN    NaN                   NaN            NaN   \n",
       "450               NaN   NaN    NaN                   NaN            NaN   \n",
       "451               NaN   NaN    NaN                   NaN            NaN   \n",
       "452               NaN   NaN    NaN                   NaN            NaN   \n",
       "\n",
       "                 SellStartDate SellEndDate  DiscontinuedDate  \\\n",
       "ProductID                                                      \n",
       "1          2008-04-30 00:00:00         NaN               NaN   \n",
       "449        2008-04-30 00:00:00         NaN               NaN   \n",
       "450        2008-04-30 00:00:00         NaN               NaN   \n",
       "451        2008-04-30 00:00:00         NaN               NaN   \n",
       "452        2008-04-30 00:00:00         NaN               NaN   \n",
       "\n",
       "                                          rowguid  \\\n",
       "ProductID                                           \n",
       "1          {694215B7-08F7-4C0D-ACB1-D734BA44C0C8}   \n",
       "449        {1DC29704-E0E0-4EF5-B581-4A524730C448}   \n",
       "450        {612C26C7-6018-4050-B628-8B2D2E6841FA}   \n",
       "451        {5BCC4558-6C16-48F1-92F0-FD2EEFB17306}   \n",
       "452        {53AD147D-C16D-4A8C-B086-625A31405574}   \n",
       "\n",
       "                            ModifiedDate  \n",
       "ProductID                                 \n",
       "1          2014-02-08 10:01:36.827000000  \n",
       "449        2014-02-08 10:01:36.827000000  \n",
       "450        2014-02-08 10:01:36.827000000  \n",
       "451        2014-02-08 10:01:36.827000000  \n",
       "452        2014-02-08 10:01:36.827000000  \n",
       "\n",
       "[5 rows x 24 columns]"
      ]
     },
     "execution_count": 69,
     "metadata": {},
     "output_type": "execute_result"
    }
   ],
   "source": [
    "# let's take a look at the type\n",
    "prod.sort_values(by='StandardCost', ascending=True).head()"
   ]
  },
  {
   "cell_type": "code",
   "execution_count": 70,
   "metadata": {},
   "outputs": [
    {
     "data": {
      "text/html": [
       "<div>\n",
       "<style scoped>\n",
       "    .dataframe tbody tr th:only-of-type {\n",
       "        vertical-align: middle;\n",
       "    }\n",
       "\n",
       "    .dataframe tbody tr th {\n",
       "        vertical-align: top;\n",
       "    }\n",
       "\n",
       "    .dataframe thead th {\n",
       "        text-align: right;\n",
       "    }\n",
       "</style>\n",
       "<table border=\"1\" class=\"dataframe\">\n",
       "  <thead>\n",
       "    <tr style=\"text-align: right;\">\n",
       "      <th></th>\n",
       "      <th>Name</th>\n",
       "      <th>ProductNumber</th>\n",
       "      <th>MakeFlag</th>\n",
       "      <th>FinishedGoodsFlag</th>\n",
       "      <th>Color</th>\n",
       "      <th>SafetyStockLevel</th>\n",
       "      <th>ReorderPoint</th>\n",
       "      <th>StandardCost</th>\n",
       "      <th>ListPrice</th>\n",
       "      <th>Size</th>\n",
       "      <th>...</th>\n",
       "      <th>ProductLine</th>\n",
       "      <th>Class</th>\n",
       "      <th>Style</th>\n",
       "      <th>ProductSubcategoryID</th>\n",
       "      <th>ProductModelID</th>\n",
       "      <th>SellStartDate</th>\n",
       "      <th>SellEndDate</th>\n",
       "      <th>DiscontinuedDate</th>\n",
       "      <th>rowguid</th>\n",
       "      <th>ModifiedDate</th>\n",
       "    </tr>\n",
       "    <tr>\n",
       "      <th>ProductID</th>\n",
       "      <th></th>\n",
       "      <th></th>\n",
       "      <th></th>\n",
       "      <th></th>\n",
       "      <th></th>\n",
       "      <th></th>\n",
       "      <th></th>\n",
       "      <th></th>\n",
       "      <th></th>\n",
       "      <th></th>\n",
       "      <th></th>\n",
       "      <th></th>\n",
       "      <th></th>\n",
       "      <th></th>\n",
       "      <th></th>\n",
       "      <th></th>\n",
       "      <th></th>\n",
       "      <th></th>\n",
       "      <th></th>\n",
       "      <th></th>\n",
       "      <th></th>\n",
       "    </tr>\n",
       "  </thead>\n",
       "  <tbody>\n",
       "    <tr>\n",
       "      <td>866</td>\n",
       "      <td>Classic Vest, L</td>\n",
       "      <td>VE-C304-L</td>\n",
       "      <td>0</td>\n",
       "      <td>1</td>\n",
       "      <td>Blue</td>\n",
       "      <td>4</td>\n",
       "      <td>3</td>\n",
       "      <td>23.7490</td>\n",
       "      <td>63.50</td>\n",
       "      <td>L</td>\n",
       "      <td>...</td>\n",
       "      <td>S</td>\n",
       "      <td>NaN</td>\n",
       "      <td>U</td>\n",
       "      <td>25.0</td>\n",
       "      <td>1.0</td>\n",
       "      <td>2013-05-30 00:00:00</td>\n",
       "      <td>NaN</td>\n",
       "      <td>NaN</td>\n",
       "      <td>{3211F5A8-B6C4-48BD-9AA4-D69CB40D97DD}</td>\n",
       "      <td>2014-02-08 10:01:36.827000000</td>\n",
       "    </tr>\n",
       "    <tr>\n",
       "      <td>856</td>\n",
       "      <td>Men's Bib-Shorts, M</td>\n",
       "      <td>SB-M891-M</td>\n",
       "      <td>0</td>\n",
       "      <td>1</td>\n",
       "      <td>Multi</td>\n",
       "      <td>4</td>\n",
       "      <td>3</td>\n",
       "      <td>37.1209</td>\n",
       "      <td>89.99</td>\n",
       "      <td>M</td>\n",
       "      <td>...</td>\n",
       "      <td>S</td>\n",
       "      <td>NaN</td>\n",
       "      <td>M</td>\n",
       "      <td>18.0</td>\n",
       "      <td>12.0</td>\n",
       "      <td>2012-05-30 00:00:00</td>\n",
       "      <td>2013-05-29 00:00:00</td>\n",
       "      <td>NaN</td>\n",
       "      <td>{E0CBEC04-F4FC-450F-9780-F8EA7691FEBD}</td>\n",
       "      <td>2014-02-08 10:01:36.827000000</td>\n",
       "    </tr>\n",
       "    <tr>\n",
       "      <td>855</td>\n",
       "      <td>Men's Bib-Shorts, S</td>\n",
       "      <td>SB-M891-S</td>\n",
       "      <td>0</td>\n",
       "      <td>1</td>\n",
       "      <td>Multi</td>\n",
       "      <td>4</td>\n",
       "      <td>3</td>\n",
       "      <td>37.1209</td>\n",
       "      <td>89.99</td>\n",
       "      <td>S</td>\n",
       "      <td>...</td>\n",
       "      <td>S</td>\n",
       "      <td>NaN</td>\n",
       "      <td>M</td>\n",
       "      <td>18.0</td>\n",
       "      <td>12.0</td>\n",
       "      <td>2012-05-30 00:00:00</td>\n",
       "      <td>2013-05-29 00:00:00</td>\n",
       "      <td>NaN</td>\n",
       "      <td>{9F60AF1E-4C11-4E90-BAEA-48E834E8B4C2}</td>\n",
       "      <td>2014-02-08 10:01:36.827000000</td>\n",
       "    </tr>\n",
       "    <tr>\n",
       "      <td>854</td>\n",
       "      <td>Women's Tights, L</td>\n",
       "      <td>TG-W091-L</td>\n",
       "      <td>0</td>\n",
       "      <td>1</td>\n",
       "      <td>Black</td>\n",
       "      <td>4</td>\n",
       "      <td>3</td>\n",
       "      <td>30.9334</td>\n",
       "      <td>74.99</td>\n",
       "      <td>L</td>\n",
       "      <td>...</td>\n",
       "      <td>S</td>\n",
       "      <td>NaN</td>\n",
       "      <td>W</td>\n",
       "      <td>24.0</td>\n",
       "      <td>38.0</td>\n",
       "      <td>2012-05-30 00:00:00</td>\n",
       "      <td>2013-05-29 00:00:00</td>\n",
       "      <td>NaN</td>\n",
       "      <td>{E378C2F3-54F6-4EA9-B049-E8BB32B5BDFD}</td>\n",
       "      <td>2014-02-08 10:01:36.827000000</td>\n",
       "    </tr>\n",
       "    <tr>\n",
       "      <td>853</td>\n",
       "      <td>Women's Tights, M</td>\n",
       "      <td>TG-W091-M</td>\n",
       "      <td>0</td>\n",
       "      <td>1</td>\n",
       "      <td>Black</td>\n",
       "      <td>4</td>\n",
       "      <td>3</td>\n",
       "      <td>30.9334</td>\n",
       "      <td>74.99</td>\n",
       "      <td>M</td>\n",
       "      <td>...</td>\n",
       "      <td>S</td>\n",
       "      <td>NaN</td>\n",
       "      <td>W</td>\n",
       "      <td>24.0</td>\n",
       "      <td>38.0</td>\n",
       "      <td>2012-05-30 00:00:00</td>\n",
       "      <td>2013-05-29 00:00:00</td>\n",
       "      <td>NaN</td>\n",
       "      <td>{4D8E186C-B8C9-4C64-B411-4995DD87E316}</td>\n",
       "      <td>2014-02-08 10:01:36.827000000</td>\n",
       "    </tr>\n",
       "  </tbody>\n",
       "</table>\n",
       "<p>5 rows × 24 columns</p>\n",
       "</div>"
      ],
      "text/plain": [
       "                          Name ProductNumber  MakeFlag  FinishedGoodsFlag  \\\n",
       "ProductID                                                                   \n",
       "866            Classic Vest, L     VE-C304-L         0                  1   \n",
       "856        Men's Bib-Shorts, M     SB-M891-M         0                  1   \n",
       "855        Men's Bib-Shorts, S     SB-M891-S         0                  1   \n",
       "854          Women's Tights, L     TG-W091-L         0                  1   \n",
       "853          Women's Tights, M     TG-W091-M         0                  1   \n",
       "\n",
       "           Color  SafetyStockLevel  ReorderPoint  StandardCost  ListPrice  \\\n",
       "ProductID                                                                   \n",
       "866         Blue                 4             3       23.7490      63.50   \n",
       "856        Multi                 4             3       37.1209      89.99   \n",
       "855        Multi                 4             3       37.1209      89.99   \n",
       "854        Black                 4             3       30.9334      74.99   \n",
       "853        Black                 4             3       30.9334      74.99   \n",
       "\n",
       "          Size  ... ProductLine Class  Style  ProductSubcategoryID  \\\n",
       "ProductID       ...                                                  \n",
       "866          L  ...          S    NaN     U                   25.0   \n",
       "856          M  ...          S    NaN     M                   18.0   \n",
       "855          S  ...          S    NaN     M                   18.0   \n",
       "854          L  ...          S    NaN     W                   24.0   \n",
       "853          M  ...          S    NaN     W                   24.0   \n",
       "\n",
       "          ProductModelID        SellStartDate          SellEndDate  \\\n",
       "ProductID                                                            \n",
       "866                  1.0  2013-05-30 00:00:00                  NaN   \n",
       "856                 12.0  2012-05-30 00:00:00  2013-05-29 00:00:00   \n",
       "855                 12.0  2012-05-30 00:00:00  2013-05-29 00:00:00   \n",
       "854                 38.0  2012-05-30 00:00:00  2013-05-29 00:00:00   \n",
       "853                 38.0  2012-05-30 00:00:00  2013-05-29 00:00:00   \n",
       "\n",
       "           DiscontinuedDate                                 rowguid  \\\n",
       "ProductID                                                             \n",
       "866                     NaN  {3211F5A8-B6C4-48BD-9AA4-D69CB40D97DD}   \n",
       "856                     NaN  {E0CBEC04-F4FC-450F-9780-F8EA7691FEBD}   \n",
       "855                     NaN  {9F60AF1E-4C11-4E90-BAEA-48E834E8B4C2}   \n",
       "854                     NaN  {E378C2F3-54F6-4EA9-B049-E8BB32B5BDFD}   \n",
       "853                     NaN  {4D8E186C-B8C9-4C64-B411-4995DD87E316}   \n",
       "\n",
       "                            ModifiedDate  \n",
       "ProductID                                 \n",
       "866        2014-02-08 10:01:36.827000000  \n",
       "856        2014-02-08 10:01:36.827000000  \n",
       "855        2014-02-08 10:01:36.827000000  \n",
       "854        2014-02-08 10:01:36.827000000  \n",
       "853        2014-02-08 10:01:36.827000000  \n",
       "\n",
       "[5 rows x 24 columns]"
      ]
     },
     "execution_count": 70,
     "metadata": {},
     "output_type": "execute_result"
    }
   ],
   "source": [
    "# let's take a look at the type\n",
    "prod.sort_values(by='SafetyStockLevel', ascending=True).head()"
   ]
  },
  {
   "cell_type": "code",
   "execution_count": 71,
   "metadata": {},
   "outputs": [
    {
     "data": {
      "text/html": [
       "<div>\n",
       "<style scoped>\n",
       "    .dataframe tbody tr th:only-of-type {\n",
       "        vertical-align: middle;\n",
       "    }\n",
       "\n",
       "    .dataframe tbody tr th {\n",
       "        vertical-align: top;\n",
       "    }\n",
       "\n",
       "    .dataframe thead th {\n",
       "        text-align: right;\n",
       "    }\n",
       "</style>\n",
       "<table border=\"1\" class=\"dataframe\">\n",
       "  <thead>\n",
       "    <tr style=\"text-align: right;\">\n",
       "      <th></th>\n",
       "      <th>Name</th>\n",
       "      <th>ProductNumber</th>\n",
       "      <th>MakeFlag</th>\n",
       "      <th>FinishedGoodsFlag</th>\n",
       "      <th>Color</th>\n",
       "      <th>SafetyStockLevel</th>\n",
       "      <th>ReorderPoint</th>\n",
       "      <th>StandardCost</th>\n",
       "      <th>ListPrice</th>\n",
       "      <th>Size</th>\n",
       "      <th>...</th>\n",
       "      <th>ProductLine</th>\n",
       "      <th>Class</th>\n",
       "      <th>Style</th>\n",
       "      <th>ProductSubcategoryID</th>\n",
       "      <th>ProductModelID</th>\n",
       "      <th>SellStartDate</th>\n",
       "      <th>SellEndDate</th>\n",
       "      <th>DiscontinuedDate</th>\n",
       "      <th>rowguid</th>\n",
       "      <th>ModifiedDate</th>\n",
       "    </tr>\n",
       "    <tr>\n",
       "      <th>ProductID</th>\n",
       "      <th></th>\n",
       "      <th></th>\n",
       "      <th></th>\n",
       "      <th></th>\n",
       "      <th></th>\n",
       "      <th></th>\n",
       "      <th></th>\n",
       "      <th></th>\n",
       "      <th></th>\n",
       "      <th></th>\n",
       "      <th></th>\n",
       "      <th></th>\n",
       "      <th></th>\n",
       "      <th></th>\n",
       "      <th></th>\n",
       "      <th></th>\n",
       "      <th></th>\n",
       "      <th></th>\n",
       "      <th></th>\n",
       "      <th></th>\n",
       "      <th></th>\n",
       "    </tr>\n",
       "  </thead>\n",
       "  <tbody>\n",
       "    <tr>\n",
       "      <td>1</td>\n",
       "      <td>Adjustable Race</td>\n",
       "      <td>AR-5381</td>\n",
       "      <td>0</td>\n",
       "      <td>0</td>\n",
       "      <td>NaN</td>\n",
       "      <td>1000</td>\n",
       "      <td>750</td>\n",
       "      <td>0.0</td>\n",
       "      <td>0.0</td>\n",
       "      <td>NaN</td>\n",
       "      <td>...</td>\n",
       "      <td>NaN</td>\n",
       "      <td>NaN</td>\n",
       "      <td>NaN</td>\n",
       "      <td>NaN</td>\n",
       "      <td>NaN</td>\n",
       "      <td>2008-04-30 00:00:00</td>\n",
       "      <td>NaN</td>\n",
       "      <td>NaN</td>\n",
       "      <td>{694215B7-08F7-4C0D-ACB1-D734BA44C0C8}</td>\n",
       "      <td>2014-02-08 10:01:36.827000000</td>\n",
       "    </tr>\n",
       "    <tr>\n",
       "      <td>411</td>\n",
       "      <td>External Lock Washer 2</td>\n",
       "      <td>LE-8000</td>\n",
       "      <td>0</td>\n",
       "      <td>0</td>\n",
       "      <td>NaN</td>\n",
       "      <td>1000</td>\n",
       "      <td>750</td>\n",
       "      <td>0.0</td>\n",
       "      <td>0.0</td>\n",
       "      <td>NaN</td>\n",
       "      <td>...</td>\n",
       "      <td>NaN</td>\n",
       "      <td>NaN</td>\n",
       "      <td>NaN</td>\n",
       "      <td>NaN</td>\n",
       "      <td>NaN</td>\n",
       "      <td>2008-04-30 00:00:00</td>\n",
       "      <td>NaN</td>\n",
       "      <td>NaN</td>\n",
       "      <td>{502A2A3D-CD72-43AD-8FB6-77505187EDF4}</td>\n",
       "      <td>2014-02-08 10:01:36.827000000</td>\n",
       "    </tr>\n",
       "    <tr>\n",
       "      <td>435</td>\n",
       "      <td>Thin-Jam Lock Nut 8</td>\n",
       "      <td>LJ-7162</td>\n",
       "      <td>0</td>\n",
       "      <td>0</td>\n",
       "      <td>NaN</td>\n",
       "      <td>1000</td>\n",
       "      <td>750</td>\n",
       "      <td>0.0</td>\n",
       "      <td>0.0</td>\n",
       "      <td>NaN</td>\n",
       "      <td>...</td>\n",
       "      <td>NaN</td>\n",
       "      <td>NaN</td>\n",
       "      <td>NaN</td>\n",
       "      <td>NaN</td>\n",
       "      <td>NaN</td>\n",
       "      <td>2008-04-30 00:00:00</td>\n",
       "      <td>NaN</td>\n",
       "      <td>NaN</td>\n",
       "      <td>{B2508CF2-C64F-493D-9DB4-0D6601AF1F73}</td>\n",
       "      <td>2014-02-08 10:01:36.827000000</td>\n",
       "    </tr>\n",
       "    <tr>\n",
       "      <td>436</td>\n",
       "      <td>Thin-Jam Lock Nut 12</td>\n",
       "      <td>LJ-9080</td>\n",
       "      <td>0</td>\n",
       "      <td>0</td>\n",
       "      <td>NaN</td>\n",
       "      <td>1000</td>\n",
       "      <td>750</td>\n",
       "      <td>0.0</td>\n",
       "      <td>0.0</td>\n",
       "      <td>NaN</td>\n",
       "      <td>...</td>\n",
       "      <td>NaN</td>\n",
       "      <td>NaN</td>\n",
       "      <td>NaN</td>\n",
       "      <td>NaN</td>\n",
       "      <td>NaN</td>\n",
       "      <td>2008-04-30 00:00:00</td>\n",
       "      <td>NaN</td>\n",
       "      <td>NaN</td>\n",
       "      <td>{5D3E589F-4584-406B-B9CC-3C8C060CB9A5}</td>\n",
       "      <td>2014-02-08 10:01:36.827000000</td>\n",
       "    </tr>\n",
       "    <tr>\n",
       "      <td>437</td>\n",
       "      <td>Thin-Jam Lock Nut 11</td>\n",
       "      <td>LJ-9161</td>\n",
       "      <td>0</td>\n",
       "      <td>0</td>\n",
       "      <td>NaN</td>\n",
       "      <td>1000</td>\n",
       "      <td>750</td>\n",
       "      <td>0.0</td>\n",
       "      <td>0.0</td>\n",
       "      <td>NaN</td>\n",
       "      <td>...</td>\n",
       "      <td>NaN</td>\n",
       "      <td>NaN</td>\n",
       "      <td>NaN</td>\n",
       "      <td>NaN</td>\n",
       "      <td>NaN</td>\n",
       "      <td>2008-04-30 00:00:00</td>\n",
       "      <td>NaN</td>\n",
       "      <td>NaN</td>\n",
       "      <td>{64169A28-161C-4737-B724-F42FFD99DE80}</td>\n",
       "      <td>2014-02-08 10:01:36.827000000</td>\n",
       "    </tr>\n",
       "  </tbody>\n",
       "</table>\n",
       "<p>5 rows × 24 columns</p>\n",
       "</div>"
      ],
      "text/plain": [
       "                             Name ProductNumber  MakeFlag  FinishedGoodsFlag  \\\n",
       "ProductID                                                                      \n",
       "1                 Adjustable Race       AR-5381         0                  0   \n",
       "411        External Lock Washer 2       LE-8000         0                  0   \n",
       "435           Thin-Jam Lock Nut 8       LJ-7162         0                  0   \n",
       "436          Thin-Jam Lock Nut 12       LJ-9080         0                  0   \n",
       "437          Thin-Jam Lock Nut 11       LJ-9161         0                  0   \n",
       "\n",
       "          Color  SafetyStockLevel  ReorderPoint  StandardCost  ListPrice Size  \\\n",
       "ProductID                                                                       \n",
       "1           NaN              1000           750           0.0        0.0  NaN   \n",
       "411         NaN              1000           750           0.0        0.0  NaN   \n",
       "435         NaN              1000           750           0.0        0.0  NaN   \n",
       "436         NaN              1000           750           0.0        0.0  NaN   \n",
       "437         NaN              1000           750           0.0        0.0  NaN   \n",
       "\n",
       "           ... ProductLine Class  Style  ProductSubcategoryID ProductModelID  \\\n",
       "ProductID  ...                                                                 \n",
       "1          ...         NaN   NaN    NaN                   NaN            NaN   \n",
       "411        ...         NaN   NaN    NaN                   NaN            NaN   \n",
       "435        ...         NaN   NaN    NaN                   NaN            NaN   \n",
       "436        ...         NaN   NaN    NaN                   NaN            NaN   \n",
       "437        ...         NaN   NaN    NaN                   NaN            NaN   \n",
       "\n",
       "                 SellStartDate SellEndDate  DiscontinuedDate  \\\n",
       "ProductID                                                      \n",
       "1          2008-04-30 00:00:00         NaN               NaN   \n",
       "411        2008-04-30 00:00:00         NaN               NaN   \n",
       "435        2008-04-30 00:00:00         NaN               NaN   \n",
       "436        2008-04-30 00:00:00         NaN               NaN   \n",
       "437        2008-04-30 00:00:00         NaN               NaN   \n",
       "\n",
       "                                          rowguid  \\\n",
       "ProductID                                           \n",
       "1          {694215B7-08F7-4C0D-ACB1-D734BA44C0C8}   \n",
       "411        {502A2A3D-CD72-43AD-8FB6-77505187EDF4}   \n",
       "435        {B2508CF2-C64F-493D-9DB4-0D6601AF1F73}   \n",
       "436        {5D3E589F-4584-406B-B9CC-3C8C060CB9A5}   \n",
       "437        {64169A28-161C-4737-B724-F42FFD99DE80}   \n",
       "\n",
       "                            ModifiedDate  \n",
       "ProductID                                 \n",
       "1          2014-02-08 10:01:36.827000000  \n",
       "411        2014-02-08 10:01:36.827000000  \n",
       "435        2014-02-08 10:01:36.827000000  \n",
       "436        2014-02-08 10:01:36.827000000  \n",
       "437        2014-02-08 10:01:36.827000000  \n",
       "\n",
       "[5 rows x 24 columns]"
      ]
     },
     "execution_count": 71,
     "metadata": {},
     "output_type": "execute_result"
    }
   ],
   "source": [
    "# let's take a look at the type\n",
    "prod.sort_values(by='SafetyStockLevel', ascending=False).head()"
   ]
  },
  {
   "cell_type": "markdown",
   "metadata": {
    "colab_type": "text",
    "id": "5ZGOp-e0Uspt"
   },
   "source": [
    "This one is a little more advanced, but it demonstrates a few things:\n",
    "- Conversion of a `numpy.ndarray` object (return type of `pd.Series.unique()`) into a `pd.Series` object\n",
    "- `pd.Series.sort_values` with the `by=` kwarg omitted (if only one column is the operand, `by=` doesn't need specified\n",
    "- Alphabetical sort of a string field, `ascending=True` means A->Z\n",
    "- Inclusion of nulls, `NaN` in a string field (versus omission with a float/int as prior example)"
   ]
  },
  {
   "cell_type": "code",
   "execution_count": 0,
   "metadata": {
    "colab": {},
    "colab_type": "code",
    "id": "su5DOucOUspv"
   },
   "outputs": [],
   "source": []
  },
  {
   "cell_type": "markdown",
   "metadata": {
    "colab_type": "text",
    "id": "V8laWq15Uspw"
   },
   "source": [
    "## Independent Exercises\n",
    "\n",
    "Do your best to complete the following prompts. Don't hesitate to look at code we wrote together!"
   ]
  },
  {
   "cell_type": "markdown",
   "metadata": {
    "colab_type": "text",
    "id": "AJ-rU71MUspy"
   },
   "source": [
    "Print the first 4 rows of the whole DataFrame."
   ]
  },
  {
   "cell_type": "code",
   "execution_count": 78,
   "metadata": {
    "colab": {},
    "colab_type": "code",
    "id": "342jdy49Uspy"
   },
   "outputs": [
    {
     "data": {
      "text/html": [
       "<div>\n",
       "<style scoped>\n",
       "    .dataframe tbody tr th:only-of-type {\n",
       "        vertical-align: middle;\n",
       "    }\n",
       "\n",
       "    .dataframe tbody tr th {\n",
       "        vertical-align: top;\n",
       "    }\n",
       "\n",
       "    .dataframe thead th {\n",
       "        text-align: right;\n",
       "    }\n",
       "</style>\n",
       "<table border=\"1\" class=\"dataframe\">\n",
       "  <thead>\n",
       "    <tr style=\"text-align: right;\">\n",
       "      <th></th>\n",
       "      <th>Name</th>\n",
       "      <th>ProductNumber</th>\n",
       "      <th>MakeFlag</th>\n",
       "      <th>FinishedGoodsFlag</th>\n",
       "      <th>Color</th>\n",
       "      <th>SafetyStockLevel</th>\n",
       "      <th>ReorderPoint</th>\n",
       "      <th>StandardCost</th>\n",
       "      <th>ListPrice</th>\n",
       "      <th>Size</th>\n",
       "      <th>...</th>\n",
       "      <th>ProductLine</th>\n",
       "      <th>Class</th>\n",
       "      <th>Style</th>\n",
       "      <th>ProductSubcategoryID</th>\n",
       "      <th>ProductModelID</th>\n",
       "      <th>SellStartDate</th>\n",
       "      <th>SellEndDate</th>\n",
       "      <th>DiscontinuedDate</th>\n",
       "      <th>rowguid</th>\n",
       "      <th>ModifiedDate</th>\n",
       "    </tr>\n",
       "    <tr>\n",
       "      <th>ProductID</th>\n",
       "      <th></th>\n",
       "      <th></th>\n",
       "      <th></th>\n",
       "      <th></th>\n",
       "      <th></th>\n",
       "      <th></th>\n",
       "      <th></th>\n",
       "      <th></th>\n",
       "      <th></th>\n",
       "      <th></th>\n",
       "      <th></th>\n",
       "      <th></th>\n",
       "      <th></th>\n",
       "      <th></th>\n",
       "      <th></th>\n",
       "      <th></th>\n",
       "      <th></th>\n",
       "      <th></th>\n",
       "      <th></th>\n",
       "      <th></th>\n",
       "      <th></th>\n",
       "    </tr>\n",
       "  </thead>\n",
       "  <tbody>\n",
       "    <tr>\n",
       "      <td>1</td>\n",
       "      <td>Adjustable Race</td>\n",
       "      <td>AR-5381</td>\n",
       "      <td>0</td>\n",
       "      <td>0</td>\n",
       "      <td>NaN</td>\n",
       "      <td>1000</td>\n",
       "      <td>750</td>\n",
       "      <td>0.0</td>\n",
       "      <td>0.0</td>\n",
       "      <td>NaN</td>\n",
       "      <td>...</td>\n",
       "      <td>NaN</td>\n",
       "      <td>NaN</td>\n",
       "      <td>NaN</td>\n",
       "      <td>NaN</td>\n",
       "      <td>NaN</td>\n",
       "      <td>2008-04-30 00:00:00</td>\n",
       "      <td>NaN</td>\n",
       "      <td>NaN</td>\n",
       "      <td>{694215B7-08F7-4C0D-ACB1-D734BA44C0C8}</td>\n",
       "      <td>2014-02-08 10:01:36.827000000</td>\n",
       "    </tr>\n",
       "    <tr>\n",
       "      <td>2</td>\n",
       "      <td>Bearing Ball</td>\n",
       "      <td>BA-8327</td>\n",
       "      <td>0</td>\n",
       "      <td>0</td>\n",
       "      <td>NaN</td>\n",
       "      <td>1000</td>\n",
       "      <td>750</td>\n",
       "      <td>0.0</td>\n",
       "      <td>0.0</td>\n",
       "      <td>NaN</td>\n",
       "      <td>...</td>\n",
       "      <td>NaN</td>\n",
       "      <td>NaN</td>\n",
       "      <td>NaN</td>\n",
       "      <td>NaN</td>\n",
       "      <td>NaN</td>\n",
       "      <td>2008-04-30 00:00:00</td>\n",
       "      <td>NaN</td>\n",
       "      <td>NaN</td>\n",
       "      <td>{58AE3C20-4F3A-4749-A7D4-D568806CC537}</td>\n",
       "      <td>2014-02-08 10:01:36.827000000</td>\n",
       "    </tr>\n",
       "    <tr>\n",
       "      <td>3</td>\n",
       "      <td>BB Ball Bearing</td>\n",
       "      <td>BE-2349</td>\n",
       "      <td>1</td>\n",
       "      <td>0</td>\n",
       "      <td>NaN</td>\n",
       "      <td>800</td>\n",
       "      <td>600</td>\n",
       "      <td>0.0</td>\n",
       "      <td>0.0</td>\n",
       "      <td>NaN</td>\n",
       "      <td>...</td>\n",
       "      <td>NaN</td>\n",
       "      <td>NaN</td>\n",
       "      <td>NaN</td>\n",
       "      <td>NaN</td>\n",
       "      <td>NaN</td>\n",
       "      <td>2008-04-30 00:00:00</td>\n",
       "      <td>NaN</td>\n",
       "      <td>NaN</td>\n",
       "      <td>{9C21AED2-5BFA-4F18-BCB8-F11638DC2E4E}</td>\n",
       "      <td>2014-02-08 10:01:36.827000000</td>\n",
       "    </tr>\n",
       "    <tr>\n",
       "      <td>4</td>\n",
       "      <td>Headset Ball Bearings</td>\n",
       "      <td>BE-2908</td>\n",
       "      <td>0</td>\n",
       "      <td>0</td>\n",
       "      <td>NaN</td>\n",
       "      <td>800</td>\n",
       "      <td>600</td>\n",
       "      <td>0.0</td>\n",
       "      <td>0.0</td>\n",
       "      <td>NaN</td>\n",
       "      <td>...</td>\n",
       "      <td>NaN</td>\n",
       "      <td>NaN</td>\n",
       "      <td>NaN</td>\n",
       "      <td>NaN</td>\n",
       "      <td>NaN</td>\n",
       "      <td>2008-04-30 00:00:00</td>\n",
       "      <td>NaN</td>\n",
       "      <td>NaN</td>\n",
       "      <td>{ECFED6CB-51FF-49B5-B06C-7D8AC834DB8B}</td>\n",
       "      <td>2014-02-08 10:01:36.827000000</td>\n",
       "    </tr>\n",
       "  </tbody>\n",
       "</table>\n",
       "<p>4 rows × 24 columns</p>\n",
       "</div>"
      ],
      "text/plain": [
       "                            Name ProductNumber  MakeFlag  FinishedGoodsFlag  \\\n",
       "ProductID                                                                     \n",
       "1                Adjustable Race       AR-5381         0                  0   \n",
       "2                   Bearing Ball       BA-8327         0                  0   \n",
       "3                BB Ball Bearing       BE-2349         1                  0   \n",
       "4          Headset Ball Bearings       BE-2908         0                  0   \n",
       "\n",
       "          Color  SafetyStockLevel  ReorderPoint  StandardCost  ListPrice Size  \\\n",
       "ProductID                                                                       \n",
       "1           NaN              1000           750           0.0        0.0  NaN   \n",
       "2           NaN              1000           750           0.0        0.0  NaN   \n",
       "3           NaN               800           600           0.0        0.0  NaN   \n",
       "4           NaN               800           600           0.0        0.0  NaN   \n",
       "\n",
       "           ... ProductLine Class  Style  ProductSubcategoryID ProductModelID  \\\n",
       "ProductID  ...                                                                 \n",
       "1          ...         NaN   NaN    NaN                   NaN            NaN   \n",
       "2          ...         NaN   NaN    NaN                   NaN            NaN   \n",
       "3          ...         NaN   NaN    NaN                   NaN            NaN   \n",
       "4          ...         NaN   NaN    NaN                   NaN            NaN   \n",
       "\n",
       "                 SellStartDate SellEndDate  DiscontinuedDate  \\\n",
       "ProductID                                                      \n",
       "1          2008-04-30 00:00:00         NaN               NaN   \n",
       "2          2008-04-30 00:00:00         NaN               NaN   \n",
       "3          2008-04-30 00:00:00         NaN               NaN   \n",
       "4          2008-04-30 00:00:00         NaN               NaN   \n",
       "\n",
       "                                          rowguid  \\\n",
       "ProductID                                           \n",
       "1          {694215B7-08F7-4C0D-ACB1-D734BA44C0C8}   \n",
       "2          {58AE3C20-4F3A-4749-A7D4-D568806CC537}   \n",
       "3          {9C21AED2-5BFA-4F18-BCB8-F11638DC2E4E}   \n",
       "4          {ECFED6CB-51FF-49B5-B06C-7D8AC834DB8B}   \n",
       "\n",
       "                            ModifiedDate  \n",
       "ProductID                                 \n",
       "1          2014-02-08 10:01:36.827000000  \n",
       "2          2014-02-08 10:01:36.827000000  \n",
       "3          2014-02-08 10:01:36.827000000  \n",
       "4          2014-02-08 10:01:36.827000000  \n",
       "\n",
       "[4 rows x 24 columns]"
      ]
     },
     "execution_count": 78,
     "metadata": {},
     "output_type": "execute_result"
    }
   ],
   "source": [
    "# your answer here\n",
    "prod.head(4)"
   ]
  },
  {
   "cell_type": "markdown",
   "metadata": {
    "colab_type": "text",
    "id": "t6B1M8ayUsp0"
   },
   "source": [
    "How many rows are in the dataframe? Return the answer as an int."
   ]
  },
  {
   "cell_type": "code",
   "execution_count": 80,
   "metadata": {
    "colab": {},
    "colab_type": "code",
    "id": "FK8kFpUuUsp1"
   },
   "outputs": [
    {
     "data": {
      "text/plain": [
       "504"
      ]
     },
     "execution_count": 80,
     "metadata": {},
     "output_type": "execute_result"
    }
   ],
   "source": [
    "# your answer here\n",
    "prod.shape[0]"
   ]
  },
  {
   "cell_type": "markdown",
   "metadata": {
    "colab_type": "text",
    "id": "tNN7nLV2Usp8"
   },
   "source": [
    "How many columns? Retrun the answer as an int."
   ]
  },
  {
   "cell_type": "code",
   "execution_count": 133,
   "metadata": {
    "colab": {},
    "colab_type": "code",
    "id": "lQbE3esHUsp9"
   },
   "outputs": [
    {
     "data": {
      "text/plain": [
       "24"
      ]
     },
     "execution_count": 133,
     "metadata": {},
     "output_type": "execute_result"
    }
   ],
   "source": [
    "# your answer here\n",
    "prod.shape[1]"
   ]
  },
  {
   "cell_type": "markdown",
   "metadata": {
    "colab_type": "text",
    "id": "Xl0aVMSRUsqE"
   },
   "source": [
    "How many different product lines are there?"
   ]
  },
  {
   "cell_type": "code",
   "execution_count": 126,
   "metadata": {
    "colab": {},
    "colab_type": "code",
    "id": "AZh0UwsXUsqF"
   },
   "outputs": [
    {
     "data": {
      "text/plain": [
       "4"
      ]
     },
     "execution_count": 126,
     "metadata": {},
     "output_type": "execute_result"
    }
   ],
   "source": [
    "# your answer here\n",
    "prod['ProductLine'].nunique()"
   ]
  },
  {
   "cell_type": "markdown",
   "metadata": {
    "colab_type": "text",
    "id": "IPJOv0wiUsqH"
   },
   "source": [
    "What are the values of these product lines?"
   ]
  },
  {
   "cell_type": "code",
   "execution_count": 137,
   "metadata": {},
   "outputs": [
    {
     "data": {
      "text/plain": [
       "array([nan, 'R ', 'S ', 'M ', 'T '], dtype=object)"
      ]
     },
     "execution_count": 137,
     "metadata": {},
     "output_type": "execute_result"
    }
   ],
   "source": [
    "prod['ProductLine'].unique()"
   ]
  },
  {
   "cell_type": "code",
   "execution_count": 125,
   "metadata": {
    "colab": {},
    "colab_type": "code",
    "id": "G-_Fj9hQUsqI"
   },
   "outputs": [
    {
     "data": {
      "text/plain": [
       "R     100\n",
       "M      91\n",
       "T      52\n",
       "S      35\n",
       "Name: ProductLine, dtype: int64"
      ]
     },
     "execution_count": 125,
     "metadata": {},
     "output_type": "execute_result"
    }
   ],
   "source": [
    "# your answer here\n",
    "prod['ProductLine'].value_counts()\n",
    "\n"
   ]
  },
  {
   "cell_type": "markdown",
   "metadata": {
    "colab_type": "text",
    "id": "0VtENXp-UsqL"
   },
   "source": [
    "Do the number of values for the product lines match the number you have using `.nunique()`? Why or why not?"
   ]
  },
  {
   "cell_type": "code",
   "execution_count": 131,
   "metadata": {
    "colab": {},
    "colab_type": "code",
    "id": "roSAvAT5UsqM"
   },
   "outputs": [],
   "source": [
    "# your answer here\n",
    "#pd.Series.nunique() does not count nulls, seen as nan in a np.ndarray."
   ]
  },
  {
   "cell_type": "markdown",
   "metadata": {
    "colab_type": "text",
    "id": "nIkShrZvUsqN"
   },
   "source": [
    "What's the length of the field corresponding to `Road` within the `ProductLine` column?"
   ]
  },
  {
   "cell_type": "code",
   "execution_count": 138,
   "metadata": {
    "colab": {},
    "colab_type": "code",
    "id": "TygJt31jUsqO"
   },
   "outputs": [
    {
     "name": "stdout",
     "output_type": "stream",
     "text": [
      "R \n",
      "2\n"
     ]
    }
   ],
   "source": [
    "# your answer here\n",
    "print(prod['ProductLine'].unique()[1])\n",
    "print(len(prod['ProductLine'].unique()[1]))"
   ]
  },
  {
   "cell_type": "code",
   "execution_count": null,
   "metadata": {},
   "outputs": [],
   "source": [
    "#Just from SLACK start"
   ]
  },
  {
   "cell_type": "code",
   "execution_count": null,
   "metadata": {},
   "outputs": [],
   "source": [
    "# Print first 4 rows --  head(4)\n",
    "# Rows of DataFrame -- df.shape[0]\n",
    "# Columns of DatafFrame -- df.shape[1]\n",
    "# How many different product lines -- nunique()\n",
    "# What are the values of these product lines? unique()\n",
    "# Do the number of values for the product lines match the number you have using .nunique()? Why or why not?\n",
    "# # pd.Series.nunique() does not count nulls, seen as nan in a np.ndarray.\n",
    "# Take the output from your previous answer (using .unique()). Select the label corresponding to the Road product line using list indexing notation. How many characters are in this string?\n",
    "# print(df['column_name'].unique()[1])\n",
    "# print(len(df['column_name'].unique()[1]))\n",
    "# Do you notice anything odd about this? Yes, trailing whitespace\n",
    "# How many products are there for the Road product line?\n",
    "# prod[prod['ProductLine'] == 'R '].shape[0]\n",
    "# How many products are there in the Women's Mountain category?\n",
    "# combine into one view \n",
    "# (prod['ProductLine'] == 'M ') \n",
    "# and\n",
    "#  (prod['Style'] == 'W ')]\n",
    "# and find the use shape command with index of 0"
   ]
  },
  {
   "cell_type": "code",
   "execution_count": null,
   "metadata": {},
   "outputs": [],
   "source": [
    "#Just from SLACK Finished"
   ]
  },
  {
   "cell_type": "markdown",
   "metadata": {
    "colab_type": "text",
    "id": "aJ1PyiaqUsqP"
   },
   "source": [
    "Do you notice anything odd about this?"
   ]
  },
  {
   "cell_type": "code",
   "execution_count": 0,
   "metadata": {
    "colab": {},
    "colab_type": "code",
    "id": "sLhBo1iDUsqP"
   },
   "outputs": [],
   "source": [
    "# your answer here"
   ]
  },
  {
   "cell_type": "markdown",
   "metadata": {
    "colab_type": "text",
    "id": "5nKgLFDIUsqU"
   },
   "source": [
    "How many products are there for the `Road` product line? Don't forget what you just worked on above! Return your answer as an int."
   ]
  },
  {
   "cell_type": "code",
   "execution_count": 141,
   "metadata": {
    "colab": {},
    "colab_type": "code",
    "id": "I_8YKayKUsqW"
   },
   "outputs": [
    {
     "data": {
      "text/plain": [
       "100"
      ]
     },
     "execution_count": 141,
     "metadata": {},
     "output_type": "execute_result"
    }
   ],
   "source": [
    "# your answer here.. --->> how many rows?\n",
    "prod[prod['ProductLine']== 'R '].shape[0]# space afer R to accumadate ..."
   ]
  },
  {
   "cell_type": "markdown",
   "metadata": {
    "colab_type": "text",
    "id": "DTY_ZkmoUsqY"
   },
   "source": [
    "How many products are there in the `Women's` `Mountain` category? Return your answer as an int. _Hint: Use the data dictionary above!_"
   ]
  },
  {
   "cell_type": "code",
   "execution_count": 146,
   "metadata": {
    "colab": {},
    "colab_type": "code",
    "id": "TTzDXG18Usqa"
   },
   "outputs": [
    {
     "data": {
      "text/plain": [
       "11"
      ]
     },
     "execution_count": 146,
     "metadata": {},
     "output_type": "execute_result"
    }
   ],
   "source": [
    "# your answer here.. two things need to put together...--->> also there's a space afer M and W to acoumadate the #data... ---> it's like if statements \n",
    "prod[(prod['ProductLine'] == 'M ') & (prod['Style']=='W ')].shape[0]\n"
   ]
  },
  {
   "cell_type": "markdown",
   "metadata": {
    "colab_type": "text",
    "id": "WHmtd-t5Usqb"
   },
   "source": [
    "**Challenge:** What are the top 3 _most expensive list price_ product that are either in the `Women's` `Mountain` category, _OR_ `Silver` in `Color`? Return your answer as a DataFrame object, with the `ProductID` index, `NewName` relabeled as `Name`, and `ListPrice` columns. Perform the statement in one execution, and do not mutate the source DataFrame."
   ]
  },
  {
   "cell_type": "code",
   "execution_count": 0,
   "metadata": {
    "colab": {},
    "colab_type": "code",
    "id": "3cB2sx55Usqc"
   },
   "outputs": [],
   "source": [
    "# your answer here"
   ]
  },
  {
   "cell_type": "markdown",
   "metadata": {
    "colab_type": "text",
    "id": "QcZ8WP6eUsqd"
   },
   "source": [
    "## Recap\n",
    "\n",
    "We covered a lot of ground! It's ok if this takes a while to gel.\n",
    "\n",
    "```python\n",
    "\n",
    "# basic DataFrame operations\n",
    "df.head()\n",
    "df.tail()\n",
    "df.shape\n",
    "df.columns\n",
    "df.Index\n",
    "\n",
    "# selecting columns\n",
    "df.column_name\n",
    "df['column_name']\n",
    "\n",
    "# renaming columns\n",
    "df.rename({'old_name':'new_name'}, inplace=True)\n",
    "df.columns = ['new_column_a', 'new_column_b']\n",
    "\n",
    "# notable columns operations\n",
    "df.describe() # five number summary\n",
    "df.column_name.nunique() # number of unique values\n",
    "df.column_name.value_counts() # number of occurrences of each value in column\n",
    "\n",
    "# filtering\n",
    "df[df.column_name < 50] # filter column to be less than 50\n",
    "\n",
    "# sorting\n",
    "df.sort_values(by='column_name', ascending = False) # sort biggest to smallest\n",
    "\n",
    "```\n",
    "\n",
    "\n",
    "It's common to refer back to your own code *all the time.* Don't hesistate to reference this guide! 🐼\n",
    "\n",
    "\n"
   ]
  },
  {
   "cell_type": "code",
   "execution_count": 0,
   "metadata": {
    "colab": {},
    "colab_type": "code",
    "id": "MENu4wd_Usqd"
   },
   "outputs": [],
   "source": []
  }
 ],
 "metadata": {
  "colab": {
   "name": "intro-to-pandas-i.ipynb",
   "provenance": [],
   "version": "0.3.2"
  },
  "kernelspec": {
   "display_name": "Python 3",
   "language": "python",
   "name": "python3"
  },
  "language_info": {
   "codemirror_mode": {
    "name": "ipython",
    "version": 3
   },
   "file_extension": ".py",
   "mimetype": "text/x-python",
   "name": "python",
   "nbconvert_exporter": "python",
   "pygments_lexer": "ipython3",
   "version": "3.7.4"
  }
 },
 "nbformat": 4,
 "nbformat_minor": 1
}
