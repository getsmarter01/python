{
 "cells": [
  {
   "cell_type": "markdown",
   "metadata": {
    "colab_type": "text",
    "id": "ZYJHbOZy09Vd"
   },
   "source": [
    "# ![](https://ga-dash.s3.amazonaws.com/production/assets/logo-9f88ae6c9c3871690e33280fcf557f33.png) Pandas for Exploratory Data  I \n",
    "by [@lookingfw](https://twitter.com/josephofiowa)\n",
    "# <font color=red>Analysis MyCapstone</font>\n",
    "\n",
    "## <font color=red, Bold=true>Will change the content to deliver capstone's idea</font>\n",
    "Here we will demonistrate the reason of !\n",
    "\n",
    "\n",
    "We'll have two coding-heavy sessions on Pandas. In this one, we'll use Pandas to:\n",
    " - (1) Read in a dataset\n",
    " - (2) Investigate a dataset's integrity\n",
    " - (3) Filter, sort, and manipulate a DataFrame's series"
   ]
  },
  {
   "cell_type": "code",
   "execution_count": 3,
   "metadata": {
    "colab": {
     "base_uri": "https://localhost:8080/",
     "height": 35
    },
    "colab_type": "code",
    "executionInfo": {
     "elapsed": 915,
     "status": "ok",
     "timestamp": 1576083034413,
     "user": {
      "displayName": "Muhammad Al-Qurishi",
      "photoUrl": "",
      "userId": "15490889894361043466"
     },
     "user_tz": -180
    },
    "id": "oiF8Tfqw1cpN",
    "outputId": "42345545-afff-4dea-80ec-e5996be999ac"
   },
   "outputs": [
    {
     "name": "stdout",
     "output_type": "stream",
     "text": [
      "Drive already mounted at /content/drive/; to attempt to forcibly remount, call drive.mount(\"/content/drive/\", force_remount=True).\n"
     ]
    }
   ],
   "source": [
    "from google.colab import drive\n",
    "drive.mount('/content/drive/')"
   ]
  },
  {
   "cell_type": "markdown",
   "metadata": {
    "colab_type": "text",
    "id": "mZyHcW5U09Vi"
   },
   "source": [
    "## About the Dataset: Adult Salaries Data\n",
    "\n",
    "<img align=\"right\" src=\"https://images.app.goo.gl/V2MZtwe6q7bxPgBg6\">\n",
    "\n",
    "\n",
    "## <font color=red, Bold=true>Will change the content to deliver capstone's idea</font>\n",
    "\n",
    "For this project, we will be using a dataset that given from company hiring employees. employment based on education level and the age . \n",
    "\n",
    "A full data dictionary can be viewed [here](https://www.linkedin.com/in/abdullahalhashar/detail/recent-activity/posts/)."
   ]
  },
  {
   "cell_type": "markdown",
   "metadata": {
    "colab_type": "text",
    "id": "l8J93sU509Vl"
   },
   "source": [
    "• At least one Jupyter Notebook file.<br> \n",
    "- **• One presentation file (program ofyourchoice - PPT, PDF or Slides). You may \n",
    "present directly from Jupyter Notebook. Many students choose a slide deck. \n",
    "- **Create at least ten \"items\" in your project to pass. An 'item\" can be a \n",
    "snippet of code that produces a particular result (cleaning a column, a pivot \n",
    "table, a visualization, etc.). \n",
    "- **Recommended breakdown is 2 cleaning items, 3 aggregation/ analysis items, \n",
    "and 5 visuaüzation items. However, the items can be any combination of the \n",
    "concepts in steps 2-4 as long as there are 10 in total. For example, if your \n",
    "dataset is completely clean, you may allocate those 2 cleaning items to \n",
    "eiåler aggregation or visualization. \n",
    "- **Regardless of which dataset you choose, everyone is graded on a pass/6iI basis. <br>\n",
    "\n",
    "## STEP 1: READ IN THE DATA \n",
    "-** You may read in your data as a .csv (or odier similarfile type) or you may pull data \n",
    "from an API.  <br>\n",
    "## STEP 2: CLEAN THE DATA \n",
    "-**The following are examples of what count as 'cleaning' (not a comprehensive list): \n",
    "-**• Converting data types \n",
    "-**• Parsing dates \n",
    "-**• Concatena€ng strings \n",
    "-**Renaming Columns \n",
    "-**Stripping whitespaces, commas, odier characters \n",
    "-**• Creaöng your own categotical variables from groups ofoåer categorical \n",
    "variables or a quanütative variable \n",
    "-**Recommended: Two cleaning items. See the note above Step 2 if you do not think \n",
    "-**you can produce three data cleaning items because of the nature of your dataset. \n",
    "## STEP 3: ANALYZE AND AGGREGATE THE DATA \n",
    "-**, aggregation functions, and other related \n",
    "Use \n",
    "-**pivot table, groupby, . values \n",
    "-**commands to analyze åe data. \n",
    "-**Recommended: Three aggregation/ analysis items. ![image.png](attachment:image.png)\n"
   ]
  },
  {
   "cell_type": "markdown",
   "metadata": {
    "colab_type": "text",
    "id": "1PoGcuOG09Vo"
   },
   "source": [
    "![image.png](attachment:image.png)"
   ]
  },
  {
   "cell_type": "markdown",
   "metadata": {
    "colab_type": "text",
    "id": "VM_i6bLo09Vq"
   },
   "source": [
    "![image.png](attachment:image.png)"
   ]
  },
  {
   "cell_type": "markdown",
   "metadata": {
    "colab_type": "text",
    "id": "oJZtQ4Zd09Vs"
   },
   "source": [
    "![image.png](attachment:image.png)"
   ]
  },
  {
   "cell_type": "markdown",
   "metadata": {
    "colab_type": "text",
    "id": "T_Np3PLN09Vu"
   },
   "source": [
    "Let's take a closer look at the Adult Salaries table [data dictionary](https://www.sqldatadictionary.com/AdventureWorks2014/Production.Product.html), which is a description of the fields (columns) in the table (the .csv file we will import below):\n",
    "\n",
    "## <font color=red, Bold=true>Will change the content to deliver capstone's idea</font>\n",
    "\n",
    "\n",
    "\n",
    "\n",
    "- **age** - number of years\n",
    "- **workclass** - is (State-gov, private,Self-emp-not-inc, NaN,  \n",
    "- **fnlwgt : <font color=red>Ineed to see if it works as ID</font>\n",
    "- **education\n",
    "- **education-num\n",
    "- **marital-status\n",
    "- **occupation\n",
    "- **relationship\n",
    "- **race\n",
    "- **sex\n",
    "- **capital-gain\n",
    "- **capital-loss\n",
    "- **hours-per-week\n",
    "- **native-country\n",
    "- **income\n",
    "- **dtype='object')\n"
   ]
  },
  {
   "cell_type": "code",
   "execution_count": 1,
   "metadata": {
    "colab": {},
    "colab_type": "code",
    "id": "muzOG9fd09Vx"
   },
   "outputs": [],
   "source": [
    "import pandas as pd\n",
    "%matplotlib inline"
   ]
  },
  {
   "cell_type": "markdown",
   "metadata": {
    "colab_type": "text",
    "id": "whn2Sphf09V3"
   },
   "source": [
    "## <font color=green>(1) Read in a dataset</font>\n",
    "\n",
    "### <font color=red>Adult Salaries Dataset</font>"
   ]
  },
  {
   "cell_type": "code",
   "execution_count": 2,
   "metadata": {
    "colab": {},
    "colab_type": "code",
    "id": "6GGvokm_09V5"
   },
   "outputs": [],
   "source": [
    "sal = pd.read_csv('adult-salaries-dataUpdated.csv')"
   ]
  },
  {
   "cell_type": "code",
   "execution_count": 3,
   "metadata": {
    "colab": {
     "base_uri": "https://localhost:8080/",
     "height": 563
    },
    "colab_type": "code",
    "executionInfo": {
     "elapsed": 1119,
     "status": "ok",
     "timestamp": 1576083115564,
     "user": {
      "displayName": "Muhammad Al-Qurishi",
      "photoUrl": "",
      "userId": "15490889894361043466"
     },
     "user_tz": -180
    },
    "id": "ZbkPvIJk09V-",
    "outputId": "852146f4-f93b-4fd4-b6fe-04788688e7ce"
   },
   "outputs": [
    {
     "data": {
      "text/html": [
       "<div>\n",
       "<style scoped>\n",
       "    .dataframe tbody tr th:only-of-type {\n",
       "        vertical-align: middle;\n",
       "    }\n",
       "\n",
       "    .dataframe tbody tr th {\n",
       "        vertical-align: top;\n",
       "    }\n",
       "\n",
       "    .dataframe thead th {\n",
       "        text-align: right;\n",
       "    }\n",
       "</style>\n",
       "<table border=\"1\" class=\"dataframe\">\n",
       "  <thead>\n",
       "    <tr style=\"text-align: right;\">\n",
       "      <th></th>\n",
       "      <th>age</th>\n",
       "      <th>workclass</th>\n",
       "      <th>fnlwgt</th>\n",
       "      <th>education</th>\n",
       "      <th>education-num</th>\n",
       "      <th>marital-status</th>\n",
       "      <th>occupation</th>\n",
       "      <th>relationship</th>\n",
       "      <th>race</th>\n",
       "      <th>sex</th>\n",
       "      <th>capital-gain</th>\n",
       "      <th>capital-loss</th>\n",
       "      <th>hours-per-week</th>\n",
       "      <th>native-country</th>\n",
       "      <th>income</th>\n",
       "    </tr>\n",
       "  </thead>\n",
       "  <tbody>\n",
       "    <tr>\n",
       "      <td>0</td>\n",
       "      <td>39</td>\n",
       "      <td>State-gov</td>\n",
       "      <td>77516</td>\n",
       "      <td>Bachelors</td>\n",
       "      <td>13</td>\n",
       "      <td>Never-married</td>\n",
       "      <td>Adm-clerical</td>\n",
       "      <td>Not-in-family</td>\n",
       "      <td>White</td>\n",
       "      <td>Male</td>\n",
       "      <td>2174</td>\n",
       "      <td>0</td>\n",
       "      <td>40</td>\n",
       "      <td>United-States</td>\n",
       "      <td>small</td>\n",
       "    </tr>\n",
       "    <tr>\n",
       "      <td>1</td>\n",
       "      <td>50</td>\n",
       "      <td>Self-emp-not-inc</td>\n",
       "      <td>83311</td>\n",
       "      <td>Bachelors</td>\n",
       "      <td>13</td>\n",
       "      <td>Married-civ-spouse</td>\n",
       "      <td>Exec-managerial</td>\n",
       "      <td>Husband</td>\n",
       "      <td>White</td>\n",
       "      <td>Male</td>\n",
       "      <td>0</td>\n",
       "      <td>0</td>\n",
       "      <td>13</td>\n",
       "      <td>United-States</td>\n",
       "      <td>small</td>\n",
       "    </tr>\n",
       "    <tr>\n",
       "      <td>2</td>\n",
       "      <td>38</td>\n",
       "      <td>Private</td>\n",
       "      <td>215646</td>\n",
       "      <td>HS-grad</td>\n",
       "      <td>9</td>\n",
       "      <td>Divorced</td>\n",
       "      <td>Handlers-cleaners</td>\n",
       "      <td>Not-in-family</td>\n",
       "      <td>White</td>\n",
       "      <td>Male</td>\n",
       "      <td>0</td>\n",
       "      <td>0</td>\n",
       "      <td>40</td>\n",
       "      <td>United-States</td>\n",
       "      <td>small</td>\n",
       "    </tr>\n",
       "    <tr>\n",
       "      <td>3</td>\n",
       "      <td>53</td>\n",
       "      <td>Private</td>\n",
       "      <td>234721</td>\n",
       "      <td>11th</td>\n",
       "      <td>7</td>\n",
       "      <td>Married-civ-spouse</td>\n",
       "      <td>Handlers-cleaners</td>\n",
       "      <td>Husband</td>\n",
       "      <td>Black</td>\n",
       "      <td>Male</td>\n",
       "      <td>0</td>\n",
       "      <td>0</td>\n",
       "      <td>40</td>\n",
       "      <td>United-States</td>\n",
       "      <td>small</td>\n",
       "    </tr>\n",
       "    <tr>\n",
       "      <td>4</td>\n",
       "      <td>28</td>\n",
       "      <td>Private</td>\n",
       "      <td>338409</td>\n",
       "      <td>Bachelors</td>\n",
       "      <td>13</td>\n",
       "      <td>Married-civ-spouse</td>\n",
       "      <td>Prof-specialty</td>\n",
       "      <td>Wife</td>\n",
       "      <td>Black</td>\n",
       "      <td>Female</td>\n",
       "      <td>0</td>\n",
       "      <td>0</td>\n",
       "      <td>40</td>\n",
       "      <td>Cuba</td>\n",
       "      <td>small</td>\n",
       "    </tr>\n",
       "    <tr>\n",
       "      <td>...</td>\n",
       "      <td>...</td>\n",
       "      <td>...</td>\n",
       "      <td>...</td>\n",
       "      <td>...</td>\n",
       "      <td>...</td>\n",
       "      <td>...</td>\n",
       "      <td>...</td>\n",
       "      <td>...</td>\n",
       "      <td>...</td>\n",
       "      <td>...</td>\n",
       "      <td>...</td>\n",
       "      <td>...</td>\n",
       "      <td>...</td>\n",
       "      <td>...</td>\n",
       "      <td>...</td>\n",
       "    </tr>\n",
       "    <tr>\n",
       "      <td>48837</td>\n",
       "      <td>39</td>\n",
       "      <td>Private</td>\n",
       "      <td>215419</td>\n",
       "      <td>Bachelors</td>\n",
       "      <td>13</td>\n",
       "      <td>Divorced</td>\n",
       "      <td>Prof-specialty</td>\n",
       "      <td>Not-in-family</td>\n",
       "      <td>White</td>\n",
       "      <td>Female</td>\n",
       "      <td>0</td>\n",
       "      <td>0</td>\n",
       "      <td>36</td>\n",
       "      <td>United-States</td>\n",
       "      <td>NaN</td>\n",
       "    </tr>\n",
       "    <tr>\n",
       "      <td>48838</td>\n",
       "      <td>64</td>\n",
       "      <td>NaN</td>\n",
       "      <td>321403</td>\n",
       "      <td>HS-grad</td>\n",
       "      <td>9</td>\n",
       "      <td>Widowed</td>\n",
       "      <td>NaN</td>\n",
       "      <td>Other-relative</td>\n",
       "      <td>Black</td>\n",
       "      <td>Male</td>\n",
       "      <td>0</td>\n",
       "      <td>0</td>\n",
       "      <td>40</td>\n",
       "      <td>United-States</td>\n",
       "      <td>NaN</td>\n",
       "    </tr>\n",
       "    <tr>\n",
       "      <td>48839</td>\n",
       "      <td>38</td>\n",
       "      <td>Private</td>\n",
       "      <td>374983</td>\n",
       "      <td>Bachelors</td>\n",
       "      <td>13</td>\n",
       "      <td>Married-civ-spouse</td>\n",
       "      <td>Prof-specialty</td>\n",
       "      <td>Husband</td>\n",
       "      <td>White</td>\n",
       "      <td>Male</td>\n",
       "      <td>0</td>\n",
       "      <td>0</td>\n",
       "      <td>50</td>\n",
       "      <td>United-States</td>\n",
       "      <td>NaN</td>\n",
       "    </tr>\n",
       "    <tr>\n",
       "      <td>48840</td>\n",
       "      <td>44</td>\n",
       "      <td>Private</td>\n",
       "      <td>83891</td>\n",
       "      <td>Bachelors</td>\n",
       "      <td>13</td>\n",
       "      <td>Divorced</td>\n",
       "      <td>Adm-clerical</td>\n",
       "      <td>Own-child</td>\n",
       "      <td>Asian-Pac-Islander</td>\n",
       "      <td>Male</td>\n",
       "      <td>5455</td>\n",
       "      <td>0</td>\n",
       "      <td>40</td>\n",
       "      <td>United-States</td>\n",
       "      <td>NaN</td>\n",
       "    </tr>\n",
       "    <tr>\n",
       "      <td>48841</td>\n",
       "      <td>35</td>\n",
       "      <td>Self-emp-inc</td>\n",
       "      <td>182148</td>\n",
       "      <td>Bachelors</td>\n",
       "      <td>13</td>\n",
       "      <td>Married-civ-spouse</td>\n",
       "      <td>Exec-managerial</td>\n",
       "      <td>Husband</td>\n",
       "      <td>White</td>\n",
       "      <td>Male</td>\n",
       "      <td>0</td>\n",
       "      <td>0</td>\n",
       "      <td>60</td>\n",
       "      <td>United-States</td>\n",
       "      <td>NaN</td>\n",
       "    </tr>\n",
       "  </tbody>\n",
       "</table>\n",
       "<p>48842 rows × 15 columns</p>\n",
       "</div>"
      ],
      "text/plain": [
       "       age         workclass  fnlwgt  education  education-num  \\\n",
       "0       39         State-gov   77516  Bachelors             13   \n",
       "1       50  Self-emp-not-inc   83311  Bachelors             13   \n",
       "2       38           Private  215646    HS-grad              9   \n",
       "3       53           Private  234721       11th              7   \n",
       "4       28           Private  338409  Bachelors             13   \n",
       "...    ...               ...     ...        ...            ...   \n",
       "48837   39           Private  215419  Bachelors             13   \n",
       "48838   64               NaN  321403    HS-grad              9   \n",
       "48839   38           Private  374983  Bachelors             13   \n",
       "48840   44           Private   83891  Bachelors             13   \n",
       "48841   35      Self-emp-inc  182148  Bachelors             13   \n",
       "\n",
       "           marital-status         occupation    relationship  \\\n",
       "0           Never-married       Adm-clerical   Not-in-family   \n",
       "1      Married-civ-spouse    Exec-managerial         Husband   \n",
       "2                Divorced  Handlers-cleaners   Not-in-family   \n",
       "3      Married-civ-spouse  Handlers-cleaners         Husband   \n",
       "4      Married-civ-spouse     Prof-specialty            Wife   \n",
       "...                   ...                ...             ...   \n",
       "48837            Divorced     Prof-specialty   Not-in-family   \n",
       "48838             Widowed                NaN  Other-relative   \n",
       "48839  Married-civ-spouse     Prof-specialty         Husband   \n",
       "48840            Divorced       Adm-clerical       Own-child   \n",
       "48841  Married-civ-spouse    Exec-managerial         Husband   \n",
       "\n",
       "                     race     sex  capital-gain  capital-loss  hours-per-week  \\\n",
       "0                   White    Male          2174             0              40   \n",
       "1                   White    Male             0             0              13   \n",
       "2                   White    Male             0             0              40   \n",
       "3                   Black    Male             0             0              40   \n",
       "4                   Black  Female             0             0              40   \n",
       "...                   ...     ...           ...           ...             ...   \n",
       "48837               White  Female             0             0              36   \n",
       "48838               Black    Male             0             0              40   \n",
       "48839               White    Male             0             0              50   \n",
       "48840  Asian-Pac-Islander    Male          5455             0              40   \n",
       "48841               White    Male             0             0              60   \n",
       "\n",
       "      native-country income  \n",
       "0      United-States  small  \n",
       "1      United-States  small  \n",
       "2      United-States  small  \n",
       "3      United-States  small  \n",
       "4               Cuba  small  \n",
       "...              ...    ...  \n",
       "48837  United-States    NaN  \n",
       "48838  United-States    NaN  \n",
       "48839  United-States    NaN  \n",
       "48840  United-States    NaN  \n",
       "48841  United-States    NaN  \n",
       "\n",
       "[48842 rows x 15 columns]"
      ]
     },
     "execution_count": 3,
     "metadata": {},
     "output_type": "execute_result"
    }
   ],
   "source": [
    "sal"
   ]
  },
  {
   "cell_type": "markdown",
   "metadata": {
    "colab_type": "text",
    "id": "8LHcBpzk09WG"
   },
   "source": [
    "#### <font color=red>Inspecting our DataFrame: The basics</front>"
   ]
  },
  {
   "cell_type": "code",
   "execution_count": 4,
   "metadata": {
    "colab": {},
    "colab_type": "code",
    "id": "0eHB-yDa09WH",
    "outputId": "13f2e879-3e8b-44cd-a39e-3652be58c439"
   },
   "outputs": [
    {
     "data": {
      "text/html": [
       "<div>\n",
       "<style scoped>\n",
       "    .dataframe tbody tr th:only-of-type {\n",
       "        vertical-align: middle;\n",
       "    }\n",
       "\n",
       "    .dataframe tbody tr th {\n",
       "        vertical-align: top;\n",
       "    }\n",
       "\n",
       "    .dataframe thead th {\n",
       "        text-align: right;\n",
       "    }\n",
       "</style>\n",
       "<table border=\"1\" class=\"dataframe\">\n",
       "  <thead>\n",
       "    <tr style=\"text-align: right;\">\n",
       "      <th></th>\n",
       "      <th>age</th>\n",
       "      <th>workclass</th>\n",
       "      <th>fnlwgt</th>\n",
       "      <th>education</th>\n",
       "      <th>education-num</th>\n",
       "      <th>marital-status</th>\n",
       "      <th>occupation</th>\n",
       "      <th>relationship</th>\n",
       "      <th>race</th>\n",
       "      <th>sex</th>\n",
       "      <th>capital-gain</th>\n",
       "      <th>capital-loss</th>\n",
       "      <th>hours-per-week</th>\n",
       "      <th>native-country</th>\n",
       "      <th>income</th>\n",
       "    </tr>\n",
       "  </thead>\n",
       "  <tbody>\n",
       "    <tr>\n",
       "      <td>0</td>\n",
       "      <td>39</td>\n",
       "      <td>State-gov</td>\n",
       "      <td>77516</td>\n",
       "      <td>Bachelors</td>\n",
       "      <td>13</td>\n",
       "      <td>Never-married</td>\n",
       "      <td>Adm-clerical</td>\n",
       "      <td>Not-in-family</td>\n",
       "      <td>White</td>\n",
       "      <td>Male</td>\n",
       "      <td>2174</td>\n",
       "      <td>0</td>\n",
       "      <td>40</td>\n",
       "      <td>United-States</td>\n",
       "      <td>small</td>\n",
       "    </tr>\n",
       "    <tr>\n",
       "      <td>1</td>\n",
       "      <td>50</td>\n",
       "      <td>Self-emp-not-inc</td>\n",
       "      <td>83311</td>\n",
       "      <td>Bachelors</td>\n",
       "      <td>13</td>\n",
       "      <td>Married-civ-spouse</td>\n",
       "      <td>Exec-managerial</td>\n",
       "      <td>Husband</td>\n",
       "      <td>White</td>\n",
       "      <td>Male</td>\n",
       "      <td>0</td>\n",
       "      <td>0</td>\n",
       "      <td>13</td>\n",
       "      <td>United-States</td>\n",
       "      <td>small</td>\n",
       "    </tr>\n",
       "    <tr>\n",
       "      <td>2</td>\n",
       "      <td>38</td>\n",
       "      <td>Private</td>\n",
       "      <td>215646</td>\n",
       "      <td>HS-grad</td>\n",
       "      <td>9</td>\n",
       "      <td>Divorced</td>\n",
       "      <td>Handlers-cleaners</td>\n",
       "      <td>Not-in-family</td>\n",
       "      <td>White</td>\n",
       "      <td>Male</td>\n",
       "      <td>0</td>\n",
       "      <td>0</td>\n",
       "      <td>40</td>\n",
       "      <td>United-States</td>\n",
       "      <td>small</td>\n",
       "    </tr>\n",
       "    <tr>\n",
       "      <td>3</td>\n",
       "      <td>53</td>\n",
       "      <td>Private</td>\n",
       "      <td>234721</td>\n",
       "      <td>11th</td>\n",
       "      <td>7</td>\n",
       "      <td>Married-civ-spouse</td>\n",
       "      <td>Handlers-cleaners</td>\n",
       "      <td>Husband</td>\n",
       "      <td>Black</td>\n",
       "      <td>Male</td>\n",
       "      <td>0</td>\n",
       "      <td>0</td>\n",
       "      <td>40</td>\n",
       "      <td>United-States</td>\n",
       "      <td>small</td>\n",
       "    </tr>\n",
       "    <tr>\n",
       "      <td>4</td>\n",
       "      <td>28</td>\n",
       "      <td>Private</td>\n",
       "      <td>338409</td>\n",
       "      <td>Bachelors</td>\n",
       "      <td>13</td>\n",
       "      <td>Married-civ-spouse</td>\n",
       "      <td>Prof-specialty</td>\n",
       "      <td>Wife</td>\n",
       "      <td>Black</td>\n",
       "      <td>Female</td>\n",
       "      <td>0</td>\n",
       "      <td>0</td>\n",
       "      <td>40</td>\n",
       "      <td>Cuba</td>\n",
       "      <td>small</td>\n",
       "    </tr>\n",
       "    <tr>\n",
       "      <td>5</td>\n",
       "      <td>37</td>\n",
       "      <td>Private</td>\n",
       "      <td>284582</td>\n",
       "      <td>Masters</td>\n",
       "      <td>14</td>\n",
       "      <td>Married-civ-spouse</td>\n",
       "      <td>Exec-managerial</td>\n",
       "      <td>Wife</td>\n",
       "      <td>White</td>\n",
       "      <td>Female</td>\n",
       "      <td>0</td>\n",
       "      <td>0</td>\n",
       "      <td>40</td>\n",
       "      <td>United-States</td>\n",
       "      <td>small</td>\n",
       "    </tr>\n",
       "    <tr>\n",
       "      <td>6</td>\n",
       "      <td>49</td>\n",
       "      <td>Private</td>\n",
       "      <td>160187</td>\n",
       "      <td>9th</td>\n",
       "      <td>5</td>\n",
       "      <td>Married-spouse-absent</td>\n",
       "      <td>Other-service</td>\n",
       "      <td>Not-in-family</td>\n",
       "      <td>Black</td>\n",
       "      <td>Female</td>\n",
       "      <td>0</td>\n",
       "      <td>0</td>\n",
       "      <td>16</td>\n",
       "      <td>Jamaica</td>\n",
       "      <td>small</td>\n",
       "    </tr>\n",
       "    <tr>\n",
       "      <td>7</td>\n",
       "      <td>52</td>\n",
       "      <td>Self-emp-not-inc</td>\n",
       "      <td>209642</td>\n",
       "      <td>HS-grad</td>\n",
       "      <td>9</td>\n",
       "      <td>Married-civ-spouse</td>\n",
       "      <td>Exec-managerial</td>\n",
       "      <td>Husband</td>\n",
       "      <td>White</td>\n",
       "      <td>Male</td>\n",
       "      <td>0</td>\n",
       "      <td>0</td>\n",
       "      <td>45</td>\n",
       "      <td>United-States</td>\n",
       "      <td>large</td>\n",
       "    </tr>\n",
       "    <tr>\n",
       "      <td>8</td>\n",
       "      <td>31</td>\n",
       "      <td>Private</td>\n",
       "      <td>45781</td>\n",
       "      <td>Masters</td>\n",
       "      <td>14</td>\n",
       "      <td>Never-married</td>\n",
       "      <td>Prof-specialty</td>\n",
       "      <td>Not-in-family</td>\n",
       "      <td>White</td>\n",
       "      <td>Female</td>\n",
       "      <td>14084</td>\n",
       "      <td>0</td>\n",
       "      <td>50</td>\n",
       "      <td>United-States</td>\n",
       "      <td>large</td>\n",
       "    </tr>\n",
       "    <tr>\n",
       "      <td>9</td>\n",
       "      <td>42</td>\n",
       "      <td>Private</td>\n",
       "      <td>159449</td>\n",
       "      <td>Bachelors</td>\n",
       "      <td>13</td>\n",
       "      <td>Married-civ-spouse</td>\n",
       "      <td>Exec-managerial</td>\n",
       "      <td>Husband</td>\n",
       "      <td>White</td>\n",
       "      <td>Male</td>\n",
       "      <td>5178</td>\n",
       "      <td>0</td>\n",
       "      <td>40</td>\n",
       "      <td>United-States</td>\n",
       "      <td>large</td>\n",
       "    </tr>\n",
       "    <tr>\n",
       "      <td>10</td>\n",
       "      <td>37</td>\n",
       "      <td>Private</td>\n",
       "      <td>280464</td>\n",
       "      <td>Some-college</td>\n",
       "      <td>10</td>\n",
       "      <td>Married-civ-spouse</td>\n",
       "      <td>Exec-managerial</td>\n",
       "      <td>Husband</td>\n",
       "      <td>Black</td>\n",
       "      <td>Male</td>\n",
       "      <td>0</td>\n",
       "      <td>0</td>\n",
       "      <td>80</td>\n",
       "      <td>United-States</td>\n",
       "      <td>large</td>\n",
       "    </tr>\n",
       "    <tr>\n",
       "      <td>11</td>\n",
       "      <td>30</td>\n",
       "      <td>State-gov</td>\n",
       "      <td>141297</td>\n",
       "      <td>Bachelors</td>\n",
       "      <td>13</td>\n",
       "      <td>Married-civ-spouse</td>\n",
       "      <td>Prof-specialty</td>\n",
       "      <td>Husband</td>\n",
       "      <td>Asian-Pac-Islander</td>\n",
       "      <td>Male</td>\n",
       "      <td>0</td>\n",
       "      <td>0</td>\n",
       "      <td>40</td>\n",
       "      <td>India</td>\n",
       "      <td>large</td>\n",
       "    </tr>\n",
       "    <tr>\n",
       "      <td>12</td>\n",
       "      <td>23</td>\n",
       "      <td>Private</td>\n",
       "      <td>122272</td>\n",
       "      <td>Bachelors</td>\n",
       "      <td>13</td>\n",
       "      <td>Never-married</td>\n",
       "      <td>Adm-clerical</td>\n",
       "      <td>Own-child</td>\n",
       "      <td>White</td>\n",
       "      <td>Female</td>\n",
       "      <td>0</td>\n",
       "      <td>0</td>\n",
       "      <td>30</td>\n",
       "      <td>United-States</td>\n",
       "      <td>small</td>\n",
       "    </tr>\n",
       "    <tr>\n",
       "      <td>13</td>\n",
       "      <td>32</td>\n",
       "      <td>Private</td>\n",
       "      <td>205019</td>\n",
       "      <td>Assoc-acdm</td>\n",
       "      <td>12</td>\n",
       "      <td>Never-married</td>\n",
       "      <td>Sales</td>\n",
       "      <td>Not-in-family</td>\n",
       "      <td>Black</td>\n",
       "      <td>Male</td>\n",
       "      <td>0</td>\n",
       "      <td>0</td>\n",
       "      <td>50</td>\n",
       "      <td>United-States</td>\n",
       "      <td>small</td>\n",
       "    </tr>\n",
       "    <tr>\n",
       "      <td>14</td>\n",
       "      <td>40</td>\n",
       "      <td>Private</td>\n",
       "      <td>121772</td>\n",
       "      <td>Assoc-voc</td>\n",
       "      <td>11</td>\n",
       "      <td>Married-civ-spouse</td>\n",
       "      <td>Craft-repair</td>\n",
       "      <td>Husband</td>\n",
       "      <td>Asian-Pac-Islander</td>\n",
       "      <td>Male</td>\n",
       "      <td>0</td>\n",
       "      <td>0</td>\n",
       "      <td>40</td>\n",
       "      <td>NaN</td>\n",
       "      <td>large</td>\n",
       "    </tr>\n",
       "  </tbody>\n",
       "</table>\n",
       "</div>"
      ],
      "text/plain": [
       "    age         workclass  fnlwgt     education  education-num  \\\n",
       "0    39         State-gov   77516     Bachelors             13   \n",
       "1    50  Self-emp-not-inc   83311     Bachelors             13   \n",
       "2    38           Private  215646       HS-grad              9   \n",
       "3    53           Private  234721          11th              7   \n",
       "4    28           Private  338409     Bachelors             13   \n",
       "5    37           Private  284582       Masters             14   \n",
       "6    49           Private  160187           9th              5   \n",
       "7    52  Self-emp-not-inc  209642       HS-grad              9   \n",
       "8    31           Private   45781       Masters             14   \n",
       "9    42           Private  159449     Bachelors             13   \n",
       "10   37           Private  280464  Some-college             10   \n",
       "11   30         State-gov  141297     Bachelors             13   \n",
       "12   23           Private  122272     Bachelors             13   \n",
       "13   32           Private  205019    Assoc-acdm             12   \n",
       "14   40           Private  121772     Assoc-voc             11   \n",
       "\n",
       "           marital-status         occupation   relationship  \\\n",
       "0           Never-married       Adm-clerical  Not-in-family   \n",
       "1      Married-civ-spouse    Exec-managerial        Husband   \n",
       "2                Divorced  Handlers-cleaners  Not-in-family   \n",
       "3      Married-civ-spouse  Handlers-cleaners        Husband   \n",
       "4      Married-civ-spouse     Prof-specialty           Wife   \n",
       "5      Married-civ-spouse    Exec-managerial           Wife   \n",
       "6   Married-spouse-absent      Other-service  Not-in-family   \n",
       "7      Married-civ-spouse    Exec-managerial        Husband   \n",
       "8           Never-married     Prof-specialty  Not-in-family   \n",
       "9      Married-civ-spouse    Exec-managerial        Husband   \n",
       "10     Married-civ-spouse    Exec-managerial        Husband   \n",
       "11     Married-civ-spouse     Prof-specialty        Husband   \n",
       "12          Never-married       Adm-clerical      Own-child   \n",
       "13          Never-married              Sales  Not-in-family   \n",
       "14     Married-civ-spouse       Craft-repair        Husband   \n",
       "\n",
       "                  race     sex  capital-gain  capital-loss  hours-per-week  \\\n",
       "0                White    Male          2174             0              40   \n",
       "1                White    Male             0             0              13   \n",
       "2                White    Male             0             0              40   \n",
       "3                Black    Male             0             0              40   \n",
       "4                Black  Female             0             0              40   \n",
       "5                White  Female             0             0              40   \n",
       "6                Black  Female             0             0              16   \n",
       "7                White    Male             0             0              45   \n",
       "8                White  Female         14084             0              50   \n",
       "9                White    Male          5178             0              40   \n",
       "10               Black    Male             0             0              80   \n",
       "11  Asian-Pac-Islander    Male             0             0              40   \n",
       "12               White  Female             0             0              30   \n",
       "13               Black    Male             0             0              50   \n",
       "14  Asian-Pac-Islander    Male             0             0              40   \n",
       "\n",
       "   native-country income  \n",
       "0   United-States  small  \n",
       "1   United-States  small  \n",
       "2   United-States  small  \n",
       "3   United-States  small  \n",
       "4            Cuba  small  \n",
       "5   United-States  small  \n",
       "6         Jamaica  small  \n",
       "7   United-States  large  \n",
       "8   United-States  large  \n",
       "9   United-States  large  \n",
       "10  United-States  large  \n",
       "11          India  large  \n",
       "12  United-States  small  \n",
       "13  United-States  small  \n",
       "14            NaN  large  "
      ]
     },
     "execution_count": 4,
     "metadata": {},
     "output_type": "execute_result"
    }
   ],
   "source": [
    "sal.head(15)"
   ]
  },
  {
   "cell_type": "markdown",
   "metadata": {
    "colab_type": "text",
    "id": "4-OBkDc509WM"
   },
   "source": [
    "## <font color=red>Column headers and datatypes</font>"
   ]
  },
  {
   "cell_type": "code",
   "execution_count": 5,
   "metadata": {
    "colab": {},
    "colab_type": "code",
    "id": "7sowSKX_09WN",
    "outputId": "1a269d25-8872-4326-8bc0-e8dfd9933d7f"
   },
   "outputs": [
    {
     "data": {
      "text/plain": [
       "Index(['age', 'workclass', 'fnlwgt', 'education', 'education-num',\n",
       "       'marital-status', 'occupation', 'relationship', 'race', 'sex',\n",
       "       'capital-gain', 'capital-loss', 'hours-per-week', 'native-country',\n",
       "       'income'],\n",
       "      dtype='object')"
      ]
     },
     "execution_count": 5,
     "metadata": {},
     "output_type": "execute_result"
    }
   ],
   "source": [
    "sal.columns"
   ]
  },
  {
   "cell_type": "code",
   "execution_count": 40,
   "metadata": {},
   "outputs": [
    {
     "ename": "IndexError",
     "evalue": "only integers, slices (`:`), ellipsis (`...`), numpy.newaxis (`None`) and integer or boolean arrays are valid indices",
     "output_type": "error",
     "traceback": [
      "\u001b[1;31m---------------------------------------------------------------------------\u001b[0m",
      "\u001b[1;31mIndexError\u001b[0m                                Traceback (most recent call last)",
      "\u001b[1;32m<ipython-input-40-f81942066894>\u001b[0m in \u001b[0;36m<module>\u001b[1;34m\u001b[0m\n\u001b[1;32m----> 1\u001b[1;33m \u001b[0msal\u001b[0m\u001b[1;33m.\u001b[0m\u001b[0mcolumns\u001b[0m\u001b[1;33m[\u001b[0m\u001b[1;34m'workspace'\u001b[0m\u001b[1;33m]\u001b[0m\u001b[1;33m\u001b[0m\u001b[1;33m\u001b[0m\u001b[0m\n\u001b[0m",
      "\u001b[1;32m~\\Anaconda3\\lib\\site-packages\\pandas\\core\\indexes\\base.py\u001b[0m in \u001b[0;36m__getitem__\u001b[1;34m(self, key)\u001b[0m\n\u001b[0;32m   4278\u001b[0m         \u001b[1;32mif\u001b[0m \u001b[0mis_scalar\u001b[0m\u001b[1;33m(\u001b[0m\u001b[0mkey\u001b[0m\u001b[1;33m)\u001b[0m\u001b[1;33m:\u001b[0m\u001b[1;33m\u001b[0m\u001b[1;33m\u001b[0m\u001b[0m\n\u001b[0;32m   4279\u001b[0m             \u001b[0mkey\u001b[0m \u001b[1;33m=\u001b[0m \u001b[0mcom\u001b[0m\u001b[1;33m.\u001b[0m\u001b[0mcast_scalar_indexer\u001b[0m\u001b[1;33m(\u001b[0m\u001b[0mkey\u001b[0m\u001b[1;33m)\u001b[0m\u001b[1;33m\u001b[0m\u001b[1;33m\u001b[0m\u001b[0m\n\u001b[1;32m-> 4280\u001b[1;33m             \u001b[1;32mreturn\u001b[0m \u001b[0mgetitem\u001b[0m\u001b[1;33m(\u001b[0m\u001b[0mkey\u001b[0m\u001b[1;33m)\u001b[0m\u001b[1;33m\u001b[0m\u001b[1;33m\u001b[0m\u001b[0m\n\u001b[0m\u001b[0;32m   4281\u001b[0m \u001b[1;33m\u001b[0m\u001b[0m\n\u001b[0;32m   4282\u001b[0m         \u001b[1;32mif\u001b[0m \u001b[0misinstance\u001b[0m\u001b[1;33m(\u001b[0m\u001b[0mkey\u001b[0m\u001b[1;33m,\u001b[0m \u001b[0mslice\u001b[0m\u001b[1;33m)\u001b[0m\u001b[1;33m:\u001b[0m\u001b[1;33m\u001b[0m\u001b[1;33m\u001b[0m\u001b[0m\n",
      "\u001b[1;31mIndexError\u001b[0m: only integers, slices (`:`), ellipsis (`...`), numpy.newaxis (`None`) and integer or boolean arrays are valid indices"
     ]
    }
   ],
   "source": [
    "sal.columns['workspace']"
   ]
  },
  {
   "cell_type": "code",
   "execution_count": 6,
   "metadata": {
    "colab": {},
    "colab_type": "code",
    "id": "RjJ9wstc09WT",
    "outputId": "2948578d-672f-4888-c619-4da4f34b6fd3"
   },
   "outputs": [
    {
     "data": {
      "text/plain": [
       "age                int64\n",
       "workclass         object\n",
       "fnlwgt             int64\n",
       "education         object\n",
       "education-num      int64\n",
       "marital-status    object\n",
       "occupation        object\n",
       "relationship      object\n",
       "race              object\n",
       "sex               object\n",
       "capital-gain       int64\n",
       "capital-loss       int64\n",
       "hours-per-week     int64\n",
       "native-country    object\n",
       "income            object\n",
       "dtype: object"
      ]
     },
     "execution_count": 6,
     "metadata": {},
     "output_type": "execute_result"
    }
   ],
   "source": [
    "# examine the datatypes of the columns\n",
    "sal.dtypes\n",
    "# note that these were automatically inferred by pandas upon import!\n"
   ]
  },
  {
   "cell_type": "code",
   "execution_count": 0,
   "metadata": {
    "colab": {},
    "colab_type": "code",
    "id": "OlNPk--709WX"
   },
   "outputs": [],
   "source": []
  },
  {
   "cell_type": "code",
   "execution_count": 7,
   "metadata": {
    "colab": {},
    "colab_type": "code",
    "id": "0HCizPgX09Wc",
    "outputId": "804946da-38af-46b2-e606-fde6eabe5711"
   },
   "outputs": [
    {
     "data": {
      "text/plain": [
       "pandas.core.frame.DataFrame"
      ]
     },
     "execution_count": 7,
     "metadata": {},
     "output_type": "execute_result"
    }
   ],
   "source": [
    "type(sal)"
   ]
  },
  {
   "cell_type": "code",
   "execution_count": 8,
   "metadata": {
    "colab": {},
    "colab_type": "code",
    "id": "dCWxCeC-09Wh",
    "outputId": "18459ee3-9d5f-4495-c965-6cd3f558f7cd"
   },
   "outputs": [
    {
     "data": {
      "text/plain": [
       "(48842, 15)"
      ]
     },
     "execution_count": 8,
     "metadata": {},
     "output_type": "execute_result"
    }
   ],
   "source": [
    "sal.shape"
   ]
  },
  {
   "cell_type": "code",
   "execution_count": 9,
   "metadata": {
    "colab": {},
    "colab_type": "code",
    "id": "m_0VZkOL09Wk",
    "outputId": "1bbcffd9-4061-4fd9-80cb-b6dc37111450"
   },
   "outputs": [
    {
     "data": {
      "text/plain": [
       "48842"
      ]
     },
     "execution_count": 9,
     "metadata": {},
     "output_type": "execute_result"
    }
   ],
   "source": [
    "sal.shape[0]"
   ]
  },
  {
   "cell_type": "code",
   "execution_count": 10,
   "metadata": {
    "colab": {},
    "colab_type": "code",
    "id": "lnxBfTLf09Wp",
    "outputId": "f535adfe-d325-490e-b725-adae4a35379c"
   },
   "outputs": [
    {
     "data": {
      "text/plain": [
       "15"
      ]
     },
     "execution_count": 10,
     "metadata": {},
     "output_type": "execute_result"
    }
   ],
   "source": [
    "sal.shape[1]"
   ]
  },
  {
   "cell_type": "code",
   "execution_count": 11,
   "metadata": {
    "colab": {},
    "colab_type": "code",
    "id": "Paerf6HR09Wt",
    "outputId": "c0024e7f-cd9b-4d91-94b1-698978c535ac"
   },
   "outputs": [
    {
     "data": {
      "text/plain": [
       "RangeIndex(start=0, stop=48842, step=1)"
      ]
     },
     "execution_count": 11,
     "metadata": {},
     "output_type": "execute_result"
    }
   ],
   "source": [
    "sal.index"
   ]
  },
  {
   "cell_type": "code",
   "execution_count": 12,
   "metadata": {
    "colab": {},
    "colab_type": "code",
    "id": "RztFk3rv09Wx",
    "outputId": "77fb4f47-d7bc-4d4d-cd4d-bb565829e5ac"
   },
   "outputs": [
    {
     "name": "stdout",
     "output_type": "stream",
     "text": [
      "None\n"
     ]
    }
   ],
   "source": [
    "print(sal.index.name)"
   ]
  },
  {
   "cell_type": "code",
   "execution_count": 13,
   "metadata": {
    "colab": {},
    "colab_type": "code",
    "id": "HOxUVqPi09W0",
    "outputId": "6d52834a-a1c1-4c1e-c50d-8e65b5cf1de5"
   },
   "outputs": [
    {
     "data": {
      "text/html": [
       "<div>\n",
       "<style scoped>\n",
       "    .dataframe tbody tr th:only-of-type {\n",
       "        vertical-align: middle;\n",
       "    }\n",
       "\n",
       "    .dataframe tbody tr th {\n",
       "        vertical-align: top;\n",
       "    }\n",
       "\n",
       "    .dataframe thead th {\n",
       "        text-align: right;\n",
       "    }\n",
       "</style>\n",
       "<table border=\"1\" class=\"dataframe\">\n",
       "  <thead>\n",
       "    <tr style=\"text-align: right;\">\n",
       "      <th></th>\n",
       "      <th>workclass</th>\n",
       "      <th>fnlwgt</th>\n",
       "      <th>education</th>\n",
       "      <th>education-num</th>\n",
       "      <th>marital-status</th>\n",
       "      <th>occupation</th>\n",
       "      <th>relationship</th>\n",
       "      <th>race</th>\n",
       "      <th>sex</th>\n",
       "      <th>capital-gain</th>\n",
       "      <th>capital-loss</th>\n",
       "      <th>hours-per-week</th>\n",
       "      <th>native-country</th>\n",
       "      <th>income</th>\n",
       "    </tr>\n",
       "    <tr>\n",
       "      <th>age</th>\n",
       "      <th></th>\n",
       "      <th></th>\n",
       "      <th></th>\n",
       "      <th></th>\n",
       "      <th></th>\n",
       "      <th></th>\n",
       "      <th></th>\n",
       "      <th></th>\n",
       "      <th></th>\n",
       "      <th></th>\n",
       "      <th></th>\n",
       "      <th></th>\n",
       "      <th></th>\n",
       "      <th></th>\n",
       "    </tr>\n",
       "  </thead>\n",
       "  <tbody>\n",
       "    <tr>\n",
       "      <td>39</td>\n",
       "      <td>State-gov</td>\n",
       "      <td>77516</td>\n",
       "      <td>Bachelors</td>\n",
       "      <td>13</td>\n",
       "      <td>Never-married</td>\n",
       "      <td>Adm-clerical</td>\n",
       "      <td>Not-in-family</td>\n",
       "      <td>White</td>\n",
       "      <td>Male</td>\n",
       "      <td>2174</td>\n",
       "      <td>0</td>\n",
       "      <td>40</td>\n",
       "      <td>United-States</td>\n",
       "      <td>small</td>\n",
       "    </tr>\n",
       "    <tr>\n",
       "      <td>50</td>\n",
       "      <td>Self-emp-not-inc</td>\n",
       "      <td>83311</td>\n",
       "      <td>Bachelors</td>\n",
       "      <td>13</td>\n",
       "      <td>Married-civ-spouse</td>\n",
       "      <td>Exec-managerial</td>\n",
       "      <td>Husband</td>\n",
       "      <td>White</td>\n",
       "      <td>Male</td>\n",
       "      <td>0</td>\n",
       "      <td>0</td>\n",
       "      <td>13</td>\n",
       "      <td>United-States</td>\n",
       "      <td>small</td>\n",
       "    </tr>\n",
       "    <tr>\n",
       "      <td>38</td>\n",
       "      <td>Private</td>\n",
       "      <td>215646</td>\n",
       "      <td>HS-grad</td>\n",
       "      <td>9</td>\n",
       "      <td>Divorced</td>\n",
       "      <td>Handlers-cleaners</td>\n",
       "      <td>Not-in-family</td>\n",
       "      <td>White</td>\n",
       "      <td>Male</td>\n",
       "      <td>0</td>\n",
       "      <td>0</td>\n",
       "      <td>40</td>\n",
       "      <td>United-States</td>\n",
       "      <td>small</td>\n",
       "    </tr>\n",
       "    <tr>\n",
       "      <td>53</td>\n",
       "      <td>Private</td>\n",
       "      <td>234721</td>\n",
       "      <td>11th</td>\n",
       "      <td>7</td>\n",
       "      <td>Married-civ-spouse</td>\n",
       "      <td>Handlers-cleaners</td>\n",
       "      <td>Husband</td>\n",
       "      <td>Black</td>\n",
       "      <td>Male</td>\n",
       "      <td>0</td>\n",
       "      <td>0</td>\n",
       "      <td>40</td>\n",
       "      <td>United-States</td>\n",
       "      <td>small</td>\n",
       "    </tr>\n",
       "    <tr>\n",
       "      <td>28</td>\n",
       "      <td>Private</td>\n",
       "      <td>338409</td>\n",
       "      <td>Bachelors</td>\n",
       "      <td>13</td>\n",
       "      <td>Married-civ-spouse</td>\n",
       "      <td>Prof-specialty</td>\n",
       "      <td>Wife</td>\n",
       "      <td>Black</td>\n",
       "      <td>Female</td>\n",
       "      <td>0</td>\n",
       "      <td>0</td>\n",
       "      <td>40</td>\n",
       "      <td>Cuba</td>\n",
       "      <td>small</td>\n",
       "    </tr>\n",
       "    <tr>\n",
       "      <td>...</td>\n",
       "      <td>...</td>\n",
       "      <td>...</td>\n",
       "      <td>...</td>\n",
       "      <td>...</td>\n",
       "      <td>...</td>\n",
       "      <td>...</td>\n",
       "      <td>...</td>\n",
       "      <td>...</td>\n",
       "      <td>...</td>\n",
       "      <td>...</td>\n",
       "      <td>...</td>\n",
       "      <td>...</td>\n",
       "      <td>...</td>\n",
       "      <td>...</td>\n",
       "    </tr>\n",
       "    <tr>\n",
       "      <td>39</td>\n",
       "      <td>Private</td>\n",
       "      <td>215419</td>\n",
       "      <td>Bachelors</td>\n",
       "      <td>13</td>\n",
       "      <td>Divorced</td>\n",
       "      <td>Prof-specialty</td>\n",
       "      <td>Not-in-family</td>\n",
       "      <td>White</td>\n",
       "      <td>Female</td>\n",
       "      <td>0</td>\n",
       "      <td>0</td>\n",
       "      <td>36</td>\n",
       "      <td>United-States</td>\n",
       "      <td>NaN</td>\n",
       "    </tr>\n",
       "    <tr>\n",
       "      <td>64</td>\n",
       "      <td>NaN</td>\n",
       "      <td>321403</td>\n",
       "      <td>HS-grad</td>\n",
       "      <td>9</td>\n",
       "      <td>Widowed</td>\n",
       "      <td>NaN</td>\n",
       "      <td>Other-relative</td>\n",
       "      <td>Black</td>\n",
       "      <td>Male</td>\n",
       "      <td>0</td>\n",
       "      <td>0</td>\n",
       "      <td>40</td>\n",
       "      <td>United-States</td>\n",
       "      <td>NaN</td>\n",
       "    </tr>\n",
       "    <tr>\n",
       "      <td>38</td>\n",
       "      <td>Private</td>\n",
       "      <td>374983</td>\n",
       "      <td>Bachelors</td>\n",
       "      <td>13</td>\n",
       "      <td>Married-civ-spouse</td>\n",
       "      <td>Prof-specialty</td>\n",
       "      <td>Husband</td>\n",
       "      <td>White</td>\n",
       "      <td>Male</td>\n",
       "      <td>0</td>\n",
       "      <td>0</td>\n",
       "      <td>50</td>\n",
       "      <td>United-States</td>\n",
       "      <td>NaN</td>\n",
       "    </tr>\n",
       "    <tr>\n",
       "      <td>44</td>\n",
       "      <td>Private</td>\n",
       "      <td>83891</td>\n",
       "      <td>Bachelors</td>\n",
       "      <td>13</td>\n",
       "      <td>Divorced</td>\n",
       "      <td>Adm-clerical</td>\n",
       "      <td>Own-child</td>\n",
       "      <td>Asian-Pac-Islander</td>\n",
       "      <td>Male</td>\n",
       "      <td>5455</td>\n",
       "      <td>0</td>\n",
       "      <td>40</td>\n",
       "      <td>United-States</td>\n",
       "      <td>NaN</td>\n",
       "    </tr>\n",
       "    <tr>\n",
       "      <td>35</td>\n",
       "      <td>Self-emp-inc</td>\n",
       "      <td>182148</td>\n",
       "      <td>Bachelors</td>\n",
       "      <td>13</td>\n",
       "      <td>Married-civ-spouse</td>\n",
       "      <td>Exec-managerial</td>\n",
       "      <td>Husband</td>\n",
       "      <td>White</td>\n",
       "      <td>Male</td>\n",
       "      <td>0</td>\n",
       "      <td>0</td>\n",
       "      <td>60</td>\n",
       "      <td>United-States</td>\n",
       "      <td>NaN</td>\n",
       "    </tr>\n",
       "  </tbody>\n",
       "</table>\n",
       "<p>48842 rows × 14 columns</p>\n",
       "</div>"
      ],
      "text/plain": [
       "            workclass  fnlwgt  education  education-num      marital-status  \\\n",
       "age                                                                           \n",
       "39          State-gov   77516  Bachelors             13       Never-married   \n",
       "50   Self-emp-not-inc   83311  Bachelors             13  Married-civ-spouse   \n",
       "38            Private  215646    HS-grad              9            Divorced   \n",
       "53            Private  234721       11th              7  Married-civ-spouse   \n",
       "28            Private  338409  Bachelors             13  Married-civ-spouse   \n",
       "..                ...     ...        ...            ...                 ...   \n",
       "39            Private  215419  Bachelors             13            Divorced   \n",
       "64                NaN  321403    HS-grad              9             Widowed   \n",
       "38            Private  374983  Bachelors             13  Married-civ-spouse   \n",
       "44            Private   83891  Bachelors             13            Divorced   \n",
       "35       Self-emp-inc  182148  Bachelors             13  Married-civ-spouse   \n",
       "\n",
       "            occupation    relationship                race     sex  \\\n",
       "age                                                                  \n",
       "39        Adm-clerical   Not-in-family               White    Male   \n",
       "50     Exec-managerial         Husband               White    Male   \n",
       "38   Handlers-cleaners   Not-in-family               White    Male   \n",
       "53   Handlers-cleaners         Husband               Black    Male   \n",
       "28      Prof-specialty            Wife               Black  Female   \n",
       "..                 ...             ...                 ...     ...   \n",
       "39      Prof-specialty   Not-in-family               White  Female   \n",
       "64                 NaN  Other-relative               Black    Male   \n",
       "38      Prof-specialty         Husband               White    Male   \n",
       "44        Adm-clerical       Own-child  Asian-Pac-Islander    Male   \n",
       "35     Exec-managerial         Husband               White    Male   \n",
       "\n",
       "     capital-gain  capital-loss  hours-per-week native-country income  \n",
       "age                                                                    \n",
       "39           2174             0              40  United-States  small  \n",
       "50              0             0              13  United-States  small  \n",
       "38              0             0              40  United-States  small  \n",
       "53              0             0              40  United-States  small  \n",
       "28              0             0              40           Cuba  small  \n",
       "..            ...           ...             ...            ...    ...  \n",
       "39              0             0              36  United-States    NaN  \n",
       "64              0             0              40  United-States    NaN  \n",
       "38              0             0              50  United-States    NaN  \n",
       "44           5455             0              40  United-States    NaN  \n",
       "35              0             0              60  United-States    NaN  \n",
       "\n",
       "[48842 rows x 14 columns]"
      ]
     },
     "execution_count": 13,
     "metadata": {},
     "output_type": "execute_result"
    }
   ],
   "source": [
    "sal.set_index('age', inplace=False)"
   ]
  },
  {
   "cell_type": "code",
   "execution_count": 14,
   "metadata": {
    "colab": {},
    "colab_type": "code",
    "id": "9PcRyjIi09W6",
    "outputId": "9d7e9448-de74-45f6-8f7b-3410ff58f2b3"
   },
   "outputs": [
    {
     "data": {
      "text/html": [
       "<div>\n",
       "<style scoped>\n",
       "    .dataframe tbody tr th:only-of-type {\n",
       "        vertical-align: middle;\n",
       "    }\n",
       "\n",
       "    .dataframe tbody tr th {\n",
       "        vertical-align: top;\n",
       "    }\n",
       "\n",
       "    .dataframe thead th {\n",
       "        text-align: right;\n",
       "    }\n",
       "</style>\n",
       "<table border=\"1\" class=\"dataframe\">\n",
       "  <thead>\n",
       "    <tr style=\"text-align: right;\">\n",
       "      <th></th>\n",
       "      <th>age</th>\n",
       "      <th>workclass</th>\n",
       "      <th>fnlwgt</th>\n",
       "      <th>education</th>\n",
       "      <th>education-num</th>\n",
       "      <th>marital-status</th>\n",
       "      <th>occupation</th>\n",
       "      <th>relationship</th>\n",
       "      <th>race</th>\n",
       "      <th>sex</th>\n",
       "      <th>capital-gain</th>\n",
       "      <th>capital-loss</th>\n",
       "      <th>hours-per-week</th>\n",
       "      <th>native-country</th>\n",
       "      <th>income</th>\n",
       "    </tr>\n",
       "  </thead>\n",
       "  <tbody>\n",
       "    <tr>\n",
       "      <td>0</td>\n",
       "      <td>39</td>\n",
       "      <td>State-gov</td>\n",
       "      <td>77516</td>\n",
       "      <td>Bachelors</td>\n",
       "      <td>13</td>\n",
       "      <td>Never-married</td>\n",
       "      <td>Adm-clerical</td>\n",
       "      <td>Not-in-family</td>\n",
       "      <td>White</td>\n",
       "      <td>Male</td>\n",
       "      <td>2174</td>\n",
       "      <td>0</td>\n",
       "      <td>40</td>\n",
       "      <td>United-States</td>\n",
       "      <td>small</td>\n",
       "    </tr>\n",
       "    <tr>\n",
       "      <td>1</td>\n",
       "      <td>50</td>\n",
       "      <td>Self-emp-not-inc</td>\n",
       "      <td>83311</td>\n",
       "      <td>Bachelors</td>\n",
       "      <td>13</td>\n",
       "      <td>Married-civ-spouse</td>\n",
       "      <td>Exec-managerial</td>\n",
       "      <td>Husband</td>\n",
       "      <td>White</td>\n",
       "      <td>Male</td>\n",
       "      <td>0</td>\n",
       "      <td>0</td>\n",
       "      <td>13</td>\n",
       "      <td>United-States</td>\n",
       "      <td>small</td>\n",
       "    </tr>\n",
       "    <tr>\n",
       "      <td>2</td>\n",
       "      <td>38</td>\n",
       "      <td>Private</td>\n",
       "      <td>215646</td>\n",
       "      <td>HS-grad</td>\n",
       "      <td>9</td>\n",
       "      <td>Divorced</td>\n",
       "      <td>Handlers-cleaners</td>\n",
       "      <td>Not-in-family</td>\n",
       "      <td>White</td>\n",
       "      <td>Male</td>\n",
       "      <td>0</td>\n",
       "      <td>0</td>\n",
       "      <td>40</td>\n",
       "      <td>United-States</td>\n",
       "      <td>small</td>\n",
       "    </tr>\n",
       "    <tr>\n",
       "      <td>3</td>\n",
       "      <td>53</td>\n",
       "      <td>Private</td>\n",
       "      <td>234721</td>\n",
       "      <td>11th</td>\n",
       "      <td>7</td>\n",
       "      <td>Married-civ-spouse</td>\n",
       "      <td>Handlers-cleaners</td>\n",
       "      <td>Husband</td>\n",
       "      <td>Black</td>\n",
       "      <td>Male</td>\n",
       "      <td>0</td>\n",
       "      <td>0</td>\n",
       "      <td>40</td>\n",
       "      <td>United-States</td>\n",
       "      <td>small</td>\n",
       "    </tr>\n",
       "    <tr>\n",
       "      <td>4</td>\n",
       "      <td>28</td>\n",
       "      <td>Private</td>\n",
       "      <td>338409</td>\n",
       "      <td>Bachelors</td>\n",
       "      <td>13</td>\n",
       "      <td>Married-civ-spouse</td>\n",
       "      <td>Prof-specialty</td>\n",
       "      <td>Wife</td>\n",
       "      <td>Black</td>\n",
       "      <td>Female</td>\n",
       "      <td>0</td>\n",
       "      <td>0</td>\n",
       "      <td>40</td>\n",
       "      <td>Cuba</td>\n",
       "      <td>small</td>\n",
       "    </tr>\n",
       "    <tr>\n",
       "      <td>...</td>\n",
       "      <td>...</td>\n",
       "      <td>...</td>\n",
       "      <td>...</td>\n",
       "      <td>...</td>\n",
       "      <td>...</td>\n",
       "      <td>...</td>\n",
       "      <td>...</td>\n",
       "      <td>...</td>\n",
       "      <td>...</td>\n",
       "      <td>...</td>\n",
       "      <td>...</td>\n",
       "      <td>...</td>\n",
       "      <td>...</td>\n",
       "      <td>...</td>\n",
       "      <td>...</td>\n",
       "    </tr>\n",
       "    <tr>\n",
       "      <td>48837</td>\n",
       "      <td>39</td>\n",
       "      <td>Private</td>\n",
       "      <td>215419</td>\n",
       "      <td>Bachelors</td>\n",
       "      <td>13</td>\n",
       "      <td>Divorced</td>\n",
       "      <td>Prof-specialty</td>\n",
       "      <td>Not-in-family</td>\n",
       "      <td>White</td>\n",
       "      <td>Female</td>\n",
       "      <td>0</td>\n",
       "      <td>0</td>\n",
       "      <td>36</td>\n",
       "      <td>United-States</td>\n",
       "      <td>NaN</td>\n",
       "    </tr>\n",
       "    <tr>\n",
       "      <td>48838</td>\n",
       "      <td>64</td>\n",
       "      <td>NaN</td>\n",
       "      <td>321403</td>\n",
       "      <td>HS-grad</td>\n",
       "      <td>9</td>\n",
       "      <td>Widowed</td>\n",
       "      <td>NaN</td>\n",
       "      <td>Other-relative</td>\n",
       "      <td>Black</td>\n",
       "      <td>Male</td>\n",
       "      <td>0</td>\n",
       "      <td>0</td>\n",
       "      <td>40</td>\n",
       "      <td>United-States</td>\n",
       "      <td>NaN</td>\n",
       "    </tr>\n",
       "    <tr>\n",
       "      <td>48839</td>\n",
       "      <td>38</td>\n",
       "      <td>Private</td>\n",
       "      <td>374983</td>\n",
       "      <td>Bachelors</td>\n",
       "      <td>13</td>\n",
       "      <td>Married-civ-spouse</td>\n",
       "      <td>Prof-specialty</td>\n",
       "      <td>Husband</td>\n",
       "      <td>White</td>\n",
       "      <td>Male</td>\n",
       "      <td>0</td>\n",
       "      <td>0</td>\n",
       "      <td>50</td>\n",
       "      <td>United-States</td>\n",
       "      <td>NaN</td>\n",
       "    </tr>\n",
       "    <tr>\n",
       "      <td>48840</td>\n",
       "      <td>44</td>\n",
       "      <td>Private</td>\n",
       "      <td>83891</td>\n",
       "      <td>Bachelors</td>\n",
       "      <td>13</td>\n",
       "      <td>Divorced</td>\n",
       "      <td>Adm-clerical</td>\n",
       "      <td>Own-child</td>\n",
       "      <td>Asian-Pac-Islander</td>\n",
       "      <td>Male</td>\n",
       "      <td>5455</td>\n",
       "      <td>0</td>\n",
       "      <td>40</td>\n",
       "      <td>United-States</td>\n",
       "      <td>NaN</td>\n",
       "    </tr>\n",
       "    <tr>\n",
       "      <td>48841</td>\n",
       "      <td>35</td>\n",
       "      <td>Self-emp-inc</td>\n",
       "      <td>182148</td>\n",
       "      <td>Bachelors</td>\n",
       "      <td>13</td>\n",
       "      <td>Married-civ-spouse</td>\n",
       "      <td>Exec-managerial</td>\n",
       "      <td>Husband</td>\n",
       "      <td>White</td>\n",
       "      <td>Male</td>\n",
       "      <td>0</td>\n",
       "      <td>0</td>\n",
       "      <td>60</td>\n",
       "      <td>United-States</td>\n",
       "      <td>NaN</td>\n",
       "    </tr>\n",
       "  </tbody>\n",
       "</table>\n",
       "<p>48842 rows × 15 columns</p>\n",
       "</div>"
      ],
      "text/plain": [
       "       age         workclass  fnlwgt  education  education-num  \\\n",
       "0       39         State-gov   77516  Bachelors             13   \n",
       "1       50  Self-emp-not-inc   83311  Bachelors             13   \n",
       "2       38           Private  215646    HS-grad              9   \n",
       "3       53           Private  234721       11th              7   \n",
       "4       28           Private  338409  Bachelors             13   \n",
       "...    ...               ...     ...        ...            ...   \n",
       "48837   39           Private  215419  Bachelors             13   \n",
       "48838   64               NaN  321403    HS-grad              9   \n",
       "48839   38           Private  374983  Bachelors             13   \n",
       "48840   44           Private   83891  Bachelors             13   \n",
       "48841   35      Self-emp-inc  182148  Bachelors             13   \n",
       "\n",
       "           marital-status         occupation    relationship  \\\n",
       "0           Never-married       Adm-clerical   Not-in-family   \n",
       "1      Married-civ-spouse    Exec-managerial         Husband   \n",
       "2                Divorced  Handlers-cleaners   Not-in-family   \n",
       "3      Married-civ-spouse  Handlers-cleaners         Husband   \n",
       "4      Married-civ-spouse     Prof-specialty            Wife   \n",
       "...                   ...                ...             ...   \n",
       "48837            Divorced     Prof-specialty   Not-in-family   \n",
       "48838             Widowed                NaN  Other-relative   \n",
       "48839  Married-civ-spouse     Prof-specialty         Husband   \n",
       "48840            Divorced       Adm-clerical       Own-child   \n",
       "48841  Married-civ-spouse    Exec-managerial         Husband   \n",
       "\n",
       "                     race     sex  capital-gain  capital-loss  hours-per-week  \\\n",
       "0                   White    Male          2174             0              40   \n",
       "1                   White    Male             0             0              13   \n",
       "2                   White    Male             0             0              40   \n",
       "3                   Black    Male             0             0              40   \n",
       "4                   Black  Female             0             0              40   \n",
       "...                   ...     ...           ...           ...             ...   \n",
       "48837               White  Female             0             0              36   \n",
       "48838               Black    Male             0             0              40   \n",
       "48839               White    Male             0             0              50   \n",
       "48840  Asian-Pac-Islander    Male          5455             0              40   \n",
       "48841               White    Male             0             0              60   \n",
       "\n",
       "      native-country income  \n",
       "0      United-States  small  \n",
       "1      United-States  small  \n",
       "2      United-States  small  \n",
       "3      United-States  small  \n",
       "4               Cuba  small  \n",
       "...              ...    ...  \n",
       "48837  United-States    NaN  \n",
       "48838  United-States    NaN  \n",
       "48839  United-States    NaN  \n",
       "48840  United-States    NaN  \n",
       "48841  United-States    NaN  \n",
       "\n",
       "[48842 rows x 15 columns]"
      ]
     },
     "execution_count": 14,
     "metadata": {},
     "output_type": "execute_result"
    }
   ],
   "source": [
    "sal"
   ]
  },
  {
   "cell_type": "code",
   "execution_count": 15,
   "metadata": {
    "colab": {
     "base_uri": "https://localhost:8080/",
     "height": 35
    },
    "colab_type": "code",
    "executionInfo": {
     "elapsed": 1173,
     "status": "ok",
     "timestamp": 1576084629882,
     "user": {
      "displayName": "Muhammad Al-Qurishi",
      "photoUrl": "",
      "userId": "15490889894361043466"
     },
     "user_tz": -180
    },
    "id": "Rb58JKRa09W9",
    "outputId": "004d950f-ad2c-4c49-df90-97aaef494ca1"
   },
   "outputs": [
    {
     "data": {
      "text/plain": [
       "RangeIndex(start=0, stop=48842, step=1)"
      ]
     },
     "execution_count": 15,
     "metadata": {},
     "output_type": "execute_result"
    }
   ],
   "source": [
    "sal.index"
   ]
  },
  {
   "cell_type": "code",
   "execution_count": 16,
   "metadata": {
    "colab": {
     "base_uri": "https://localhost:8080/",
     "height": 300
    },
    "colab_type": "code",
    "executionInfo": {
     "elapsed": 1493,
     "status": "ok",
     "timestamp": 1576084669610,
     "user": {
      "displayName": "Muhammad Al-Qurishi",
      "photoUrl": "",
      "userId": "15490889894361043466"
     },
     "user_tz": -180
    },
    "id": "b_UknQHU9wAa",
    "outputId": "75bea19b-b351-4b30-831d-7adc83076796"
   },
   "outputs": [
    {
     "data": {
      "text/html": [
       "<div>\n",
       "<style scoped>\n",
       "    .dataframe tbody tr th:only-of-type {\n",
       "        vertical-align: middle;\n",
       "    }\n",
       "\n",
       "    .dataframe tbody tr th {\n",
       "        vertical-align: top;\n",
       "    }\n",
       "\n",
       "    .dataframe thead th {\n",
       "        text-align: right;\n",
       "    }\n",
       "</style>\n",
       "<table border=\"1\" class=\"dataframe\">\n",
       "  <thead>\n",
       "    <tr style=\"text-align: right;\">\n",
       "      <th></th>\n",
       "      <th>age</th>\n",
       "      <th>fnlwgt</th>\n",
       "      <th>education-num</th>\n",
       "      <th>capital-gain</th>\n",
       "      <th>capital-loss</th>\n",
       "      <th>hours-per-week</th>\n",
       "    </tr>\n",
       "  </thead>\n",
       "  <tbody>\n",
       "    <tr>\n",
       "      <td>count</td>\n",
       "      <td>48842.000000</td>\n",
       "      <td>4.884200e+04</td>\n",
       "      <td>48842.000000</td>\n",
       "      <td>48842.000000</td>\n",
       "      <td>48842.000000</td>\n",
       "      <td>48842.000000</td>\n",
       "    </tr>\n",
       "    <tr>\n",
       "      <td>mean</td>\n",
       "      <td>38.643585</td>\n",
       "      <td>1.896641e+05</td>\n",
       "      <td>10.078089</td>\n",
       "      <td>1079.067626</td>\n",
       "      <td>87.502314</td>\n",
       "      <td>40.422382</td>\n",
       "    </tr>\n",
       "    <tr>\n",
       "      <td>std</td>\n",
       "      <td>13.710510</td>\n",
       "      <td>1.056040e+05</td>\n",
       "      <td>2.570973</td>\n",
       "      <td>7452.019058</td>\n",
       "      <td>403.004552</td>\n",
       "      <td>12.391444</td>\n",
       "    </tr>\n",
       "    <tr>\n",
       "      <td>min</td>\n",
       "      <td>17.000000</td>\n",
       "      <td>1.228500e+04</td>\n",
       "      <td>1.000000</td>\n",
       "      <td>0.000000</td>\n",
       "      <td>0.000000</td>\n",
       "      <td>1.000000</td>\n",
       "    </tr>\n",
       "    <tr>\n",
       "      <td>25%</td>\n",
       "      <td>28.000000</td>\n",
       "      <td>1.175505e+05</td>\n",
       "      <td>9.000000</td>\n",
       "      <td>0.000000</td>\n",
       "      <td>0.000000</td>\n",
       "      <td>40.000000</td>\n",
       "    </tr>\n",
       "    <tr>\n",
       "      <td>50%</td>\n",
       "      <td>37.000000</td>\n",
       "      <td>1.781445e+05</td>\n",
       "      <td>10.000000</td>\n",
       "      <td>0.000000</td>\n",
       "      <td>0.000000</td>\n",
       "      <td>40.000000</td>\n",
       "    </tr>\n",
       "    <tr>\n",
       "      <td>75%</td>\n",
       "      <td>48.000000</td>\n",
       "      <td>2.376420e+05</td>\n",
       "      <td>12.000000</td>\n",
       "      <td>0.000000</td>\n",
       "      <td>0.000000</td>\n",
       "      <td>45.000000</td>\n",
       "    </tr>\n",
       "    <tr>\n",
       "      <td>max</td>\n",
       "      <td>90.000000</td>\n",
       "      <td>1.490400e+06</td>\n",
       "      <td>16.000000</td>\n",
       "      <td>99999.000000</td>\n",
       "      <td>4356.000000</td>\n",
       "      <td>99.000000</td>\n",
       "    </tr>\n",
       "  </tbody>\n",
       "</table>\n",
       "</div>"
      ],
      "text/plain": [
       "                age        fnlwgt  education-num  capital-gain  capital-loss  \\\n",
       "count  48842.000000  4.884200e+04   48842.000000  48842.000000  48842.000000   \n",
       "mean      38.643585  1.896641e+05      10.078089   1079.067626     87.502314   \n",
       "std       13.710510  1.056040e+05       2.570973   7452.019058    403.004552   \n",
       "min       17.000000  1.228500e+04       1.000000      0.000000      0.000000   \n",
       "25%       28.000000  1.175505e+05       9.000000      0.000000      0.000000   \n",
       "50%       37.000000  1.781445e+05      10.000000      0.000000      0.000000   \n",
       "75%       48.000000  2.376420e+05      12.000000      0.000000      0.000000   \n",
       "max       90.000000  1.490400e+06      16.000000  99999.000000   4356.000000   \n",
       "\n",
       "       hours-per-week  \n",
       "count    48842.000000  \n",
       "mean        40.422382  \n",
       "std         12.391444  \n",
       "min          1.000000  \n",
       "25%         40.000000  \n",
       "50%         40.000000  \n",
       "75%         45.000000  \n",
       "max         99.000000  "
      ]
     },
     "execution_count": 16,
     "metadata": {},
     "output_type": "execute_result"
    }
   ],
   "source": [
    "sal.describe()"
   ]
  },
  {
   "cell_type": "code",
   "execution_count": 41,
   "metadata": {},
   "outputs": [
    {
     "data": {
      "text/plain": [
       "array([39, 50, 38, 53, 28, 37, 49, 52, 31, 42, 30, 23, 32, 40, 34, 25, 43,\n",
       "       54, 35, 59, 56, 19, 20, 45, 22, 48, 21, 24, 57, 44, 41, 29, 18, 47,\n",
       "       46, 36, 79, 27, 67, 33, 76, 17, 55, 61, 70, 64, 71, 68, 66, 51, 58,\n",
       "       26, 60, 90, 75, 65, 77, 62, 63, 80, 72, 74, 69, 73, 81, 78, 88, 82,\n",
       "       83, 84, 85, 86, 87, 89], dtype=int64)"
      ]
     },
     "execution_count": 41,
     "metadata": {},
     "output_type": "execute_result"
    }
   ],
   "source": [
    "sal.age.unique()"
   ]
  },
  {
   "cell_type": "code",
   "execution_count": 43,
   "metadata": {},
   "outputs": [
    {
     "data": {
      "text/plain": [
       "array([ 77516,  83311, 215646, ..., 173449,  89686, 350977], dtype=int64)"
      ]
     },
     "execution_count": 43,
     "metadata": {},
     "output_type": "execute_result"
    }
   ],
   "source": [
    "sal.fnlwgt.unique()"
   ]
  },
  {
   "cell_type": "code",
   "execution_count": 17,
   "metadata": {
    "colab": {
     "base_uri": "https://localhost:8080/",
     "height": 72
    },
    "colab_type": "code",
    "executionInfo": {
     "elapsed": 1103,
     "status": "ok",
     "timestamp": 1576084828837,
     "user": {
      "displayName": "Muhammad Al-Qurishi",
      "photoUrl": "",
      "userId": "15490889894361043466"
     },
     "user_tz": -180
    },
    "id": "Z0d0HRfy-Qxe",
    "outputId": "f1269955-b718-4b26-c966-b0aedfbe35eb"
   },
   "outputs": [
    {
     "data": {
      "text/plain": [
       "array(['Bachelors', 'HS-grad', '11th', 'Masters', '9th', 'Some-college',\n",
       "       'Assoc-acdm', 'Assoc-voc', '7th-8th', 'Doctorate', 'Prof-school',\n",
       "       '5th-6th', '10th', '1st-4th', 'Preschool', '12th'], dtype=object)"
      ]
     },
     "execution_count": 17,
     "metadata": {},
     "output_type": "execute_result"
    }
   ],
   "source": [
    "sal.education.unique()"
   ]
  },
  {
   "cell_type": "code",
   "execution_count": 18,
   "metadata": {
    "colab": {
     "base_uri": "https://localhost:8080/",
     "height": 72
    },
    "colab_type": "code",
    "executionInfo": {
     "elapsed": 702,
     "status": "ok",
     "timestamp": 1576084869134,
     "user": {
      "displayName": "Muhammad Al-Qurishi",
      "photoUrl": "",
      "userId": "15490889894361043466"
     },
     "user_tz": -180
    },
    "id": "OwZX_b_P-k_f",
    "outputId": "e463ac68-19d3-4457-b8e9-76eaad6b57f1"
   },
   "outputs": [
    {
     "data": {
      "text/plain": [
       "array(['State-gov', 'Self-emp-not-inc', 'Private', 'Federal-gov',\n",
       "       'Local-gov', nan, 'Self-emp-inc', 'Without-pay', 'Never-worked'],\n",
       "      dtype=object)"
      ]
     },
     "execution_count": 18,
     "metadata": {},
     "output_type": "execute_result"
    }
   ],
   "source": [
    "sal.workclass.unique()"
   ]
  },
  {
   "cell_type": "code",
   "execution_count": 54,
   "metadata": {},
   "outputs": [],
   "source": [
    "newName=sal.rename(columns={'education-num':'EducationNo'},inplace = False)\n",
    "# sal.EducationNo.unique() "
   ]
  },
  {
   "cell_type": "code",
   "execution_count": 57,
   "metadata": {},
   "outputs": [
    {
     "data": {
      "text/plain": [
       "array([13,  9,  7, 14,  5, 10, 12, 11,  4, 16, 15,  3,  6,  2,  1,  8],\n",
       "      dtype=int64)"
      ]
     },
     "execution_count": 57,
     "metadata": {},
     "output_type": "execute_result"
    }
   ],
   "source": [
    "#since I couldn't got the data because of the column name I rename it temporary and got the education number types it'll be 16 types\n",
    "newName.EducationNo.unique()"
   ]
  },
  {
   "cell_type": "code",
   "execution_count": null,
   "metadata": {},
   "outputs": [],
   "source": [
    "sal."
   ]
  },
  {
   "cell_type": "code",
   "execution_count": 19,
   "metadata": {
    "colab": {
     "base_uri": "https://localhost:8080/",
     "height": 455
    },
    "colab_type": "code",
    "executionInfo": {
     "elapsed": 669,
     "status": "ok",
     "timestamp": 1576085056365,
     "user": {
      "displayName": "Muhammad Al-Qurishi",
      "photoUrl": "",
      "userId": "15490889894361043466"
     },
     "user_tz": -180
    },
    "id": "y6HyOz77-5O2",
    "outputId": "189a7919-0e14-4ab8-d031-9932b2b3bbed"
   },
   "outputs": [
    {
     "data": {
      "text/html": [
       "<div>\n",
       "<style scoped>\n",
       "    .dataframe tbody tr th:only-of-type {\n",
       "        vertical-align: middle;\n",
       "    }\n",
       "\n",
       "    .dataframe tbody tr th {\n",
       "        vertical-align: top;\n",
       "    }\n",
       "\n",
       "    .dataframe thead th {\n",
       "        text-align: right;\n",
       "    }\n",
       "</style>\n",
       "<table border=\"1\" class=\"dataframe\">\n",
       "  <thead>\n",
       "    <tr style=\"text-align: right;\">\n",
       "      <th></th>\n",
       "      <th>fnlwgt</th>\n",
       "      <th>education-num</th>\n",
       "      <th>capital-gain</th>\n",
       "      <th>capital-loss</th>\n",
       "      <th>hours-per-week</th>\n",
       "    </tr>\n",
       "    <tr>\n",
       "      <th>age</th>\n",
       "      <th></th>\n",
       "      <th></th>\n",
       "      <th></th>\n",
       "      <th></th>\n",
       "      <th></th>\n",
       "    </tr>\n",
       "  </thead>\n",
       "  <tbody>\n",
       "    <tr>\n",
       "      <td>17</td>\n",
       "      <td>179157.852101</td>\n",
       "      <td>6.685714</td>\n",
       "      <td>81.245378</td>\n",
       "      <td>33.302521</td>\n",
       "      <td>21.137815</td>\n",
       "    </tr>\n",
       "    <tr>\n",
       "      <td>18</td>\n",
       "      <td>193421.075406</td>\n",
       "      <td>8.220418</td>\n",
       "      <td>76.163573</td>\n",
       "      <td>37.852668</td>\n",
       "      <td>25.745940</td>\n",
       "    </tr>\n",
       "    <tr>\n",
       "      <td>19</td>\n",
       "      <td>204916.851852</td>\n",
       "      <td>9.086420</td>\n",
       "      <td>126.797721</td>\n",
       "      <td>42.579297</td>\n",
       "      <td>30.560304</td>\n",
       "    </tr>\n",
       "    <tr>\n",
       "      <td>20</td>\n",
       "      <td>198076.513028</td>\n",
       "      <td>9.341420</td>\n",
       "      <td>66.937107</td>\n",
       "      <td>35.743935</td>\n",
       "      <td>32.432165</td>\n",
       "    </tr>\n",
       "    <tr>\n",
       "      <td>21</td>\n",
       "      <td>200227.520985</td>\n",
       "      <td>9.430657</td>\n",
       "      <td>169.385949</td>\n",
       "      <td>40.899635</td>\n",
       "      <td>34.252737</td>\n",
       "    </tr>\n",
       "    <tr>\n",
       "      <td>...</td>\n",
       "      <td>...</td>\n",
       "      <td>...</td>\n",
       "      <td>...</td>\n",
       "      <td>...</td>\n",
       "      <td>...</td>\n",
       "    </tr>\n",
       "    <tr>\n",
       "      <td>86</td>\n",
       "      <td>149912.000000</td>\n",
       "      <td>14.000000</td>\n",
       "      <td>0.000000</td>\n",
       "      <td>0.000000</td>\n",
       "      <td>40.000000</td>\n",
       "    </tr>\n",
       "    <tr>\n",
       "      <td>87</td>\n",
       "      <td>110402.333333</td>\n",
       "      <td>9.000000</td>\n",
       "      <td>0.000000</td>\n",
       "      <td>0.000000</td>\n",
       "      <td>7.000000</td>\n",
       "    </tr>\n",
       "    <tr>\n",
       "      <td>88</td>\n",
       "      <td>149540.666667</td>\n",
       "      <td>10.666667</td>\n",
       "      <td>1069.666667</td>\n",
       "      <td>302.666667</td>\n",
       "      <td>35.833333</td>\n",
       "    </tr>\n",
       "    <tr>\n",
       "      <td>89</td>\n",
       "      <td>90972.500000</td>\n",
       "      <td>9.500000</td>\n",
       "      <td>0.000000</td>\n",
       "      <td>0.000000</td>\n",
       "      <td>30.000000</td>\n",
       "    </tr>\n",
       "    <tr>\n",
       "      <td>90</td>\n",
       "      <td>170346.181818</td>\n",
       "      <td>10.090909</td>\n",
       "      <td>2264.400000</td>\n",
       "      <td>187.836364</td>\n",
       "      <td>37.654545</td>\n",
       "    </tr>\n",
       "  </tbody>\n",
       "</table>\n",
       "<p>74 rows × 5 columns</p>\n",
       "</div>"
      ],
      "text/plain": [
       "            fnlwgt  education-num  capital-gain  capital-loss  hours-per-week\n",
       "age                                                                          \n",
       "17   179157.852101       6.685714     81.245378     33.302521       21.137815\n",
       "18   193421.075406       8.220418     76.163573     37.852668       25.745940\n",
       "19   204916.851852       9.086420    126.797721     42.579297       30.560304\n",
       "20   198076.513028       9.341420     66.937107     35.743935       32.432165\n",
       "21   200227.520985       9.430657    169.385949     40.899635       34.252737\n",
       "..             ...            ...           ...           ...             ...\n",
       "86   149912.000000      14.000000      0.000000      0.000000       40.000000\n",
       "87   110402.333333       9.000000      0.000000      0.000000        7.000000\n",
       "88   149540.666667      10.666667   1069.666667    302.666667       35.833333\n",
       "89    90972.500000       9.500000      0.000000      0.000000       30.000000\n",
       "90   170346.181818      10.090909   2264.400000    187.836364       37.654545\n",
       "\n",
       "[74 rows x 5 columns]"
      ]
     },
     "execution_count": 19,
     "metadata": {},
     "output_type": "execute_result"
    }
   ],
   "source": [
    "sal.groupby('age').mean()"
   ]
  },
  {
   "cell_type": "code",
   "execution_count": 20,
   "metadata": {
    "colab": {},
    "colab_type": "code",
    "id": "Aqu0n4CN09XB",
    "outputId": "6197b7f0-3fbf-4b90-cd8e-ca6df8b05f6c"
   },
   "outputs": [
    {
     "data": {
      "text/plain": [
       "age                int64\n",
       "workclass         object\n",
       "fnlwgt             int64\n",
       "education         object\n",
       "education-num      int64\n",
       "marital-status    object\n",
       "occupation        object\n",
       "relationship      object\n",
       "race              object\n",
       "sex               object\n",
       "capital-gain       int64\n",
       "capital-loss       int64\n",
       "hours-per-week     int64\n",
       "native-country    object\n",
       "income            object\n",
       "dtype: object"
      ]
     },
     "execution_count": 20,
     "metadata": {},
     "output_type": "execute_result"
    }
   ],
   "source": [
    "sal.dtypes"
   ]
  },
  {
   "cell_type": "code",
   "execution_count": 24,
   "metadata": {
    "colab": {
     "base_uri": "https://localhost:8080/",
     "height": 72
    },
    "colab_type": "code",
    "executionInfo": {
     "elapsed": 669,
     "status": "ok",
     "timestamp": 1576085203991,
     "user": {
      "displayName": "Muhammad Al-Qurishi",
      "photoUrl": "",
      "userId": "15490889894361043466"
     },
     "user_tz": -180
    },
    "id": "sSBhWpXr_0dU",
    "outputId": "e6d3dd4c-6afc-4207-c4ca-c74e12260c48"
   },
   "outputs": [
    {
     "name": "stdout",
     "output_type": "stream",
     "text": [
      "Index([], dtype='object')\n"
     ]
    }
   ],
   "source": [
    "selected_cols = sal.select_dtypes(include=['int'])\n",
    "print(selected_cols.columns)"
   ]
  },
  {
   "cell_type": "code",
   "execution_count": 58,
   "metadata": {
    "colab": {
     "base_uri": "https://localhost:8080/",
     "height": 1000
    },
    "colab_type": "code",
    "executionInfo": {
     "elapsed": 2225,
     "status": "ok",
     "timestamp": 1576085272209,
     "user": {
      "displayName": "Muhammad Al-Qurishi",
      "photoUrl": "",
      "userId": "15490889894361043466"
     },
     "user_tz": -180
    },
    "id": "vQaFuhHy_9Yd",
    "outputId": "c1cb83ec-3f33-4bec-d3ea-d8730fa1129f"
   },
   "outputs": [
    {
     "ename": "ValueError",
     "evalue": "hist method requires numerical columns, nothing to plot.",
     "output_type": "error",
     "traceback": [
      "\u001b[1;31m---------------------------------------------------------------------------\u001b[0m",
      "\u001b[1;31mValueError\u001b[0m                                Traceback (most recent call last)",
      "\u001b[1;32m<ipython-input-58-1d266d02a8b9>\u001b[0m in \u001b[0;36m<module>\u001b[1;34m\u001b[0m\n\u001b[1;32m----> 1\u001b[1;33m \u001b[0mselected_cols\u001b[0m\u001b[1;33m.\u001b[0m\u001b[0mhist\u001b[0m\u001b[1;33m(\u001b[0m\u001b[0mfigsize\u001b[0m\u001b[1;33m=\u001b[0m\u001b[1;33m(\u001b[0m\u001b[1;36m20\u001b[0m\u001b[1;33m,\u001b[0m\u001b[1;36m20\u001b[0m\u001b[1;33m)\u001b[0m\u001b[1;33m)\u001b[0m\u001b[1;33m\u001b[0m\u001b[1;33m\u001b[0m\u001b[0m\n\u001b[0m",
      "\u001b[1;32m~\\Anaconda3\\lib\\site-packages\\pandas\\plotting\\_core.py\u001b[0m in \u001b[0;36mhist_frame\u001b[1;34m(data, column, by, grid, xlabelsize, xrot, ylabelsize, yrot, ax, sharex, sharey, figsize, layout, bins, **kwds)\u001b[0m\n\u001b[0;32m    197\u001b[0m         \u001b[0mlayout\u001b[0m\u001b[1;33m=\u001b[0m\u001b[0mlayout\u001b[0m\u001b[1;33m,\u001b[0m\u001b[1;33m\u001b[0m\u001b[1;33m\u001b[0m\u001b[0m\n\u001b[0;32m    198\u001b[0m         \u001b[0mbins\u001b[0m\u001b[1;33m=\u001b[0m\u001b[0mbins\u001b[0m\u001b[1;33m,\u001b[0m\u001b[1;33m\u001b[0m\u001b[1;33m\u001b[0m\u001b[0m\n\u001b[1;32m--> 199\u001b[1;33m         \u001b[1;33m**\u001b[0m\u001b[0mkwds\u001b[0m\u001b[1;33m\u001b[0m\u001b[1;33m\u001b[0m\u001b[0m\n\u001b[0m\u001b[0;32m    200\u001b[0m     )\n\u001b[0;32m    201\u001b[0m \u001b[1;33m\u001b[0m\u001b[0m\n",
      "\u001b[1;32m~\\Anaconda3\\lib\\site-packages\\pandas\\plotting\\_matplotlib\\hist.py\u001b[0m in \u001b[0;36mhist_frame\u001b[1;34m(data, column, by, grid, xlabelsize, xrot, ylabelsize, yrot, ax, sharex, sharey, figsize, layout, bins, **kwds)\u001b[0m\n\u001b[0;32m    395\u001b[0m \u001b[1;33m\u001b[0m\u001b[0m\n\u001b[0;32m    396\u001b[0m     \u001b[1;32mif\u001b[0m \u001b[0mnaxes\u001b[0m \u001b[1;33m==\u001b[0m \u001b[1;36m0\u001b[0m\u001b[1;33m:\u001b[0m\u001b[1;33m\u001b[0m\u001b[1;33m\u001b[0m\u001b[0m\n\u001b[1;32m--> 397\u001b[1;33m         \u001b[1;32mraise\u001b[0m \u001b[0mValueError\u001b[0m\u001b[1;33m(\u001b[0m\u001b[1;34m\"hist method requires numerical columns, \"\u001b[0m \u001b[1;34m\"nothing to plot.\"\u001b[0m\u001b[1;33m)\u001b[0m\u001b[1;33m\u001b[0m\u001b[1;33m\u001b[0m\u001b[0m\n\u001b[0m\u001b[0;32m    398\u001b[0m \u001b[1;33m\u001b[0m\u001b[0m\n\u001b[0;32m    399\u001b[0m     fig, axes = _subplots(\n",
      "\u001b[1;31mValueError\u001b[0m: hist method requires numerical columns, nothing to plot."
     ]
    }
   ],
   "source": [
    "selected_cols.hist(figsize=(20,20))"
   ]
  },
  {
   "cell_type": "code",
   "execution_count": 26,
   "metadata": {
    "colab": {
     "base_uri": "https://localhost:8080/",
     "height": 72
    },
    "colab_type": "code",
    "executionInfo": {
     "elapsed": 1493,
     "status": "ok",
     "timestamp": 1576085342681,
     "user": {
      "displayName": "Muhammad Al-Qurishi",
      "photoUrl": "",
      "userId": "15490889894361043466"
     },
     "user_tz": -180
    },
    "id": "7RLwCP_-ARyM",
    "outputId": "17160300-79a6-4fe3-a93a-2d1689d60193"
   },
   "outputs": [
    {
     "name": "stdout",
     "output_type": "stream",
     "text": [
      "Index(['workclass', 'education', 'marital-status', 'occupation',\n",
      "       'relationship', 'race', 'sex', 'native-country', 'income'],\n",
      "      dtype='object')\n"
     ]
    }
   ],
   "source": [
    "categorical_cols = sal.select_dtypes(include=['object'])\n",
    "print(categorical_cols.columns)"
   ]
  },
  {
   "cell_type": "code",
   "execution_count": 27,
   "metadata": {
    "colab": {
     "base_uri": "https://localhost:8080/",
     "height": 998
    },
    "colab_type": "code",
    "executionInfo": {
     "elapsed": 3928,
     "status": "ok",
     "timestamp": 1576085913563,
     "user": {
      "displayName": "Muhammad Al-Qurishi",
      "photoUrl": "",
      "userId": "15490889894361043466"
     },
     "user_tz": -180
    },
    "id": "mmlzaXOVBSJi",
    "outputId": "edebcb49-5250-4c2f-d1ae-aee7e1202878"
   },
   "outputs": [
    {
     "data": {
      "image/png": "[encoded data removed]",
      "text/plain": [
       "<Figure size 1440x1080 with 9 Axes>"
      ]
     },
     "metadata": {
      "needs_background": "light"
     },
     "output_type": "display_data"
    }
   ],
   "source": [
    "import matplotlib.pyplot as plt\n",
    "import math\n",
    "fig = plt.figure(figsize=(20,15))\n",
    "cols = 3\n",
    "rows = math.ceil(float(categorical_cols.shape[1]) / cols)\n",
    "for i, column in enumerate(categorical_cols.columns):\n",
    "  ax = fig.add_subplot(rows, cols, i + 1)\n",
    "  categorical_cols[column].value_counts().plot(kind=\"bar\", axes=ax)\n",
    "\n",
    "plt.subplots_adjust(hspace=0.7, wspace=0.2)"
   ]
  },
  {
   "cell_type": "code",
   "execution_count": 28,
   "metadata": {
    "colab": {
     "base_uri": "https://localhost:8080/",
     "height": 72
    },
    "colab_type": "code",
    "executionInfo": {
     "elapsed": 1637,
     "status": "ok",
     "timestamp": 1576086036927,
     "user": {
      "displayName": "Muhammad Al-Qurishi",
      "photoUrl": "",
      "userId": "15490889894361043466"
     },
     "user_tz": -180
    },
    "id": "mFnUaB-YDDk_",
    "outputId": "9d7019bc-6f7a-4c78-a5e8-4345e9a8779b"
   },
   "outputs": [
    {
     "data": {
      "text/plain": [
       "Male      32650\n",
       "Female    16192\n",
       "Name: sex, dtype: int64"
      ]
     },
     "execution_count": 28,
     "metadata": {},
     "output_type": "execute_result"
    }
   ],
   "source": [
    "sal[\"sex\"].value_counts()"
   ]
  },
  {
   "cell_type": "code",
   "execution_count": 29,
   "metadata": {
    "colab": {
     "base_uri": "https://localhost:8080/",
     "height": 35
    },
    "colab_type": "code",
    "executionInfo": {
     "elapsed": 1269,
     "status": "ok",
     "timestamp": 1576086066964,
     "user": {
      "displayName": "Muhammad Al-Qurishi",
      "photoUrl": "",
      "userId": "15490889894361043466"
     },
     "user_tz": -180
    },
    "id": "AvsTDK20DHjJ",
    "outputId": "56f7634a-771b-4df4-d796-279075540a34"
   },
   "outputs": [
    {
     "data": {
      "text/plain": [
       "36.92798913043478"
      ]
     },
     "execution_count": 29,
     "metadata": {},
     "output_type": "execute_result"
    }
   ],
   "source": [
    "sal[sal['sex'] == \"Female\"][\"age\"].mean()"
   ]
  },
  {
   "cell_type": "code",
   "execution_count": 30,
   "metadata": {
    "colab": {
     "base_uri": "https://localhost:8080/",
     "height": 35
    },
    "colab_type": "code",
    "executionInfo": {
     "elapsed": 879,
     "status": "ok",
     "timestamp": 1576086107831,
     "user": {
      "displayName": "Muhammad Al-Qurishi",
      "photoUrl": "",
      "userId": "15490889894361043466"
     },
     "user_tz": -180
    },
    "id": "WL1ZnYOMDRA-",
    "outputId": "c2bab761-186e-493f-894c-6f69d92fd005"
   },
   "outputs": [
    {
     "data": {
      "text/plain": [
       "39.49439509954058"
      ]
     },
     "execution_count": 30,
     "metadata": {},
     "output_type": "execute_result"
    }
   ],
   "source": [
    "sal[sal['sex'] == \"Male\"][\"age\"].mean()"
   ]
  },
  {
   "cell_type": "code",
   "execution_count": 34,
   "metadata": {
    "colab": {
     "base_uri": "https://localhost:8080/",
     "height": 355
    },
    "colab_type": "code",
    "executionInfo": {
     "elapsed": 1249,
     "status": "ok",
     "timestamp": 1576086659500,
     "user": {
      "displayName": "Muhammad Al-Qurishi",
      "photoUrl": "",
      "userId": "15490889894361043466"
     },
     "user_tz": -180
    },
    "id": "2_T1w9jQD9sn",
    "outputId": "b3c4ad05-60e0-4d60-bc37-043241438760"
   },
   "outputs": [
    {
     "data": {
      "text/plain": [
       "<matplotlib.axes._subplots.AxesSubplot at 0x151373cfb88>"
      ]
     },
     "execution_count": 34,
     "metadata": {},
     "output_type": "execute_result"
    },
    {
     "data": {
      "image/png": "[encoded data removed]",
      "text/plain": [
       "<Figure size 432x288 with 1 Axes>"
      ]
     },
     "metadata": {
      "needs_background": "light"
     },
     "output_type": "display_data"
    }
   ],
   "source": [
    "sex =sal.groupby(\"education\")[\"capital-gain\"].mean()\n",
    "sex.plot(kind=\"bar\")\n"
   ]
  },
  {
   "cell_type": "code",
   "execution_count": 35,
   "metadata": {},
   "outputs": [
    {
     "data": {
      "image/png": "[encoded data removed]",
      "text/plain": [
       "<Figure size 432x288 with 1 Axes>"
      ]
     },
     "metadata": {
      "needs_background": "light"
     },
     "output_type": "display_data"
    }
   ],
   "source": [
    "sex =sal.groupby(\"education\")[\"capital-gain\"].mean()\n",
    "sex.plot(kind=\"bar\")\n",
    "plt.show()"
   ]
  },
  {
   "cell_type": "code",
   "execution_count": 32,
   "metadata": {},
   "outputs": [
    {
     "data": {
      "text/plain": [
       "<matplotlib.axes._subplots.AxesSubplot at 0x15135806c88>"
      ]
     },
     "execution_count": 32,
     "metadata": {},
     "output_type": "execute_result"
    },
    {
     "data": {
      "image/png": "[encoded data removed]",
      "text/plain": [
       "<Figure size 432x288 with 1 Axes>"
      ]
     },
     "metadata": {
      "needs_background": "light"
     },
     "output_type": "display_data"
    }
   ],
   "source": [
    "sex =sal.groupby(\"education\")[\"capital-gain\"].mean()\n",
    "sex.plot(kind=\"bar\")\n"
   ]
  },
  {
   "cell_type": "code",
   "execution_count": null,
   "metadata": {},
   "outputs": [],
   "source": [
    "#clustring education to (1) Elementart  (2)Middle (3)High school  (4)Collage  (5)Master  (6)Doctors"
   ]
  },
  {
   "cell_type": "code",
   "execution_count": 0,
   "metadata": {
    "colab": {},
    "colab_type": "code",
    "id": "rjEd8tYa09XE",
    "outputId": "50cebe60-26a0-4474-c1bb-4d68df0f085a"
   },
   "outputs": [
    {
     "data": {
      "text/plain": [
       "0        39\n",
       "1        50\n",
       "2        38\n",
       "3        53\n",
       "4        28\n",
       "         ..\n",
       "48837    39\n",
       "48838    64\n",
       "48839    38\n",
       "48840    44\n",
       "48841    35\n",
       "Name: age, Length: 48842, dtype: int64"
      ]
     },
     "execution_count": 20,
     "metadata": {
      "tags": []
     },
     "output_type": "execute_result"
    }
   ],
   "source": [
    "sal['age']"
   ]
  },
  {
   "cell_type": "code",
   "execution_count": 0,
   "metadata": {
    "colab": {},
    "colab_type": "code",
    "id": "M9rghaaz09XI",
    "outputId": "83bef874-ea4f-4bda-99ed-a539e682ed62"
   },
   "outputs": [
    {
     "data": {
      "text/plain": [
       "8"
      ]
     },
     "execution_count": 22,
     "metadata": {
      "tags": []
     },
     "output_type": "execute_result"
    }
   ],
   "source": [
    "sal['workclass'].nunique()"
   ]
  },
  {
   "cell_type": "code",
   "execution_count": 0,
   "metadata": {
    "colab": {},
    "colab_type": "code",
    "id": "XLlnD8gB09XL",
    "outputId": "fdbaccf5-bc05-4fa1-9950-71b6430350c4"
   },
   "outputs": [
    {
     "data": {
      "text/html": [
       "<div>\n",
       "<style scoped>\n",
       "    .dataframe tbody tr th:only-of-type {\n",
       "        vertical-align: middle;\n",
       "    }\n",
       "\n",
       "    .dataframe tbody tr th {\n",
       "        vertical-align: top;\n",
       "    }\n",
       "\n",
       "    .dataframe thead th {\n",
       "        text-align: right;\n",
       "    }\n",
       "</style>\n",
       "<table border=\"1\" class=\"dataframe\">\n",
       "  <thead>\n",
       "    <tr style=\"text-align: right;\">\n",
       "      <th></th>\n",
       "      <th>age</th>\n",
       "      <th>race</th>\n",
       "    </tr>\n",
       "  </thead>\n",
       "  <tbody>\n",
       "    <tr>\n",
       "      <td>0</td>\n",
       "      <td>39</td>\n",
       "      <td>White</td>\n",
       "    </tr>\n",
       "    <tr>\n",
       "      <td>1</td>\n",
       "      <td>50</td>\n",
       "      <td>White</td>\n",
       "    </tr>\n",
       "    <tr>\n",
       "      <td>2</td>\n",
       "      <td>38</td>\n",
       "      <td>White</td>\n",
       "    </tr>\n",
       "    <tr>\n",
       "      <td>3</td>\n",
       "      <td>53</td>\n",
       "      <td>Black</td>\n",
       "    </tr>\n",
       "    <tr>\n",
       "      <td>4</td>\n",
       "      <td>28</td>\n",
       "      <td>Black</td>\n",
       "    </tr>\n",
       "    <tr>\n",
       "      <td>...</td>\n",
       "      <td>...</td>\n",
       "      <td>...</td>\n",
       "    </tr>\n",
       "    <tr>\n",
       "      <td>48837</td>\n",
       "      <td>39</td>\n",
       "      <td>White</td>\n",
       "    </tr>\n",
       "    <tr>\n",
       "      <td>48838</td>\n",
       "      <td>64</td>\n",
       "      <td>Black</td>\n",
       "    </tr>\n",
       "    <tr>\n",
       "      <td>48839</td>\n",
       "      <td>38</td>\n",
       "      <td>White</td>\n",
       "    </tr>\n",
       "    <tr>\n",
       "      <td>48840</td>\n",
       "      <td>44</td>\n",
       "      <td>Asian-Pac-Islander</td>\n",
       "    </tr>\n",
       "    <tr>\n",
       "      <td>48841</td>\n",
       "      <td>35</td>\n",
       "      <td>White</td>\n",
       "    </tr>\n",
       "  </tbody>\n",
       "</table>\n",
       "<p>48842 rows × 2 columns</p>\n",
       "</div>"
      ],
      "text/plain": [
       "       age                race\n",
       "0       39               White\n",
       "1       50               White\n",
       "2       38               White\n",
       "3       53               Black\n",
       "4       28               Black\n",
       "...    ...                 ...\n",
       "48837   39               White\n",
       "48838   64               Black\n",
       "48839   38               White\n",
       "48840   44  Asian-Pac-Islander\n",
       "48841   35               White\n",
       "\n",
       "[48842 rows x 2 columns]"
      ]
     },
     "execution_count": 26,
     "metadata": {
      "tags": []
     },
     "output_type": "execute_result"
    }
   ],
   "source": [
    "sal[['age', 'race']]"
   ]
  },
  {
   "cell_type": "code",
   "execution_count": 0,
   "metadata": {
    "colab": {},
    "colab_type": "code",
    "id": "f02W851q09XO",
    "outputId": "e784c7fa-2472-4edb-d2a2-f84ce0a9e0a7"
   },
   "outputs": [
    {
     "data": {
      "text/html": [
       "<div>\n",
       "<style scoped>\n",
       "    .dataframe tbody tr th:only-of-type {\n",
       "        vertical-align: middle;\n",
       "    }\n",
       "\n",
       "    .dataframe tbody tr th {\n",
       "        vertical-align: top;\n",
       "    }\n",
       "\n",
       "    .dataframe thead th {\n",
       "        text-align: right;\n",
       "    }\n",
       "</style>\n",
       "<table border=\"1\" class=\"dataframe\">\n",
       "  <thead>\n",
       "    <tr style=\"text-align: right;\">\n",
       "      <th></th>\n",
       "      <th>age</th>\n",
       "      <th>workclass</th>\n",
       "      <th>workclass</th>\n",
       "      <th>sex</th>\n",
       "    </tr>\n",
       "  </thead>\n",
       "  <tbody>\n",
       "    <tr>\n",
       "      <td>0</td>\n",
       "      <td>39</td>\n",
       "      <td>State-gov</td>\n",
       "      <td>State-gov</td>\n",
       "      <td>Male</td>\n",
       "    </tr>\n",
       "    <tr>\n",
       "      <td>1</td>\n",
       "      <td>50</td>\n",
       "      <td>Self-emp-not-inc</td>\n",
       "      <td>Self-emp-not-inc</td>\n",
       "      <td>Male</td>\n",
       "    </tr>\n",
       "    <tr>\n",
       "      <td>2</td>\n",
       "      <td>38</td>\n",
       "      <td>Private</td>\n",
       "      <td>Private</td>\n",
       "      <td>Male</td>\n",
       "    </tr>\n",
       "    <tr>\n",
       "      <td>3</td>\n",
       "      <td>53</td>\n",
       "      <td>Private</td>\n",
       "      <td>Private</td>\n",
       "      <td>Male</td>\n",
       "    </tr>\n",
       "    <tr>\n",
       "      <td>4</td>\n",
       "      <td>28</td>\n",
       "      <td>Private</td>\n",
       "      <td>Private</td>\n",
       "      <td>Female</td>\n",
       "    </tr>\n",
       "    <tr>\n",
       "      <td>...</td>\n",
       "      <td>...</td>\n",
       "      <td>...</td>\n",
       "      <td>...</td>\n",
       "      <td>...</td>\n",
       "    </tr>\n",
       "    <tr>\n",
       "      <td>48837</td>\n",
       "      <td>39</td>\n",
       "      <td>Private</td>\n",
       "      <td>Private</td>\n",
       "      <td>Female</td>\n",
       "    </tr>\n",
       "    <tr>\n",
       "      <td>48838</td>\n",
       "      <td>64</td>\n",
       "      <td>NaN</td>\n",
       "      <td>NaN</td>\n",
       "      <td>Male</td>\n",
       "    </tr>\n",
       "    <tr>\n",
       "      <td>48839</td>\n",
       "      <td>38</td>\n",
       "      <td>Private</td>\n",
       "      <td>Private</td>\n",
       "      <td>Male</td>\n",
       "    </tr>\n",
       "    <tr>\n",
       "      <td>48840</td>\n",
       "      <td>44</td>\n",
       "      <td>Private</td>\n",
       "      <td>Private</td>\n",
       "      <td>Male</td>\n",
       "    </tr>\n",
       "    <tr>\n",
       "      <td>48841</td>\n",
       "      <td>35</td>\n",
       "      <td>Self-emp-inc</td>\n",
       "      <td>Self-emp-inc</td>\n",
       "      <td>Male</td>\n",
       "    </tr>\n",
       "  </tbody>\n",
       "</table>\n",
       "<p>48842 rows × 4 columns</p>\n",
       "</div>"
      ],
      "text/plain": [
       "       age         workclass         workclass     sex\n",
       "0       39         State-gov         State-gov    Male\n",
       "1       50  Self-emp-not-inc  Self-emp-not-inc    Male\n",
       "2       38           Private           Private    Male\n",
       "3       53           Private           Private    Male\n",
       "4       28           Private           Private  Female\n",
       "...    ...               ...               ...     ...\n",
       "48837   39           Private           Private  Female\n",
       "48838   64               NaN               NaN    Male\n",
       "48839   38           Private           Private    Male\n",
       "48840   44           Private           Private    Male\n",
       "48841   35      Self-emp-inc      Self-emp-inc    Male\n",
       "\n",
       "[48842 rows x 4 columns]"
      ]
     },
     "execution_count": 27,
     "metadata": {
      "tags": []
     },
     "output_type": "execute_result"
    }
   ],
   "source": [
    "sal[['age','workclass','workclass','sex']]"
   ]
  },
  {
   "cell_type": "code",
   "execution_count": 0,
   "metadata": {
    "colab": {},
    "colab_type": "code",
    "id": "InXcj8Mg09XT",
    "outputId": "3ce7fa41-9c8c-4e8d-8a7f-c159fbb44b46"
   },
   "outputs": [
    {
     "data": {
      "text/plain": [
       "0    39\n",
       "1    50\n",
       "2    38\n",
       "3    53\n",
       "4    28\n",
       "Name: age, dtype: int64"
      ]
     },
     "execution_count": 28,
     "metadata": {
      "tags": []
     },
     "output_type": "execute_result"
    }
   ],
   "source": [
    "sal.age.head()"
   ]
  },
  {
   "cell_type": "code",
   "execution_count": 0,
   "metadata": {
    "colab": {},
    "colab_type": "code",
    "id": "7Q7qwuK909XW",
    "outputId": "fb3184f5-21c6-4bc1-8d5a-831fc7413e12"
   },
   "outputs": [
    {
     "data": {
      "text/plain": [
       "0      77516\n",
       "1      83311\n",
       "2     215646\n",
       "3     234721\n",
       "4     338409\n",
       "5     284582\n",
       "6     160187\n",
       "7     209642\n",
       "8      45781\n",
       "9     159449\n",
       "10    280464\n",
       "11    141297\n",
       "12    122272\n",
       "13    205019\n",
       "14    121772\n",
       "15    245487\n",
       "16    176756\n",
       "17    186824\n",
       "18     28887\n",
       "19    292175\n",
       "20    193524\n",
       "21    302146\n",
       "22     76845\n",
       "23    117037\n",
       "24    109015\n",
       "25    216851\n",
       "26    168294\n",
       "27    180211\n",
       "28    367260\n",
       "29    193366\n",
       "30    190709\n",
       "31    266015\n",
       "32    386940\n",
       "33     59951\n",
       "34    311512\n",
       "35    242406\n",
       "36    197200\n",
       "37    544091\n",
       "38     84154\n",
       "39    265477\n",
       "40    507875\n",
       "41     88506\n",
       "42    172987\n",
       "43     94638\n",
       "44    289980\n",
       "Name: fnlwgt, dtype: int64"
      ]
     },
     "execution_count": 29,
     "metadata": {
      "tags": []
     },
     "output_type": "execute_result"
    }
   ],
   "source": [
    "sal.fnlwgt.head(45)"
   ]
  },
  {
   "cell_type": "code",
   "execution_count": 0,
   "metadata": {
    "colab": {},
    "colab_type": "code",
    "id": "gLcy62jG09XZ",
    "outputId": "98d8e299-4552-41f9-d186-efb79673acf7"
   },
   "outputs": [
    {
     "data": {
      "text/plain": [
       "count    4.884200e+04\n",
       "mean     1.896641e+05\n",
       "std      1.056040e+05\n",
       "min      1.228500e+04\n",
       "25%      1.175505e+05\n",
       "50%      1.781445e+05\n",
       "75%      2.376420e+05\n",
       "max      1.490400e+06\n",
       "Name: fnlwgt, dtype: float64"
      ]
     },
     "execution_count": 30,
     "metadata": {
      "tags": []
     },
     "output_type": "execute_result"
    }
   ],
   "source": [
    "sal['fnlwgt'].describe()"
   ]
  },
  {
   "cell_type": "code",
   "execution_count": 0,
   "metadata": {
    "colab": {},
    "colab_type": "code",
    "id": "OkDxYstX09Xd",
    "outputId": "1d158530-43a4-4288-c09f-3ac3f33f85f6"
   },
   "outputs": [
    {
     "data": {
      "text/plain": [
       "203488    21\n",
       "120277    19\n",
       "190290    19\n",
       "125892    18\n",
       "126569    18\n",
       "          ..\n",
       "170272     1\n",
       "137444     1\n",
       "172327     1\n",
       "111368     1\n",
       "208174     1\n",
       "Name: fnlwgt, Length: 28523, dtype: int64"
      ]
     },
     "execution_count": 31,
     "metadata": {
      "tags": []
     },
     "output_type": "execute_result"
    }
   ],
   "source": [
    "sal['fnlwgt'].value_counts(dropna=False) #included NaN"
   ]
  },
  {
   "cell_type": "code",
   "execution_count": 0,
   "metadata": {
    "colab": {},
    "colab_type": "code",
    "id": "LDk_zABx09Xg",
    "outputId": "277a0352-2260-44b4-bbdd-b11da2904863"
   },
   "outputs": [
    {
     "data": {
      "text/plain": [
       "[77516,\n",
       " 83311,\n",
       " 215646,\n",
       " 234721,\n",
       " 338409,\n",
       " 284582,\n",
       " 160187,\n",
       " 209642,\n",
       " 45781,\n",
       " 159449,\n",
       " 280464,\n",
       " 141297,\n",
       " 122272,\n",
       " 205019,\n",
       " 121772,\n",
       " 245487,\n",
       " 176756,\n",
       " 186824,\n",
       " 28887,\n",
       " 292175,\n",
       " 193524,\n",
       " 302146,\n",
       " 76845,\n",
       " 117037,\n",
       " 109015,\n",
       " 216851,\n",
       " 168294,\n",
       " 180211,\n",
       " 367260,\n",
       " 193366,\n",
       " 190709,\n",
       " 266015,\n",
       " 386940,\n",
       " 59951,\n",
       " 311512,\n",
       " 242406,\n",
       " 197200,\n",
       " 544091,\n",
       " 84154,\n",
       " 265477,\n",
       " 507875,\n",
       " 88506,\n",
       " 172987,\n",
       " 94638,\n",
       " 289980,\n",
       " 337895,\n",
       " 144361,\n",
       " 128354,\n",
       " 101603,\n",
       " 271466,\n",
       " 32275,\n",
       " 226956,\n",
       " 51835,\n",
       " 251585,\n",
       " 109832,\n",
       " 237993,\n",
       " 216666,\n",
       " 56352,\n",
       " 147372,\n",
       " 188146,\n",
       " 59496,\n",
       " 293936,\n",
       " 149640,\n",
       " 116632,\n",
       " 105598,\n",
       " 155537,\n",
       " 183175,\n",
       " 169846,\n",
       " 191681,\n",
       " 200681,\n",
       " 101509,\n",
       " 309974,\n",
       " 162298,\n",
       " 211678,\n",
       " 124744,\n",
       " 213921,\n",
       " 32214,\n",
       " 212759,\n",
       " 309634,\n",
       " 125927,\n",
       " 446839,\n",
       " 276515,\n",
       " 51618,\n",
       " 159937,\n",
       " 343591,\n",
       " 346253,\n",
       " 268234,\n",
       " 202051,\n",
       " 54334,\n",
       " 410867,\n",
       " 249977,\n",
       " 286730,\n",
       " 212563,\n",
       " 117747,\n",
       " 226296,\n",
       " 115585,\n",
       " 191277,\n",
       " 202683,\n",
       " 171095,\n",
       " 249409,\n",
       " 124191,\n",
       " 198282,\n",
       " 149116,\n",
       " 188300,\n",
       " 103432,\n",
       " 317660,\n",
       " 304873,\n",
       " 194901,\n",
       " 189265,\n",
       " 124692,\n",
       " 432376,\n",
       " 65324,\n",
       " 335605,\n",
       " 377869,\n",
       " 102864,\n",
       " 95647,\n",
       " 303090,\n",
       " 197371,\n",
       " 247552,\n",
       " 102632,\n",
       " 199915,\n",
       " 118853,\n",
       " 77143,\n",
       " 267989,\n",
       " 301606,\n",
       " 287828,\n",
       " 111697,\n",
       " 114937,\n",
       " 129305,\n",
       " 365739,\n",
       " 69621,\n",
       " 43323,\n",
       " 120985,\n",
       " 254202,\n",
       " 146195,\n",
       " 125933,\n",
       " 56920,\n",
       " 163127,\n",
       " 34310,\n",
       " 81973,\n",
       " 66614,\n",
       " 232782,\n",
       " 316868,\n",
       " 196584,\n",
       " 105376,\n",
       " 185814,\n",
       " 175374,\n",
       " 108293,\n",
       " 181232,\n",
       " 174662,\n",
       " 186009,\n",
       " 198183,\n",
       " 163003,\n",
       " 296158,\n",
       " 252903,\n",
       " 187715,\n",
       " 214542,\n",
       " 494223,\n",
       " 191535,\n",
       " 228456,\n",
       " 38317,\n",
       " 252752,\n",
       " 78374,\n",
       " 88419,\n",
       " 201080,\n",
       " 207157,\n",
       " 235485,\n",
       " 102628,\n",
       " 25828,\n",
       " 54826,\n",
       " 124953,\n",
       " 175325,\n",
       " 96062,\n",
       " 428030,\n",
       " 149624,\n",
       " 253814,\n",
       " 312956,\n",
       " 483777,\n",
       " 183930,\n",
       " 37274,\n",
       " 181344,\n",
       " 114580,\n",
       " 633742,\n",
       " 286370,\n",
       " 29054,\n",
       " 304030,\n",
       " 143129,\n",
       " 135105,\n",
       " 99928,\n",
       " 109567,\n",
       " 155222,\n",
       " 159567,\n",
       " 523910,\n",
       " 120939,\n",
       " 130760,\n",
       " 197387,\n",
       " 99374,\n",
       " 56795,\n",
       " 138992,\n",
       " 32921,\n",
       " 397317,\n",
       " 170653,\n",
       " 259323,\n",
       " 254817,\n",
       " 48211,\n",
       " 140164,\n",
       " 128757,\n",
       " 36270,\n",
       " 210563,\n",
       " 65368,\n",
       " 160943,\n",
       " 208358,\n",
       " 153790,\n",
       " 85815,\n",
       " 125417,\n",
       " 635913,\n",
       " 313321,\n",
       " 182609,\n",
       " 109434,\n",
       " 255004,\n",
       " 197860,\n",
       " 187656,\n",
       " 51744,\n",
       " 176681,\n",
       " 140359,\n",
       " 243313,\n",
       " 24215,\n",
       " 167687,\n",
       " 314209,\n",
       " 176796,\n",
       " 538583,\n",
       " 130408,\n",
       " 159732,\n",
       " 110978,\n",
       " 76714,\n",
       " 268700,\n",
       " 170525,\n",
       " 180138,\n",
       " 115076,\n",
       " 115458,\n",
       " 347890,\n",
       " 196001,\n",
       " 273905,\n",
       " 119156,\n",
       " 179488,\n",
       " 203580,\n",
       " 236596,\n",
       " 183916,\n",
       " 207578,\n",
       " 153141,\n",
       " 112763,\n",
       " 390781,\n",
       " 171328,\n",
       " 27382,\n",
       " 259014,\n",
       " 303044,\n",
       " 117789,\n",
       " 172579,\n",
       " 187666,\n",
       " 204518,\n",
       " 150042,\n",
       " 98092,\n",
       " 245918,\n",
       " 146013,\n",
       " 378322,\n",
       " 257295,\n",
       " 218956,\n",
       " 21174,\n",
       " 185480,\n",
       " 222205,\n",
       " 69867,\n",
       " 191260,\n",
       " 30653,\n",
       " 209109,\n",
       " 70377,\n",
       " 477983,\n",
       " 170924,\n",
       " 190174,\n",
       " 193787,\n",
       " 279472,\n",
       " 34918,\n",
       " 97688,\n",
       " 175413,\n",
       " 173960,\n",
       " 205759,\n",
       " 425161,\n",
       " 220531,\n",
       " 176609,\n",
       " 371987,\n",
       " 193884,\n",
       " 200352,\n",
       " 127595,\n",
       " 220419,\n",
       " 231931,\n",
       " 248402,\n",
       " 111095,\n",
       " 57424,\n",
       " 157443,\n",
       " 278130,\n",
       " 169469,\n",
       " 146268,\n",
       " 153718,\n",
       " 217460,\n",
       " 238638,\n",
       " 303296,\n",
       " 173321,\n",
       " 193945,\n",
       " 83082,\n",
       " 193815,\n",
       " 34987,\n",
       " 59306,\n",
       " 142897,\n",
       " 860348,\n",
       " 205607,\n",
       " 199698,\n",
       " 191954,\n",
       " 138714,\n",
       " 399087,\n",
       " 423158,\n",
       " 159841,\n",
       " 174308,\n",
       " 50356,\n",
       " 186110,\n",
       " 200381,\n",
       " 174309,\n",
       " 78383,\n",
       " 211601,\n",
       " 187728,\n",
       " 321171,\n",
       " 127921,\n",
       " 206565,\n",
       " 224563,\n",
       " 178686,\n",
       " 98545,\n",
       " 242606,\n",
       " 270942,\n",
       " 94235,\n",
       " 71195,\n",
       " 104112,\n",
       " 261192,\n",
       " 94936,\n",
       " 296478,\n",
       " 119272,\n",
       " 85043,\n",
       " 293364,\n",
       " 241895,\n",
       " 36135,\n",
       " 151989,\n",
       " 101128,\n",
       " 156464,\n",
       " 117963,\n",
       " 192262,\n",
       " 111363,\n",
       " 329752,\n",
       " 372020,\n",
       " 95432,\n",
       " 161400,\n",
       " 96129,\n",
       " 111949,\n",
       " 117125,\n",
       " 348022,\n",
       " 270092,\n",
       " 180609,\n",
       " 174575,\n",
       " 410439,\n",
       " 92262,\n",
       " 183081,\n",
       " 362589,\n",
       " 212448,\n",
       " 481060,\n",
       " 185885,\n",
       " 89821,\n",
       " 184018,\n",
       " 256649,\n",
       " 160323,\n",
       " 350845,\n",
       " 267404,\n",
       " 35633,\n",
       " 80914,\n",
       " 172927,\n",
       " 174319,\n",
       " 214955,\n",
       " 344991,\n",
       " 108699,\n",
       " 117312,\n",
       " 396099,\n",
       " 134152,\n",
       " 162028,\n",
       " 25429,\n",
       " 232392,\n",
       " 220098,\n",
       " 301302,\n",
       " 277946,\n",
       " 98101,\n",
       " 196164,\n",
       " 115562,\n",
       " 96975,\n",
       " 137300,\n",
       " 86872,\n",
       " 132178,\n",
       " 416103,\n",
       " 108574,\n",
       " 288353,\n",
       " 227689,\n",
       " 166481,\n",
       " 445382,\n",
       " 110145,\n",
       " 317253,\n",
       " 123147,\n",
       " 364657,\n",
       " 42346,\n",
       " 241951,\n",
       " 118500,\n",
       " 188386,\n",
       " 1033222,\n",
       " 92440,\n",
       " 190762,\n",
       " 426017,\n",
       " 243867,\n",
       " 240283,\n",
       " 61777,\n",
       " 175024,\n",
       " 92003,\n",
       " 188401,\n",
       " 228528,\n",
       " 133373,\n",
       " 255191,\n",
       " 204653,\n",
       " 222289,\n",
       " 287480,\n",
       " 107762,\n",
       " 202521,\n",
       " 204116,\n",
       " 29662,\n",
       " 116358,\n",
       " 208405,\n",
       " 284843,\n",
       " 117018,\n",
       " 81281,\n",
       " 340148,\n",
       " 363425,\n",
       " 45857,\n",
       " 191073,\n",
       " 405855,\n",
       " 298227,\n",
       " 290521,\n",
       " 56915,\n",
       " 146538,\n",
       " 258872,\n",
       " 206399,\n",
       " 197332,\n",
       " 245062,\n",
       " 197583,\n",
       " 234885,\n",
       " 72887,\n",
       " 180374,\n",
       " 351299,\n",
       " 54012,\n",
       " 115745,\n",
       " 288825,\n",
       " 132601,\n",
       " 193374,\n",
       " 170070,\n",
       " 126708,\n",
       " 35598,\n",
       " 33983,\n",
       " 192776,\n",
       " 118551,\n",
       " 201965,\n",
       " 139883,\n",
       " 285020,\n",
       " 303990,\n",
       " 49401,\n",
       " 279196,\n",
       " 211870,\n",
       " 281432,\n",
       " 161155,\n",
       " 197904,\n",
       " 111746,\n",
       " 170721,\n",
       " 70100,\n",
       " 193626,\n",
       " 271749,\n",
       " 189775,\n",
       " 401531,\n",
       " 286967,\n",
       " 164427,\n",
       " 91039,\n",
       " 347934,\n",
       " 371373,\n",
       " 32220,\n",
       " 187251,\n",
       " 178107,\n",
       " 343121,\n",
       " 262749,\n",
       " 403107,\n",
       " 64293,\n",
       " 303588,\n",
       " 324960,\n",
       " 114060,\n",
       " 48925,\n",
       " 180980,\n",
       " 181054,\n",
       " 388093,\n",
       " 249609,\n",
       " 112131,\n",
       " 543162,\n",
       " 91996,\n",
       " 141944,\n",
       " 251804,\n",
       " 37070,\n",
       " 337587,\n",
       " 189346,\n",
       " 222216,\n",
       " 267044,\n",
       " 214635,\n",
       " 204226,\n",
       " 108116,\n",
       " 99146,\n",
       " 196232,\n",
       " 248344,\n",
       " 186035,\n",
       " 177905,\n",
       " 85812,\n",
       " 221172,\n",
       " 99183,\n",
       " 190387,\n",
       " 202692,\n",
       " 109339,\n",
       " 108658,\n",
       " 197202,\n",
       " 101739,\n",
       " 231559,\n",
       " 207853,\n",
       " 190942,\n",
       " 102345,\n",
       " 41493,\n",
       " 190027,\n",
       " 210525,\n",
       " 133937,\n",
       " 237903,\n",
       " 163862,\n",
       " 201872,\n",
       " 84179,\n",
       " 51662,\n",
       " 233327,\n",
       " 259510,\n",
       " 184831,\n",
       " 245724,\n",
       " 27053,\n",
       " 205343,\n",
       " 229328,\n",
       " 319560,\n",
       " 136218,\n",
       " 54576,\n",
       " 323069,\n",
       " 148291,\n",
       " 152453,\n",
       " 114053,\n",
       " 212960,\n",
       " 264052,\n",
       " 82804,\n",
       " 334273,\n",
       " 27337,\n",
       " 188436,\n",
       " 433665,\n",
       " 110663,\n",
       " 87490,\n",
       " 354351,\n",
       " 95469,\n",
       " 242718,\n",
       " 22463,\n",
       " 158156,\n",
       " 350162,\n",
       " 165532,\n",
       " 28738,\n",
       " 283635,\n",
       " 86646,\n",
       " 195733,\n",
       " 69884,\n",
       " 199713,\n",
       " 181659,\n",
       " 340939,\n",
       " 197747,\n",
       " 34292,\n",
       " 156764,\n",
       " 25826,\n",
       " 103948,\n",
       " 137390,\n",
       " 105138,\n",
       " 39352,\n",
       " 168387,\n",
       " 267147,\n",
       " 99399,\n",
       " 214242,\n",
       " 200408,\n",
       " 136455,\n",
       " 239824,\n",
       " 217039,\n",
       " 51290,\n",
       " 175674,\n",
       " 194404,\n",
       " 45612,\n",
       " 410114,\n",
       " 182521,\n",
       " 339772,\n",
       " 169658,\n",
       " 200853,\n",
       " 247564,\n",
       " 249909,\n",
       " 208122,\n",
       " 109881,\n",
       " 207824,\n",
       " 369027,\n",
       " 114117,\n",
       " 51048,\n",
       " 102388,\n",
       " 190483,\n",
       " 462440,\n",
       " 109351,\n",
       " 34383,\n",
       " 241832,\n",
       " 124187,\n",
       " 153614,\n",
       " 267556,\n",
       " 205469,\n",
       " 268090,\n",
       " 165039,\n",
       " 120451,\n",
       " 154374,\n",
       " 103649,\n",
       " 35723,\n",
       " 262601,\n",
       " 226181,\n",
       " 175697,\n",
       " 248145,\n",
       " 289436,\n",
       " 75654,\n",
       " 199378,\n",
       " 160968,\n",
       " 188563,\n",
       " 55849,\n",
       " 195322,\n",
       " 402089,\n",
       " 78277,\n",
       " 158611,\n",
       " 169496,\n",
       " 130959,\n",
       " 556660,\n",
       " 292472,\n",
       " 143774,\n",
       " 288341,\n",
       " 71592,\n",
       " 167358,\n",
       " 106742,\n",
       " 219288,\n",
       " 174524,\n",
       " 335183,\n",
       " 261293,\n",
       " 111900,\n",
       " 194360,\n",
       " 81145,\n",
       " 341204,\n",
       " 249362,\n",
       " 247019,\n",
       " 114746,\n",
       " 172146,\n",
       " 110457,\n",
       " 80077,\n",
       " 368700,\n",
       " 182556,\n",
       " 219420,\n",
       " 240817,\n",
       " 102726,\n",
       " 226267,\n",
       " 125457,\n",
       " 204021,\n",
       " 161141,\n",
       " 190290,\n",
       " 430828,\n",
       " 59342,\n",
       " 136721,\n",
       " 149422,\n",
       " 86644,\n",
       " 195124,\n",
       " 167350,\n",
       " 113000,\n",
       " 140027,\n",
       " 262425,\n",
       " 316702,\n",
       " 335453,\n",
       " 202480,\n",
       " 203628,\n",
       " 118710,\n",
       " 189620,\n",
       " 475028,\n",
       " 110866,\n",
       " 243605,\n",
       " 163870,\n",
       " 80145,\n",
       " 295566,\n",
       " 63042,\n",
       " 229148,\n",
       " 242552,\n",
       " 177665,\n",
       " 208103,\n",
       " 296450,\n",
       " 70282,\n",
       " 271767,\n",
       " 144995,\n",
       " 382635,\n",
       " 295697,\n",
       " 194141,\n",
       " 378418,\n",
       " 214399,\n",
       " 125831,\n",
       " 271328,\n",
       " 50459,\n",
       " 162140,\n",
       " 177937,\n",
       " 111502,\n",
       " 299047,\n",
       " 223212,\n",
       " 118474,\n",
       " 352139,\n",
       " 173093,\n",
       " 181655,\n",
       " 332702,\n",
       " 51164,\n",
       " 234901,\n",
       " 131414,\n",
       " 260960,\n",
       " 156052,\n",
       " 279914,\n",
       " 192453,\n",
       " 200939,\n",
       " 151408,\n",
       " 112847,\n",
       " 316929,\n",
       " 126319,\n",
       " 197422,\n",
       " 267736,\n",
       " 267034,\n",
       " 193047,\n",
       " 356089,\n",
       " 223515,\n",
       " 87510,\n",
       " 145111,\n",
       " 48093,\n",
       " 31757,\n",
       " 285854,\n",
       " 120064,\n",
       " 167381,\n",
       " 103408,\n",
       " 101460,\n",
       " 420537,\n",
       " 119411,\n",
       " 128272,\n",
       " 386773,\n",
       " 283268,\n",
       " 301526,\n",
       " 151790,\n",
       " 106252,\n",
       " 188557,\n",
       " 171114,\n",
       " 327323,\n",
       " 244147,\n",
       " 280282,\n",
       " 116442,\n",
       " 282579,\n",
       " 51838,\n",
       " 73585,\n",
       " 226902,\n",
       " 279129,\n",
       " 146908,\n",
       " 196690,\n",
       " 49572,\n",
       " 237601,\n",
       " 169628,\n",
       " 36671,\n",
       " 231193,\n",
       " 192130,\n",
       " 149704,\n",
       " 102102,\n",
       " 32185,\n",
       " 196061,\n",
       " 211046,\n",
       " 31577,\n",
       " 162343,\n",
       " 128831,\n",
       " 316688,\n",
       " 90758,\n",
       " 274363,\n",
       " 154538,\n",
       " 106085,\n",
       " 315859,\n",
       " 51471,\n",
       " 193830,\n",
       " 231043,\n",
       " 23780,\n",
       " 169879,\n",
       " 270333,\n",
       " 138768,\n",
       " 191571,\n",
       " 219941,\n",
       " 94113,\n",
       " 137510,\n",
       " 32607,\n",
       " 93208,\n",
       " 254440,\n",
       " 186556,\n",
       " 169871,\n",
       " 167159,\n",
       " 171871,\n",
       " 154411,\n",
       " 129227,\n",
       " 110331,\n",
       " 34269,\n",
       " 174355,\n",
       " 680390,\n",
       " 233130,\n",
       " 165474,\n",
       " 257780,\n",
       " 194259,\n",
       " 280093,\n",
       " 177387,\n",
       " 28929,\n",
       " 105304,\n",
       " 499233,\n",
       " 180572,\n",
       " 321435,\n",
       " 86108,\n",
       " 198124,\n",
       " 135162,\n",
       " 146813,\n",
       " 291175,\n",
       " 387569,\n",
       " 102895,\n",
       " 33274,\n",
       " 86551,\n",
       " 138192,\n",
       " 118966,\n",
       " 99784,\n",
       " 90980,\n",
       " 177407,\n",
       " 96467,\n",
       " 327886,\n",
       " 111567,\n",
       " 166545,\n",
       " 142182,\n",
       " 188798,\n",
       " 38563,\n",
       " 216284,\n",
       " 191547,\n",
       " 285335,\n",
       " 142712,\n",
       " 80945,\n",
       " 309055,\n",
       " 62339,\n",
       " 176186,\n",
       " 266855,\n",
       " 48087,\n",
       " 121313,\n",
       " 143437,\n",
       " 160724,\n",
       " 282753,\n",
       " 194636,\n",
       " 153044,\n",
       " 411797,\n",
       " 117683,\n",
       " 376540,\n",
       " 72393,\n",
       " 270335,\n",
       " 96226,\n",
       " 95336,\n",
       " 258498,\n",
       " 149698,\n",
       " 205865,\n",
       " 155781,\n",
       " 406468,\n",
       " 177119,\n",
       " 144397,\n",
       " 372525,\n",
       " 164170,\n",
       " 183800,\n",
       " 177307,\n",
       " 170108,\n",
       " 341995,\n",
       " 226508,\n",
       " 87418,\n",
       " 109165,\n",
       " 28856,\n",
       " 175897,\n",
       " 99697,\n",
       " 90270,\n",
       " 152375,\n",
       " 171550,\n",
       " 211154,\n",
       " 202570,\n",
       " 168496,\n",
       " 68898,\n",
       " 93235,\n",
       " 278924,\n",
       " 311020,\n",
       " 175878,\n",
       " 543028,\n",
       " 202027,\n",
       " 158926,\n",
       " 76860,\n",
       " 136063,\n",
       " 186648,\n",
       " 257509,\n",
       " 98155,\n",
       " 274198,\n",
       " 97083,\n",
       " 29825,\n",
       " 262153,\n",
       " 214738,\n",
       " 138022,\n",
       " 91842,\n",
       " 373662,\n",
       " 162003,\n",
       " 52114,\n",
       " 241843,\n",
       " 375871,\n",
       " 186934,\n",
       " 176900,\n",
       " 21906,\n",
       " 132222,\n",
       " 143653,\n",
       " 78602,\n",
       " 465507,\n",
       " 196373,\n",
       " 293227,\n",
       " 241752,\n",
       " 166398,\n",
       " 184682,\n",
       " 250802,\n",
       " 325159,\n",
       " 174675,\n",
       " 227065,\n",
       " 269080,\n",
       " 177722,\n",
       " 133461,\n",
       " 239683,\n",
       " 398473,\n",
       " 298785,\n",
       " 123424,\n",
       " 176286,\n",
       " 150062,\n",
       " 169240,\n",
       " 288273,\n",
       " 526968,\n",
       " 57066,\n",
       " 323573,\n",
       " 368825,\n",
       " 189721,\n",
       " 164966,\n",
       " 94954,\n",
       " 202046,\n",
       " 161538,\n",
       " 105252,\n",
       " 200153,\n",
       " 178326,\n",
       " 255957,\n",
       " 188693,\n",
       " 182977,\n",
       " 159929,\n",
       " 123207,\n",
       " 284317,\n",
       " 184699,\n",
       " 154474,\n",
       " 318280,\n",
       " 254907,\n",
       " 349221,\n",
       " 335973,\n",
       " 126701,\n",
       " 122159,\n",
       " 187370,\n",
       " 124793,\n",
       " 192835,\n",
       " 290226,\n",
       " 112840,\n",
       " 89325,\n",
       " 33109,\n",
       " 82465,\n",
       " 329980,\n",
       " 148294,\n",
       " 168212,\n",
       " 343642,\n",
       " 115244,\n",
       " 162572,\n",
       " 356067,\n",
       " 271567,\n",
       " 180804,\n",
       " 123011,\n",
       " 109186,\n",
       " 220537,\n",
       " 124827,\n",
       " 767403,\n",
       " ...]"
      ]
     },
     "execution_count": 34,
     "metadata": {
      "tags": []
     },
     "output_type": "execute_result"
    }
   ],
   "source": [
    "# I need to check the column: fnlwgt is it the dataset ID column or not , teacher not sure... but I think it's the key column\n",
    "finlwgt_list = list(sal['fnlwgt'].unique())\n",
    "finlwgt_list"
   ]
  },
  {
   "cell_type": "code",
   "execution_count": 0,
   "metadata": {
    "colab": {},
    "colab_type": "code",
    "id": "haWlbwK509Xk",
    "outputId": "62022619-6e00-4f5b-e7a1-f007196de81e"
   },
   "outputs": [
    {
     "data": {
      "text/plain": [
       "array([ 77516,  83311, 215646, ..., 173449,  89686, 350977], dtype=int64)"
      ]
     },
     "execution_count": 36,
     "metadata": {
      "tags": []
     },
     "output_type": "execute_result"
    }
   ],
   "source": [
    "sal[\"fnlwgt\"].unique()\n",
    "# sal[\"Color\"].nunique()"
   ]
  },
  {
   "cell_type": "code",
   "execution_count": 0,
   "metadata": {
    "colab": {},
    "colab_type": "code",
    "id": "oXDA4hjy09Xm",
    "outputId": "643e748b-b936-4c20-f61f-c51e6912f6a1"
   },
   "outputs": [
    {
     "data": {
      "text/plain": [
       "array([39, 50, 38, 53, 28, 37, 49, 52, 31, 42, 30, 23, 32, 40, 34, 25, 43,\n",
       "       54, 35, 59, 56, 19, 20, 45, 22, 48, 21, 24, 57, 44, 41, 29, 18, 47,\n",
       "       46, 36, 79, 27, 67, 33, 76, 17, 55, 61, 70, 64, 71, 68, 66, 51, 58,\n",
       "       26, 60, 90, 75, 65, 77, 62, 63, 80, 72, 74, 69, 73, 81, 78, 88, 82,\n",
       "       83, 84, 85, 86, 87, 89], dtype=int64)"
      ]
     },
     "execution_count": 37,
     "metadata": {
      "tags": []
     },
     "output_type": "execute_result"
    }
   ],
   "source": [
    "sal['age'].unique()"
   ]
  },
  {
   "cell_type": "code",
   "execution_count": 0,
   "metadata": {
    "colab": {},
    "colab_type": "code",
    "id": "LGg9cD7K09Xp",
    "outputId": "3178256f-a41a-4564-dd85-643a580b378a"
   },
   "outputs": [
    {
     "data": {
      "text/plain": [
       "array([39, 50, 38, 53, 28, 37, 49, 52, 31, 42, 30, 23, 32, 40, 34, 25, 43,\n",
       "       54, 35, 59, 56, 19, 20, 45, 22, 48, 21, 24, 57, 44, 41, 29, 18, 47,\n",
       "       46, 36, 79, 27, 67, 33, 76, 17, 55, 61, 70, 64, 71, 68, 66, 51, 58,\n",
       "       26, 60, 90, 75, 65, 77, 62, 63, 80, 72, 74, 69, 73, 81, 78, 88, 82,\n",
       "       83, 84, 85, 86, 87, 89], dtype=int64)"
      ]
     },
     "execution_count": 40,
     "metadata": {
      "tags": []
     },
     "output_type": "execute_result"
    }
   ],
   "source": [
    "sal[\"age\"].unique()"
   ]
  },
  {
   "cell_type": "code",
   "execution_count": 0,
   "metadata": {
    "colab": {},
    "colab_type": "code",
    "id": "RW4o8nFU09Xs"
   },
   "outputs": [],
   "source": []
  },
  {
   "cell_type": "markdown",
   "metadata": {
    "colab_type": "text",
    "id": "07GVkNiA09Xu"
   },
   "source": [
    "## Common Column Operations\n",
    "\n",
    "While this is non-comprehensive, these are a few key column-specific data checks."
   ]
  },
  {
   "cell_type": "markdown",
   "metadata": {
    "colab_type": "text",
    "id": "abd8fh0J09Xv"
   },
   "source": [
    "**Descriptive statistics:**  the minimum, first quartile, median, third quartile, and maximum.\n",
    "\n",
    "(And more! The mean too.)"
   ]
  },
  {
   "cell_type": "markdown",
   "metadata": {
    "colab_type": "text",
    "id": "AEm51-Q609Xw"
   },
   "source": [
    "Five Number Summary (all assumes numeric data):\n",
    "- **Min:** The smallest value in the column\n",
    "- **Max:** The largest value in the column\n",
    "- **Quartile:** A quartile is one fourth of our data\n",
    "    - **First quartile:** This is the bottom most 25 percent\n",
    "    - **Median:** The middle value. (Line all values biggest to smallest - median is the middle!) Also the 50th percentile\n",
    "    - **Third quartile:** This the the top 75 percentile of our data\n"
   ]
  },
  {
   "cell_type": "markdown",
   "metadata": {
    "colab_type": "text",
    "id": "2sq5QEB809Xx"
   },
   "source": [
    "![](https://www.mathsisfun.com/data/images/quartiles-a.svg)"
   ]
  },
  {
   "cell_type": "code",
   "execution_count": 0,
   "metadata": {
    "colab": {},
    "colab_type": "code",
    "id": "bO8o2I9909Xy",
    "outputId": "9ec78e33-ba3c-4f91-c795-a92e73f9d8fa"
   },
   "outputs": [
    {
     "data": {
      "text/plain": [
       "count    48842.000000\n",
       "mean        38.643585\n",
       "std         13.710510\n",
       "min         17.000000\n",
       "25%         28.000000\n",
       "50%         37.000000\n",
       "75%         48.000000\n",
       "max         90.000000\n",
       "Name: age, dtype: float64"
      ]
     },
     "execution_count": 40,
     "metadata": {
      "tags": []
     },
     "output_type": "execute_result"
    }
   ],
   "source": [
    "# note - describe *default* only checks numeric datatypes\n",
    "sal['age'].describe()"
   ]
  },
  {
   "cell_type": "code",
   "execution_count": 0,
   "metadata": {
    "colab": {},
    "colab_type": "code",
    "id": "LzQrhXma09X0",
    "outputId": "6552315b-4942-467b-cdee-89dc9b32a7cc"
   },
   "outputs": [
    {
     "data": {
      "text/html": [
       "<div>\n",
       "<style scoped>\n",
       "    .dataframe tbody tr th:only-of-type {\n",
       "        vertical-align: middle;\n",
       "    }\n",
       "\n",
       "    .dataframe tbody tr th {\n",
       "        vertical-align: top;\n",
       "    }\n",
       "\n",
       "    .dataframe thead th {\n",
       "        text-align: right;\n",
       "    }\n",
       "</style>\n",
       "<table border=\"1\" class=\"dataframe\">\n",
       "  <thead>\n",
       "    <tr style=\"text-align: right;\">\n",
       "      <th></th>\n",
       "      <th>age</th>\n",
       "      <th>education-num</th>\n",
       "      <th>capital-gain</th>\n",
       "    </tr>\n",
       "  </thead>\n",
       "  <tbody>\n",
       "    <tr>\n",
       "      <td>count</td>\n",
       "      <td>48842.000000</td>\n",
       "      <td>48842.000000</td>\n",
       "      <td>48842.000000</td>\n",
       "    </tr>\n",
       "    <tr>\n",
       "      <td>mean</td>\n",
       "      <td>38.643585</td>\n",
       "      <td>10.078089</td>\n",
       "      <td>1079.067626</td>\n",
       "    </tr>\n",
       "    <tr>\n",
       "      <td>std</td>\n",
       "      <td>13.710510</td>\n",
       "      <td>2.570973</td>\n",
       "      <td>7452.019058</td>\n",
       "    </tr>\n",
       "    <tr>\n",
       "      <td>min</td>\n",
       "      <td>17.000000</td>\n",
       "      <td>1.000000</td>\n",
       "      <td>0.000000</td>\n",
       "    </tr>\n",
       "    <tr>\n",
       "      <td>25%</td>\n",
       "      <td>28.000000</td>\n",
       "      <td>9.000000</td>\n",
       "      <td>0.000000</td>\n",
       "    </tr>\n",
       "    <tr>\n",
       "      <td>50%</td>\n",
       "      <td>37.000000</td>\n",
       "      <td>10.000000</td>\n",
       "      <td>0.000000</td>\n",
       "    </tr>\n",
       "    <tr>\n",
       "      <td>75%</td>\n",
       "      <td>48.000000</td>\n",
       "      <td>12.000000</td>\n",
       "      <td>0.000000</td>\n",
       "    </tr>\n",
       "    <tr>\n",
       "      <td>max</td>\n",
       "      <td>90.000000</td>\n",
       "      <td>16.000000</td>\n",
       "      <td>99999.000000</td>\n",
       "    </tr>\n",
       "  </tbody>\n",
       "</table>\n",
       "</div>"
      ],
      "text/plain": [
       "                age  education-num  capital-gain\n",
       "count  48842.000000   48842.000000  48842.000000\n",
       "mean      38.643585      10.078089   1079.067626\n",
       "std       13.710510       2.570973   7452.019058\n",
       "min       17.000000       1.000000      0.000000\n",
       "25%       28.000000       9.000000      0.000000\n",
       "50%       37.000000      10.000000      0.000000\n",
       "75%       48.000000      12.000000      0.000000\n",
       "max       90.000000      16.000000  99999.000000"
      ]
     },
     "execution_count": 44,
     "metadata": {
      "tags": []
     },
     "output_type": "execute_result"
    }
   ],
   "source": [
    "sal[['age', 'education-num', 'capital-gain']].describe()"
   ]
  },
  {
   "cell_type": "markdown",
   "metadata": {
    "colab_type": "text",
    "id": "5KV_mgRQ09X9"
   },
   "source": [
    "sal.columns\n",
    "it shown there are 15 columns all are "
   ]
  },
  {
   "cell_type": "code",
   "execution_count": 0,
   "metadata": {
    "colab": {},
    "colab_type": "code",
    "id": "RrReiEB009X-",
    "outputId": "80619260-4659-43e0-b6db-2873db097a02"
   },
   "outputs": [
    {
     "data": {
      "text/plain": [
       "age                int64\n",
       "workclass         object\n",
       "fnlwgt             int64\n",
       "education         object\n",
       "education-num      int64\n",
       "marital-status    object\n",
       "occupation        object\n",
       "relationship      object\n",
       "race              object\n",
       "sex               object\n",
       "capital-gain       int64\n",
       "capital-loss       int64\n",
       "hours-per-week     int64\n",
       "native-country    object\n",
       "income            object\n",
       "dtype: object"
      ]
     },
     "execution_count": 80,
     "metadata": {
      "tags": []
     },
     "output_type": "execute_result"
    }
   ],
   "source": [
    "sal.dtypes"
   ]
  },
  {
   "cell_type": "code",
   "execution_count": 0,
   "metadata": {
    "colab": {},
    "colab_type": "code",
    "id": "7eP7z6yo09YA",
    "outputId": "f5ea80df-3010-42fe-e49c-221a6de9fdfb"
   },
   "outputs": [
    {
     "data": {
      "text/plain": [
       "Index(['age', 'workclass', 'fnlwgt', 'education', 'education-num',\n",
       "       'marital-status', 'occupation', 'relationship', 'race', 'sex',\n",
       "       'capital-gain', 'capital-loss', 'hours-per-week', 'native-country',\n",
       "       'income'],\n",
       "      dtype='object')"
      ]
     },
     "execution_count": 79,
     "metadata": {
      "tags": []
     },
     "output_type": "execute_result"
    }
   ],
   "source": [
    "# sal.columns.count()\n",
    "sal.columns"
   ]
  },
  {
   "cell_type": "code",
   "execution_count": 0,
   "metadata": {
    "colab": {},
    "colab_type": "code",
    "id": "svVX1btm09YC",
    "outputId": "fa0e6c84-ff1e-4062-a453-4e1e7b562e27"
   },
   "outputs": [
    {
     "data": {
      "text/html": [
       "<div>\n",
       "<style scoped>\n",
       "    .dataframe tbody tr th:only-of-type {\n",
       "        vertical-align: middle;\n",
       "    }\n",
       "\n",
       "    .dataframe tbody tr th {\n",
       "        vertical-align: top;\n",
       "    }\n",
       "\n",
       "    .dataframe thead th {\n",
       "        text-align: right;\n",
       "    }\n",
       "</style>\n",
       "<table border=\"1\" class=\"dataframe\">\n",
       "  <thead>\n",
       "    <tr style=\"text-align: right;\">\n",
       "      <th></th>\n",
       "      <th>sex</th>\n",
       "    </tr>\n",
       "  </thead>\n",
       "  <tbody>\n",
       "    <tr>\n",
       "      <td>count</td>\n",
       "      <td>48842</td>\n",
       "    </tr>\n",
       "    <tr>\n",
       "      <td>unique</td>\n",
       "      <td>2</td>\n",
       "    </tr>\n",
       "    <tr>\n",
       "      <td>top</td>\n",
       "      <td>Male</td>\n",
       "    </tr>\n",
       "    <tr>\n",
       "      <td>freq</td>\n",
       "      <td>32650</td>\n",
       "    </tr>\n",
       "  </tbody>\n",
       "</table>\n",
       "</div>"
      ],
      "text/plain": [
       "          sex\n",
       "count   48842\n",
       "unique      2\n",
       "top      Male\n",
       "freq    32650"
      ]
     },
     "execution_count": 62,
     "metadata": {
      "tags": []
     },
     "output_type": "execute_result"
    }
   ],
   "source": [
    "sal[['sex']].describe()"
   ]
  },
  {
   "cell_type": "code",
   "execution_count": 0,
   "metadata": {
    "colab": {},
    "colab_type": "code",
    "id": "DwIWFFDL09YF",
    "outputId": "5185295c-5d7e-4b81-c154-9ca7c99478b3"
   },
   "outputs": [
    {
     "data": {
      "text/plain": [
       "age                         90\n",
       "fnlwgt                 1490400\n",
       "education         Some-college\n",
       "education-num               16\n",
       "marital-status         Widowed\n",
       "relationship              Wife\n",
       "race                     White\n",
       "sex                       Male\n",
       "capital-gain             99999\n",
       "capital-loss              4356\n",
       "hours-per-week              99\n",
       "dtype: object"
      ]
     },
     "execution_count": 74,
     "metadata": {
      "tags": []
     },
     "output_type": "execute_result"
    }
   ],
   "source": [
    "sal.max()"
   ]
  },
  {
   "cell_type": "code",
   "execution_count": 0,
   "metadata": {
    "colab": {},
    "colab_type": "code",
    "id": "gYOnSZWH09YI",
    "outputId": "7ec0e76d-7336-4f0c-d738-ff3aacdc3aa6"
   },
   "outputs": [
    {
     "data": {
      "text/plain": [
       "age                               17\n",
       "fnlwgt                         12285\n",
       "education                       10th\n",
       "education-num                      1\n",
       "marital-status              Divorced\n",
       "relationship                 Husband\n",
       "race              Amer-Indian-Eskimo\n",
       "sex                           Female\n",
       "capital-gain                       0\n",
       "capital-loss                       0\n",
       "hours-per-week                     1\n",
       "dtype: object"
      ]
     },
     "execution_count": 75,
     "metadata": {
      "tags": []
     },
     "output_type": "execute_result"
    }
   ],
   "source": [
    "sal.min()"
   ]
  },
  {
   "cell_type": "code",
   "execution_count": 0,
   "metadata": {
    "colab": {},
    "colab_type": "code",
    "id": "3BE5Zvz209YL",
    "outputId": "5d1c2565-c995-4e3c-d9e1-fc2e02749aa0"
   },
   "outputs": [
    {
     "data": {
      "text/plain": [
       "<matplotlib.axes._subplots.AxesSubplot at 0x1be0c907a08>"
      ]
     },
     "execution_count": 45,
     "metadata": {
      "tags": []
     },
     "output_type": "execute_result"
    },
    {
     "data": {
      "image/png": "[encoded data removed]",
      "text/plain": [
       "<Figure size 432x288 with 1 Axes>"
      ]
     },
     "metadata": {
      "needs_background": "light",
      "tags": []
     },
     "output_type": "display_data"
    }
   ],
   "source": [
    "sal[sal['education-num']== 1]['age'].hist(grid=True, bins = 10)"
   ]
  },
  {
   "cell_type": "code",
   "execution_count": 0,
   "metadata": {
    "colab": {},
    "colab_type": "code",
    "id": "gywi5xWt09YP",
    "outputId": "3411df1b-702b-4276-94bf-35f433c87216"
   },
   "outputs": [
    {
     "data": {
      "text/plain": [
       "<matplotlib.axes._subplots.AxesSubplot at 0x1be12061848>"
      ]
     },
     "execution_count": 46,
     "metadata": {
      "tags": []
     },
     "output_type": "execute_result"
    },
    {
     "data": {
      "image/png": "[encoded data removed]",
      "text/plain": [
       "<Figure size 432x288 with 1 Axes>"
      ]
     },
     "metadata": {
      "needs_background": "light",
      "tags": []
     },
     "output_type": "display_data"
    }
   ],
   "source": [
    "sal[sal['education-num']== 1]['age'].hist(grid=False, bins = 10)"
   ]
  },
  {
   "cell_type": "markdown",
   "metadata": {
    "colab_type": "text",
    "id": "FDXKP_Ki09YR"
   },
   "source": [
    "## Sorting\n",
    "\n",
    "We can sort one column of our DataFrame as well."
   ]
  },
  {
   "cell_type": "code",
   "execution_count": 36,
   "metadata": {
    "colab": {},
    "colab_type": "code",
    "id": "Y5K_Y2uk09YS"
   },
   "outputs": [],
   "source": [
    "# this \n",
    "non_family_edu=sal[(sal['education']== 'Not-in-family') & (sal['age']== 39)].head()\n",
    "#sal"
   ]
  },
  {
   "cell_type": "code",
   "execution_count": 0,
   "metadata": {
    "colab": {},
    "colab_type": "code",
    "id": "D2ieLLwj09YV",
    "outputId": "32011d8b-7f11-4295-ef98-fd2e65d6986e"
   },
   "outputs": [
    {
     "data": {
      "text/html": [
       "<div>\n",
       "<style scoped>\n",
       "    .dataframe tbody tr th:only-of-type {\n",
       "        vertical-align: middle;\n",
       "    }\n",
       "\n",
       "    .dataframe tbody tr th {\n",
       "        vertical-align: top;\n",
       "    }\n",
       "\n",
       "    .dataframe thead th {\n",
       "        text-align: right;\n",
       "    }\n",
       "</style>\n",
       "<table border=\"1\" class=\"dataframe\">\n",
       "  <thead>\n",
       "    <tr style=\"text-align: right;\">\n",
       "      <th></th>\n",
       "      <th>age</th>\n",
       "      <th>workclass</th>\n",
       "      <th>fnlwgt</th>\n",
       "      <th>education</th>\n",
       "      <th>education-num</th>\n",
       "      <th>marital-status</th>\n",
       "      <th>occupation</th>\n",
       "      <th>relationship</th>\n",
       "      <th>race</th>\n",
       "      <th>sex</th>\n",
       "      <th>capital-gain</th>\n",
       "      <th>capital-loss</th>\n",
       "      <th>hours-per-week</th>\n",
       "      <th>native-country</th>\n",
       "      <th>income</th>\n",
       "    </tr>\n",
       "  </thead>\n",
       "  <tbody>\n",
       "  </tbody>\n",
       "</table>\n",
       "</div>"
      ],
      "text/plain": [
       "Empty DataFrame\n",
       "Columns: [age, workclass, fnlwgt, education, education-num, marital-status, occupation, relationship, race, sex, capital-gain, capital-loss, hours-per-week, native-country, income]\n",
       "Index: []"
      ]
     },
     "execution_count": 54,
     "metadata": {
      "tags": []
     },
     "output_type": "execute_result"
    }
   ],
   "source": [
    "#this shows that no .....\n",
    "non_family_edu"
   ]
  },
  {
   "cell_type": "code",
   "execution_count": 0,
   "metadata": {
    "colab": {},
    "colab_type": "code",
    "id": "gqb_nrBZ09YY",
    "outputId": "043ab471-5fa3-43ac-cd61-3065da13d695"
   },
   "outputs": [
    {
     "data": {
      "text/html": [
       "<div>\n",
       "<style scoped>\n",
       "    .dataframe tbody tr th:only-of-type {\n",
       "        vertical-align: middle;\n",
       "    }\n",
       "\n",
       "    .dataframe tbody tr th {\n",
       "        vertical-align: top;\n",
       "    }\n",
       "\n",
       "    .dataframe thead th {\n",
       "        text-align: right;\n",
       "    }\n",
       "</style>\n",
       "<table border=\"1\" class=\"dataframe\">\n",
       "  <thead>\n",
       "    <tr style=\"text-align: right;\">\n",
       "      <th></th>\n",
       "      <th>age</th>\n",
       "      <th>workclass</th>\n",
       "      <th>fnlwgt</th>\n",
       "      <th>education</th>\n",
       "      <th>education-num</th>\n",
       "      <th>marital-status</th>\n",
       "      <th>occupation</th>\n",
       "      <th>relationship</th>\n",
       "      <th>race</th>\n",
       "      <th>sex</th>\n",
       "      <th>capital-gain</th>\n",
       "      <th>capital-loss</th>\n",
       "      <th>hours-per-week</th>\n",
       "      <th>native-country</th>\n",
       "      <th>income</th>\n",
       "    </tr>\n",
       "  </thead>\n",
       "  <tbody>\n",
       "    <tr>\n",
       "      <td>46519</td>\n",
       "      <td>90</td>\n",
       "      <td>Private</td>\n",
       "      <td>272752</td>\n",
       "      <td>Some-college</td>\n",
       "      <td>10</td>\n",
       "      <td>Never-married</td>\n",
       "      <td>Other-service</td>\n",
       "      <td>Own-child</td>\n",
       "      <td>White</td>\n",
       "      <td>Male</td>\n",
       "      <td>0</td>\n",
       "      <td>0</td>\n",
       "      <td>10</td>\n",
       "      <td>United-States</td>\n",
       "      <td>NaN</td>\n",
       "    </tr>\n",
       "    <tr>\n",
       "      <td>39537</td>\n",
       "      <td>90</td>\n",
       "      <td>Private</td>\n",
       "      <td>250832</td>\n",
       "      <td>HS-grad</td>\n",
       "      <td>9</td>\n",
       "      <td>Married-civ-spouse</td>\n",
       "      <td>Transport-moving</td>\n",
       "      <td>Husband</td>\n",
       "      <td>White</td>\n",
       "      <td>Male</td>\n",
       "      <td>2414</td>\n",
       "      <td>0</td>\n",
       "      <td>40</td>\n",
       "      <td>United-States</td>\n",
       "      <td>NaN</td>\n",
       "    </tr>\n",
       "    <tr>\n",
       "      <td>19212</td>\n",
       "      <td>90</td>\n",
       "      <td>Private</td>\n",
       "      <td>139660</td>\n",
       "      <td>Some-college</td>\n",
       "      <td>10</td>\n",
       "      <td>Divorced</td>\n",
       "      <td>Sales</td>\n",
       "      <td>Unmarried</td>\n",
       "      <td>Black</td>\n",
       "      <td>Female</td>\n",
       "      <td>0</td>\n",
       "      <td>0</td>\n",
       "      <td>37</td>\n",
       "      <td>United-States</td>\n",
       "      <td>small</td>\n",
       "    </tr>\n",
       "    <tr>\n",
       "      <td>24043</td>\n",
       "      <td>90</td>\n",
       "      <td>Self-emp-not-inc</td>\n",
       "      <td>82628</td>\n",
       "      <td>HS-grad</td>\n",
       "      <td>9</td>\n",
       "      <td>Never-married</td>\n",
       "      <td>Exec-managerial</td>\n",
       "      <td>Not-in-family</td>\n",
       "      <td>White</td>\n",
       "      <td>Male</td>\n",
       "      <td>2964</td>\n",
       "      <td>0</td>\n",
       "      <td>12</td>\n",
       "      <td>United-States</td>\n",
       "      <td>small</td>\n",
       "    </tr>\n",
       "    <tr>\n",
       "      <td>5370</td>\n",
       "      <td>90</td>\n",
       "      <td>Local-gov</td>\n",
       "      <td>227796</td>\n",
       "      <td>Masters</td>\n",
       "      <td>14</td>\n",
       "      <td>Married-civ-spouse</td>\n",
       "      <td>Exec-managerial</td>\n",
       "      <td>Husband</td>\n",
       "      <td>White</td>\n",
       "      <td>Male</td>\n",
       "      <td>20051</td>\n",
       "      <td>0</td>\n",
       "      <td>60</td>\n",
       "      <td>United-States</td>\n",
       "      <td>large</td>\n",
       "    </tr>\n",
       "  </tbody>\n",
       "</table>\n",
       "</div>"
      ],
      "text/plain": [
       "       age         workclass  fnlwgt     education  education-num  \\\n",
       "46519   90           Private  272752  Some-college             10   \n",
       "39537   90           Private  250832       HS-grad              9   \n",
       "19212   90           Private  139660  Some-college             10   \n",
       "24043   90  Self-emp-not-inc   82628       HS-grad              9   \n",
       "5370    90         Local-gov  227796       Masters             14   \n",
       "\n",
       "           marital-status        occupation   relationship   race     sex  \\\n",
       "46519       Never-married     Other-service      Own-child  White    Male   \n",
       "39537  Married-civ-spouse  Transport-moving        Husband  White    Male   \n",
       "19212            Divorced             Sales      Unmarried  Black  Female   \n",
       "24043       Never-married   Exec-managerial  Not-in-family  White    Male   \n",
       "5370   Married-civ-spouse   Exec-managerial        Husband  White    Male   \n",
       "\n",
       "       capital-gain  capital-loss  hours-per-week native-country income  \n",
       "46519             0             0              10  United-States    NaN  \n",
       "39537          2414             0              40  United-States    NaN  \n",
       "19212             0             0              37  United-States  small  \n",
       "24043          2964             0              12  United-States  small  \n",
       "5370          20051             0              60  United-States  large  "
      ]
     },
     "execution_count": 56,
     "metadata": {
      "tags": []
     },
     "output_type": "execute_result"
    }
   ],
   "source": [
    "# sorting data by age starting with old \n",
    "sal.sort_values(by='age', ascending=False).head()"
   ]
  },
  {
   "cell_type": "code",
   "execution_count": 0,
   "metadata": {
    "colab": {},
    "colab_type": "code",
    "id": "jl6PDX_a09YZ",
    "outputId": "97d8e5b5-ba6b-4c20-9dc0-7d7bc6e582c1"
   },
   "outputs": [
    {
     "data": {
      "text/html": [
       "<div>\n",
       "<style scoped>\n",
       "    .dataframe tbody tr th:only-of-type {\n",
       "        vertical-align: middle;\n",
       "    }\n",
       "\n",
       "    .dataframe tbody tr th {\n",
       "        vertical-align: top;\n",
       "    }\n",
       "\n",
       "    .dataframe thead th {\n",
       "        text-align: right;\n",
       "    }\n",
       "</style>\n",
       "<table border=\"1\" class=\"dataframe\">\n",
       "  <thead>\n",
       "    <tr style=\"text-align: right;\">\n",
       "      <th></th>\n",
       "      <th>age</th>\n",
       "      <th>workclass</th>\n",
       "      <th>fnlwgt</th>\n",
       "      <th>education</th>\n",
       "      <th>education-num</th>\n",
       "      <th>marital-status</th>\n",
       "      <th>occupation</th>\n",
       "      <th>relationship</th>\n",
       "      <th>race</th>\n",
       "      <th>sex</th>\n",
       "      <th>capital-gain</th>\n",
       "      <th>capital-loss</th>\n",
       "      <th>hours-per-week</th>\n",
       "      <th>native-country</th>\n",
       "      <th>income</th>\n",
       "    </tr>\n",
       "  </thead>\n",
       "  <tbody>\n",
       "    <tr>\n",
       "      <td>28092</td>\n",
       "      <td>17</td>\n",
       "      <td>Private</td>\n",
       "      <td>36877</td>\n",
       "      <td>10th</td>\n",
       "      <td>6</td>\n",
       "      <td>Never-married</td>\n",
       "      <td>Sales</td>\n",
       "      <td>Own-child</td>\n",
       "      <td>White</td>\n",
       "      <td>Female</td>\n",
       "      <td>0</td>\n",
       "      <td>0</td>\n",
       "      <td>10</td>\n",
       "      <td>United-States</td>\n",
       "      <td>small</td>\n",
       "    </tr>\n",
       "    <tr>\n",
       "      <td>46962</td>\n",
       "      <td>17</td>\n",
       "      <td>Private</td>\n",
       "      <td>73820</td>\n",
       "      <td>12th</td>\n",
       "      <td>8</td>\n",
       "      <td>Never-married</td>\n",
       "      <td>Sales</td>\n",
       "      <td>Own-child</td>\n",
       "      <td>White</td>\n",
       "      <td>Female</td>\n",
       "      <td>0</td>\n",
       "      <td>0</td>\n",
       "      <td>8</td>\n",
       "      <td>United-States</td>\n",
       "      <td>NaN</td>\n",
       "    </tr>\n",
       "    <tr>\n",
       "      <td>42922</td>\n",
       "      <td>17</td>\n",
       "      <td>Private</td>\n",
       "      <td>165457</td>\n",
       "      <td>10th</td>\n",
       "      <td>6</td>\n",
       "      <td>Never-married</td>\n",
       "      <td>Other-service</td>\n",
       "      <td>Own-child</td>\n",
       "      <td>White</td>\n",
       "      <td>Male</td>\n",
       "      <td>0</td>\n",
       "      <td>0</td>\n",
       "      <td>16</td>\n",
       "      <td>United-States</td>\n",
       "      <td>NaN</td>\n",
       "    </tr>\n",
       "    <tr>\n",
       "      <td>1389</td>\n",
       "      <td>17</td>\n",
       "      <td>Private</td>\n",
       "      <td>46496</td>\n",
       "      <td>11th</td>\n",
       "      <td>7</td>\n",
       "      <td>Never-married</td>\n",
       "      <td>Other-service</td>\n",
       "      <td>Own-child</td>\n",
       "      <td>White</td>\n",
       "      <td>Male</td>\n",
       "      <td>0</td>\n",
       "      <td>0</td>\n",
       "      <td>5</td>\n",
       "      <td>United-States</td>\n",
       "      <td>small</td>\n",
       "    </tr>\n",
       "    <tr>\n",
       "      <td>32963</td>\n",
       "      <td>17</td>\n",
       "      <td>Private</td>\n",
       "      <td>40299</td>\n",
       "      <td>11th</td>\n",
       "      <td>7</td>\n",
       "      <td>Never-married</td>\n",
       "      <td>Sales</td>\n",
       "      <td>Own-child</td>\n",
       "      <td>White</td>\n",
       "      <td>Female</td>\n",
       "      <td>0</td>\n",
       "      <td>0</td>\n",
       "      <td>25</td>\n",
       "      <td>United-States</td>\n",
       "      <td>NaN</td>\n",
       "    </tr>\n",
       "  </tbody>\n",
       "</table>\n",
       "</div>"
      ],
      "text/plain": [
       "       age workclass  fnlwgt education  education-num marital-status  \\\n",
       "28092   17   Private   36877      10th              6  Never-married   \n",
       "46962   17   Private   73820      12th              8  Never-married   \n",
       "42922   17   Private  165457      10th              6  Never-married   \n",
       "1389    17   Private   46496      11th              7  Never-married   \n",
       "32963   17   Private   40299      11th              7  Never-married   \n",
       "\n",
       "          occupation relationship   race     sex  capital-gain  capital-loss  \\\n",
       "28092          Sales    Own-child  White  Female             0             0   \n",
       "46962          Sales    Own-child  White  Female             0             0   \n",
       "42922  Other-service    Own-child  White    Male             0             0   \n",
       "1389   Other-service    Own-child  White    Male             0             0   \n",
       "32963          Sales    Own-child  White  Female             0             0   \n",
       "\n",
       "       hours-per-week native-country income  \n",
       "28092              10  United-States  small  \n",
       "46962               8  United-States    NaN  \n",
       "42922              16  United-States    NaN  \n",
       "1389                5  United-States  small  \n",
       "32963              25  United-States    NaN  "
      ]
     },
     "execution_count": 57,
     "metadata": {
      "tags": []
     },
     "output_type": "execute_result"
    }
   ],
   "source": [
    "# let's take a look at the type\n",
    "sal.sort_values(by='age', ascending=True).head()"
   ]
  },
  {
   "cell_type": "markdown",
   "metadata": {
    "colab_type": "text",
    "id": "7QWU1nBp09Yd"
   },
   "source": [
    "This one is a little more advanced, but it demonstrates a few things:\n",
    "- Conversion of a `numpy.ndarray` object (return type of `pd.Series.unique()`) into a `pd.Series` object\n",
    "- `pd.Series.sort_values` with the `by=` kwarg omitted (if only one column is the operand, `by=` doesn't need specified\n",
    "- Alphabetical sort of a string field, `ascending=True` means A->Z\n",
    "- Inclusion of nulls, `NaN` in a string field (versus omission with a float/int as prior example)"
   ]
  },
  {
   "cell_type": "markdown",
   "metadata": {
    "colab_type": "text",
    "id": "dpfZ6mH209Yd"
   },
   "source": [
    "# <font color=red>Recap of Salaries Dataset</font>"
   ]
  },
  {
   "cell_type": "markdown",
   "metadata": {
    "colab_type": "text",
    "id": "CgoOE50O09Yd"
   },
   "source": [
    "How many rows are in the dataframe? Return the answer as an int."
   ]
  },
  {
   "cell_type": "code",
   "execution_count": 0,
   "metadata": {
    "colab": {},
    "colab_type": "code",
    "id": "87iE6kyv09Ye",
    "outputId": "c98cac8c-a2eb-46d0-9a96-179b1e4b2fa4"
   },
   "outputs": [
    {
     "data": {
      "text/plain": [
       "(48842, 15)"
      ]
     },
     "execution_count": 58,
     "metadata": {
      "tags": []
     },
     "output_type": "execute_result"
    }
   ],
   "source": [
    "sal.shape"
   ]
  },
  {
   "cell_type": "markdown",
   "metadata": {
    "colab_type": "text",
    "id": "LdCIzpjy09Yg"
   },
   "source": [
    "How many columns? Retrun the answer as an int."
   ]
  },
  {
   "cell_type": "code",
   "execution_count": 0,
   "metadata": {
    "colab": {},
    "colab_type": "code",
    "id": "rFhEJeZI09Yh",
    "outputId": "a694562f-8926-413f-ee21-484c15c0ef74"
   },
   "outputs": [
    {
     "data": {
      "text/plain": [
       "48842"
      ]
     },
     "execution_count": 60,
     "metadata": {
      "tags": []
     },
     "output_type": "execute_result"
    }
   ],
   "source": [
    "sal.shape[0]"
   ]
  },
  {
   "cell_type": "code",
   "execution_count": 0,
   "metadata": {
    "colab": {},
    "colab_type": "code",
    "id": "vXteofEo09Yj"
   },
   "outputs": [],
   "source": []
  }
 ],
 "metadata": {
  "colab": {
   "collapsed_sections": [
    "07GVkNiA09Xu",
    "FDXKP_Ki09YR"
   ],
   "name": "Abdullah_AlHashar_Capstone.ipynb",
   "provenance": [],
   "toc_visible": true
  },
  "kernelspec": {
   "display_name": "Python 3",
   "language": "python",
   "name": "python3"
  },
  "language_info": {
   "codemirror_mode": {
    "name": "ipython",
    "version": 3
   },
   "file_extension": ".py",
   "mimetype": "text/x-python",
   "name": "python",
   "nbconvert_exporter": "python",
   "pygments_lexer": "ipython3",
   "version": "3.7.4"
  }
 },
 "nbformat": 4,
 "nbformat_minor": 1
}
