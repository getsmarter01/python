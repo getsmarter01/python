{
 "cells": [
  {
   "cell_type": "markdown",
   "metadata": {},
   "source": [
    "<img src=\"http://imgur.com/1ZcRyrc.png\" style=\"float: left; margin: 20px; height: 55px\">\n",
    "\n",
    "\n",
    "# Practice Using APIs\n",
    "----"
   ]
  },
  {
   "cell_type": "markdown",
   "metadata": {},
   "source": [
    "Getting Data from APIs\n",
    "What is an API?\n",
    "- Application Programming Interface\n",
    "- Structured way to expose specific functionality and data access to users\n",
    "- Web APIs usually follow the \"REST\" standard\n",
    "How to interact with a REST API:\n",
    "- Make a \"request\" to a specific URL (an \"endpoint\"), and get the data back in a \"response\"\n",
    "- Most relevant request method for us is GET (other methods: POST, PUT, DELETE)\n",
    "- Response is often JSON format\n",
    "- Web console is sometimes available (allows you to explore an API)\n",
    "- some API requires that you have a credential key."
   ]
  },
  {
   "cell_type": "markdown",
   "metadata": {},
   "source": [
    " In this lab we will practice using some popular APIs to retrieve and store data."
   ]
  },
  {
   "cell_type": "code",
   "execution_count": 2,
   "metadata": {},
   "outputs": [],
   "source": [
    "# Imports at the top\n",
    "import requests # use requests library to interact with a URL\n",
    "import pandas as pd # use pandas to build a dataframe\n",
    "import numpy as np"
   ]
  },
  {
   "cell_type": "markdown",
   "metadata": {},
   "source": [
    "## 1.1 get data from OMDb API - http://www.omdbapi.com\n",
    "---"
   ]
  },
  {
   "cell_type": "code",
   "execution_count": 10,
   "metadata": {},
   "outputs": [],
   "source": [
    "api_base_url = 'http://www.omdbapi.com/?apikey=1886f4b0'\n",
    "\n",
    "# use requests library to interact with a URL\n",
    "r = requests.get(api_base_url)"
   ]
  },
  {
   "cell_type": "code",
   "execution_count": 20,
   "metadata": {},
   "outputs": [
    {
     "data": {
      "text/plain": [
       "200"
      ]
     },
     "execution_count": 20,
     "metadata": {},
     "output_type": "execute_result"
    }
   ],
   "source": [
    "# check the status: 200 means success, 4xx means error\n",
    "r.status_code"
   ]
  },
  {
   "cell_type": "markdown",
   "metadata": {},
   "source": [
    "> Hint: check this url for more details regarding code status https://restfulapi.net/http-status-codes/"
   ]
  },
  {
   "cell_type": "code",
   "execution_count": 62,
   "metadata": {},
   "outputs": [],
   "source": [
    "# view the raw response text\n",
    "api_dic=r.text"
   ]
  },
  {
   "cell_type": "code",
   "execution_count": 63,
   "metadata": {},
   "outputs": [],
   "source": [
    "# decode the JSON response body into a dictionary\n",
    "api_dict=r.json() # since it is a dictionary, then it is a key-value pair"
   ]
  },
  {
   "cell_type": "code",
   "execution_count": 64,
   "metadata": {},
   "outputs": [
    {
     "data": {
      "text/plain": [
       "'http://www.recipepuppy.com/'"
      ]
     },
     "execution_count": 64,
     "metadata": {},
     "output_type": "execute_result"
    }
   ],
   "source": [
    "# api_dict\n",
    "api_dict['href']"
   ]
  },
  {
   "cell_type": "code",
   "execution_count": 42,
   "metadata": {},
   "outputs": [
    {
     "data": {
      "text/plain": [
       "[{'title': 'Vegetarian Burgers (The Uncow Burger)',\n",
       "  'href': 'http://www.bigoven.com/19414-Vegetarian-Burgers-(The-Uncow-Burger)-recipe.html',\n",
       "  'ingredients': 'butter beans, bulgur, barley, oatmeal, soy sauce, barbecue sauce, basil, onions, garlic, celery, salt, black pepper',\n",
       "  'thumbnail': ''},\n",
       " {'title': 'Bean Burger (Ovo)',\n",
       "  'href': 'http://www.bigoven.com/34398-Bean-Burger-(Ovo)-recipe.html',\n",
       "  'ingredients': 'kidney bean, curry powder, cornstarch, cornmeal, onions, garlic, cloves, black pepper, carrot, beef, soy sauce, eggs',\n",
       "  'thumbnail': ''},\n",
       " {'title': '\\nBeef Burger With Roasted Tomato Ketchup Recipe\\n\\n',\n",
       "  'href': 'http://cookeatshare.com/recipes/beef-burger-with-roasted-tomato-ketchup-81695',\n",
       "  'ingredients': 'tomato, olive oil, onions, garlic, cider vinegar, sugar, cinnamon, allspice, salt, black pepper, sirloin steak, olive oil, sandwich rolls',\n",
       "  'thumbnail': ''},\n",
       " {'title': 'Pine nut-crusted fish burger on an aubergine and mushroom bun with peas',\n",
       "  'href': 'http://www.bbc.co.uk/food/recipes/database/pinenutcrustedfishbu_86989.shtml',\n",
       "  'ingredients': 'fish, eggplant, mushroom, olive oil, butter, garlic, black pepper, pine nuts, cod, peas, butter, onions, peas, cream, black pepper',\n",
       "  'thumbnail': ''},\n",
       " {'title': 'Cheese-Nut Burger',\n",
       "  'href': 'http://recipe.aol.com/recipe/cheese-nut-burger/131031',\n",
       "  'ingredients': 'olive oil, onions, garlic, mushroom, salt, soy sauce, thyme, marjoram, black pepper, rice, cheddar cheese, walnut',\n",
       "  'thumbnail': ''},\n",
       " {'title': '\\nBurger Casserole Recipe\\n\\n',\n",
       "  'href': 'http://cookeatshare.com/recipes/burger-casserole-95110',\n",
       "  'ingredients': 'tomato, onions, black pepper, noodles, broccoli, cinnamon, nutmeg, garlic, black pepper, cream of mushroom soup, cream of celery soup, lowfat milk, fried onions',\n",
       "  'thumbnail': ''},\n",
       " {'title': 'Crab &quot;burger&quot; to Go',\n",
       "  'href': 'http://www.recipezaar.com/Crab-burger-to-Go-140334',\n",
       "  'ingredients': 'butter, dijon mustard, english muffin, lemon juice, garlic, green pepper, eggs, crabmeat, mayonnaise, onions, parmesan cheese, red pepper, worcestershire sauce',\n",
       "  'thumbnail': ''},\n",
       " {'title': 'Chicken Cabbage Rice Burger',\n",
       "  'href': 'http://www.recipezaar.com/Chicken-Cabbage-Rice-Burger-339676',\n",
       "  'ingredients': 'black pepper, chicken, cabbage, corn, garlic, lettuce, maple syrup, vegetable oil, onions, rice, salt, tomato, water',\n",
       "  'thumbnail': ''},\n",
       " {'title': 'Freezer Veggie Burger(4 Ww Points)',\n",
       "  'href': 'http://www.recipezaar.com/Freezer-Veggie-Burger4-Ww-Points-351061',\n",
       "  'ingredients': 'beans, carrot, garlic, hamburger bun, ketchup, lettuce, mushroom, oats, onions, salt, red pepper flakes, tomato, white pepper',\n",
       "  'thumbnail': ''},\n",
       " {'title': 'Mushroom Burger Recipe',\n",
       "  'href': 'http://www.cdkitchen.com/recipes/recs/2428/Mushroom-Burger100335.shtml',\n",
       "  'ingredients': 'bay leaf, ground beef, butter, mushroom, garlic, hamburger bun, olive oil, onions, oregano, black pepper, mushrooms, red onions, romaine lettuce, salt, thyme',\n",
       "  'thumbnail': ''}]"
      ]
     },
     "execution_count": 42,
     "metadata": {},
     "output_type": "execute_result"
    }
   ],
   "source": [
    "inner_dict=api_dict['results']\n",
    "inner_dict # it's a list with  ---->> "
   ]
  },
  {
   "cell_type": "code",
   "execution_count": 46,
   "metadata": {},
   "outputs": [
    {
     "name": "stdout",
     "output_type": "stream",
     "text": [
      "{'title': 'Vegetarian Burgers (The Uncow Burger)', 'href': 'http://www.bigoven.com/19414-Vegetarian-Burgers-(The-Uncow-Burger)-recipe.html', 'ingredients': 'butter beans, bulgur, barley, oatmeal, soy sauce, barbecue sauce, basil, onions, garlic, celery, salt, black pepper', 'thumbnail': ''} \n",
      "\n",
      "{'title': 'Bean Burger (Ovo)', 'href': 'http://www.bigoven.com/34398-Bean-Burger-(Ovo)-recipe.html', 'ingredients': 'kidney bean, curry powder, cornstarch, cornmeal, onions, garlic, cloves, black pepper, carrot, beef, soy sauce, eggs', 'thumbnail': ''} \n",
      "\n",
      "{'title': '\\nBeef Burger With Roasted Tomato Ketchup Recipe\\n\\n', 'href': 'http://cookeatshare.com/recipes/beef-burger-with-roasted-tomato-ketchup-81695', 'ingredients': 'tomato, olive oil, onions, garlic, cider vinegar, sugar, cinnamon, allspice, salt, black pepper, sirloin steak, olive oil, sandwich rolls', 'thumbnail': ''} \n",
      "\n",
      "{'title': 'Pine nut-crusted fish burger on an aubergine and mushroom bun with peas', 'href': 'http://www.bbc.co.uk/food/recipes/database/pinenutcrustedfishbu_86989.shtml', 'ingredients': 'fish, eggplant, mushroom, olive oil, butter, garlic, black pepper, pine nuts, cod, peas, butter, onions, peas, cream, black pepper', 'thumbnail': ''} \n",
      "\n",
      "{'title': 'Cheese-Nut Burger', 'href': 'http://recipe.aol.com/recipe/cheese-nut-burger/131031', 'ingredients': 'olive oil, onions, garlic, mushroom, salt, soy sauce, thyme, marjoram, black pepper, rice, cheddar cheese, walnut', 'thumbnail': ''} \n",
      "\n",
      "{'title': '\\nBurger Casserole Recipe\\n\\n', 'href': 'http://cookeatshare.com/recipes/burger-casserole-95110', 'ingredients': 'tomato, onions, black pepper, noodles, broccoli, cinnamon, nutmeg, garlic, black pepper, cream of mushroom soup, cream of celery soup, lowfat milk, fried onions', 'thumbnail': ''} \n",
      "\n",
      "{'title': 'Crab &quot;burger&quot; to Go', 'href': 'http://www.recipezaar.com/Crab-burger-to-Go-140334', 'ingredients': 'butter, dijon mustard, english muffin, lemon juice, garlic, green pepper, eggs, crabmeat, mayonnaise, onions, parmesan cheese, red pepper, worcestershire sauce', 'thumbnail': ''} \n",
      "\n",
      "{'title': 'Chicken Cabbage Rice Burger', 'href': 'http://www.recipezaar.com/Chicken-Cabbage-Rice-Burger-339676', 'ingredients': 'black pepper, chicken, cabbage, corn, garlic, lettuce, maple syrup, vegetable oil, onions, rice, salt, tomato, water', 'thumbnail': ''} \n",
      "\n",
      "{'title': 'Freezer Veggie Burger(4 Ww Points)', 'href': 'http://www.recipezaar.com/Freezer-Veggie-Burger4-Ww-Points-351061', 'ingredients': 'beans, carrot, garlic, hamburger bun, ketchup, lettuce, mushroom, oats, onions, salt, red pepper flakes, tomato, white pepper', 'thumbnail': ''} \n",
      "\n",
      "{'title': 'Mushroom Burger Recipe', 'href': 'http://www.cdkitchen.com/recipes/recs/2428/Mushroom-Burger100335.shtml', 'ingredients': 'bay leaf, ground beef, butter, mushroom, garlic, hamburger bun, olive oil, onions, oregano, black pepper, mushrooms, red onions, romaine lettuce, salt, thyme', 'thumbnail': ''} \n",
      "\n"
     ]
    }
   ],
   "source": [
    "for single_dict in inner_dict :\n",
    "    print(single_dict, '\\n')"
   ]
  },
  {
   "cell_type": "code",
   "execution_count": 47,
   "metadata": {},
   "outputs": [
    {
     "name": "stdout",
     "output_type": "stream",
     "text": [
      "Vegetarian Burgers (The Uncow Burger) \n",
      "\n",
      "Bean Burger (Ovo) \n",
      "\n",
      "\n",
      "Beef Burger With Roasted Tomato Ketchup Recipe\n",
      "\n",
      " \n",
      "\n",
      "Pine nut-crusted fish burger on an aubergine and mushroom bun with peas \n",
      "\n",
      "Cheese-Nut Burger \n",
      "\n",
      "\n",
      "Burger Casserole Recipe\n",
      "\n",
      " \n",
      "\n",
      "Crab &quot;burger&quot; to Go \n",
      "\n",
      "Chicken Cabbage Rice Burger \n",
      "\n",
      "Freezer Veggie Burger(4 Ww Points) \n",
      "\n",
      "Mushroom Burger Recipe \n",
      "\n"
     ]
    }
   ],
   "source": [
    "#title os each single dict... print all titles\n",
    "for single_dict in inner_dict :\n",
    "    print(single_dict['title'], '\\n')"
   ]
  },
  {
   "cell_type": "code",
   "execution_count": 59,
   "metadata": {},
   "outputs": [
    {
     "ename": "SyntaxError",
     "evalue": "invalid syntax (<ipython-input-59-6f896e1a82ea>, line 2)",
     "output_type": "error",
     "traceback": [
      "\u001b[1;36m  File \u001b[1;32m\"<ipython-input-59-6f896e1a82ea>\"\u001b[1;36m, line \u001b[1;32m2\u001b[0m\n\u001b[1;33m    print(single_dict[['title'],'\\t',single_dict['ingredients'],'\\n')\u001b[0m\n\u001b[1;37m                                                                    ^\u001b[0m\n\u001b[1;31mSyntaxError\u001b[0m\u001b[1;31m:\u001b[0m invalid syntax\n"
     ]
    }
   ],
   "source": [
    "\n",
    "for single_dict in inner_dict:\n",
    "    print(single_dict[['title'],'\\t',single_dict['ingredients'],'\\n')"
   ]
  },
  {
   "cell_type": "code",
   "execution_count": 57,
   "metadata": {},
   "outputs": [
    {
     "name": "stdout",
     "output_type": "stream",
     "text": [
      "Vegetarian Burgers (The Uncow Burger) \t butter beans, bulgur, barley, oatmeal, soy sauce, barbecue sauce, basil, onions, garlic, celery, salt, black pepper \n",
      "\n",
      "Bean Burger (Ovo) \t kidney bean, curry powder, cornstarch, cornmeal, onions, garlic, cloves, black pepper, carrot, beef, soy sauce, eggs \n",
      "\n",
      "\n",
      "Beef Burger With Roasted Tomato Ketchup Recipe\n",
      "\n",
      " \t tomato, olive oil, onions, garlic, cider vinegar, sugar, cinnamon, allspice, salt, black pepper, sirloin steak, olive oil, sandwich rolls \n",
      "\n",
      "Pine nut-crusted fish burger on an aubergine and mushroom bun with peas \t fish, eggplant, mushroom, olive oil, butter, garlic, black pepper, pine nuts, cod, peas, butter, onions, peas, cream, black pepper \n",
      "\n",
      "Cheese-Nut Burger \t olive oil, onions, garlic, mushroom, salt, soy sauce, thyme, marjoram, black pepper, rice, cheddar cheese, walnut \n",
      "\n",
      "\n",
      "Burger Casserole Recipe\n",
      "\n",
      " \t tomato, onions, black pepper, noodles, broccoli, cinnamon, nutmeg, garlic, black pepper, cream of mushroom soup, cream of celery soup, lowfat milk, fried onions \n",
      "\n",
      "Crab &quot;burger&quot; to Go \t butter, dijon mustard, english muffin, lemon juice, garlic, green pepper, eggs, crabmeat, mayonnaise, onions, parmesan cheese, red pepper, worcestershire sauce \n",
      "\n",
      "Chicken Cabbage Rice Burger \t black pepper, chicken, cabbage, corn, garlic, lettuce, maple syrup, vegetable oil, onions, rice, salt, tomato, water \n",
      "\n",
      "Freezer Veggie Burger(4 Ww Points) \t beans, carrot, garlic, hamburger bun, ketchup, lettuce, mushroom, oats, onions, salt, red pepper flakes, tomato, white pepper \n",
      "\n",
      "Mushroom Burger Recipe \t bay leaf, ground beef, butter, mushroom, garlic, hamburger bun, olive oil, onions, oregano, black pepper, mushrooms, red onions, romaine lettuce, salt, thyme \n",
      "\n"
     ]
    }
   ],
   "source": [
    "for single_dict in inner_dict:\n",
    "    print(single_dict['title'], '\\t',single_dict['ingredients'], '\\n')"
   ]
  },
  {
   "cell_type": "code",
   "execution_count": 43,
   "metadata": {},
   "outputs": [
    {
     "data": {
      "text/plain": [
       "{'title': 'Vegetarian Burgers (The Uncow Burger)',\n",
       " 'href': 'http://www.bigoven.com/19414-Vegetarian-Burgers-(The-Uncow-Burger)-recipe.html',\n",
       " 'ingredients': 'butter beans, bulgur, barley, oatmeal, soy sauce, barbecue sauce, basil, onions, garlic, celery, salt, black pepper',\n",
       " 'thumbnail': ''}"
      ]
     },
     "execution_count": 43,
     "metadata": {},
     "output_type": "execute_result"
    }
   ],
   "source": [
    "inner_dict[0]"
   ]
  },
  {
   "cell_type": "code",
   "execution_count": 40,
   "metadata": {},
   "outputs": [
    {
     "data": {
      "text/plain": [
       "{'title': 'Recipe Puppy',\n",
       " 'version': 0.1,\n",
       " 'href': 'http://www.recipepuppy.com/',\n",
       " 'results': [{'title': 'Vegetarian Burgers (The Uncow Burger)',\n",
       "   'href': 'http://www.bigoven.com/19414-Vegetarian-Burgers-(The-Uncow-Burger)-recipe.html',\n",
       "   'ingredients': 'butter beans, bulgur, barley, oatmeal, soy sauce, barbecue sauce, basil, onions, garlic, celery, salt, black pepper',\n",
       "   'thumbnail': ''},\n",
       "  {'title': 'Bean Burger (Ovo)',\n",
       "   'href': 'http://www.bigoven.com/34398-Bean-Burger-(Ovo)-recipe.html',\n",
       "   'ingredients': 'kidney bean, curry powder, cornstarch, cornmeal, onions, garlic, cloves, black pepper, carrot, beef, soy sauce, eggs',\n",
       "   'thumbnail': ''},\n",
       "  {'title': '\\nBeef Burger With Roasted Tomato Ketchup Recipe\\n\\n',\n",
       "   'href': 'http://cookeatshare.com/recipes/beef-burger-with-roasted-tomato-ketchup-81695',\n",
       "   'ingredients': 'tomato, olive oil, onions, garlic, cider vinegar, sugar, cinnamon, allspice, salt, black pepper, sirloin steak, olive oil, sandwich rolls',\n",
       "   'thumbnail': ''},\n",
       "  {'title': 'Pine nut-crusted fish burger on an aubergine and mushroom bun with peas',\n",
       "   'href': 'http://www.bbc.co.uk/food/recipes/database/pinenutcrustedfishbu_86989.shtml',\n",
       "   'ingredients': 'fish, eggplant, mushroom, olive oil, butter, garlic, black pepper, pine nuts, cod, peas, butter, onions, peas, cream, black pepper',\n",
       "   'thumbnail': ''},\n",
       "  {'title': 'Cheese-Nut Burger',\n",
       "   'href': 'http://recipe.aol.com/recipe/cheese-nut-burger/131031',\n",
       "   'ingredients': 'olive oil, onions, garlic, mushroom, salt, soy sauce, thyme, marjoram, black pepper, rice, cheddar cheese, walnut',\n",
       "   'thumbnail': ''},\n",
       "  {'title': '\\nBurger Casserole Recipe\\n\\n',\n",
       "   'href': 'http://cookeatshare.com/recipes/burger-casserole-95110',\n",
       "   'ingredients': 'tomato, onions, black pepper, noodles, broccoli, cinnamon, nutmeg, garlic, black pepper, cream of mushroom soup, cream of celery soup, lowfat milk, fried onions',\n",
       "   'thumbnail': ''},\n",
       "  {'title': 'Crab &quot;burger&quot; to Go',\n",
       "   'href': 'http://www.recipezaar.com/Crab-burger-to-Go-140334',\n",
       "   'ingredients': 'butter, dijon mustard, english muffin, lemon juice, garlic, green pepper, eggs, crabmeat, mayonnaise, onions, parmesan cheese, red pepper, worcestershire sauce',\n",
       "   'thumbnail': ''},\n",
       "  {'title': 'Chicken Cabbage Rice Burger',\n",
       "   'href': 'http://www.recipezaar.com/Chicken-Cabbage-Rice-Burger-339676',\n",
       "   'ingredients': 'black pepper, chicken, cabbage, corn, garlic, lettuce, maple syrup, vegetable oil, onions, rice, salt, tomato, water',\n",
       "   'thumbnail': ''},\n",
       "  {'title': 'Freezer Veggie Burger(4 Ww Points)',\n",
       "   'href': 'http://www.recipezaar.com/Freezer-Veggie-Burger4-Ww-Points-351061',\n",
       "   'ingredients': 'beans, carrot, garlic, hamburger bun, ketchup, lettuce, mushroom, oats, onions, salt, red pepper flakes, tomato, white pepper',\n",
       "   'thumbnail': ''},\n",
       "  {'title': 'Mushroom Burger Recipe',\n",
       "   'href': 'http://www.cdkitchen.com/recipes/recs/2428/Mushroom-Burger100335.shtml',\n",
       "   'ingredients': 'bay leaf, ground beef, butter, mushroom, garlic, hamburger bun, olive oil, onions, oregano, black pepper, mushrooms, red onions, romaine lettuce, salt, thyme',\n",
       "   'thumbnail': ''}]}"
      ]
     },
     "execution_count": 40,
     "metadata": {},
     "output_type": "execute_result"
    }
   ],
   "source": [
    "api_dict"
   ]
  },
  {
   "cell_type": "code",
   "execution_count": 36,
   "metadata": {},
   "outputs": [
    {
     "data": {
      "text/plain": [
       "'Recipe Puppy'"
      ]
     },
     "execution_count": 36,
     "metadata": {},
     "output_type": "execute_result"
    }
   ],
   "source": [
    "# extracting the Title from the dictionary\n",
    "api_dict['title']"
   ]
  },
  {
   "cell_type": "code",
   "execution_count": 37,
   "metadata": {},
   "outputs": [
    {
     "data": {
      "text/plain": [
       "[{'title': 'Vegetarian Burgers (The Uncow Burger)',\n",
       "  'href': 'http://www.bigoven.com/19414-Vegetarian-Burgers-(The-Uncow-Burger)-recipe.html',\n",
       "  'ingredients': 'butter beans, bulgur, barley, oatmeal, soy sauce, barbecue sauce, basil, onions, garlic, celery, salt, black pepper',\n",
       "  'thumbnail': ''},\n",
       " {'title': 'Bean Burger (Ovo)',\n",
       "  'href': 'http://www.bigoven.com/34398-Bean-Burger-(Ovo)-recipe.html',\n",
       "  'ingredients': 'kidney bean, curry powder, cornstarch, cornmeal, onions, garlic, cloves, black pepper, carrot, beef, soy sauce, eggs',\n",
       "  'thumbnail': ''},\n",
       " {'title': '\\nBeef Burger With Roasted Tomato Ketchup Recipe\\n\\n',\n",
       "  'href': 'http://cookeatshare.com/recipes/beef-burger-with-roasted-tomato-ketchup-81695',\n",
       "  'ingredients': 'tomato, olive oil, onions, garlic, cider vinegar, sugar, cinnamon, allspice, salt, black pepper, sirloin steak, olive oil, sandwich rolls',\n",
       "  'thumbnail': ''},\n",
       " {'title': 'Pine nut-crusted fish burger on an aubergine and mushroom bun with peas',\n",
       "  'href': 'http://www.bbc.co.uk/food/recipes/database/pinenutcrustedfishbu_86989.shtml',\n",
       "  'ingredients': 'fish, eggplant, mushroom, olive oil, butter, garlic, black pepper, pine nuts, cod, peas, butter, onions, peas, cream, black pepper',\n",
       "  'thumbnail': ''},\n",
       " {'title': 'Cheese-Nut Burger',\n",
       "  'href': 'http://recipe.aol.com/recipe/cheese-nut-burger/131031',\n",
       "  'ingredients': 'olive oil, onions, garlic, mushroom, salt, soy sauce, thyme, marjoram, black pepper, rice, cheddar cheese, walnut',\n",
       "  'thumbnail': ''},\n",
       " {'title': '\\nBurger Casserole Recipe\\n\\n',\n",
       "  'href': 'http://cookeatshare.com/recipes/burger-casserole-95110',\n",
       "  'ingredients': 'tomato, onions, black pepper, noodles, broccoli, cinnamon, nutmeg, garlic, black pepper, cream of mushroom soup, cream of celery soup, lowfat milk, fried onions',\n",
       "  'thumbnail': ''},\n",
       " {'title': 'Crab &quot;burger&quot; to Go',\n",
       "  'href': 'http://www.recipezaar.com/Crab-burger-to-Go-140334',\n",
       "  'ingredients': 'butter, dijon mustard, english muffin, lemon juice, garlic, green pepper, eggs, crabmeat, mayonnaise, onions, parmesan cheese, red pepper, worcestershire sauce',\n",
       "  'thumbnail': ''},\n",
       " {'title': 'Chicken Cabbage Rice Burger',\n",
       "  'href': 'http://www.recipezaar.com/Chicken-Cabbage-Rice-Burger-339676',\n",
       "  'ingredients': 'black pepper, chicken, cabbage, corn, garlic, lettuce, maple syrup, vegetable oil, onions, rice, salt, tomato, water',\n",
       "  'thumbnail': ''},\n",
       " {'title': 'Freezer Veggie Burger(4 Ww Points)',\n",
       "  'href': 'http://www.recipezaar.com/Freezer-Veggie-Burger4-Ww-Points-351061',\n",
       "  'ingredients': 'beans, carrot, garlic, hamburger bun, ketchup, lettuce, mushroom, oats, onions, salt, red pepper flakes, tomato, white pepper',\n",
       "  'thumbnail': ''},\n",
       " {'title': 'Mushroom Burger Recipe',\n",
       "  'href': 'http://www.cdkitchen.com/recipes/recs/2428/Mushroom-Burger100335.shtml',\n",
       "  'ingredients': 'bay leaf, ground beef, butter, mushroom, garlic, hamburger bun, olive oil, onions, oregano, black pepper, mushrooms, red onions, romaine lettuce, salt, thyme',\n",
       "  'thumbnail': ''}]"
      ]
     },
     "execution_count": 37,
     "metadata": {},
     "output_type": "execute_result"
    }
   ],
   "source": [
    "api_dict['results']"
   ]
  },
  {
   "cell_type": "code",
   "execution_count": 65,
   "metadata": {},
   "outputs": [
    {
     "data": {
      "text/plain": [
       "dict_keys(['title', 'version', 'href', 'results'])"
      ]
     },
     "execution_count": 65,
     "metadata": {},
     "output_type": "execute_result"
    }
   ],
   "source": [
    "# extracting the dictionray's keys\n",
    "r.json().keys()"
   ]
  },
  {
   "cell_type": "markdown",
   "metadata": {},
   "source": [
    "## Exercise 1: print each key with its corresponding values\n",
    "\n",
    "- example\n",
    "\n",
    "> For key Title, the value is Joker\n",
    "\n",
    "> For key Year, the value is 2019"
   ]
  },
  {
   "cell_type": "code",
   "execution_count": 1,
   "metadata": {},
   "outputs": [],
   "source": [
    "# your answer here"
   ]
  },
  {
   "cell_type": "code",
   "execution_count": null,
   "metadata": {},
   "outputs": [],
   "source": [
    "# define a function to create a dataframe using the obmd api\n",
    "\n",
    "# define dataframe header\n",
    "movie_df = pd.DataFrame(columns=[\"Title\",\"Year\",\"Rated\",\"Genre\", \"Runtime\", \"BoxOffice\"])\n",
    "\n",
    "def get_movie_by_title(titles):\n",
    "    # loop through movies list\n",
    "    for index, title in enumerate(titles):\n",
    "        # try to fetch data formt the api\n",
    "        try:\n",
    "            # use requests library to interact with a URL\n",
    "            r = requests.get('http://www.omdbapi.com/?t=' +title+ '&apikey=')\n",
    "            # decode the JSON response body into a dictionary\n",
    "            info = r.json()\n",
    "            # check if api call response is true\n",
    "            if info['Response'] == 'True':\n",
    "                # add data to the dataframe\n",
    "                movie_df.loc[index] = [info['Title'], info['Year'], info['Rated'],\n",
    "                                       info['Genre'], info['Runtime'], info['BoxOffice']]\n",
    "            else:\n",
    "                print(\"No Result Found\")\n",
    "        except:\n",
    "            print(\"An Error Has Occurred!\")\n",
    "    \n",
    "# test the function\n",
    "get_movie_by_title(['Taken', 'Joker', 'The GodFather', 'Titanic', 'Wolf of Wall Street', 'The Hangover', 'Step Brothers'])"
   ]
  },
  {
   "cell_type": "code",
   "execution_count": null,
   "metadata": {},
   "outputs": [],
   "source": [
    "movie_df"
   ]
  },
  {
   "cell_type": "markdown",
   "metadata": {},
   "source": [
    "## 1.2 Exploratory Data Analysis\n",
    "---"
   ]
  },
  {
   "cell_type": "code",
   "execution_count": null,
   "metadata": {},
   "outputs": [],
   "source": [
    "# explore datatypes\n",
    "movie_df.dtypes"
   ]
  },
  {
   "cell_type": "code",
   "execution_count": null,
   "metadata": {},
   "outputs": [],
   "source": [
    "# explore column\n",
    "movie_df.columns"
   ]
  },
  {
   "cell_type": "code",
   "execution_count": null,
   "metadata": {},
   "outputs": [],
   "source": [
    "# movie_df.BoxOffice = movie_df.BoxOffice.apply(lambda x: 0 if x == 'N/A' else x)\n",
    "\n",
    "####################\n",
    "\n",
    "movie_df.BoxOffice[movie_df.BoxOffice == 'N/A'] = 0"
   ]
  },
  {
   "cell_type": "code",
   "execution_count": null,
   "metadata": {},
   "outputs": [],
   "source": [
    "movie_df"
   ]
  },
  {
   "cell_type": "code",
   "execution_count": null,
   "metadata": {},
   "outputs": [],
   "source": [
    "# convert runtime column to numeric type\n",
    "movie_df.Runtime = movie_df.Runtime.apply(lambda x: int(x[:-4]))"
   ]
  },
  {
   "cell_type": "code",
   "execution_count": null,
   "metadata": {},
   "outputs": [],
   "source": [
    "# convert box office column to numeric type\n",
    "def strip(x):\n",
    "    try:\n",
    "        return int(x[1:].split(',')[0] + x[1:].split(',')[1] + x[1:].split(',')[2])\n",
    "    except:\n",
    "        return x\n",
    "\n",
    "# apply the strip function to BoxOffice column\n",
    "movie_df.BoxOffice = movie_df.BoxOffice.apply(strip)\n",
    "movie_df.BoxOffice"
   ]
  },
  {
   "cell_type": "code",
   "execution_count": null,
   "metadata": {},
   "outputs": [],
   "source": [
    "# explore datatypes\n",
    "movie_df.dtypes"
   ]
  },
  {
   "cell_type": "code",
   "execution_count": null,
   "metadata": {},
   "outputs": [],
   "source": [
    "# print dtaframe\n",
    "movie_df"
   ]
  },
  {
   "cell_type": "code",
   "execution_count": null,
   "metadata": {},
   "outputs": [],
   "source": [
    "# group dataframe by Genere then print the mean, min, max, and sum of the Box Office column\n",
    "movie_df.groupby(\"Genre\").agg({'BoxOffice': ['mean', 'min', 'max', 'sum']})"
   ]
  },
  {
   "cell_type": "code",
   "execution_count": null,
   "metadata": {},
   "outputs": [],
   "source": [
    "# group dataframe by Genere then print the mean, min, max, and sum of the Runtime column\n",
    "movie_df.groupby([\"Genre\"]).agg({'Runtime': ['mean', 'min', 'max', 'sum']})"
   ]
  },
  {
   "cell_type": "markdown",
   "metadata": {},
   "source": [
    "# 2.1 get data from Recipe Puppy API http://www.recipepuppy.com/about/api/\n",
    "---"
   ]
  },
  {
   "cell_type": "code",
   "execution_count": 12,
   "metadata": {},
   "outputs": [],
   "source": [
    "api_base_url = 'http://www.recipepuppy.com/api/?i=onions,garlic&q=burger&p=10'\n",
    "r = requests.get(api_base_url)"
   ]
  },
  {
   "cell_type": "code",
   "execution_count": 13,
   "metadata": {},
   "outputs": [
    {
     "data": {
      "text/plain": [
       "200"
      ]
     },
     "execution_count": 13,
     "metadata": {},
     "output_type": "execute_result"
    }
   ],
   "source": [
    "# check the status: 200 means success, 4xx means error\n",
    "r.status_code"
   ]
  },
  {
   "cell_type": "code",
   "execution_count": 14,
   "metadata": {},
   "outputs": [
    {
     "data": {
      "text/plain": [
       "'{\"title\":\"Recipe Puppy\",\"version\":0.1,\"href\":\"http:\\\\/\\\\/www.recipepuppy.com\\\\/\",\"results\":[{\"title\":\"Vegetarian Burgers (The Uncow Burger)\",\"href\":\"http:\\\\/\\\\/www.bigoven.com\\\\/19414-Vegetarian-Burgers-(The-Uncow-Burger)-recipe.html\",\"ingredients\":\"butter beans, bulgur, barley, oatmeal, soy sauce, barbecue sauce, basil, onions, garlic, celery, salt, black pepper\",\"thumbnail\":\"\"},{\"title\":\"Bean Burger (Ovo)\",\"href\":\"http:\\\\/\\\\/www.bigoven.com\\\\/34398-Bean-Burger-(Ovo)-recipe.html\",\"ingredients\":\"kidney bean, curry powder, cornstarch, cornmeal, onions, garlic, cloves, black pepper, carrot, beef, soy sauce, eggs\",\"thumbnail\":\"\"},{\"title\":\"\\\\nBeef Burger With Roasted Tomato Ketchup Recipe\\\\n\\\\n\",\"href\":\"http:\\\\/\\\\/cookeatshare.com\\\\/recipes\\\\/beef-burger-with-roasted-tomato-ketchup-81695\",\"ingredients\":\"tomato, olive oil, onions, garlic, cider vinegar, sugar, cinnamon, allspice, salt, black pepper, sirloin steak, olive oil, sandwich rolls\",\"thumbnail\":\"\"},{\"title\":\"Pine nut-crusted fish burger on an aubergine and mushroom bun with peas\",\"href\":\"http:\\\\/\\\\/www.bbc.co.uk\\\\/food\\\\/recipes\\\\/database\\\\/pinenutcrustedfishbu_86989.shtml\",\"ingredients\":\"fish, eggplant, mushroom, olive oil, butter, garlic, black pepper, pine nuts, cod, peas, butter, onions, peas, cream, black pepper\",\"thumbnail\":\"\"},{\"title\":\"Cheese-Nut Burger\",\"href\":\"http:\\\\/\\\\/recipe.aol.com\\\\/recipe\\\\/cheese-nut-burger\\\\/131031\",\"ingredients\":\"olive oil, onions, garlic, mushroom, salt, soy sauce, thyme, marjoram, black pepper, rice, cheddar cheese, walnut\",\"thumbnail\":\"\"},{\"title\":\"\\\\nBurger Casserole Recipe\\\\n\\\\n\",\"href\":\"http:\\\\/\\\\/cookeatshare.com\\\\/recipes\\\\/burger-casserole-95110\",\"ingredients\":\"tomato, onions, black pepper, noodles, broccoli, cinnamon, nutmeg, garlic, black pepper, cream of mushroom soup, cream of celery soup, lowfat milk, fried onions\",\"thumbnail\":\"\"},{\"title\":\"Crab &quot;burger&quot; to Go\",\"href\":\"http:\\\\/\\\\/www.recipezaar.com\\\\/Crab-burger-to-Go-140334\",\"ingredients\":\"butter, dijon mustard, english muffin, lemon juice, garlic, green pepper, eggs, crabmeat, mayonnaise, onions, parmesan cheese, red pepper, worcestershire sauce\",\"thumbnail\":\"\"},{\"title\":\"Chicken Cabbage Rice Burger\",\"href\":\"http:\\\\/\\\\/www.recipezaar.com\\\\/Chicken-Cabbage-Rice-Burger-339676\",\"ingredients\":\"black pepper, chicken, cabbage, corn, garlic, lettuce, maple syrup, vegetable oil, onions, rice, salt, tomato, water\",\"thumbnail\":\"\"},{\"title\":\"Freezer Veggie Burger(4 Ww Points)\",\"href\":\"http:\\\\/\\\\/www.recipezaar.com\\\\/Freezer-Veggie-Burger4-Ww-Points-351061\",\"ingredients\":\"beans, carrot, garlic, hamburger bun, ketchup, lettuce, mushroom, oats, onions, salt, red pepper flakes, tomato, white pepper\",\"thumbnail\":\"\"},{\"title\":\"Mushroom Burger Recipe\",\"href\":\"http:\\\\/\\\\/www.cdkitchen.com\\\\/recipes\\\\/recs\\\\/2428\\\\/Mushroom-Burger100335.shtml\",\"ingredients\":\"bay leaf, ground beef, butter, mushroom, garlic, hamburger bun, olive oil, onions, oregano, black pepper, mushrooms, red onions, romaine lettuce, salt, thyme\",\"thumbnail\":\"\"}]}'"
      ]
     },
     "execution_count": 14,
     "metadata": {},
     "output_type": "execute_result"
    }
   ],
   "source": [
    "# view the raw response text\n",
    "r.text"
   ]
  },
  {
   "cell_type": "code",
   "execution_count": 16,
   "metadata": {},
   "outputs": [
    {
     "data": {
      "text/plain": [
       "{'title': 'Recipe Puppy',\n",
       " 'version': 0.1,\n",
       " 'href': 'http://www.recipepuppy.com/',\n",
       " 'results': [{'title': 'Vegetarian Burgers (The Uncow Burger)',\n",
       "   'href': 'http://www.bigoven.com/19414-Vegetarian-Burgers-(The-Uncow-Burger)-recipe.html',\n",
       "   'ingredients': 'butter beans, bulgur, barley, oatmeal, soy sauce, barbecue sauce, basil, onions, garlic, celery, salt, black pepper',\n",
       "   'thumbnail': ''},\n",
       "  {'title': 'Bean Burger (Ovo)',\n",
       "   'href': 'http://www.bigoven.com/34398-Bean-Burger-(Ovo)-recipe.html',\n",
       "   'ingredients': 'kidney bean, curry powder, cornstarch, cornmeal, onions, garlic, cloves, black pepper, carrot, beef, soy sauce, eggs',\n",
       "   'thumbnail': ''},\n",
       "  {'title': '\\nBeef Burger With Roasted Tomato Ketchup Recipe\\n\\n',\n",
       "   'href': 'http://cookeatshare.com/recipes/beef-burger-with-roasted-tomato-ketchup-81695',\n",
       "   'ingredients': 'tomato, olive oil, onions, garlic, cider vinegar, sugar, cinnamon, allspice, salt, black pepper, sirloin steak, olive oil, sandwich rolls',\n",
       "   'thumbnail': ''},\n",
       "  {'title': 'Pine nut-crusted fish burger on an aubergine and mushroom bun with peas',\n",
       "   'href': 'http://www.bbc.co.uk/food/recipes/database/pinenutcrustedfishbu_86989.shtml',\n",
       "   'ingredients': 'fish, eggplant, mushroom, olive oil, butter, garlic, black pepper, pine nuts, cod, peas, butter, onions, peas, cream, black pepper',\n",
       "   'thumbnail': ''},\n",
       "  {'title': 'Cheese-Nut Burger',\n",
       "   'href': 'http://recipe.aol.com/recipe/cheese-nut-burger/131031',\n",
       "   'ingredients': 'olive oil, onions, garlic, mushroom, salt, soy sauce, thyme, marjoram, black pepper, rice, cheddar cheese, walnut',\n",
       "   'thumbnail': ''},\n",
       "  {'title': '\\nBurger Casserole Recipe\\n\\n',\n",
       "   'href': 'http://cookeatshare.com/recipes/burger-casserole-95110',\n",
       "   'ingredients': 'tomato, onions, black pepper, noodles, broccoli, cinnamon, nutmeg, garlic, black pepper, cream of mushroom soup, cream of celery soup, lowfat milk, fried onions',\n",
       "   'thumbnail': ''},\n",
       "  {'title': 'Crab &quot;burger&quot; to Go',\n",
       "   'href': 'http://www.recipezaar.com/Crab-burger-to-Go-140334',\n",
       "   'ingredients': 'butter, dijon mustard, english muffin, lemon juice, garlic, green pepper, eggs, crabmeat, mayonnaise, onions, parmesan cheese, red pepper, worcestershire sauce',\n",
       "   'thumbnail': ''},\n",
       "  {'title': 'Chicken Cabbage Rice Burger',\n",
       "   'href': 'http://www.recipezaar.com/Chicken-Cabbage-Rice-Burger-339676',\n",
       "   'ingredients': 'black pepper, chicken, cabbage, corn, garlic, lettuce, maple syrup, vegetable oil, onions, rice, salt, tomato, water',\n",
       "   'thumbnail': ''},\n",
       "  {'title': 'Freezer Veggie Burger(4 Ww Points)',\n",
       "   'href': 'http://www.recipezaar.com/Freezer-Veggie-Burger4-Ww-Points-351061',\n",
       "   'ingredients': 'beans, carrot, garlic, hamburger bun, ketchup, lettuce, mushroom, oats, onions, salt, red pepper flakes, tomato, white pepper',\n",
       "   'thumbnail': ''},\n",
       "  {'title': 'Mushroom Burger Recipe',\n",
       "   'href': 'http://www.cdkitchen.com/recipes/recs/2428/Mushroom-Burger100335.shtml',\n",
       "   'ingredients': 'bay leaf, ground beef, butter, mushroom, garlic, hamburger bun, olive oil, onions, oregano, black pepper, mushrooms, red onions, romaine lettuce, salt, thyme',\n",
       "   'thumbnail': ''}]}"
      ]
     },
     "execution_count": 16,
     "metadata": {},
     "output_type": "execute_result"
    }
   ],
   "source": [
    "# decode the JSON response body into a dictionary\n",
    "r.json() # since it is a dictionary, then it is a key-value pair"
   ]
  },
  {
   "cell_type": "code",
   "execution_count": null,
   "metadata": {},
   "outputs": [],
   "source": [
    "http://www.recipepuppy.com/api/?i=onions,garlic&q=omelet&p=3"
   ]
  },
  {
   "cell_type": "code",
   "execution_count": 60,
   "metadata": {},
   "outputs": [],
   "source": [
    "# define a function to create a dataframe using the Recipe Puppy API\n",
    "\n",
    "# define dataframe header\n",
    "recipes_df = pd.DataFrame(columns=[\"title\",\"ingredients\"])\n",
    "\n",
    "def get_recipe_by_ingredients(ingredients='', title='', page=''):\n",
    "        # try to fetch data formt the api\n",
    "        try:\n",
    "            # use requests library to interact with a URL\n",
    "            r = requests.get('http://www.recipepuppy.com/api/?i={}&q={}&p={}'.format(ingredients, title, page))\n",
    "            # decode the JSON response body into a dictionary\n",
    "            info = r.json()\n",
    "            for index, single_dict in enumerate(info['results']):\n",
    "                for data in single_dict:\n",
    "                    # add data to the dataframe\n",
    "                    recipes_df.loc[index] = [single_dict['title'], single_dict['ingredients']]\n",
    "        except:\n",
    "            print(\"An Error Has Occurred!\")\n",
    "            pass\n",
    "    \n",
    "# test the function\n",
    "get_recipe_by_ingredients('onions,garlic', 'omelet', '2')"
   ]
  },
  {
   "cell_type": "markdown",
   "metadata": {},
   "source": [
    "## Exercise 1: get data from Star Wars API https://swapi.co/api/people\n",
    "\n",
    "---\n",
    "\n",
    "**Questions:**\n",
    "\n",
    "1. Use the requests library to access the document. Inspect the response text. What kind of data is it?\n",
    "- Check the status code of the response object. What code is it?\n",
    "- View the raw response text.\n",
    "- Decode the JSON response body into a dictionary\n",
    "- Use the appropriate libraries and read functions to read the response into a Pandas Dataframe.\n",
    "> Include columns: \n",
    "    - name\n",
    "    - height\n",
    "    - hair_color\n",
    "    - eye_color\n",
    "    - birth_year\n",
    "    - gender\n",
    "- Once you've imported the data into a dataframe, convert the height column datatype to integer"
   ]
  },
  {
   "cell_type": "code",
   "execution_count": null,
   "metadata": {},
   "outputs": [],
   "source": [
    "# 1"
   ]
  },
  {
   "cell_type": "code",
   "execution_count": null,
   "metadata": {},
   "outputs": [],
   "source": [
    "# 2"
   ]
  },
  {
   "cell_type": "code",
   "execution_count": null,
   "metadata": {},
   "outputs": [],
   "source": [
    "# 3"
   ]
  },
  {
   "cell_type": "code",
   "execution_count": null,
   "metadata": {},
   "outputs": [],
   "source": [
    "# 4"
   ]
  },
  {
   "cell_type": "code",
   "execution_count": null,
   "metadata": {},
   "outputs": [],
   "source": [
    "# 5"
   ]
  },
  {
   "cell_type": "code",
   "execution_count": null,
   "metadata": {},
   "outputs": [],
   "source": [
    "# 6"
   ]
  },
  {
   "cell_type": "markdown",
   "metadata": {},
   "source": [
    "---\n",
    "Feel free to do more examination of your data. Such as null value, datatypes conversion, etc ..."
   ]
  },
  {
   "cell_type": "code",
   "execution_count": null,
   "metadata": {},
   "outputs": [],
   "source": []
  }
 ],
 "metadata": {
  "kernelspec": {
   "display_name": "Python 3",
   "language": "python",
   "name": "python3"
  },
  "language_info": {
   "codemirror_mode": {
    "name": "ipython",
    "version": 3
   },
   "file_extension": ".py",
   "mimetype": "text/x-python",
   "name": "python",
   "nbconvert_exporter": "python",
   "pygments_lexer": "ipython3",
   "version": "3.7.4"
  }
 },
 "nbformat": 4,
 "nbformat_minor": 2
}
